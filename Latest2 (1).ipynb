{
 "cells": [
  {
   "cell_type": "code",
   "execution_count": 1,
   "id": "2bb6a50c",
   "metadata": {},
   "outputs": [
    {
     "data": {
      "text/plain": [
       "measure_correlation_matrix (generic function with 1 method)"
      ]
     },
     "execution_count": 1,
     "metadata": {},
     "output_type": "execute_result"
    }
   ],
   "source": [
    "using ITensors\n",
    "using ITensorTDVP\n",
    "using Plots\n",
    "using Observers\n",
    "using LinearAlgebra\n",
    "using Statistics\n",
    "using ProgressBars   \n",
    "using DSP\n",
    "using Symbolics\n",
    "using Trapz\n",
    "using SymPy\n",
    "using NBInclude\n",
    "@nbinclude(\"Graphing_code.ipynb\")\n",
    "@nbinclude(\"Enrichment_functions.ipynb\")\n",
    "@nbinclude(\"Mapping_functions.ipynb\")\n",
    "@nbinclude(\"Measurement functions and others.ipynb\")"
   ]
  },
  {
   "cell_type": "code",
   "execution_count": 13,
   "id": "97d2387f",
   "metadata": {},
   "outputs": [
    {
     "name": "stdout",
     "output_type": "stream",
     "text": [
      "stdin> 3\n",
      "bath eigenmodes = 1, thermofield eigenmodes = 2, Tridiagonalisation = 3here1\n",
      "here2\n",
      "here3\n",
      "1 - overlap of initial state and enriched initial state = 0.0 + 1.9259299443872363e-34im\n",
      "here4\n"
     ]
    }
   ],
   "source": [
    "\n",
    "J = \"boxcar\"                                 #choice of bath spectral function\n",
    "N = 12                                       # Number of sites\n",
    "Ns = 3                                       #Number of system sites (not including ancilla)                                               \n",
    "Krylov_cutoff = 1E-5                         # site list\n",
    "β = 0;                                       #inverse temperature\n",
    "D = 10                                       #half bandwidth\n",
    "Γ = 0.1                                      # total impurity-bath strength\n",
    "k1 = 5\n",
    "k2 = 3                                       # Number of Krylov states\n",
    "τ_Krylov = 1\n",
    "\n",
    "\n",
    "\n",
    "\n",
    "\n",
    "Nb = Int((N-2*Ns)/2)                          #Number of bath sites (not including ancilla) \n",
    "s = siteinds(\"Fermion\", N)                    # Array of site indices  \n",
    "sites = 1:N                                   # site list\n",
    "ϵi = 0.5*ones(Ns); \n",
    "t = sqrt(Γ/(pi * Nb)) \n",
    "\n",
    "\n",
    "\"\"\"\n",
    "This is where the code with differ if we use the recursive mapping. The V_k and ϵb will be different. \n",
    "\"\"\"\n",
    "V_k, ϵb = spectral_density(J,Nb,Γ,D,ϵi)                 \n",
    "f_k = 1 ./(1 .+exp.(β*ϵb))                    # Fermi distributions of the bath modes\n",
    "\n",
    "c = ops(s, [(\"C\", n) for n in sites]);        # annihilation operators\n",
    "cd = ops(s, [(\"Cdag\", n) for n in sites]);    # creation operators\n",
    "Imat = [1.0 0.0; 0.0 1.0]                     # identity matrix\n",
    "Id = Vector{ITensor}(undef,N)\n",
    "for i=1:N\n",
    "   Id[i] = ITensor(Imat,s[i]',s[i])           # identiy operators\n",
    "end;\n",
    "\n",
    "\n",
    "###Constructs Initial state\n",
    "vac = productMPS(s, \"0\");\n",
    "\n",
    "print(\"bath eigenmodes = 1, thermofield eigenmodes = 2, Tridiagonalisation = 3\")\n",
    "\n",
    "choice = parse(Int,readline())\n",
    "ψ = initialise_psi(choice,f_k,Ns)\n",
    "  \n",
    "for i =1:length(linkdims(ψ))\n",
    "    \"\"\"\n",
    "    Don't understand why this function isn't working. The tags created by the gates are not correct. \n",
    "    \"\"\"\n",
    "    replacetags(linkind(ψ,i),tags(linkind(ψ,i)),tags(linkind(vac,i)))\n",
    "end\n",
    "\n",
    "\n",
    "#The following code is not optimised, various objects are created multiple times\n",
    "#and within each different option there is identical code which doesn't\n",
    "#need to be written multiple times.\n",
    "\n",
    "H = H(N,Ns,ϵi,V_k,ϵb,choice,s)\n",
    "\n",
    "println(\"here1\")\n",
    "k1 = 10\n",
    "Krylov = Krylov_states(H,ψ,k1,τ_Krylov,s);\n",
    "println(\"here2\")\n",
    "\n",
    "ψ[N]= ψ[N]/norm(ψ)\n",
    "println(\"here3\")\n",
    "ψ1 = enrich_generic3(ψ, Krylov; Krylov_cutoff);\n",
    "println(\"1 - overlap of initial state and enriched initial state = \",1-inner(ψ,ψ1))\n",
    "ψ = ψ1\n",
    "Ci = transpose(correlation_matrix(ψ,\"Cdag\",\"C\"));\n",
    "println(\"here4\")\n",
    "\n",
    "###Initial Entropy\n",
    "SvN_init = entanglement_entropy(ψ);\n",
    "\n",
    "\n",
    "###density of initial state\n",
    "num_init = expect(ψ,\"n\");\n",
    "\n",
    "###Initial state\n",
    "ψ_init = deepcopy(ψ);\n",
    "\n",
    "  "
   ]
  },
  {
   "cell_type": "code",
   "execution_count": 83,
   "id": "b6a3cc46",
   "metadata": {},
   "outputs": [
    {
     "name": "stderr",
     "output_type": "stream",
     "text": [
      "\r",
      "0.0%┣                                                ┫ 0/2 [00:00<00:00, -0s/it]"
     ]
    },
    {
     "name": "stdout",
     "output_type": "stream",
     "text": [
      "After sweep 1: maxlinkdim=8 maxerr=4.62E-31 current_time=0.0 - 0.001im time=0.128\n"
     ]
    },
    {
     "name": "stderr",
     "output_type": "stream",
     "text": [
      "\n"
     ]
    },
    {
     "name": "stdout",
     "output_type": "stream",
     "text": [
      "After sweep 2: maxlinkdim=8 maxerr=1.18E-31 current_time=0.0 - 0.002im time=0.101\n",
      "After sweep 3: maxlinkdim=8 maxerr=4.72E-31 current_time=0.0 - 0.003im time=0.101\n",
      "After sweep 4: maxlinkdim=9 maxerr=6.77E-31 current_time=0.0 - 0.004im time=0.108\n",
      "After sweep 5: maxlinkdim=9 maxerr=8.92E-31 current_time=0.0 - 0.005im time=0.167\n",
      "After sweep 6: maxlinkdim=9 maxerr=8.08E-31 current_time=0.0 - 0.006im time=0.094\n",
      "After sweep 7: maxlinkdim=9 maxerr=6.43E-31 current_time=0.0 - 0.007im time=0.112\n",
      "After sweep 8: maxlinkdim=9 maxerr=6.12E-31 current_time=0.0 - 0.008im time=0.108\n",
      "After sweep 9: maxlinkdim=9 maxerr=3.59E-31 current_time=0.0 - 0.009im time=0.104\n",
      "After sweep 10: maxlinkdim=9 maxerr=5.04E-31 current_time=0.0 - 0.01im time=0.105\n"
     ]
    },
    {
     "name": "stderr",
     "output_type": "stream",
     "text": [
      "\u001b[1A\r",
      "50.0%┣█████████████████████▌                     ┫ 1/2 [00:01<Inf:Inf, InfGs/it]\n"
     ]
    },
    {
     "name": "stdout",
     "output_type": "stream",
     "text": [
      "After sweep 1: maxlinkdim=10 maxerr=8.91E-31 current_time=0.0 - 0.001im time=0.115\n",
      "After sweep 2: maxlinkdim=11 maxerr=1.71E-31 current_time=0.0 - 0.002im time=0.163\n",
      "After sweep 3: maxlinkdim=11 maxerr=3.40E-31 current_time=0.0 - 0.003im time=0.108\n",
      "After sweep 4: maxlinkdim=11 maxerr=1.65E-31 current_time=0.0 - 0.004im time=0.109\n",
      "After sweep 5: maxlinkdim=11 maxerr=2.16E-31 current_time=0.0 - 0.005im time=0.103\n",
      "After sweep 6: maxlinkdim=11 maxerr=1.89E-31 current_time=0.0 - 0.006im time=0.094\n",
      "After sweep 7: maxlinkdim=11 maxerr=1.26E-31 current_time=0.0 - 0.007im time=0.109\n",
      "After sweep 8: maxlinkdim=11 maxerr=1.13E-31 current_time=0.0 - 0.008im time=0.106\n",
      "After sweep 9: maxlinkdim=11 maxerr=9.78E-32 current_time=0.0 - 0.009im time=0.112\n",
      "After sweep 10: maxlinkdim=11 maxerr=1.11E-31 current_time=0.0 - 0.01im time=0.096\n"
     ]
    },
    {
     "name": "stderr",
     "output_type": "stream",
     "text": [
      "\u001b[1A\r",
      "100.0%┣███████████████████████████████████████████████┫ 2/2 [00:03<00:00, 3s/it]\n",
      "\u001b[1A\r",
      "100.0%┣███████████████████████████████████████████████┫ 2/2 [00:03<00:00, 3s/it]\n"
     ]
    },
    {
     "name": "stdout",
     "output_type": "stream",
     "text": [
      "After sweep 1: maxlinkdim=19 maxerr=9.97E-31 current_time=0.0 - 0.01im time=0.213\n",
      "After sweep 2: maxlinkdim=20 maxerr=5.21E-31 current_time=0.0 - 0.02im time=0.228\n",
      "After sweep 3: maxlinkdim=21 maxerr=7.95E-31 current_time=0.0 - 0.03im time=0.266\n",
      "After sweep 4: maxlinkdim=21 maxerr=9.89E-31 current_time=0.0 - 0.04im time=0.196\n",
      "After sweep 5: maxlinkdim=22 maxerr=6.57E-31 current_time=0.0 - 0.05im time=0.205\n",
      "After sweep 6: maxlinkdim=23 maxerr=9.16E-31 current_time=0.0 - 0.06im time=0.222\n",
      "After sweep 7: maxlinkdim=23 maxerr=5.62E-31 current_time=0.0 - 0.07im time=0.274\n",
      "After sweep 8: maxlinkdim=23 maxerr=7.49E-31 current_time=0.0 - 0.08im time=0.211\n",
      "  1.939560 seconds (736.86 k allocations: 392.782 MiB, 4.18% gc time)\n"
     ]
    }
   ],
   "source": [
    "\n",
    "tdvp_cutoff = 1e-30 ##TRY ZERO\n",
    "Krylov_cutoff = 1e-5\n",
    "δt1 = 1e-3                                   # Time-step\n",
    "δt2 = 1e-2\n",
    "δt = 1e-2\n",
    "T = 0.1                                     # Total time\n",
    "T_enrich = 2e-2                               # Time when the state is enriched in each step\n",
    "T_unenriched = T-T_enrich                    # Time when the state is no longer enriched each step                                             # Number of time steps\n",
    "nframe_en1 = Int(ceil(T_enrich/δt1))\n",
    "nframe_en = Int(ceil(T_enrich/δt))\n",
    "nframe_un =  Int(ceil(T_unenriched/δt2))\n",
    "\n",
    "k2=3\n",
    "ψe = deepcopy(ψ)\n",
    "obs = Observer(\"times\" => current_time,\"corr\" => measure_correlation_matrix,\"SvN\" =>measure_SvN)\n",
    "\n",
    "for i in ProgressBar(1:(nframe_en))\n",
    "    \n",
    "    ψe = tdvp(H,-im * δt,ψe; time_step = -im * δt1, cutoff = tdvp_cutoff, \n",
    "        outputlevel=1, normalize=false, (observer!)=obs)\n",
    "    \n",
    "    Krylov_i = Krylov_states(H,ψe,k2,τ_Krylov,s);\n",
    "  #  @assert(minimum(Krylov_linkdims(Krylov) .- length(Krylov)) ==0)\n",
    "    ψe2 = enrich_generic3(ψe, Krylov_i; Krylov_cutoff)\n",
    "    @assert abs(1-inner(ψe2,ψe)) <1e-10\n",
    "  \n",
    "    ψe = ψe2\n",
    "    \n",
    "end\n",
    "\n",
    "@time ψf = tdvp(H,-im * T_unenriched,ψe; time_step = -im * δt2, cutoff = tdvp_cutoff, outputlevel=1, normalize=false, (observer!)=obs)\n",
    "\n",
    "res = results(obs)\n",
    "times = res[\"times\"]\n",
    "corr = res[\"corr\"]\n",
    "SvN = res[\"SvN\"];\n",
    "\n",
    "\n",
    "###exact propagation\n",
    "### Correlation functions evolve as U'*Ci*U, not the other way around.\n",
    "U= exp(-im*T*H_single);\n",
    "Cf_test = U*Ci*U';\n",
    "#Cf = transpose(correlation_matrix(ψf,\"Cdag\",\"C\"));\n",
    "\n",
    "     "
   ]
  },
  {
   "cell_type": "code",
   "execution_count": 91,
   "id": "ac1bc496",
   "metadata": {},
   "outputs": [
    {
     "name": "stdout",
     "output_type": "stream",
     "text": [
      "time_list = [0.0, 0.001, 0.002, 0.003, 0.004, 0.005, 0.006, 0.007, 0.008, 0.009, 0.009999999999999998, 0.011, 0.012, 0.013, 0.014, 0.015, 0.016, 0.017, 0.018000000000000002, 0.019, 0.02, 0.03, 0.04, 0.05, 0.06, 0.06999999999999999, 0.08000000000000002, 0.09, 0.1]\n",
      "trace_list = Any[0, 3.131264053308887e-13, 9.342030379134763e-13, 1.560652078311692e-12, 2.200103910174475e-12, 6.4738612168614975e-12, 7.077567059335432e-12, 7.69517746108518e-12, 8.317536117129433e-12, 8.941071284104332e-12, 9.564148912851733e-12, 9.996619089597452e-12, 1.0611901398466288e-11, 1.1224043646383839e-11, 1.1834238879290236e-11, 1.2440488129959529e-11, 1.3043437575755331e-11, 1.3642563441445995e-11, 1.4234846283965954e-11, 1.4825225367871454e-11, 1.5407841394321724e-11, 0.0011675811549083834, 0.002335155172866285, 0.0035027149341651, 0.004670253327105229, 0.005837763198339577, 0.00700523742968145, 0.00817266886613083, 0.009340050452489531]\n"
     ]
    },
    {
     "data": {
      "image/svg+xml": [
       "<?xml version=\"1.0\" encoding=\"utf-8\"?>\n",
       "<svg xmlns=\"http://www.w3.org/2000/svg\" xmlns:xlink=\"http://www.w3.org/1999/xlink\" width=\"600\" height=\"400\" viewBox=\"0 0 2400 1600\">\n",
       "<defs>\n",
       "  <clipPath id=\"clip870\">\n",
       "    <rect x=\"0\" y=\"0\" width=\"2400\" height=\"1600\"/>\n",
       "  </clipPath>\n",
       "</defs>\n",
       "<path clip-path=\"url(#clip870)\" d=\"\n",
       "M0 1600 L2400 1600 L2400 0 L0 0  Z\n",
       "  \" fill=\"#ffffff\" fill-rule=\"evenodd\" fill-opacity=\"1\"/>\n",
       "<defs>\n",
       "  <clipPath id=\"clip871\">\n",
       "    <rect x=\"480\" y=\"0\" width=\"1681\" height=\"1600\"/>\n",
       "  </clipPath>\n",
       "</defs>\n",
       "<path clip-path=\"url(#clip870)\" d=\"\n",
       "M216.922 1486.45 L2352.76 1486.45 L2352.76 47.2441 L216.922 47.2441  Z\n",
       "  \" fill=\"#ffffff\" fill-rule=\"evenodd\" fill-opacity=\"1\"/>\n",
       "<defs>\n",
       "  <clipPath id=\"clip872\">\n",
       "    <rect x=\"216\" y=\"47\" width=\"2137\" height=\"1440\"/>\n",
       "  </clipPath>\n",
       "</defs>\n",
       "<polyline clip-path=\"url(#clip872)\" style=\"stroke:#000000; stroke-linecap:round; stroke-linejoin:round; stroke-width:2; stroke-opacity:0.1; fill:none\" points=\"\n",
       "  277.37,1486.45 277.37,47.2441 \n",
       "  \"/>\n",
       "<polyline clip-path=\"url(#clip872)\" style=\"stroke:#000000; stroke-linecap:round; stroke-linejoin:round; stroke-width:2; stroke-opacity:0.1; fill:none\" points=\"\n",
       "  781.105,1486.45 781.105,47.2441 \n",
       "  \"/>\n",
       "<polyline clip-path=\"url(#clip872)\" style=\"stroke:#000000; stroke-linecap:round; stroke-linejoin:round; stroke-width:2; stroke-opacity:0.1; fill:none\" points=\"\n",
       "  1284.84,1486.45 1284.84,47.2441 \n",
       "  \"/>\n",
       "<polyline clip-path=\"url(#clip872)\" style=\"stroke:#000000; stroke-linecap:round; stroke-linejoin:round; stroke-width:2; stroke-opacity:0.1; fill:none\" points=\"\n",
       "  1788.57,1486.45 1788.57,47.2441 \n",
       "  \"/>\n",
       "<polyline clip-path=\"url(#clip872)\" style=\"stroke:#000000; stroke-linecap:round; stroke-linejoin:round; stroke-width:2; stroke-opacity:0.1; fill:none\" points=\"\n",
       "  2292.31,1486.45 2292.31,47.2441 \n",
       "  \"/>\n",
       "<polyline clip-path=\"url(#clip870)\" style=\"stroke:#000000; stroke-linecap:round; stroke-linejoin:round; stroke-width:4; stroke-opacity:1; fill:none\" points=\"\n",
       "  216.922,1486.45 2352.76,1486.45 \n",
       "  \"/>\n",
       "<polyline clip-path=\"url(#clip870)\" style=\"stroke:#000000; stroke-linecap:round; stroke-linejoin:round; stroke-width:4; stroke-opacity:1; fill:none\" points=\"\n",
       "  277.37,1486.45 277.37,1467.55 \n",
       "  \"/>\n",
       "<polyline clip-path=\"url(#clip870)\" style=\"stroke:#000000; stroke-linecap:round; stroke-linejoin:round; stroke-width:4; stroke-opacity:1; fill:none\" points=\"\n",
       "  781.105,1486.45 781.105,1467.55 \n",
       "  \"/>\n",
       "<polyline clip-path=\"url(#clip870)\" style=\"stroke:#000000; stroke-linecap:round; stroke-linejoin:round; stroke-width:4; stroke-opacity:1; fill:none\" points=\"\n",
       "  1284.84,1486.45 1284.84,1467.55 \n",
       "  \"/>\n",
       "<polyline clip-path=\"url(#clip870)\" style=\"stroke:#000000; stroke-linecap:round; stroke-linejoin:round; stroke-width:4; stroke-opacity:1; fill:none\" points=\"\n",
       "  1788.57,1486.45 1788.57,1467.55 \n",
       "  \"/>\n",
       "<polyline clip-path=\"url(#clip870)\" style=\"stroke:#000000; stroke-linecap:round; stroke-linejoin:round; stroke-width:4; stroke-opacity:1; fill:none\" points=\"\n",
       "  2292.31,1486.45 2292.31,1467.55 \n",
       "  \"/>\n",
       "<path clip-path=\"url(#clip870)\" d=\"M224.593 1517.37 Q220.982 1517.37 219.153 1520.93 Q217.347 1524.47 217.347 1531.6 Q217.347 1538.71 219.153 1542.27 Q220.982 1545.82 224.593 1545.82 Q228.227 1545.82 230.032 1542.27 Q231.861 1538.71 231.861 1531.6 Q231.861 1524.47 230.032 1520.93 Q228.227 1517.37 224.593 1517.37 M224.593 1513.66 Q230.403 1513.66 233.458 1518.27 Q236.537 1522.85 236.537 1531.6 Q236.537 1540.33 233.458 1544.94 Q230.403 1549.52 224.593 1549.52 Q218.782 1549.52 215.704 1544.94 Q212.648 1540.33 212.648 1531.6 Q212.648 1522.85 215.704 1518.27 Q218.782 1513.66 224.593 1513.66 Z\" fill=\"#000000\" fill-rule=\"evenodd\" fill-opacity=\"1\" /><path clip-path=\"url(#clip870)\" d=\"M244.755 1542.97 L249.639 1542.97 L249.639 1548.85 L244.755 1548.85 L244.755 1542.97 Z\" fill=\"#000000\" fill-rule=\"evenodd\" fill-opacity=\"1\" /><path clip-path=\"url(#clip870)\" d=\"M269.824 1517.37 Q266.213 1517.37 264.384 1520.93 Q262.579 1524.47 262.579 1531.6 Q262.579 1538.71 264.384 1542.27 Q266.213 1545.82 269.824 1545.82 Q273.458 1545.82 275.264 1542.27 Q277.092 1538.71 277.092 1531.6 Q277.092 1524.47 275.264 1520.93 Q273.458 1517.37 269.824 1517.37 M269.824 1513.66 Q275.634 1513.66 278.69 1518.27 Q281.768 1522.85 281.768 1531.6 Q281.768 1540.33 278.69 1544.94 Q275.634 1549.52 269.824 1549.52 Q264.014 1549.52 260.935 1544.94 Q257.879 1540.33 257.879 1531.6 Q257.879 1522.85 260.935 1518.27 Q264.014 1513.66 269.824 1513.66 Z\" fill=\"#000000\" fill-rule=\"evenodd\" fill-opacity=\"1\" /><path clip-path=\"url(#clip870)\" d=\"M299.986 1517.37 Q296.375 1517.37 294.546 1520.93 Q292.74 1524.47 292.74 1531.6 Q292.74 1538.71 294.546 1542.27 Q296.375 1545.82 299.986 1545.82 Q303.62 1545.82 305.426 1542.27 Q307.254 1538.71 307.254 1531.6 Q307.254 1524.47 305.426 1520.93 Q303.62 1517.37 299.986 1517.37 M299.986 1513.66 Q305.796 1513.66 308.851 1518.27 Q311.93 1522.85 311.93 1531.6 Q311.93 1540.33 308.851 1544.94 Q305.796 1549.52 299.986 1549.52 Q294.176 1549.52 291.097 1544.94 Q288.041 1540.33 288.041 1531.6 Q288.041 1522.85 291.097 1518.27 Q294.176 1513.66 299.986 1513.66 Z\" fill=\"#000000\" fill-rule=\"evenodd\" fill-opacity=\"1\" /><path clip-path=\"url(#clip870)\" d=\"M330.148 1517.37 Q326.537 1517.37 324.708 1520.93 Q322.902 1524.47 322.902 1531.6 Q322.902 1538.71 324.708 1542.27 Q326.537 1545.82 330.148 1545.82 Q333.782 1545.82 335.587 1542.27 Q337.416 1538.71 337.416 1531.6 Q337.416 1524.47 335.587 1520.93 Q333.782 1517.37 330.148 1517.37 M330.148 1513.66 Q335.958 1513.66 339.013 1518.27 Q342.092 1522.85 342.092 1531.6 Q342.092 1540.33 339.013 1544.94 Q335.958 1549.52 330.148 1549.52 Q324.337 1549.52 321.259 1544.94 Q318.203 1540.33 318.203 1531.6 Q318.203 1522.85 321.259 1518.27 Q324.337 1513.66 330.148 1513.66 Z\" fill=\"#000000\" fill-rule=\"evenodd\" fill-opacity=\"1\" /><path clip-path=\"url(#clip870)\" d=\"M728.825 1517.37 Q725.214 1517.37 723.385 1520.93 Q721.579 1524.47 721.579 1531.6 Q721.579 1538.71 723.385 1542.27 Q725.214 1545.82 728.825 1545.82 Q732.459 1545.82 734.265 1542.27 Q736.093 1538.71 736.093 1531.6 Q736.093 1524.47 734.265 1520.93 Q732.459 1517.37 728.825 1517.37 M728.825 1513.66 Q734.635 1513.66 737.69 1518.27 Q740.769 1522.85 740.769 1531.6 Q740.769 1540.33 737.69 1544.94 Q734.635 1549.52 728.825 1549.52 Q723.015 1549.52 719.936 1544.94 Q716.88 1540.33 716.88 1531.6 Q716.88 1522.85 719.936 1518.27 Q723.015 1513.66 728.825 1513.66 Z\" fill=\"#000000\" fill-rule=\"evenodd\" fill-opacity=\"1\" /><path clip-path=\"url(#clip870)\" d=\"M748.987 1542.97 L753.871 1542.97 L753.871 1548.85 L748.987 1548.85 L748.987 1542.97 Z\" fill=\"#000000\" fill-rule=\"evenodd\" fill-opacity=\"1\" /><path clip-path=\"url(#clip870)\" d=\"M774.056 1517.37 Q770.445 1517.37 768.616 1520.93 Q766.811 1524.47 766.811 1531.6 Q766.811 1538.71 768.616 1542.27 Q770.445 1545.82 774.056 1545.82 Q777.69 1545.82 779.496 1542.27 Q781.324 1538.71 781.324 1531.6 Q781.324 1524.47 779.496 1520.93 Q777.69 1517.37 774.056 1517.37 M774.056 1513.66 Q779.866 1513.66 782.922 1518.27 Q786 1522.85 786 1531.6 Q786 1540.33 782.922 1544.94 Q779.866 1549.52 774.056 1549.52 Q768.246 1549.52 765.167 1544.94 Q762.112 1540.33 762.112 1531.6 Q762.112 1522.85 765.167 1518.27 Q768.246 1513.66 774.056 1513.66 Z\" fill=\"#000000\" fill-rule=\"evenodd\" fill-opacity=\"1\" /><path clip-path=\"url(#clip870)\" d=\"M798.246 1544.91 L814.565 1544.91 L814.565 1548.85 L792.621 1548.85 L792.621 1544.91 Q795.283 1542.16 799.866 1537.53 Q804.472 1532.88 805.653 1531.53 Q807.898 1529.01 808.778 1527.27 Q809.681 1525.51 809.681 1523.82 Q809.681 1521.07 807.736 1519.33 Q805.815 1517.6 802.713 1517.6 Q800.514 1517.6 798.06 1518.36 Q795.63 1519.13 792.852 1520.68 L792.852 1515.95 Q795.676 1514.82 798.13 1514.24 Q800.584 1513.66 802.621 1513.66 Q807.991 1513.66 811.185 1516.35 Q814.38 1519.03 814.38 1523.52 Q814.38 1525.65 813.57 1527.57 Q812.783 1529.47 810.676 1532.07 Q810.097 1532.74 806.996 1535.95 Q803.894 1539.15 798.246 1544.91 Z\" fill=\"#000000\" fill-rule=\"evenodd\" fill-opacity=\"1\" /><path clip-path=\"url(#clip870)\" d=\"M824.426 1514.29 L842.782 1514.29 L842.782 1518.22 L828.708 1518.22 L828.708 1526.7 Q829.727 1526.35 830.745 1526.19 Q831.764 1526 832.782 1526 Q838.57 1526 841.949 1529.17 Q845.329 1532.34 845.329 1537.76 Q845.329 1543.34 841.857 1546.44 Q838.384 1549.52 832.065 1549.52 Q829.889 1549.52 827.62 1549.15 Q825.375 1548.78 822.968 1548.04 L822.968 1543.34 Q825.051 1544.47 827.273 1545.03 Q829.495 1545.58 831.972 1545.58 Q835.977 1545.58 838.315 1543.48 Q840.653 1541.37 840.653 1537.76 Q840.653 1534.15 838.315 1532.04 Q835.977 1529.94 831.972 1529.94 Q830.097 1529.94 828.222 1530.35 Q826.37 1530.77 824.426 1531.65 L824.426 1514.29 Z\" fill=\"#000000\" fill-rule=\"evenodd\" fill-opacity=\"1\" /><path clip-path=\"url(#clip870)\" d=\"M1232.06 1517.37 Q1228.45 1517.37 1226.62 1520.93 Q1224.82 1524.47 1224.82 1531.6 Q1224.82 1538.71 1226.62 1542.27 Q1228.45 1545.82 1232.06 1545.82 Q1235.7 1545.82 1237.5 1542.27 Q1239.33 1538.71 1239.33 1531.6 Q1239.33 1524.47 1237.5 1520.93 Q1235.7 1517.37 1232.06 1517.37 M1232.06 1513.66 Q1237.87 1513.66 1240.93 1518.27 Q1244.01 1522.85 1244.01 1531.6 Q1244.01 1540.33 1240.93 1544.94 Q1237.87 1549.52 1232.06 1549.52 Q1226.25 1549.52 1223.17 1544.94 Q1220.12 1540.33 1220.12 1531.6 Q1220.12 1522.85 1223.17 1518.27 Q1226.25 1513.66 1232.06 1513.66 Z\" fill=\"#000000\" fill-rule=\"evenodd\" fill-opacity=\"1\" /><path clip-path=\"url(#clip870)\" d=\"M1252.22 1542.97 L1257.11 1542.97 L1257.11 1548.85 L1252.22 1548.85 L1252.22 1542.97 Z\" fill=\"#000000\" fill-rule=\"evenodd\" fill-opacity=\"1\" /><path clip-path=\"url(#clip870)\" d=\"M1277.29 1517.37 Q1273.68 1517.37 1271.85 1520.93 Q1270.05 1524.47 1270.05 1531.6 Q1270.05 1538.71 1271.85 1542.27 Q1273.68 1545.82 1277.29 1545.82 Q1280.93 1545.82 1282.73 1542.27 Q1284.56 1538.71 1284.56 1531.6 Q1284.56 1524.47 1282.73 1520.93 Q1280.93 1517.37 1277.29 1517.37 M1277.29 1513.66 Q1283.1 1513.66 1286.16 1518.27 Q1289.24 1522.85 1289.24 1531.6 Q1289.24 1540.33 1286.16 1544.94 Q1283.1 1549.52 1277.29 1549.52 Q1271.48 1549.52 1268.4 1544.94 Q1265.35 1540.33 1265.35 1531.6 Q1265.35 1522.85 1268.4 1518.27 Q1271.48 1513.66 1277.29 1513.66 Z\" fill=\"#000000\" fill-rule=\"evenodd\" fill-opacity=\"1\" /><path clip-path=\"url(#clip870)\" d=\"M1297.5 1514.29 L1315.86 1514.29 L1315.86 1518.22 L1301.78 1518.22 L1301.78 1526.7 Q1302.8 1526.35 1303.82 1526.19 Q1304.84 1526 1305.86 1526 Q1311.64 1526 1315.02 1529.17 Q1318.4 1532.34 1318.4 1537.76 Q1318.4 1543.34 1314.93 1546.44 Q1311.46 1549.52 1305.14 1549.52 Q1302.96 1549.52 1300.7 1549.15 Q1298.45 1548.78 1296.04 1548.04 L1296.04 1543.34 Q1298.13 1544.47 1300.35 1545.03 Q1302.57 1545.58 1305.05 1545.58 Q1309.05 1545.58 1311.39 1543.48 Q1313.73 1541.37 1313.73 1537.76 Q1313.73 1534.15 1311.39 1532.04 Q1309.05 1529.94 1305.05 1529.94 Q1303.17 1529.94 1301.3 1530.35 Q1299.45 1530.77 1297.5 1531.65 L1297.5 1514.29 Z\" fill=\"#000000\" fill-rule=\"evenodd\" fill-opacity=\"1\" /><path clip-path=\"url(#clip870)\" d=\"M1337.62 1517.37 Q1334.01 1517.37 1332.18 1520.93 Q1330.37 1524.47 1330.37 1531.6 Q1330.37 1538.71 1332.18 1542.27 Q1334.01 1545.82 1337.62 1545.82 Q1341.25 1545.82 1343.06 1542.27 Q1344.88 1538.71 1344.88 1531.6 Q1344.88 1524.47 1343.06 1520.93 Q1341.25 1517.37 1337.62 1517.37 M1337.62 1513.66 Q1343.43 1513.66 1346.48 1518.27 Q1349.56 1522.85 1349.56 1531.6 Q1349.56 1540.33 1346.48 1544.94 Q1343.43 1549.52 1337.62 1549.52 Q1331.81 1549.52 1328.73 1544.94 Q1325.67 1540.33 1325.67 1531.6 Q1325.67 1522.85 1328.73 1518.27 Q1331.81 1513.66 1337.62 1513.66 Z\" fill=\"#000000\" fill-rule=\"evenodd\" fill-opacity=\"1\" /><path clip-path=\"url(#clip870)\" d=\"M1736.29 1517.37 Q1732.68 1517.37 1730.85 1520.93 Q1729.05 1524.47 1729.05 1531.6 Q1729.05 1538.71 1730.85 1542.27 Q1732.68 1545.82 1736.29 1545.82 Q1739.93 1545.82 1741.73 1542.27 Q1743.56 1538.71 1743.56 1531.6 Q1743.56 1524.47 1741.73 1520.93 Q1739.93 1517.37 1736.29 1517.37 M1736.29 1513.66 Q1742.1 1513.66 1745.16 1518.27 Q1748.24 1522.85 1748.24 1531.6 Q1748.24 1540.33 1745.16 1544.94 Q1742.1 1549.52 1736.29 1549.52 Q1730.48 1549.52 1727.4 1544.94 Q1724.35 1540.33 1724.35 1531.6 Q1724.35 1522.85 1727.4 1518.27 Q1730.48 1513.66 1736.29 1513.66 Z\" fill=\"#000000\" fill-rule=\"evenodd\" fill-opacity=\"1\" /><path clip-path=\"url(#clip870)\" d=\"M1756.46 1542.97 L1761.34 1542.97 L1761.34 1548.85 L1756.46 1548.85 L1756.46 1542.97 Z\" fill=\"#000000\" fill-rule=\"evenodd\" fill-opacity=\"1\" /><path clip-path=\"url(#clip870)\" d=\"M1781.52 1517.37 Q1777.91 1517.37 1776.09 1520.93 Q1774.28 1524.47 1774.28 1531.6 Q1774.28 1538.71 1776.09 1542.27 Q1777.91 1545.82 1781.52 1545.82 Q1785.16 1545.82 1786.96 1542.27 Q1788.79 1538.71 1788.79 1531.6 Q1788.79 1524.47 1786.96 1520.93 Q1785.16 1517.37 1781.52 1517.37 M1781.52 1513.66 Q1787.33 1513.66 1790.39 1518.27 Q1793.47 1522.85 1793.47 1531.6 Q1793.47 1540.33 1790.39 1544.94 Q1787.33 1549.52 1781.52 1549.52 Q1775.71 1549.52 1772.64 1544.94 Q1769.58 1540.33 1769.58 1531.6 Q1769.58 1522.85 1772.64 1518.27 Q1775.71 1513.66 1781.52 1513.66 Z\" fill=\"#000000\" fill-rule=\"evenodd\" fill-opacity=\"1\" /><path clip-path=\"url(#clip870)\" d=\"M1800.51 1514.29 L1822.73 1514.29 L1822.73 1516.28 L1810.18 1548.85 L1805.3 1548.85 L1817.1 1518.22 L1800.51 1518.22 L1800.51 1514.29 Z\" fill=\"#000000\" fill-rule=\"evenodd\" fill-opacity=\"1\" /><path clip-path=\"url(#clip870)\" d=\"M1831.89 1514.29 L1850.25 1514.29 L1850.25 1518.22 L1836.18 1518.22 L1836.18 1526.7 Q1837.2 1526.35 1838.21 1526.19 Q1839.23 1526 1840.25 1526 Q1846.04 1526 1849.42 1529.17 Q1852.8 1532.34 1852.8 1537.76 Q1852.8 1543.34 1849.33 1546.44 Q1845.85 1549.52 1839.53 1549.52 Q1837.36 1549.52 1835.09 1549.15 Q1832.84 1548.78 1830.44 1548.04 L1830.44 1543.34 Q1832.52 1544.47 1834.74 1545.03 Q1836.96 1545.58 1839.44 1545.58 Q1843.45 1545.58 1845.78 1543.48 Q1848.12 1541.37 1848.12 1537.76 Q1848.12 1534.15 1845.78 1532.04 Q1843.45 1529.94 1839.44 1529.94 Q1837.57 1529.94 1835.69 1530.35 Q1833.84 1530.77 1831.89 1531.65 L1831.89 1514.29 Z\" fill=\"#000000\" fill-rule=\"evenodd\" fill-opacity=\"1\" /><path clip-path=\"url(#clip870)\" d=\"M2239.53 1517.37 Q2235.92 1517.37 2234.09 1520.93 Q2232.28 1524.47 2232.28 1531.6 Q2232.28 1538.71 2234.09 1542.27 Q2235.92 1545.82 2239.53 1545.82 Q2243.16 1545.82 2244.97 1542.27 Q2246.8 1538.71 2246.8 1531.6 Q2246.8 1524.47 2244.97 1520.93 Q2243.16 1517.37 2239.53 1517.37 M2239.53 1513.66 Q2245.34 1513.66 2248.4 1518.27 Q2251.47 1522.85 2251.47 1531.6 Q2251.47 1540.33 2248.4 1544.94 Q2245.34 1549.52 2239.53 1549.52 Q2233.72 1549.52 2230.64 1544.94 Q2227.59 1540.33 2227.59 1531.6 Q2227.59 1522.85 2230.64 1518.27 Q2233.72 1513.66 2239.53 1513.66 Z\" fill=\"#000000\" fill-rule=\"evenodd\" fill-opacity=\"1\" /><path clip-path=\"url(#clip870)\" d=\"M2259.69 1542.97 L2264.58 1542.97 L2264.58 1548.85 L2259.69 1548.85 L2259.69 1542.97 Z\" fill=\"#000000\" fill-rule=\"evenodd\" fill-opacity=\"1\" /><path clip-path=\"url(#clip870)\" d=\"M2275.57 1544.91 L2283.21 1544.91 L2283.21 1518.55 L2274.9 1520.21 L2274.9 1515.95 L2283.16 1514.29 L2287.84 1514.29 L2287.84 1544.91 L2295.48 1544.91 L2295.48 1548.85 L2275.57 1548.85 L2275.57 1544.91 Z\" fill=\"#000000\" fill-rule=\"evenodd\" fill-opacity=\"1\" /><path clip-path=\"url(#clip870)\" d=\"M2314.92 1517.37 Q2311.31 1517.37 2309.48 1520.93 Q2307.68 1524.47 2307.68 1531.6 Q2307.68 1538.71 2309.48 1542.27 Q2311.31 1545.82 2314.92 1545.82 Q2318.56 1545.82 2320.36 1542.27 Q2322.19 1538.71 2322.19 1531.6 Q2322.19 1524.47 2320.36 1520.93 Q2318.56 1517.37 2314.92 1517.37 M2314.92 1513.66 Q2320.73 1513.66 2323.79 1518.27 Q2326.87 1522.85 2326.87 1531.6 Q2326.87 1540.33 2323.79 1544.94 Q2320.73 1549.52 2314.92 1549.52 Q2309.11 1549.52 2306.03 1544.94 Q2302.98 1540.33 2302.98 1531.6 Q2302.98 1522.85 2306.03 1518.27 Q2309.11 1513.66 2314.92 1513.66 Z\" fill=\"#000000\" fill-rule=\"evenodd\" fill-opacity=\"1\" /><path clip-path=\"url(#clip870)\" d=\"M2345.09 1517.37 Q2341.47 1517.37 2339.65 1520.93 Q2337.84 1524.47 2337.84 1531.6 Q2337.84 1538.71 2339.65 1542.27 Q2341.47 1545.82 2345.09 1545.82 Q2348.72 1545.82 2350.53 1542.27 Q2352.35 1538.71 2352.35 1531.6 Q2352.35 1524.47 2350.53 1520.93 Q2348.72 1517.37 2345.09 1517.37 M2345.09 1513.66 Q2350.9 1513.66 2353.95 1518.27 Q2357.03 1522.85 2357.03 1531.6 Q2357.03 1540.33 2353.95 1544.94 Q2350.9 1549.52 2345.09 1549.52 Q2339.28 1549.52 2336.2 1544.94 Q2333.14 1540.33 2333.14 1531.6 Q2333.14 1522.85 2336.2 1518.27 Q2339.28 1513.66 2345.09 1513.66 Z\" fill=\"#000000\" fill-rule=\"evenodd\" fill-opacity=\"1\" /><polyline clip-path=\"url(#clip872)\" style=\"stroke:#000000; stroke-linecap:round; stroke-linejoin:round; stroke-width:2; stroke-opacity:0.1; fill:none\" points=\"\n",
       "  216.922,1445.72 2352.76,1445.72 \n",
       "  \"/>\n",
       "<polyline clip-path=\"url(#clip872)\" style=\"stroke:#000000; stroke-linecap:round; stroke-linejoin:round; stroke-width:2; stroke-opacity:0.1; fill:none\" points=\"\n",
       "  216.922,1154.98 2352.76,1154.98 \n",
       "  \"/>\n",
       "<polyline clip-path=\"url(#clip872)\" style=\"stroke:#000000; stroke-linecap:round; stroke-linejoin:round; stroke-width:2; stroke-opacity:0.1; fill:none\" points=\"\n",
       "  216.922,864.246 2352.76,864.246 \n",
       "  \"/>\n",
       "<polyline clip-path=\"url(#clip872)\" style=\"stroke:#000000; stroke-linecap:round; stroke-linejoin:round; stroke-width:2; stroke-opacity:0.1; fill:none\" points=\"\n",
       "  216.922,573.511 2352.76,573.511 \n",
       "  \"/>\n",
       "<polyline clip-path=\"url(#clip872)\" style=\"stroke:#000000; stroke-linecap:round; stroke-linejoin:round; stroke-width:2; stroke-opacity:0.1; fill:none\" points=\"\n",
       "  216.922,282.776 2352.76,282.776 \n",
       "  \"/>\n",
       "<polyline clip-path=\"url(#clip870)\" style=\"stroke:#000000; stroke-linecap:round; stroke-linejoin:round; stroke-width:4; stroke-opacity:1; fill:none\" points=\"\n",
       "  216.922,1486.45 216.922,47.2441 \n",
       "  \"/>\n",
       "<polyline clip-path=\"url(#clip870)\" style=\"stroke:#000000; stroke-linecap:round; stroke-linejoin:round; stroke-width:4; stroke-opacity:1; fill:none\" points=\"\n",
       "  216.922,1445.72 235.82,1445.72 \n",
       "  \"/>\n",
       "<polyline clip-path=\"url(#clip870)\" style=\"stroke:#000000; stroke-linecap:round; stroke-linejoin:round; stroke-width:4; stroke-opacity:1; fill:none\" points=\"\n",
       "  216.922,1154.98 235.82,1154.98 \n",
       "  \"/>\n",
       "<polyline clip-path=\"url(#clip870)\" style=\"stroke:#000000; stroke-linecap:round; stroke-linejoin:round; stroke-width:4; stroke-opacity:1; fill:none\" points=\"\n",
       "  216.922,864.246 235.82,864.246 \n",
       "  \"/>\n",
       "<polyline clip-path=\"url(#clip870)\" style=\"stroke:#000000; stroke-linecap:round; stroke-linejoin:round; stroke-width:4; stroke-opacity:1; fill:none\" points=\"\n",
       "  216.922,573.511 235.82,573.511 \n",
       "  \"/>\n",
       "<polyline clip-path=\"url(#clip870)\" style=\"stroke:#000000; stroke-linecap:round; stroke-linejoin:round; stroke-width:4; stroke-opacity:1; fill:none\" points=\"\n",
       "  216.922,282.776 235.82,282.776 \n",
       "  \"/>\n",
       "<path clip-path=\"url(#clip870)\" d=\"M63.4226 1431.51 Q59.8115 1431.51 57.9828 1435.08 Q56.1773 1438.62 56.1773 1445.75 Q56.1773 1452.86 57.9828 1456.42 Q59.8115 1459.96 63.4226 1459.96 Q67.0569 1459.96 68.8624 1456.42 Q70.6911 1452.86 70.6911 1445.75 Q70.6911 1438.62 68.8624 1435.08 Q67.0569 1431.51 63.4226 1431.51 M63.4226 1427.81 Q69.2328 1427.81 72.2883 1432.42 Q75.367 1437 75.367 1445.75 Q75.367 1454.48 72.2883 1459.08 Q69.2328 1463.67 63.4226 1463.67 Q57.6125 1463.67 54.5338 1459.08 Q51.4782 1454.48 51.4782 1445.75 Q51.4782 1437 54.5338 1432.42 Q57.6125 1427.81 63.4226 1427.81 Z\" fill=\"#000000\" fill-rule=\"evenodd\" fill-opacity=\"1\" /><path clip-path=\"url(#clip870)\" d=\"M83.5845 1457.12 L88.4688 1457.12 L88.4688 1463 L83.5845 1463 L83.5845 1457.12 Z\" fill=\"#000000\" fill-rule=\"evenodd\" fill-opacity=\"1\" /><path clip-path=\"url(#clip870)\" d=\"M108.654 1431.51 Q105.043 1431.51 103.214 1435.08 Q101.409 1438.62 101.409 1445.75 Q101.409 1452.86 103.214 1456.42 Q105.043 1459.96 108.654 1459.96 Q112.288 1459.96 114.094 1456.42 Q115.922 1452.86 115.922 1445.75 Q115.922 1438.62 114.094 1435.08 Q112.288 1431.51 108.654 1431.51 M108.654 1427.81 Q114.464 1427.81 117.52 1432.42 Q120.598 1437 120.598 1445.75 Q120.598 1454.48 117.52 1459.08 Q114.464 1463.67 108.654 1463.67 Q102.844 1463.67 99.765 1459.08 Q96.7095 1454.48 96.7095 1445.75 Q96.7095 1437 99.765 1432.42 Q102.844 1427.81 108.654 1427.81 Z\" fill=\"#000000\" fill-rule=\"evenodd\" fill-opacity=\"1\" /><path clip-path=\"url(#clip870)\" d=\"M138.816 1431.51 Q135.205 1431.51 133.376 1435.08 Q131.57 1438.62 131.57 1445.75 Q131.57 1452.86 133.376 1456.42 Q135.205 1459.96 138.816 1459.96 Q142.45 1459.96 144.256 1456.42 Q146.084 1452.86 146.084 1445.75 Q146.084 1438.62 144.256 1435.08 Q142.45 1431.51 138.816 1431.51 M138.816 1427.81 Q144.626 1427.81 147.681 1432.42 Q150.76 1437 150.76 1445.75 Q150.76 1454.48 147.681 1459.08 Q144.626 1463.67 138.816 1463.67 Q133.006 1463.67 129.927 1459.08 Q126.871 1454.48 126.871 1445.75 Q126.871 1437 129.927 1432.42 Q133.006 1427.81 138.816 1427.81 Z\" fill=\"#000000\" fill-rule=\"evenodd\" fill-opacity=\"1\" /><path clip-path=\"url(#clip870)\" d=\"M168.978 1431.51 Q165.367 1431.51 163.538 1435.08 Q161.732 1438.62 161.732 1445.75 Q161.732 1452.86 163.538 1456.42 Q165.367 1459.96 168.978 1459.96 Q172.612 1459.96 174.417 1456.42 Q176.246 1452.86 176.246 1445.75 Q176.246 1438.62 174.417 1435.08 Q172.612 1431.51 168.978 1431.51 M168.978 1427.81 Q174.788 1427.81 177.843 1432.42 Q180.922 1437 180.922 1445.75 Q180.922 1454.48 177.843 1459.08 Q174.788 1463.67 168.978 1463.67 Q163.167 1463.67 160.089 1459.08 Q157.033 1454.48 157.033 1445.75 Q157.033 1437 160.089 1432.42 Q163.167 1427.81 168.978 1427.81 Z\" fill=\"#000000\" fill-rule=\"evenodd\" fill-opacity=\"1\" /><path clip-path=\"url(#clip870)\" d=\"M65.0198 1140.78 Q61.4087 1140.78 59.58 1144.34 Q57.7745 1147.89 57.7745 1155.02 Q57.7745 1162.12 59.58 1165.69 Q61.4087 1169.23 65.0198 1169.23 Q68.6541 1169.23 70.4596 1165.69 Q72.2883 1162.12 72.2883 1155.02 Q72.2883 1147.89 70.4596 1144.34 Q68.6541 1140.78 65.0198 1140.78 M65.0198 1137.08 Q70.83 1137.08 73.8855 1141.68 Q76.9642 1146.27 76.9642 1155.02 Q76.9642 1163.74 73.8855 1168.35 Q70.83 1172.93 65.0198 1172.93 Q59.2097 1172.93 56.131 1168.35 Q53.0754 1163.74 53.0754 1155.02 Q53.0754 1146.27 56.131 1141.68 Q59.2097 1137.08 65.0198 1137.08 Z\" fill=\"#000000\" fill-rule=\"evenodd\" fill-opacity=\"1\" /><path clip-path=\"url(#clip870)\" d=\"M85.1818 1166.38 L90.066 1166.38 L90.066 1172.26 L85.1818 1172.26 L85.1818 1166.38 Z\" fill=\"#000000\" fill-rule=\"evenodd\" fill-opacity=\"1\" /><path clip-path=\"url(#clip870)\" d=\"M110.251 1140.78 Q106.64 1140.78 104.811 1144.34 Q103.006 1147.89 103.006 1155.02 Q103.006 1162.12 104.811 1165.69 Q106.64 1169.23 110.251 1169.23 Q113.885 1169.23 115.691 1165.69 Q117.52 1162.12 117.52 1155.02 Q117.52 1147.89 115.691 1144.34 Q113.885 1140.78 110.251 1140.78 M110.251 1137.08 Q116.061 1137.08 119.117 1141.68 Q122.195 1146.27 122.195 1155.02 Q122.195 1163.74 119.117 1168.35 Q116.061 1172.93 110.251 1172.93 Q104.441 1172.93 101.362 1168.35 Q98.3067 1163.74 98.3067 1155.02 Q98.3067 1146.27 101.362 1141.68 Q104.441 1137.08 110.251 1137.08 Z\" fill=\"#000000\" fill-rule=\"evenodd\" fill-opacity=\"1\" /><path clip-path=\"url(#clip870)\" d=\"M140.413 1140.78 Q136.802 1140.78 134.973 1144.34 Q133.168 1147.89 133.168 1155.02 Q133.168 1162.12 134.973 1165.69 Q136.802 1169.23 140.413 1169.23 Q144.047 1169.23 145.853 1165.69 Q147.681 1162.12 147.681 1155.02 Q147.681 1147.89 145.853 1144.34 Q144.047 1140.78 140.413 1140.78 M140.413 1137.08 Q146.223 1137.08 149.279 1141.68 Q152.357 1146.27 152.357 1155.02 Q152.357 1163.74 149.279 1168.35 Q146.223 1172.93 140.413 1172.93 Q134.603 1172.93 131.524 1168.35 Q128.469 1163.74 128.469 1155.02 Q128.469 1146.27 131.524 1141.68 Q134.603 1137.08 140.413 1137.08 Z\" fill=\"#000000\" fill-rule=\"evenodd\" fill-opacity=\"1\" /><path clip-path=\"url(#clip870)\" d=\"M164.603 1168.33 L180.922 1168.33 L180.922 1172.26 L158.978 1172.26 L158.978 1168.33 Q161.64 1165.57 166.223 1160.94 Q170.829 1156.29 172.01 1154.95 Q174.255 1152.42 175.135 1150.69 Q176.038 1148.93 176.038 1147.24 Q176.038 1144.48 174.093 1142.75 Q172.172 1141.01 169.07 1141.01 Q166.871 1141.01 164.417 1141.77 Q161.987 1142.54 159.209 1144.09 L159.209 1139.37 Q162.033 1138.23 164.487 1137.65 Q166.941 1137.08 168.978 1137.08 Q174.348 1137.08 177.542 1139.76 Q180.737 1142.45 180.737 1146.94 Q180.737 1149.07 179.927 1150.99 Q179.14 1152.89 177.033 1155.48 Q176.454 1156.15 173.353 1159.37 Q170.251 1162.56 164.603 1168.33 Z\" fill=\"#000000\" fill-rule=\"evenodd\" fill-opacity=\"1\" /><path clip-path=\"url(#clip870)\" d=\"M62.9365 850.045 Q59.3254 850.045 57.4967 853.609 Q55.6912 857.151 55.6912 864.281 Q55.6912 871.387 57.4967 874.952 Q59.3254 878.493 62.9365 878.493 Q66.5707 878.493 68.3763 874.952 Q70.205 871.387 70.205 864.281 Q70.205 857.151 68.3763 853.609 Q66.5707 850.045 62.9365 850.045 M62.9365 846.341 Q68.7467 846.341 71.8022 850.947 Q74.8809 855.531 74.8809 864.281 Q74.8809 873.007 71.8022 877.614 Q68.7467 882.197 62.9365 882.197 Q57.1264 882.197 54.0477 877.614 Q50.9921 873.007 50.9921 864.281 Q50.9921 855.531 54.0477 850.947 Q57.1264 846.341 62.9365 846.341 Z\" fill=\"#000000\" fill-rule=\"evenodd\" fill-opacity=\"1\" /><path clip-path=\"url(#clip870)\" d=\"M83.0984 875.646 L87.9827 875.646 L87.9827 881.526 L83.0984 881.526 L83.0984 875.646 Z\" fill=\"#000000\" fill-rule=\"evenodd\" fill-opacity=\"1\" /><path clip-path=\"url(#clip870)\" d=\"M108.168 850.045 Q104.557 850.045 102.728 853.609 Q100.922 857.151 100.922 864.281 Q100.922 871.387 102.728 874.952 Q104.557 878.493 108.168 878.493 Q111.802 878.493 113.608 874.952 Q115.436 871.387 115.436 864.281 Q115.436 857.151 113.608 853.609 Q111.802 850.045 108.168 850.045 M108.168 846.341 Q113.978 846.341 117.033 850.947 Q120.112 855.531 120.112 864.281 Q120.112 873.007 117.033 877.614 Q113.978 882.197 108.168 882.197 Q102.358 882.197 99.2789 877.614 Q96.2234 873.007 96.2234 864.281 Q96.2234 855.531 99.2789 850.947 Q102.358 846.341 108.168 846.341 Z\" fill=\"#000000\" fill-rule=\"evenodd\" fill-opacity=\"1\" /><path clip-path=\"url(#clip870)\" d=\"M138.33 850.045 Q134.719 850.045 132.89 853.609 Q131.084 857.151 131.084 864.281 Q131.084 871.387 132.89 874.952 Q134.719 878.493 138.33 878.493 Q141.964 878.493 143.769 874.952 Q145.598 871.387 145.598 864.281 Q145.598 857.151 143.769 853.609 Q141.964 850.045 138.33 850.045 M138.33 846.341 Q144.14 846.341 147.195 850.947 Q150.274 855.531 150.274 864.281 Q150.274 873.007 147.195 877.614 Q144.14 882.197 138.33 882.197 Q132.519 882.197 129.441 877.614 Q126.385 873.007 126.385 864.281 Q126.385 855.531 129.441 850.947 Q132.519 846.341 138.33 846.341 Z\" fill=\"#000000\" fill-rule=\"evenodd\" fill-opacity=\"1\" /><path clip-path=\"url(#clip870)\" d=\"M171.339 851.04 L159.533 869.489 L171.339 869.489 L171.339 851.04 M170.112 846.966 L175.991 846.966 L175.991 869.489 L180.922 869.489 L180.922 873.378 L175.991 873.378 L175.991 881.526 L171.339 881.526 L171.339 873.378 L155.737 873.378 L155.737 868.864 L170.112 846.966 Z\" fill=\"#000000\" fill-rule=\"evenodd\" fill-opacity=\"1\" /><path clip-path=\"url(#clip870)\" d=\"M63.2606 559.31 Q59.6495 559.31 57.8208 562.874 Q56.0152 566.416 56.0152 573.546 Q56.0152 580.652 57.8208 584.217 Q59.6495 587.759 63.2606 587.759 Q66.8948 587.759 68.7004 584.217 Q70.5291 580.652 70.5291 573.546 Q70.5291 566.416 68.7004 562.874 Q66.8948 559.31 63.2606 559.31 M63.2606 555.606 Q69.0707 555.606 72.1263 560.212 Q75.205 564.796 75.205 573.546 Q75.205 582.272 72.1263 586.879 Q69.0707 591.462 63.2606 591.462 Q57.4504 591.462 54.3717 586.879 Q51.3162 582.272 51.3162 573.546 Q51.3162 564.796 54.3717 560.212 Q57.4504 555.606 63.2606 555.606 Z\" fill=\"#000000\" fill-rule=\"evenodd\" fill-opacity=\"1\" /><path clip-path=\"url(#clip870)\" d=\"M83.4225 584.911 L88.3067 584.911 L88.3067 590.791 L83.4225 590.791 L83.4225 584.911 Z\" fill=\"#000000\" fill-rule=\"evenodd\" fill-opacity=\"1\" /><path clip-path=\"url(#clip870)\" d=\"M108.492 559.31 Q104.881 559.31 103.052 562.874 Q101.246 566.416 101.246 573.546 Q101.246 580.652 103.052 584.217 Q104.881 587.759 108.492 587.759 Q112.126 587.759 113.932 584.217 Q115.76 580.652 115.76 573.546 Q115.76 566.416 113.932 562.874 Q112.126 559.31 108.492 559.31 M108.492 555.606 Q114.302 555.606 117.358 560.212 Q120.436 564.796 120.436 573.546 Q120.436 582.272 117.358 586.879 Q114.302 591.462 108.492 591.462 Q102.682 591.462 99.603 586.879 Q96.5474 582.272 96.5474 573.546 Q96.5474 564.796 99.603 560.212 Q102.682 555.606 108.492 555.606 Z\" fill=\"#000000\" fill-rule=\"evenodd\" fill-opacity=\"1\" /><path clip-path=\"url(#clip870)\" d=\"M138.654 559.31 Q135.043 559.31 133.214 562.874 Q131.408 566.416 131.408 573.546 Q131.408 580.652 133.214 584.217 Q135.043 587.759 138.654 587.759 Q142.288 587.759 144.093 584.217 Q145.922 580.652 145.922 573.546 Q145.922 566.416 144.093 562.874 Q142.288 559.31 138.654 559.31 M138.654 555.606 Q144.464 555.606 147.519 560.212 Q150.598 564.796 150.598 573.546 Q150.598 582.272 147.519 586.879 Q144.464 591.462 138.654 591.462 Q132.844 591.462 129.765 586.879 Q126.709 582.272 126.709 573.546 Q126.709 564.796 129.765 560.212 Q132.844 555.606 138.654 555.606 Z\" fill=\"#000000\" fill-rule=\"evenodd\" fill-opacity=\"1\" /><path clip-path=\"url(#clip870)\" d=\"M169.394 571.648 Q166.246 571.648 164.394 573.8 Q162.566 575.953 162.566 579.703 Q162.566 583.43 164.394 585.606 Q166.246 587.759 169.394 587.759 Q172.542 587.759 174.371 585.606 Q176.223 583.43 176.223 579.703 Q176.223 575.953 174.371 573.8 Q172.542 571.648 169.394 571.648 M178.677 556.995 L178.677 561.254 Q176.917 560.421 175.112 559.981 Q173.329 559.541 171.57 559.541 Q166.941 559.541 164.487 562.666 Q162.056 565.791 161.709 572.11 Q163.075 570.097 165.135 569.032 Q167.195 567.944 169.672 567.944 Q174.88 567.944 177.89 571.115 Q180.922 574.263 180.922 579.703 Q180.922 585.027 177.774 588.245 Q174.626 591.462 169.394 591.462 Q163.399 591.462 160.228 586.879 Q157.056 582.272 157.056 573.546 Q157.056 565.351 160.945 560.49 Q164.834 555.606 171.385 555.606 Q173.144 555.606 174.927 555.953 Q176.732 556.3 178.677 556.995 Z\" fill=\"#000000\" fill-rule=\"evenodd\" fill-opacity=\"1\" /><path clip-path=\"url(#clip870)\" d=\"M63.5152 268.575 Q59.9041 268.575 58.0754 272.139 Q56.2699 275.681 56.2699 282.811 Q56.2699 289.917 58.0754 293.482 Q59.9041 297.024 63.5152 297.024 Q67.1494 297.024 68.955 293.482 Q70.7837 289.917 70.7837 282.811 Q70.7837 275.681 68.955 272.139 Q67.1494 268.575 63.5152 268.575 M63.5152 264.871 Q69.3254 264.871 72.3809 269.477 Q75.4596 274.061 75.4596 282.811 Q75.4596 291.538 72.3809 296.144 Q69.3254 300.727 63.5152 300.727 Q57.7051 300.727 54.6264 296.144 Q51.5708 291.538 51.5708 282.811 Q51.5708 274.061 54.6264 269.477 Q57.7051 264.871 63.5152 264.871 Z\" fill=\"#000000\" fill-rule=\"evenodd\" fill-opacity=\"1\" /><path clip-path=\"url(#clip870)\" d=\"M83.6771 294.176 L88.5614 294.176 L88.5614 300.056 L83.6771 300.056 L83.6771 294.176 Z\" fill=\"#000000\" fill-rule=\"evenodd\" fill-opacity=\"1\" /><path clip-path=\"url(#clip870)\" d=\"M108.746 268.575 Q105.135 268.575 103.307 272.139 Q101.501 275.681 101.501 282.811 Q101.501 289.917 103.307 293.482 Q105.135 297.024 108.746 297.024 Q112.381 297.024 114.186 293.482 Q116.015 289.917 116.015 282.811 Q116.015 275.681 114.186 272.139 Q112.381 268.575 108.746 268.575 M108.746 264.871 Q114.557 264.871 117.612 269.477 Q120.691 274.061 120.691 282.811 Q120.691 291.538 117.612 296.144 Q114.557 300.727 108.746 300.727 Q102.936 300.727 99.8576 296.144 Q96.8021 291.538 96.8021 282.811 Q96.8021 274.061 99.8576 269.477 Q102.936 264.871 108.746 264.871 Z\" fill=\"#000000\" fill-rule=\"evenodd\" fill-opacity=\"1\" /><path clip-path=\"url(#clip870)\" d=\"M138.908 268.575 Q135.297 268.575 133.469 272.139 Q131.663 275.681 131.663 282.811 Q131.663 289.917 133.469 293.482 Q135.297 297.024 138.908 297.024 Q142.543 297.024 144.348 293.482 Q146.177 289.917 146.177 282.811 Q146.177 275.681 144.348 272.139 Q142.543 268.575 138.908 268.575 M138.908 264.871 Q144.718 264.871 147.774 269.477 Q150.853 274.061 150.853 282.811 Q150.853 291.538 147.774 296.144 Q144.718 300.727 138.908 300.727 Q133.098 300.727 130.019 296.144 Q126.964 291.538 126.964 282.811 Q126.964 274.061 130.019 269.477 Q133.098 264.871 138.908 264.871 Z\" fill=\"#000000\" fill-rule=\"evenodd\" fill-opacity=\"1\" /><path clip-path=\"url(#clip870)\" d=\"M169.07 283.644 Q165.737 283.644 163.816 285.426 Q161.917 287.209 161.917 290.334 Q161.917 293.459 163.816 295.241 Q165.737 297.024 169.07 297.024 Q172.404 297.024 174.325 295.241 Q176.246 293.436 176.246 290.334 Q176.246 287.209 174.325 285.426 Q172.427 283.644 169.07 283.644 M164.394 281.653 Q161.385 280.913 159.695 278.852 Q158.029 276.792 158.029 273.829 Q158.029 269.686 160.968 267.278 Q163.931 264.871 169.07 264.871 Q174.232 264.871 177.172 267.278 Q180.112 269.686 180.112 273.829 Q180.112 276.792 178.422 278.852 Q176.755 280.913 173.769 281.653 Q177.149 282.44 179.024 284.732 Q180.922 287.024 180.922 290.334 Q180.922 295.357 177.843 298.042 Q174.788 300.727 169.07 300.727 Q163.353 300.727 160.274 298.042 Q157.218 295.357 157.218 290.334 Q157.218 287.024 159.117 284.732 Q161.015 282.44 164.394 281.653 M162.681 274.269 Q162.681 276.954 164.348 278.459 Q166.038 279.964 169.07 279.964 Q172.079 279.964 173.769 278.459 Q175.482 276.954 175.482 274.269 Q175.482 271.584 173.769 270.079 Q172.079 268.575 169.07 268.575 Q166.038 268.575 164.348 270.079 Q162.681 271.584 162.681 274.269 Z\" fill=\"#000000\" fill-rule=\"evenodd\" fill-opacity=\"1\" /><polyline clip-path=\"url(#clip872)\" style=\"stroke:#009af9; stroke-linecap:round; stroke-linejoin:round; stroke-width:4; stroke-opacity:1; fill:none\" points=\"\n",
       "  277.37,1445.72 297.519,1445.72 317.669,1445.72 337.818,1445.72 357.968,1445.72 378.117,1445.72 398.266,1445.72 418.416,1445.72 438.565,1445.72 458.715,1445.72 \n",
       "  478.864,1445.72 499.013,1445.72 519.163,1445.72 539.312,1445.72 559.461,1445.72 579.611,1445.72 599.76,1445.72 619.91,1445.72 640.059,1445.72 660.208,1445.72 \n",
       "  680.358,1445.72 881.851,1275.99 1083.35,1106.26 1284.84,936.535 1486.33,766.813 1687.83,597.095 1889.32,427.382 2090.81,257.676 2292.31,87.9763 \n",
       "  \"/>\n",
       "<path clip-path=\"url(#clip870)\" d=\"\n",
       "M32.063 198.898 L2281.56 198.898 L2281.56 95.2176 L32.063 95.2176  Z\n",
       "  \" fill=\"#ffffff\" fill-rule=\"evenodd\" fill-opacity=\"1\"/>\n",
       "<polyline clip-path=\"url(#clip870)\" style=\"stroke:#000000; stroke-linecap:round; stroke-linejoin:round; stroke-width:4; stroke-opacity:1; fill:none\" points=\"\n",
       "  32.063,198.898 2281.56,198.898 2281.56,95.2176 32.063,95.2176 32.063,198.898 \n",
       "  \"/>\n",
       "<polyline clip-path=\"url(#clip870)\" style=\"stroke:#009af9; stroke-linecap:round; stroke-linejoin:round; stroke-width:4; stroke-opacity:1; fill:none\" points=\"\n",
       "  55.7945,147.058 198.183,147.058 \n",
       "  \"/>\n",
       "<path clip-path=\"url(#clip870)\" d=\"M229.322 131.051 L229.322 138.412 L238.095 138.412 L238.095 141.722 L229.322 141.722 L229.322 155.796 Q229.322 158.967 230.179 159.87 Q231.058 160.773 233.72 160.773 L238.095 160.773 L238.095 164.338 L233.72 164.338 Q228.79 164.338 226.915 162.509 Q225.04 160.657 225.04 155.796 L225.04 141.722 L221.915 141.722 L221.915 138.412 L225.04 138.412 L225.04 131.051 L229.322 131.051 Z\" fill=\"#000000\" fill-rule=\"evenodd\" fill-opacity=\"1\" /><path clip-path=\"url(#clip870)\" d=\"M258.72 142.393 Q258.003 141.977 257.146 141.791 Q256.313 141.583 255.294 141.583 Q251.683 141.583 249.739 143.944 Q247.818 146.282 247.818 150.68 L247.818 164.338 L243.535 164.338 L243.535 138.412 L247.818 138.412 L247.818 142.44 Q249.16 140.078 251.313 138.944 Q253.466 137.787 256.544 137.787 Q256.984 137.787 257.517 137.856 Q258.049 137.903 258.697 138.018 L258.72 142.393 Z\" fill=\"#000000\" fill-rule=\"evenodd\" fill-opacity=\"1\" /><path clip-path=\"url(#clip870)\" d=\"M274.97 151.305 Q269.808 151.305 267.817 152.486 Q265.827 153.666 265.827 156.514 Q265.827 158.782 267.308 160.125 Q268.813 161.444 271.382 161.444 Q274.924 161.444 277.054 158.944 Q279.206 156.421 279.206 152.254 L279.206 151.305 L274.97 151.305 M283.466 149.546 L283.466 164.338 L279.206 164.338 L279.206 160.402 Q277.748 162.763 275.572 163.898 Q273.396 165.009 270.248 165.009 Q266.267 165.009 263.905 162.787 Q261.568 160.541 261.568 156.791 Q261.568 152.416 264.484 150.194 Q267.424 147.972 273.234 147.972 L279.206 147.972 L279.206 147.555 Q279.206 144.615 277.262 143.018 Q275.341 141.398 271.845 141.398 Q269.623 141.398 267.517 141.93 Q265.41 142.463 263.466 143.527 L263.466 139.592 Q265.804 138.69 268.003 138.25 Q270.202 137.787 272.285 137.787 Q277.91 137.787 280.688 140.703 Q283.466 143.62 283.466 149.546 Z\" fill=\"#000000\" fill-rule=\"evenodd\" fill-opacity=\"1\" /><path clip-path=\"url(#clip870)\" d=\"M310.896 139.407 L310.896 143.389 Q309.09 142.393 307.262 141.907 Q305.456 141.398 303.604 141.398 Q299.461 141.398 297.169 144.037 Q294.878 146.652 294.878 151.398 Q294.878 156.143 297.169 158.782 Q299.461 161.398 303.604 161.398 Q305.456 161.398 307.262 160.912 Q309.09 160.402 310.896 159.407 L310.896 163.342 Q309.114 164.176 307.192 164.592 Q305.294 165.009 303.141 165.009 Q297.285 165.009 293.836 161.328 Q290.387 157.648 290.387 151.398 Q290.387 145.055 293.859 141.421 Q297.354 137.787 303.419 137.787 Q305.387 137.787 307.262 138.203 Q309.137 138.597 310.896 139.407 Z\" fill=\"#000000\" fill-rule=\"evenodd\" fill-opacity=\"1\" /><path clip-path=\"url(#clip870)\" d=\"M340.479 150.31 L340.479 152.393 L320.896 152.393 Q321.174 156.791 323.535 159.106 Q325.919 161.398 330.155 161.398 Q332.609 161.398 334.9 160.796 Q337.215 160.194 339.484 158.99 L339.484 163.018 Q337.192 163.99 334.785 164.5 Q332.377 165.009 329.9 165.009 Q323.697 165.009 320.063 161.398 Q316.451 157.787 316.451 151.629 Q316.451 145.264 319.877 141.537 Q323.326 137.787 329.16 137.787 Q334.391 137.787 337.424 141.166 Q340.479 144.523 340.479 150.31 M336.22 149.06 Q336.174 145.565 334.252 143.481 Q332.354 141.398 329.206 141.398 Q325.641 141.398 323.488 143.412 Q321.359 145.426 321.035 149.083 L336.22 149.06 Z\" fill=\"#000000\" fill-rule=\"evenodd\" fill-opacity=\"1\" /><path clip-path=\"url(#clip870)\" d=\"M379.599 142.347 L379.599 128.319 L383.859 128.319 L383.859 164.338 L379.599 164.338 L379.599 160.449 Q378.257 162.763 376.197 163.898 Q374.159 165.009 371.289 165.009 Q366.59 165.009 363.627 161.259 Q360.687 157.509 360.687 151.398 Q360.687 145.287 363.627 141.537 Q366.59 137.787 371.289 137.787 Q374.159 137.787 376.197 138.921 Q378.257 140.032 379.599 142.347 M365.085 151.398 Q365.085 156.097 367.007 158.782 Q368.951 161.444 372.331 161.444 Q375.71 161.444 377.655 158.782 Q379.599 156.097 379.599 151.398 Q379.599 146.699 377.655 144.037 Q375.71 141.352 372.331 141.352 Q368.951 141.352 367.007 144.037 Q365.085 146.699 365.085 151.398 Z\" fill=\"#000000\" fill-rule=\"evenodd\" fill-opacity=\"1\" /><path clip-path=\"url(#clip870)\" d=\"M392.632 138.412 L396.891 138.412 L396.891 164.338 L392.632 164.338 L392.632 138.412 M392.632 128.319 L396.891 128.319 L396.891 133.713 L392.632 133.713 L392.632 128.319 Z\" fill=\"#000000\" fill-rule=\"evenodd\" fill-opacity=\"1\" /><path clip-path=\"url(#clip870)\" d=\"M422.331 139.176 L422.331 143.203 Q420.525 142.277 418.581 141.815 Q416.636 141.352 414.553 141.352 Q411.382 141.352 409.784 142.324 Q408.21 143.296 408.21 145.24 Q408.21 146.722 409.344 147.578 Q410.479 148.412 413.905 149.176 L415.363 149.5 Q419.9 150.472 421.798 152.254 Q423.719 154.014 423.719 157.185 Q423.719 160.796 420.849 162.902 Q418.002 165.009 413.002 165.009 Q410.919 165.009 408.65 164.592 Q406.405 164.199 403.905 163.388 L403.905 158.99 Q406.266 160.217 408.557 160.842 Q410.849 161.444 413.094 161.444 Q416.104 161.444 417.724 160.426 Q419.344 159.384 419.344 157.509 Q419.344 155.773 418.164 154.847 Q417.006 153.921 413.048 153.064 L411.567 152.717 Q407.608 151.884 405.849 150.171 Q404.09 148.435 404.09 145.426 Q404.09 141.768 406.682 139.778 Q409.275 137.787 414.044 137.787 Q416.405 137.787 418.488 138.134 Q420.571 138.481 422.331 139.176 Z\" fill=\"#000000\" fill-rule=\"evenodd\" fill-opacity=\"1\" /><path clip-path=\"url(#clip870)\" d=\"M434.715 131.051 L434.715 138.412 L443.488 138.412 L443.488 141.722 L434.715 141.722 L434.715 155.796 Q434.715 158.967 435.571 159.87 Q436.451 160.773 439.113 160.773 L443.488 160.773 L443.488 164.338 L439.113 164.338 Q434.182 164.338 432.307 162.509 Q430.432 160.657 430.432 155.796 L430.432 141.722 L427.307 141.722 L427.307 138.412 L430.432 138.412 L430.432 131.051 L434.715 131.051 Z\" fill=\"#000000\" fill-rule=\"evenodd\" fill-opacity=\"1\" /><path clip-path=\"url(#clip870)\" d=\"M460.872 151.305 Q455.71 151.305 453.719 152.486 Q451.729 153.666 451.729 156.514 Q451.729 158.782 453.21 160.125 Q454.715 161.444 457.284 161.444 Q460.826 161.444 462.955 158.944 Q465.108 156.421 465.108 152.254 L465.108 151.305 L460.872 151.305 M469.367 149.546 L469.367 164.338 L465.108 164.338 L465.108 160.402 Q463.65 162.763 461.474 163.898 Q459.298 165.009 456.15 165.009 Q452.168 165.009 449.807 162.787 Q447.469 160.541 447.469 156.791 Q447.469 152.416 450.386 150.194 Q453.326 147.972 459.136 147.972 L465.108 147.972 L465.108 147.555 Q465.108 144.615 463.164 143.018 Q461.242 141.398 457.747 141.398 Q455.525 141.398 453.418 141.93 Q451.312 142.463 449.367 143.527 L449.367 139.592 Q451.705 138.69 453.904 138.25 Q456.103 137.787 458.187 137.787 Q463.812 137.787 466.59 140.703 Q469.367 143.62 469.367 149.546 Z\" fill=\"#000000\" fill-rule=\"evenodd\" fill-opacity=\"1\" /><path clip-path=\"url(#clip870)\" d=\"M499.691 148.689 L499.691 164.338 L495.432 164.338 L495.432 148.828 Q495.432 145.148 493.997 143.319 Q492.562 141.49 489.691 141.49 Q486.242 141.49 484.251 143.69 Q482.261 145.889 482.261 149.685 L482.261 164.338 L477.978 164.338 L477.978 138.412 L482.261 138.412 L482.261 142.44 Q483.789 140.102 485.849 138.944 Q487.932 137.787 490.64 137.787 Q495.108 137.787 497.4 140.565 Q499.691 143.319 499.691 148.689 Z\" fill=\"#000000\" fill-rule=\"evenodd\" fill-opacity=\"1\" /><path clip-path=\"url(#clip870)\" d=\"M526.844 139.407 L526.844 143.389 Q525.038 142.393 523.21 141.907 Q521.404 141.398 519.552 141.398 Q515.409 141.398 513.117 144.037 Q510.825 146.652 510.825 151.398 Q510.825 156.143 513.117 158.782 Q515.409 161.398 519.552 161.398 Q521.404 161.398 523.21 160.912 Q525.038 160.402 526.844 159.407 L526.844 163.342 Q525.061 164.176 523.14 164.592 Q521.242 165.009 519.089 165.009 Q513.233 165.009 509.784 161.328 Q506.335 157.648 506.335 151.398 Q506.335 145.055 509.807 141.421 Q513.302 137.787 519.367 137.787 Q521.335 137.787 523.21 138.203 Q525.085 138.597 526.844 139.407 Z\" fill=\"#000000\" fill-rule=\"evenodd\" fill-opacity=\"1\" /><path clip-path=\"url(#clip870)\" d=\"M556.427 150.31 L556.427 152.393 L536.844 152.393 Q537.122 156.791 539.483 159.106 Q541.867 161.398 546.103 161.398 Q548.557 161.398 550.848 160.796 Q553.163 160.194 555.432 158.99 L555.432 163.018 Q553.14 163.99 550.733 164.5 Q548.325 165.009 545.848 165.009 Q539.645 165.009 536.01 161.398 Q532.399 157.787 532.399 151.629 Q532.399 145.264 535.825 141.537 Q539.274 137.787 545.108 137.787 Q550.339 137.787 553.371 141.166 Q556.427 144.523 556.427 150.31 M552.168 149.06 Q552.122 145.565 550.2 143.481 Q548.302 141.398 545.154 141.398 Q541.589 141.398 539.436 143.412 Q537.307 145.426 536.983 149.083 L552.168 149.06 Z\" fill=\"#000000\" fill-rule=\"evenodd\" fill-opacity=\"1\" /><path clip-path=\"url(#clip870)\" d=\"M564.506 158.458 L569.39 158.458 L569.39 162.439 L565.594 169.847 L562.608 169.847 L564.506 162.439 L564.506 158.458 Z\" fill=\"#000000\" fill-rule=\"evenodd\" fill-opacity=\"1\" /><path clip-path=\"url(#clip870)\" d=\"M578.672 129.778 L584.969 129.778 L600.293 158.689 L600.293 129.778 L604.83 129.778 L604.83 164.338 L598.533 164.338 L583.209 135.426 L583.209 164.338 L578.672 164.338 L578.672 129.778 Z\" fill=\"#000000\" fill-rule=\"evenodd\" fill-opacity=\"1\" /><path clip-path=\"url(#clip870)\" d=\"M614.505 142.81 L644.181 142.81 L644.181 146.699 L614.505 146.699 L614.505 142.81 M614.505 152.254 L644.181 152.254 L644.181 156.189 L614.505 156.189 L614.505 152.254 Z\" fill=\"#000000\" fill-rule=\"evenodd\" fill-opacity=\"1\" /><path clip-path=\"url(#clip870)\" d=\"M655.084 160.402 L662.723 160.402 L662.723 134.037 L654.413 135.703 L654.413 131.444 L662.676 129.778 L667.352 129.778 L667.352 160.402 L674.991 160.402 L674.991 164.338 L655.084 164.338 L655.084 160.402 Z\" fill=\"#000000\" fill-rule=\"evenodd\" fill-opacity=\"1\" /><path clip-path=\"url(#clip870)\" d=\"M688.463 160.402 L704.783 160.402 L704.783 164.338 L682.838 164.338 L682.838 160.402 Q685.5 157.648 690.084 153.018 Q694.69 148.365 695.871 147.023 Q698.116 144.5 698.996 142.764 Q699.898 141.004 699.898 139.315 Q699.898 136.56 697.954 134.824 Q696.033 133.088 692.931 133.088 Q690.732 133.088 688.278 133.852 Q685.848 134.615 683.07 136.166 L683.07 131.444 Q685.894 130.31 688.348 129.731 Q690.801 129.153 692.838 129.153 Q698.209 129.153 701.403 131.838 Q704.598 134.523 704.598 139.014 Q704.598 141.143 703.787 143.065 Q703 144.963 700.894 147.555 Q700.315 148.227 697.213 151.444 Q694.111 154.639 688.463 160.402 Z\" fill=\"#000000\" fill-rule=\"evenodd\" fill-opacity=\"1\" /><path clip-path=\"url(#clip870)\" d=\"M715.084 158.458 L719.968 158.458 L719.968 162.439 L716.172 169.847 L713.185 169.847 L715.084 162.439 L715.084 158.458 Z\" fill=\"#000000\" fill-rule=\"evenodd\" fill-opacity=\"1\" /><path clip-path=\"url(#clip870)\" d=\"M762.907 134.315 Q760.546 132.694 755.014 132.694 Q749.157 132.694 749.157 135.403 Q749.157 137.532 755.269 138.643 Q760.083 139.5 762.792 142.092 Q766.079 145.217 766.079 151.629 Q766.079 157.764 762.907 161.375 Q759.736 165.009 754.181 165.009 Q748.648 165.009 745.454 161.375 Q742.283 157.764 742.283 151.398 Q742.283 146.676 745.454 142.856 Q746.681 141.375 748.417 140.541 Q744.806 138.713 744.806 135.449 Q744.806 129.153 755.014 129.153 Q760.13 129.153 762.907 130.773 L762.907 134.315 M751.611 141.699 Q750.037 142.37 748.764 144.06 Q746.773 146.676 746.773 151.398 Q746.773 156.097 748.741 158.736 Q750.732 161.398 754.181 161.398 Q757.583 161.398 759.574 158.713 Q761.565 156.027 761.565 151.629 Q761.565 147.023 759.458 144.801 Q757.213 142.416 754.296 142.162 Q752.815 142.023 751.611 141.699 Z\" fill=\"#000000\" fill-rule=\"evenodd\" fill-opacity=\"1\" /><path clip-path=\"url(#clip870)\" d=\"M777.352 131.051 L777.352 138.412 L786.125 138.412 L786.125 141.722 L777.352 141.722 L777.352 155.796 Q777.352 158.967 778.208 159.87 Q779.088 160.773 781.75 160.773 L786.125 160.773 L786.125 164.338 L781.75 164.338 Q776.819 164.338 774.944 162.509 Q773.069 160.657 773.069 155.796 L773.069 141.722 L769.944 141.722 L769.944 138.412 L773.069 138.412 L773.069 131.051 L777.352 131.051 Z\" fill=\"#000000\" fill-rule=\"evenodd\" fill-opacity=\"1\" /><path clip-path=\"url(#clip870)\" d=\"M792.282 142.81 L821.958 142.81 L821.958 146.699 L792.282 146.699 L792.282 142.81 M792.282 152.254 L821.958 152.254 L821.958 156.189 L792.282 156.189 L792.282 152.254 Z\" fill=\"#000000\" fill-rule=\"evenodd\" fill-opacity=\"1\" /><path clip-path=\"url(#clip870)\" d=\"M842.051 132.856 Q838.439 132.856 836.611 136.421 Q834.805 139.963 834.805 147.092 Q834.805 154.199 836.611 157.764 Q838.439 161.305 842.051 161.305 Q845.685 161.305 847.49 157.764 Q849.319 154.199 849.319 147.092 Q849.319 139.963 847.49 136.421 Q845.685 132.856 842.051 132.856 M842.051 129.153 Q847.861 129.153 850.916 133.759 Q853.995 138.342 853.995 147.092 Q853.995 155.819 850.916 160.426 Q847.861 165.009 842.051 165.009 Q836.24 165.009 833.162 160.426 Q830.106 155.819 830.106 147.092 Q830.106 138.342 833.162 133.759 Q836.24 129.153 842.051 129.153 Z\" fill=\"#000000\" fill-rule=\"evenodd\" fill-opacity=\"1\" /><path clip-path=\"url(#clip870)\" d=\"M862.212 158.458 L867.097 158.458 L867.097 164.338 L862.212 164.338 L862.212 158.458 Z\" fill=\"#000000\" fill-rule=\"evenodd\" fill-opacity=\"1\" /><path clip-path=\"url(#clip870)\" d=\"M887.282 132.856 Q883.671 132.856 881.842 136.421 Q880.036 139.963 880.036 147.092 Q880.036 154.199 881.842 157.764 Q883.671 161.305 887.282 161.305 Q890.916 161.305 892.722 157.764 Q894.55 154.199 894.55 147.092 Q894.55 139.963 892.722 136.421 Q890.916 132.856 887.282 132.856 M887.282 129.153 Q893.092 129.153 896.147 133.759 Q899.226 138.342 899.226 147.092 Q899.226 155.819 896.147 160.426 Q893.092 165.009 887.282 165.009 Q881.472 165.009 878.393 160.426 Q875.337 155.819 875.337 147.092 Q875.337 138.342 878.393 133.759 Q881.472 129.153 887.282 129.153 Z\" fill=\"#000000\" fill-rule=\"evenodd\" fill-opacity=\"1\" /><path clip-path=\"url(#clip870)\" d=\"M908.254 160.402 L915.893 160.402 L915.893 134.037 L907.583 135.703 L907.583 131.444 L915.846 129.778 L920.522 129.778 L920.522 160.402 L928.161 160.402 L928.161 164.338 L908.254 164.338 L908.254 160.402 Z\" fill=\"#000000\" fill-rule=\"evenodd\" fill-opacity=\"1\" /><path clip-path=\"url(#clip870)\" d=\"M938.092 158.458 L942.976 158.458 L942.976 162.439 L939.18 169.847 L936.194 169.847 L938.092 162.439 L938.092 158.458 Z\" fill=\"#000000\" fill-rule=\"evenodd\" fill-opacity=\"1\" /><path clip-path=\"url(#clip870)\" d=\"M967.328 129.778 L972.004 129.778 L972.004 144.384 L987.513 129.778 L993.531 129.778 L976.378 145.889 L994.758 164.338 L988.601 164.338 L972.004 147.694 L972.004 164.338 L967.328 164.338 L967.328 129.778 Z\" fill=\"#000000\" fill-rule=\"evenodd\" fill-opacity=\"1\" /><path clip-path=\"url(#clip870)\" d=\"M1013.25 142.393 Q1012.54 141.977 1011.68 141.791 Q1010.85 141.583 1009.83 141.583 Q1006.22 141.583 1004.27 143.944 Q1002.35 146.282 1002.35 150.68 L1002.35 164.338 L998.068 164.338 L998.068 138.412 L1002.35 138.412 L1002.35 142.44 Q1003.69 140.078 1005.85 138.944 Q1008 137.787 1011.08 137.787 Q1011.52 137.787 1012.05 137.856 Q1012.58 137.903 1013.23 138.018 L1013.25 142.393 Z\" fill=\"#000000\" fill-rule=\"evenodd\" fill-opacity=\"1\" /><path clip-path=\"url(#clip870)\" d=\"M1028.51 166.745 Q1026.7 171.375 1024.99 172.787 Q1023.28 174.199 1020.41 174.199 L1017 174.199 L1017 170.634 L1019.5 170.634 Q1021.26 170.634 1022.23 169.8 Q1023.21 168.967 1024.39 165.865 L1025.15 163.921 L1014.67 138.412 L1019.18 138.412 L1027.28 158.689 L1035.38 138.412 L1039.9 138.412 L1028.51 166.745 Z\" fill=\"#000000\" fill-rule=\"evenodd\" fill-opacity=\"1\" /><path clip-path=\"url(#clip870)\" d=\"M1045.78 128.319 L1050.04 128.319 L1050.04 164.338 L1045.78 164.338 L1045.78 128.319 Z\" fill=\"#000000\" fill-rule=\"evenodd\" fill-opacity=\"1\" /><path clip-path=\"url(#clip870)\" d=\"M1068.99 141.398 Q1065.57 141.398 1063.58 144.083 Q1061.59 146.745 1061.59 151.398 Q1061.59 156.051 1063.55 158.736 Q1065.54 161.398 1068.99 161.398 Q1072.4 161.398 1074.39 158.713 Q1076.38 156.027 1076.38 151.398 Q1076.38 146.791 1074.39 144.106 Q1072.4 141.398 1068.99 141.398 M1068.99 137.787 Q1074.55 137.787 1077.72 141.398 Q1080.89 145.009 1080.89 151.398 Q1080.89 157.764 1077.72 161.398 Q1074.55 165.009 1068.99 165.009 Q1063.42 165.009 1060.24 161.398 Q1057.1 157.764 1057.1 151.398 Q1057.1 145.009 1060.24 141.398 Q1063.42 137.787 1068.99 137.787 Z\" fill=\"#000000\" fill-rule=\"evenodd\" fill-opacity=\"1\" /><path clip-path=\"url(#clip870)\" d=\"M1084.9 138.412 L1089.41 138.412 L1097.51 160.171 L1105.61 138.412 L1110.13 138.412 L1100.41 164.338 L1094.62 164.338 L1084.9 138.412 Z\" fill=\"#000000\" fill-rule=\"evenodd\" fill-opacity=\"1\" /><path clip-path=\"url(#clip870)\" d=\"M1149.73 139.407 L1149.73 143.389 Q1147.93 142.393 1146.1 141.907 Q1144.29 141.398 1142.44 141.398 Q1138.3 141.398 1136.01 144.037 Q1133.72 146.652 1133.72 151.398 Q1133.72 156.143 1136.01 158.782 Q1138.3 161.398 1142.44 161.398 Q1144.29 161.398 1146.1 160.912 Q1147.93 160.402 1149.73 159.407 L1149.73 163.342 Q1147.95 164.176 1146.03 164.592 Q1144.13 165.009 1141.98 165.009 Q1136.12 165.009 1132.67 161.328 Q1129.22 157.648 1129.22 151.398 Q1129.22 145.055 1132.7 141.421 Q1136.19 137.787 1142.26 137.787 Q1144.22 137.787 1146.1 138.203 Q1147.97 138.597 1149.73 139.407 Z\" fill=\"#000000\" fill-rule=\"evenodd\" fill-opacity=\"1\" /><path clip-path=\"url(#clip870)\" d=\"M1156.7 154.106 L1156.7 138.412 L1160.96 138.412 L1160.96 153.944 Q1160.96 157.625 1162.4 159.476 Q1163.83 161.305 1166.7 161.305 Q1170.15 161.305 1172.14 159.106 Q1174.16 156.907 1174.16 153.111 L1174.16 138.412 L1178.41 138.412 L1178.41 164.338 L1174.16 164.338 L1174.16 160.356 Q1172.6 162.717 1170.54 163.875 Q1168.51 165.009 1165.8 165.009 Q1161.33 165.009 1159.02 162.231 Q1156.7 159.453 1156.7 154.106 M1167.42 137.787 L1167.42 137.787 Z\" fill=\"#000000\" fill-rule=\"evenodd\" fill-opacity=\"1\" /><path clip-path=\"url(#clip870)\" d=\"M1191.4 131.051 L1191.4 138.412 L1200.17 138.412 L1200.17 141.722 L1191.4 141.722 L1191.4 155.796 Q1191.4 158.967 1192.26 159.87 Q1193.14 160.773 1195.8 160.773 L1200.17 160.773 L1200.17 164.338 L1195.8 164.338 Q1190.87 164.338 1188.99 162.509 Q1187.12 160.657 1187.12 155.796 L1187.12 141.722 L1183.99 141.722 L1183.99 138.412 L1187.12 138.412 L1187.12 131.051 L1191.4 131.051 Z\" fill=\"#000000\" fill-rule=\"evenodd\" fill-opacity=\"1\" /><path clip-path=\"url(#clip870)\" d=\"M1215.82 141.398 Q1212.4 141.398 1210.41 144.083 Q1208.41 146.745 1208.41 151.398 Q1208.41 156.051 1210.38 158.736 Q1212.37 161.398 1215.82 161.398 Q1219.22 161.398 1221.22 158.713 Q1223.21 156.027 1223.21 151.398 Q1223.21 146.791 1221.22 144.106 Q1219.22 141.398 1215.82 141.398 M1215.82 137.787 Q1221.38 137.787 1224.55 141.398 Q1227.72 145.009 1227.72 151.398 Q1227.72 157.764 1224.55 161.398 Q1221.38 165.009 1215.82 165.009 Q1210.24 165.009 1207.07 161.398 Q1203.92 157.764 1203.92 151.398 Q1203.92 145.009 1207.07 141.398 Q1210.24 137.787 1215.82 137.787 Z\" fill=\"#000000\" fill-rule=\"evenodd\" fill-opacity=\"1\" /><path clip-path=\"url(#clip870)\" d=\"M1247.9 128.319 L1247.9 131.861 L1243.83 131.861 Q1241.54 131.861 1240.64 132.787 Q1239.76 133.713 1239.76 136.12 L1239.76 138.412 L1246.77 138.412 L1246.77 141.722 L1239.76 141.722 L1239.76 164.338 L1235.47 164.338 L1235.47 141.722 L1231.4 141.722 L1231.4 138.412 L1235.47 138.412 L1235.47 136.606 Q1235.47 132.278 1237.49 130.31 Q1239.5 128.319 1243.88 128.319 L1247.9 128.319 Z\" fill=\"#000000\" fill-rule=\"evenodd\" fill-opacity=\"1\" /><path clip-path=\"url(#clip870)\" d=\"M1264.59 128.319 L1264.59 131.861 L1260.52 131.861 Q1258.23 131.861 1257.33 132.787 Q1256.45 133.713 1256.45 136.12 L1256.45 138.412 L1263.46 138.412 L1263.46 141.722 L1256.45 141.722 L1256.45 164.338 L1252.16 164.338 L1252.16 141.722 L1248.09 141.722 L1248.09 138.412 L1252.16 138.412 L1252.16 136.606 Q1252.16 132.278 1254.18 130.31 Q1256.19 128.319 1260.57 128.319 L1264.59 128.319 Z\" fill=\"#000000\" fill-rule=\"evenodd\" fill-opacity=\"1\" /><path clip-path=\"url(#clip870)\" d=\"M1268.71 142.81 L1298.39 142.81 L1298.39 146.699 L1268.71 146.699 L1268.71 142.81 M1268.71 152.254 L1298.39 152.254 L1298.39 156.189 L1268.71 156.189 L1268.71 152.254 Z\" fill=\"#000000\" fill-rule=\"evenodd\" fill-opacity=\"1\" /><path clip-path=\"url(#clip870)\" d=\"M1309.29 160.402 L1316.93 160.402 L1316.93 134.037 L1308.62 135.703 L1308.62 131.444 L1316.89 129.778 L1321.56 129.778 L1321.56 160.402 L1329.2 160.402 L1329.2 164.338 L1309.29 164.338 L1309.29 160.402 Z\" fill=\"#000000\" fill-rule=\"evenodd\" fill-opacity=\"1\" /><path clip-path=\"url(#clip870)\" d=\"M1338.65 158.458 L1343.53 158.458 L1343.53 164.338 L1338.65 164.338 L1338.65 158.458 Z\" fill=\"#000000\" fill-rule=\"evenodd\" fill-opacity=\"1\" /><path clip-path=\"url(#clip870)\" d=\"M1363.71 132.856 Q1360.1 132.856 1358.27 136.421 Q1356.47 139.963 1356.47 147.092 Q1356.47 154.199 1358.27 157.764 Q1360.1 161.305 1363.71 161.305 Q1367.35 161.305 1369.15 157.764 Q1370.98 154.199 1370.98 147.092 Q1370.98 139.963 1369.15 136.421 Q1367.35 132.856 1363.71 132.856 M1363.71 129.153 Q1369.52 129.153 1372.58 133.759 Q1375.66 138.342 1375.66 147.092 Q1375.66 155.819 1372.58 160.426 Q1369.52 165.009 1363.71 165.009 Q1357.9 165.009 1354.83 160.426 Q1351.77 155.819 1351.77 147.092 Q1351.77 138.342 1354.83 133.759 Q1357.9 129.153 1363.71 129.153 Z\" fill=\"#000000\" fill-rule=\"evenodd\" fill-opacity=\"1\" /><path clip-path=\"url(#clip870)\" d=\"M1405.45 150.31 L1405.45 152.393 L1385.87 152.393 Q1386.14 156.791 1388.51 159.106 Q1390.89 161.398 1395.13 161.398 Q1397.58 161.398 1399.87 160.796 Q1402.19 160.194 1404.45 158.99 L1404.45 163.018 Q1402.16 163.99 1399.76 164.5 Q1397.35 165.009 1394.87 165.009 Q1388.67 165.009 1385.03 161.398 Q1381.42 157.787 1381.42 151.629 Q1381.42 145.264 1384.85 141.537 Q1388.3 137.787 1394.13 137.787 Q1399.36 137.787 1402.39 141.166 Q1405.45 144.523 1405.45 150.31 M1401.19 149.06 Q1401.14 145.565 1399.22 143.481 Q1397.33 141.398 1394.18 141.398 Q1390.61 141.398 1388.46 143.412 Q1386.33 145.426 1386.01 149.083 L1401.19 149.06 Z\" fill=\"#000000\" fill-rule=\"evenodd\" fill-opacity=\"1\" /><path clip-path=\"url(#clip870)\" d=\"M1410.29 149.453 L1422.76 149.453 L1422.76 153.25 L1410.29 153.25 L1410.29 149.453 Z\" fill=\"#000000\" fill-rule=\"evenodd\" fill-opacity=\"1\" /><path clip-path=\"url(#clip870)\" d=\"M1430.2 129.778 L1448.55 129.778 L1448.55 133.713 L1434.48 133.713 L1434.48 142.185 Q1435.5 141.838 1436.51 141.676 Q1437.53 141.49 1438.55 141.49 Q1444.34 141.49 1447.72 144.662 Q1451.1 147.833 1451.1 153.25 Q1451.1 158.828 1447.63 161.93 Q1444.15 165.009 1437.83 165.009 Q1435.66 165.009 1433.39 164.638 Q1431.14 164.268 1428.74 163.527 L1428.74 158.828 Q1430.82 159.963 1433.04 160.518 Q1435.26 161.074 1437.74 161.074 Q1441.75 161.074 1444.08 158.967 Q1446.42 156.861 1446.42 153.25 Q1446.42 149.639 1444.08 147.532 Q1441.75 145.426 1437.74 145.426 Q1435.87 145.426 1433.99 145.842 Q1432.14 146.259 1430.2 147.139 L1430.2 129.778 Z\" fill=\"#000000\" fill-rule=\"evenodd\" fill-opacity=\"1\" /><path clip-path=\"url(#clip870)\" d=\"M1460.8 158.458 L1465.68 158.458 L1465.68 162.439 L1461.89 169.847 L1458.9 169.847 L1460.8 162.439 L1460.8 158.458 Z\" fill=\"#000000\" fill-rule=\"evenodd\" fill-opacity=\"1\" /><path clip-path=\"url(#clip870)\" d=\"M1489.69 128.319 L1493.97 128.319 L1493.97 149.592 L1506.68 138.412 L1512.12 138.412 L1498.37 150.541 L1512.7 164.338 L1507.14 164.338 L1493.97 151.676 L1493.97 164.338 L1489.69 164.338 L1489.69 128.319 Z\" fill=\"#000000\" fill-rule=\"evenodd\" fill-opacity=\"1\" /><path clip-path=\"url(#clip870)\" d=\"M1521.93 160.402 L1538.25 160.402 L1538.25 164.338 L1516.31 164.338 L1516.31 160.402 Q1518.97 157.648 1523.55 153.018 Q1528.16 148.365 1529.34 147.023 Q1531.58 144.5 1532.46 142.764 Q1533.37 141.004 1533.37 139.315 Q1533.37 136.56 1531.42 134.824 Q1529.5 133.088 1526.4 133.088 Q1524.2 133.088 1521.75 133.852 Q1519.32 134.615 1516.54 136.166 L1516.54 131.444 Q1519.36 130.31 1521.82 129.731 Q1524.27 129.153 1526.31 129.153 Q1531.68 129.153 1534.87 131.838 Q1538.07 134.523 1538.07 139.014 Q1538.07 141.143 1537.26 143.065 Q1536.47 144.963 1534.36 147.555 Q1533.78 148.227 1530.68 151.444 Q1527.58 154.639 1521.93 160.402 Z\" fill=\"#000000\" fill-rule=\"evenodd\" fill-opacity=\"1\" /><path clip-path=\"url(#clip870)\" d=\"M1548.02 142.81 L1577.69 142.81 L1577.69 146.699 L1548.02 146.699 L1548.02 142.81 M1548.02 152.254 L1577.69 152.254 L1577.69 156.189 L1548.02 156.189 L1548.02 152.254 Z\" fill=\"#000000\" fill-rule=\"evenodd\" fill-opacity=\"1\" /><path clip-path=\"url(#clip870)\" d=\"M1601.95 145.703 Q1605.31 146.421 1607.19 148.689 Q1609.08 150.958 1609.08 154.291 Q1609.08 159.407 1605.56 162.208 Q1602.05 165.009 1595.56 165.009 Q1593.39 165.009 1591.07 164.569 Q1588.78 164.152 1586.33 163.296 L1586.33 158.782 Q1588.27 159.916 1590.59 160.495 Q1592.9 161.074 1595.43 161.074 Q1599.82 161.074 1602.12 159.338 Q1604.43 157.601 1604.43 154.291 Q1604.43 151.236 1602.28 149.523 Q1600.15 147.787 1596.33 147.787 L1592.3 147.787 L1592.3 143.944 L1596.51 143.944 Q1599.96 143.944 1601.79 142.578 Q1603.62 141.19 1603.62 138.597 Q1603.62 135.935 1601.72 134.523 Q1599.85 133.088 1596.33 133.088 Q1594.41 133.088 1592.21 133.504 Q1590.01 133.921 1587.37 134.801 L1587.37 130.634 Q1590.03 129.893 1592.35 129.523 Q1594.69 129.153 1596.75 129.153 Q1602.07 129.153 1605.17 131.583 Q1608.27 133.99 1608.27 138.111 Q1608.27 140.981 1606.63 142.972 Q1604.99 144.94 1601.95 145.703 Z\" fill=\"#000000\" fill-rule=\"evenodd\" fill-opacity=\"1\" /><path clip-path=\"url(#clip870)\" d=\"M1618.44 158.458 L1623.32 158.458 L1623.32 162.439 L1619.52 169.847 L1616.54 169.847 L1618.44 162.439 L1618.44 158.458 Z\" fill=\"#000000\" fill-rule=\"evenodd\" fill-opacity=\"1\" /><path clip-path=\"url(#clip870)\" d=\"M1651.7 131.051 L1651.7 138.412 L1660.47 138.412 L1660.47 141.722 L1651.7 141.722 L1651.7 155.796 Q1651.7 158.967 1652.56 159.87 Q1653.44 160.773 1656.1 160.773 L1660.47 160.773 L1660.47 164.338 L1656.1 164.338 Q1651.17 164.338 1649.29 162.509 Q1647.42 160.657 1647.42 155.796 L1647.42 141.722 L1644.29 141.722 L1644.29 138.412 L1647.42 138.412 L1647.42 131.051 L1651.7 131.051 Z\" fill=\"#000000\" fill-rule=\"evenodd\" fill-opacity=\"1\" /><path clip-path=\"url(#clip870)\" d=\"M1681.1 142.393 Q1680.38 141.977 1679.52 141.791 Q1678.69 141.583 1677.67 141.583 Q1674.06 141.583 1672.12 143.944 Q1670.19 146.282 1670.19 150.68 L1670.19 164.338 L1665.91 164.338 L1665.91 138.412 L1670.19 138.412 L1670.19 142.44 Q1671.54 140.078 1673.69 138.944 Q1675.84 137.787 1678.92 137.787 Q1679.36 137.787 1679.89 137.856 Q1680.43 137.903 1681.07 138.018 L1681.1 142.393 Z\" fill=\"#000000\" fill-rule=\"evenodd\" fill-opacity=\"1\" /><path clip-path=\"url(#clip870)\" d=\"M1685.12 154.106 L1685.12 138.412 L1689.38 138.412 L1689.38 153.944 Q1689.38 157.625 1690.82 159.476 Q1692.25 161.305 1695.12 161.305 Q1698.57 161.305 1700.56 159.106 Q1702.58 156.907 1702.58 153.111 L1702.58 138.412 L1706.84 138.412 L1706.84 164.338 L1702.58 164.338 L1702.58 160.356 Q1701.03 162.717 1698.97 163.875 Q1696.93 165.009 1694.22 165.009 Q1689.75 165.009 1687.44 162.231 Q1685.12 159.453 1685.12 154.106 M1695.84 137.787 L1695.84 137.787 Z\" fill=\"#000000\" fill-rule=\"evenodd\" fill-opacity=\"1\" /><path clip-path=\"url(#clip870)\" d=\"M1737.16 148.689 L1737.16 164.338 L1732.9 164.338 L1732.9 148.828 Q1732.9 145.148 1731.47 143.319 Q1730.03 141.49 1727.16 141.49 Q1723.71 141.49 1721.72 143.69 Q1719.73 145.889 1719.73 149.685 L1719.73 164.338 L1715.45 164.338 L1715.45 138.412 L1719.73 138.412 L1719.73 142.44 Q1721.26 140.102 1723.32 138.944 Q1725.4 137.787 1728.11 137.787 Q1732.58 137.787 1734.87 140.565 Q1737.16 143.319 1737.16 148.689 Z\" fill=\"#000000\" fill-rule=\"evenodd\" fill-opacity=\"1\" /><path clip-path=\"url(#clip870)\" d=\"M1764.31 139.407 L1764.31 143.389 Q1762.51 142.393 1760.68 141.907 Q1758.87 141.398 1757.02 141.398 Q1752.88 141.398 1750.59 144.037 Q1748.3 146.652 1748.3 151.398 Q1748.3 156.143 1750.59 158.782 Q1752.88 161.398 1757.02 161.398 Q1758.87 161.398 1760.68 160.912 Q1762.51 160.402 1764.31 159.407 L1764.31 163.342 Q1762.53 164.176 1760.61 164.592 Q1758.71 165.009 1756.56 165.009 Q1750.7 165.009 1747.25 161.328 Q1743.8 157.648 1743.8 151.398 Q1743.8 145.055 1747.28 141.421 Q1750.77 137.787 1756.84 137.787 Q1758.8 137.787 1760.68 138.203 Q1762.55 138.597 1764.31 139.407 Z\" fill=\"#000000\" fill-rule=\"evenodd\" fill-opacity=\"1\" /><path clip-path=\"url(#clip870)\" d=\"M1783.5 151.305 Q1778.34 151.305 1776.35 152.486 Q1774.36 153.666 1774.36 156.514 Q1774.36 158.782 1775.84 160.125 Q1777.35 161.444 1779.92 161.444 Q1783.46 161.444 1785.59 158.944 Q1787.74 156.421 1787.74 152.254 L1787.74 151.305 L1783.5 151.305 M1792 149.546 L1792 164.338 L1787.74 164.338 L1787.74 160.402 Q1786.28 162.763 1784.11 163.898 Q1781.93 165.009 1778.78 165.009 Q1774.8 165.009 1772.44 162.787 Q1770.1 160.541 1770.1 156.791 Q1770.1 152.416 1773.02 150.194 Q1775.96 147.972 1781.77 147.972 L1787.74 147.972 L1787.74 147.555 Q1787.74 144.615 1785.8 143.018 Q1783.87 141.398 1780.38 141.398 Q1778.16 141.398 1776.05 141.93 Q1773.94 142.463 1772 143.527 L1772 139.592 Q1774.34 138.69 1776.54 138.25 Q1778.74 137.787 1780.82 137.787 Q1786.44 137.787 1789.22 140.703 Q1792 143.62 1792 149.546 Z\" fill=\"#000000\" fill-rule=\"evenodd\" fill-opacity=\"1\" /><path clip-path=\"url(#clip870)\" d=\"M1804.99 131.051 L1804.99 138.412 L1813.76 138.412 L1813.76 141.722 L1804.99 141.722 L1804.99 155.796 Q1804.99 158.967 1805.84 159.87 Q1806.72 160.773 1809.38 160.773 L1813.76 160.773 L1813.76 164.338 L1809.38 164.338 Q1804.45 164.338 1802.58 162.509 Q1800.7 160.657 1800.7 155.796 L1800.7 141.722 L1797.58 141.722 L1797.58 138.412 L1800.7 138.412 L1800.7 131.051 L1804.99 131.051 Z\" fill=\"#000000\" fill-rule=\"evenodd\" fill-opacity=\"1\" /><path clip-path=\"url(#clip870)\" d=\"M1819.36 138.412 L1823.62 138.412 L1823.62 164.338 L1819.36 164.338 L1819.36 138.412 M1819.36 128.319 L1823.62 128.319 L1823.62 133.713 L1819.36 133.713 L1819.36 128.319 Z\" fill=\"#000000\" fill-rule=\"evenodd\" fill-opacity=\"1\" /><path clip-path=\"url(#clip870)\" d=\"M1842.58 141.398 Q1839.15 141.398 1837.16 144.083 Q1835.17 146.745 1835.17 151.398 Q1835.17 156.051 1837.14 158.736 Q1839.13 161.398 1842.58 161.398 Q1845.98 161.398 1847.97 158.713 Q1849.96 156.027 1849.96 151.398 Q1849.96 146.791 1847.97 144.106 Q1845.98 141.398 1842.58 141.398 M1842.58 137.787 Q1848.13 137.787 1851.3 141.398 Q1854.48 145.009 1854.48 151.398 Q1854.48 157.764 1851.3 161.398 Q1848.13 165.009 1842.58 165.009 Q1837 165.009 1833.83 161.398 Q1830.68 157.764 1830.68 151.398 Q1830.68 145.009 1833.83 141.398 Q1837 137.787 1842.58 137.787 Z\" fill=\"#000000\" fill-rule=\"evenodd\" fill-opacity=\"1\" /><path clip-path=\"url(#clip870)\" d=\"M1883.09 148.689 L1883.09 164.338 L1878.83 164.338 L1878.83 148.828 Q1878.83 145.148 1877.39 143.319 Q1875.96 141.49 1873.09 141.49 Q1869.64 141.49 1867.65 143.69 Q1865.66 145.889 1865.66 149.685 L1865.66 164.338 L1861.37 164.338 L1861.37 138.412 L1865.66 138.412 L1865.66 142.44 Q1867.18 140.102 1869.24 138.944 Q1871.33 137.787 1874.04 137.787 Q1878.5 137.787 1880.79 140.565 Q1883.09 143.319 1883.09 148.689 Z\" fill=\"#000000\" fill-rule=\"evenodd\" fill-opacity=\"1\" /><path clip-path=\"url(#clip870)\" d=\"M1925.31 139.407 L1925.31 143.389 Q1923.5 142.393 1921.67 141.907 Q1919.87 141.398 1918.02 141.398 Q1913.87 141.398 1911.58 144.037 Q1909.29 146.652 1909.29 151.398 Q1909.29 156.143 1911.58 158.782 Q1913.87 161.398 1918.02 161.398 Q1919.87 161.398 1921.67 160.912 Q1923.5 160.402 1925.31 159.407 L1925.31 163.342 Q1923.53 164.176 1921.6 164.592 Q1919.71 165.009 1917.55 165.009 Q1911.7 165.009 1908.25 161.328 Q1904.8 157.648 1904.8 151.398 Q1904.8 145.055 1908.27 141.421 Q1911.77 137.787 1917.83 137.787 Q1919.8 137.787 1921.67 138.203 Q1923.55 138.597 1925.31 139.407 Z\" fill=\"#000000\" fill-rule=\"evenodd\" fill-opacity=\"1\" /><path clip-path=\"url(#clip870)\" d=\"M1932.28 154.106 L1932.28 138.412 L1936.54 138.412 L1936.54 153.944 Q1936.54 157.625 1937.97 159.476 Q1939.41 161.305 1942.28 161.305 Q1945.73 161.305 1947.72 159.106 Q1949.73 156.907 1949.73 153.111 L1949.73 138.412 L1953.99 138.412 L1953.99 164.338 L1949.73 164.338 L1949.73 160.356 Q1948.18 162.717 1946.12 163.875 Q1944.08 165.009 1941.37 165.009 Q1936.91 165.009 1934.59 162.231 Q1932.28 159.453 1932.28 154.106 M1942.99 137.787 L1942.99 137.787 Z\" fill=\"#000000\" fill-rule=\"evenodd\" fill-opacity=\"1\" /><path clip-path=\"url(#clip870)\" d=\"M1966.98 131.051 L1966.98 138.412 L1975.75 138.412 L1975.75 141.722 L1966.98 141.722 L1966.98 155.796 Q1966.98 158.967 1967.83 159.87 Q1968.71 160.773 1971.37 160.773 L1975.75 160.773 L1975.75 164.338 L1971.37 164.338 Q1966.44 164.338 1964.57 162.509 Q1962.69 160.657 1962.69 155.796 L1962.69 141.722 L1959.57 141.722 L1959.57 138.412 L1962.69 138.412 L1962.69 131.051 L1966.98 131.051 Z\" fill=\"#000000\" fill-rule=\"evenodd\" fill-opacity=\"1\" /><path clip-path=\"url(#clip870)\" d=\"M1991.4 141.398 Q1987.97 141.398 1985.98 144.083 Q1983.99 146.745 1983.99 151.398 Q1983.99 156.051 1985.96 158.736 Q1987.95 161.398 1991.4 161.398 Q1994.8 161.398 1996.79 158.713 Q1998.78 156.027 1998.78 151.398 Q1998.78 146.791 1996.79 144.106 Q1994.8 141.398 1991.4 141.398 M1991.4 137.787 Q1996.95 137.787 2000.12 141.398 Q2003.29 145.009 2003.29 151.398 Q2003.29 157.764 2000.12 161.398 Q1996.95 165.009 1991.4 165.009 Q1985.82 165.009 1982.65 161.398 Q1979.5 157.764 1979.5 151.398 Q1979.5 145.009 1982.65 141.398 Q1985.82 137.787 1991.4 137.787 Z\" fill=\"#000000\" fill-rule=\"evenodd\" fill-opacity=\"1\" /><path clip-path=\"url(#clip870)\" d=\"M2023.48 128.319 L2023.48 131.861 L2019.41 131.861 Q2017.11 131.861 2016.21 132.787 Q2015.33 133.713 2015.33 136.12 L2015.33 138.412 L2022.35 138.412 L2022.35 141.722 L2015.33 141.722 L2015.33 164.338 L2011.05 164.338 L2011.05 141.722 L2006.97 141.722 L2006.97 138.412 L2011.05 138.412 L2011.05 136.606 Q2011.05 132.278 2013.06 130.31 Q2015.08 128.319 2019.45 128.319 L2023.48 128.319 Z\" fill=\"#000000\" fill-rule=\"evenodd\" fill-opacity=\"1\" /><path clip-path=\"url(#clip870)\" d=\"M2040.17 128.319 L2040.17 131.861 L2036.1 131.861 Q2033.8 131.861 2032.9 132.787 Q2032.02 133.713 2032.02 136.12 L2032.02 138.412 L2039.03 138.412 L2039.03 141.722 L2032.02 141.722 L2032.02 164.338 L2027.74 164.338 L2027.74 141.722 L2023.66 141.722 L2023.66 138.412 L2027.74 138.412 L2027.74 136.606 Q2027.74 132.278 2029.75 130.31 Q2031.77 128.319 2036.14 128.319 L2040.17 128.319 Z\" fill=\"#000000\" fill-rule=\"evenodd\" fill-opacity=\"1\" /><path clip-path=\"url(#clip870)\" d=\"M2044.29 142.81 L2073.97 142.81 L2073.97 146.699 L2044.29 146.699 L2044.29 142.81 M2044.29 152.254 L2073.97 152.254 L2073.97 156.189 L2044.29 156.189 L2044.29 152.254 Z\" fill=\"#000000\" fill-rule=\"evenodd\" fill-opacity=\"1\" /><path clip-path=\"url(#clip870)\" d=\"M2084.87 160.402 L2092.51 160.402 L2092.51 134.037 L2084.2 135.703 L2084.2 131.444 L2092.46 129.778 L2097.14 129.778 L2097.14 160.402 L2104.78 160.402 L2104.78 164.338 L2084.87 164.338 L2084.87 160.402 Z\" fill=\"#000000\" fill-rule=\"evenodd\" fill-opacity=\"1\" /><path clip-path=\"url(#clip870)\" d=\"M2114.22 158.458 L2119.1 158.458 L2119.1 164.338 L2114.22 164.338 L2114.22 158.458 Z\" fill=\"#000000\" fill-rule=\"evenodd\" fill-opacity=\"1\" /><path clip-path=\"url(#clip870)\" d=\"M2139.29 132.856 Q2135.68 132.856 2133.85 136.421 Q2132.04 139.963 2132.04 147.092 Q2132.04 154.199 2133.85 157.764 Q2135.68 161.305 2139.29 161.305 Q2142.92 161.305 2144.73 157.764 Q2146.56 154.199 2146.56 147.092 Q2146.56 139.963 2144.73 136.421 Q2142.92 132.856 2139.29 132.856 M2139.29 129.153 Q2145.1 129.153 2148.15 133.759 Q2151.23 138.342 2151.23 147.092 Q2151.23 155.819 2148.15 160.426 Q2145.1 165.009 2139.29 165.009 Q2133.48 165.009 2130.4 160.426 Q2127.34 155.819 2127.34 147.092 Q2127.34 138.342 2130.4 133.759 Q2133.48 129.153 2139.29 129.153 Z\" fill=\"#000000\" fill-rule=\"evenodd\" fill-opacity=\"1\" /><path clip-path=\"url(#clip870)\" d=\"M2181.02 150.31 L2181.02 152.393 L2161.44 152.393 Q2161.72 156.791 2164.08 159.106 Q2166.46 161.398 2170.7 161.398 Q2173.15 161.398 2175.45 160.796 Q2177.76 160.194 2180.03 158.99 L2180.03 163.018 Q2177.74 163.99 2175.33 164.5 Q2172.92 165.009 2170.45 165.009 Q2164.24 165.009 2160.61 161.398 Q2157 157.787 2157 151.629 Q2157 145.264 2160.42 141.537 Q2163.87 137.787 2169.71 137.787 Q2174.94 137.787 2177.97 141.166 Q2181.02 144.523 2181.02 150.31 M2176.77 149.06 Q2176.72 145.565 2174.8 143.481 Q2172.9 141.398 2169.75 141.398 Q2166.19 141.398 2164.03 143.412 Q2161.9 145.426 2161.58 149.083 L2176.77 149.06 Z\" fill=\"#000000\" fill-rule=\"evenodd\" fill-opacity=\"1\" /><path clip-path=\"url(#clip870)\" d=\"M2185.86 149.453 L2198.34 149.453 L2198.34 153.25 L2185.86 153.25 L2185.86 149.453 Z\" fill=\"#000000\" fill-rule=\"evenodd\" fill-opacity=\"1\" /><path clip-path=\"url(#clip870)\" d=\"M2219.89 145.703 Q2223.25 146.421 2225.12 148.689 Q2227.02 150.958 2227.02 154.291 Q2227.02 159.407 2223.5 162.208 Q2219.98 165.009 2213.5 165.009 Q2211.33 165.009 2209.01 164.569 Q2206.72 164.152 2204.27 163.296 L2204.27 158.782 Q2206.21 159.916 2208.52 160.495 Q2210.84 161.074 2213.36 161.074 Q2217.76 161.074 2220.05 159.338 Q2222.37 157.601 2222.37 154.291 Q2222.37 151.236 2220.21 149.523 Q2218.08 147.787 2214.27 147.787 L2210.24 147.787 L2210.24 143.944 L2214.45 143.944 Q2217.9 143.944 2219.73 142.578 Q2221.56 141.19 2221.56 138.597 Q2221.56 135.935 2219.66 134.523 Q2217.78 133.088 2214.27 133.088 Q2212.34 133.088 2210.15 133.504 Q2207.95 133.921 2205.31 134.801 L2205.31 130.634 Q2207.97 129.893 2210.28 129.523 Q2212.62 129.153 2214.68 129.153 Q2220.01 129.153 2223.11 131.583 Q2226.21 133.99 2226.21 138.111 Q2226.21 140.981 2224.57 142.972 Q2222.92 144.94 2219.89 145.703 Z\" fill=\"#000000\" fill-rule=\"evenodd\" fill-opacity=\"1\" /><path clip-path=\"url(#clip870)\" d=\"M2245.89 132.856 Q2242.27 132.856 2240.45 136.421 Q2238.64 139.963 2238.64 147.092 Q2238.64 154.199 2240.45 157.764 Q2242.27 161.305 2245.89 161.305 Q2249.52 161.305 2251.33 157.764 Q2253.15 154.199 2253.15 147.092 Q2253.15 139.963 2251.33 136.421 Q2249.52 132.856 2245.89 132.856 M2245.89 129.153 Q2251.7 129.153 2254.75 133.759 Q2257.83 138.342 2257.83 147.092 Q2257.83 155.819 2254.75 160.426 Q2251.7 165.009 2245.89 165.009 Q2240.08 165.009 2237 160.426 Q2233.94 155.819 2233.94 147.092 Q2233.94 138.342 2237 133.759 Q2240.08 129.153 2245.89 129.153 Z\" fill=\"#000000\" fill-rule=\"evenodd\" fill-opacity=\"1\" /></svg>\n"
      ]
     },
     "metadata": {},
     "output_type": "display_data"
    },
    {
     "data": {
      "image/svg+xml": [
       "<?xml version=\"1.0\" encoding=\"utf-8\"?>\n",
       "<svg xmlns=\"http://www.w3.org/2000/svg\" xmlns:xlink=\"http://www.w3.org/1999/xlink\" width=\"600\" height=\"400\" viewBox=\"0 0 2400 1600\">\n",
       "<defs>\n",
       "  <clipPath id=\"clip910\">\n",
       "    <rect x=\"0\" y=\"0\" width=\"2400\" height=\"1600\"/>\n",
       "  </clipPath>\n",
       "</defs>\n",
       "<path clip-path=\"url(#clip910)\" d=\"\n",
       "M0 1600 L2400 1600 L2400 0 L0 0  Z\n",
       "  \" fill=\"#ffffff\" fill-rule=\"evenodd\" fill-opacity=\"1\"/>\n",
       "<defs>\n",
       "  <clipPath id=\"clip911\">\n",
       "    <rect x=\"480\" y=\"0\" width=\"1681\" height=\"1600\"/>\n",
       "  </clipPath>\n",
       "</defs>\n",
       "<path clip-path=\"url(#clip910)\" d=\"\n",
       "M224.098 1486.45 L2352.76 1486.45 L2352.76 47.2441 L224.098 47.2441  Z\n",
       "  \" fill=\"#ffffff\" fill-rule=\"evenodd\" fill-opacity=\"1\"/>\n",
       "<defs>\n",
       "  <clipPath id=\"clip912\">\n",
       "    <rect x=\"224\" y=\"47\" width=\"2130\" height=\"1440\"/>\n",
       "  </clipPath>\n",
       "</defs>\n",
       "<polyline clip-path=\"url(#clip912)\" style=\"stroke:#000000; stroke-linecap:round; stroke-linejoin:round; stroke-width:2; stroke-opacity:0.1; fill:none\" points=\"\n",
       "  284.343,1486.45 284.343,47.2441 \n",
       "  \"/>\n",
       "<polyline clip-path=\"url(#clip912)\" style=\"stroke:#000000; stroke-linecap:round; stroke-linejoin:round; stroke-width:2; stroke-opacity:0.1; fill:none\" points=\"\n",
       "  786.385,1486.45 786.385,47.2441 \n",
       "  \"/>\n",
       "<polyline clip-path=\"url(#clip912)\" style=\"stroke:#000000; stroke-linecap:round; stroke-linejoin:round; stroke-width:2; stroke-opacity:0.1; fill:none\" points=\"\n",
       "  1288.43,1486.45 1288.43,47.2441 \n",
       "  \"/>\n",
       "<polyline clip-path=\"url(#clip912)\" style=\"stroke:#000000; stroke-linecap:round; stroke-linejoin:round; stroke-width:2; stroke-opacity:0.1; fill:none\" points=\"\n",
       "  1790.47,1486.45 1790.47,47.2441 \n",
       "  \"/>\n",
       "<polyline clip-path=\"url(#clip912)\" style=\"stroke:#000000; stroke-linecap:round; stroke-linejoin:round; stroke-width:2; stroke-opacity:0.1; fill:none\" points=\"\n",
       "  2292.51,1486.45 2292.51,47.2441 \n",
       "  \"/>\n",
       "<polyline clip-path=\"url(#clip910)\" style=\"stroke:#000000; stroke-linecap:round; stroke-linejoin:round; stroke-width:4; stroke-opacity:1; fill:none\" points=\"\n",
       "  224.098,1486.45 2352.76,1486.45 \n",
       "  \"/>\n",
       "<polyline clip-path=\"url(#clip910)\" style=\"stroke:#000000; stroke-linecap:round; stroke-linejoin:round; stroke-width:4; stroke-opacity:1; fill:none\" points=\"\n",
       "  284.343,1486.45 284.343,1467.55 \n",
       "  \"/>\n",
       "<polyline clip-path=\"url(#clip910)\" style=\"stroke:#000000; stroke-linecap:round; stroke-linejoin:round; stroke-width:4; stroke-opacity:1; fill:none\" points=\"\n",
       "  786.385,1486.45 786.385,1467.55 \n",
       "  \"/>\n",
       "<polyline clip-path=\"url(#clip910)\" style=\"stroke:#000000; stroke-linecap:round; stroke-linejoin:round; stroke-width:4; stroke-opacity:1; fill:none\" points=\"\n",
       "  1288.43,1486.45 1288.43,1467.55 \n",
       "  \"/>\n",
       "<polyline clip-path=\"url(#clip910)\" style=\"stroke:#000000; stroke-linecap:round; stroke-linejoin:round; stroke-width:4; stroke-opacity:1; fill:none\" points=\"\n",
       "  1790.47,1486.45 1790.47,1467.55 \n",
       "  \"/>\n",
       "<polyline clip-path=\"url(#clip910)\" style=\"stroke:#000000; stroke-linecap:round; stroke-linejoin:round; stroke-width:4; stroke-opacity:1; fill:none\" points=\"\n",
       "  2292.51,1486.45 2292.51,1467.55 \n",
       "  \"/>\n",
       "<path clip-path=\"url(#clip910)\" d=\"M231.565 1517.37 Q227.954 1517.37 226.126 1520.93 Q224.32 1524.47 224.32 1531.6 Q224.32 1538.71 226.126 1542.27 Q227.954 1545.82 231.565 1545.82 Q235.2 1545.82 237.005 1542.27 Q238.834 1538.71 238.834 1531.6 Q238.834 1524.47 237.005 1520.93 Q235.2 1517.37 231.565 1517.37 M231.565 1513.66 Q237.376 1513.66 240.431 1518.27 Q243.51 1522.85 243.51 1531.6 Q243.51 1540.33 240.431 1544.94 Q237.376 1549.52 231.565 1549.52 Q225.755 1549.52 222.677 1544.94 Q219.621 1540.33 219.621 1531.6 Q219.621 1522.85 222.677 1518.27 Q225.755 1513.66 231.565 1513.66 Z\" fill=\"#000000\" fill-rule=\"evenodd\" fill-opacity=\"1\" /><path clip-path=\"url(#clip910)\" d=\"M251.727 1542.97 L256.612 1542.97 L256.612 1548.85 L251.727 1548.85 L251.727 1542.97 Z\" fill=\"#000000\" fill-rule=\"evenodd\" fill-opacity=\"1\" /><path clip-path=\"url(#clip910)\" d=\"M276.797 1517.37 Q273.186 1517.37 271.357 1520.93 Q269.551 1524.47 269.551 1531.6 Q269.551 1538.71 271.357 1542.27 Q273.186 1545.82 276.797 1545.82 Q280.431 1545.82 282.236 1542.27 Q284.065 1538.71 284.065 1531.6 Q284.065 1524.47 282.236 1520.93 Q280.431 1517.37 276.797 1517.37 M276.797 1513.66 Q282.607 1513.66 285.662 1518.27 Q288.741 1522.85 288.741 1531.6 Q288.741 1540.33 285.662 1544.94 Q282.607 1549.52 276.797 1549.52 Q270.987 1549.52 267.908 1544.94 Q264.852 1540.33 264.852 1531.6 Q264.852 1522.85 267.908 1518.27 Q270.987 1513.66 276.797 1513.66 Z\" fill=\"#000000\" fill-rule=\"evenodd\" fill-opacity=\"1\" /><path clip-path=\"url(#clip910)\" d=\"M306.959 1517.37 Q303.347 1517.37 301.519 1520.93 Q299.713 1524.47 299.713 1531.6 Q299.713 1538.71 301.519 1542.27 Q303.347 1545.82 306.959 1545.82 Q310.593 1545.82 312.398 1542.27 Q314.227 1538.71 314.227 1531.6 Q314.227 1524.47 312.398 1520.93 Q310.593 1517.37 306.959 1517.37 M306.959 1513.66 Q312.769 1513.66 315.824 1518.27 Q318.903 1522.85 318.903 1531.6 Q318.903 1540.33 315.824 1544.94 Q312.769 1549.52 306.959 1549.52 Q301.148 1549.52 298.07 1544.94 Q295.014 1540.33 295.014 1531.6 Q295.014 1522.85 298.07 1518.27 Q301.148 1513.66 306.959 1513.66 Z\" fill=\"#000000\" fill-rule=\"evenodd\" fill-opacity=\"1\" /><path clip-path=\"url(#clip910)\" d=\"M337.12 1517.37 Q333.509 1517.37 331.681 1520.93 Q329.875 1524.47 329.875 1531.6 Q329.875 1538.71 331.681 1542.27 Q333.509 1545.82 337.12 1545.82 Q340.755 1545.82 342.56 1542.27 Q344.389 1538.71 344.389 1531.6 Q344.389 1524.47 342.56 1520.93 Q340.755 1517.37 337.12 1517.37 M337.12 1513.66 Q342.931 1513.66 345.986 1518.27 Q349.065 1522.85 349.065 1531.6 Q349.065 1540.33 345.986 1544.94 Q342.931 1549.52 337.12 1549.52 Q331.31 1549.52 328.232 1544.94 Q325.176 1540.33 325.176 1531.6 Q325.176 1522.85 328.232 1518.27 Q331.31 1513.66 337.12 1513.66 Z\" fill=\"#000000\" fill-rule=\"evenodd\" fill-opacity=\"1\" /><path clip-path=\"url(#clip910)\" d=\"M734.105 1517.37 Q730.494 1517.37 728.665 1520.93 Q726.86 1524.47 726.86 1531.6 Q726.86 1538.71 728.665 1542.27 Q730.494 1545.82 734.105 1545.82 Q737.739 1545.82 739.545 1542.27 Q741.374 1538.71 741.374 1531.6 Q741.374 1524.47 739.545 1520.93 Q737.739 1517.37 734.105 1517.37 M734.105 1513.66 Q739.915 1513.66 742.971 1518.27 Q746.049 1522.85 746.049 1531.6 Q746.049 1540.33 742.971 1544.94 Q739.915 1549.52 734.105 1549.52 Q728.295 1549.52 725.216 1544.94 Q722.161 1540.33 722.161 1531.6 Q722.161 1522.85 725.216 1518.27 Q728.295 1513.66 734.105 1513.66 Z\" fill=\"#000000\" fill-rule=\"evenodd\" fill-opacity=\"1\" /><path clip-path=\"url(#clip910)\" d=\"M754.267 1542.97 L759.151 1542.97 L759.151 1548.85 L754.267 1548.85 L754.267 1542.97 Z\" fill=\"#000000\" fill-rule=\"evenodd\" fill-opacity=\"1\" /><path clip-path=\"url(#clip910)\" d=\"M779.336 1517.37 Q775.725 1517.37 773.897 1520.93 Q772.091 1524.47 772.091 1531.6 Q772.091 1538.71 773.897 1542.27 Q775.725 1545.82 779.336 1545.82 Q782.971 1545.82 784.776 1542.27 Q786.605 1538.71 786.605 1531.6 Q786.605 1524.47 784.776 1520.93 Q782.971 1517.37 779.336 1517.37 M779.336 1513.66 Q785.146 1513.66 788.202 1518.27 Q791.281 1522.85 791.281 1531.6 Q791.281 1540.33 788.202 1544.94 Q785.146 1549.52 779.336 1549.52 Q773.526 1549.52 770.447 1544.94 Q767.392 1540.33 767.392 1531.6 Q767.392 1522.85 770.447 1518.27 Q773.526 1513.66 779.336 1513.66 Z\" fill=\"#000000\" fill-rule=\"evenodd\" fill-opacity=\"1\" /><path clip-path=\"url(#clip910)\" d=\"M803.526 1544.91 L819.845 1544.91 L819.845 1548.85 L797.901 1548.85 L797.901 1544.91 Q800.563 1542.16 805.146 1537.53 Q809.753 1532.88 810.933 1531.53 Q813.179 1529.01 814.058 1527.27 Q814.961 1525.51 814.961 1523.82 Q814.961 1521.07 813.017 1519.33 Q811.095 1517.6 807.994 1517.6 Q805.795 1517.6 803.341 1518.36 Q800.91 1519.13 798.133 1520.68 L798.133 1515.95 Q800.957 1514.82 803.41 1514.24 Q805.864 1513.66 807.901 1513.66 Q813.271 1513.66 816.466 1516.35 Q819.66 1519.03 819.66 1523.52 Q819.66 1525.65 818.85 1527.57 Q818.063 1529.47 815.957 1532.07 Q815.378 1532.74 812.276 1535.95 Q809.174 1539.15 803.526 1544.91 Z\" fill=\"#000000\" fill-rule=\"evenodd\" fill-opacity=\"1\" /><path clip-path=\"url(#clip910)\" d=\"M829.706 1514.29 L848.063 1514.29 L848.063 1518.22 L833.989 1518.22 L833.989 1526.7 Q835.007 1526.35 836.026 1526.19 Q837.044 1526 838.063 1526 Q843.85 1526 847.229 1529.17 Q850.609 1532.34 850.609 1537.76 Q850.609 1543.34 847.137 1546.44 Q843.665 1549.52 837.345 1549.52 Q835.169 1549.52 832.901 1549.15 Q830.655 1548.78 828.248 1548.04 L828.248 1543.34 Q830.331 1544.47 832.554 1545.03 Q834.776 1545.58 837.253 1545.58 Q841.257 1545.58 843.595 1543.48 Q845.933 1541.37 845.933 1537.76 Q845.933 1534.15 843.595 1532.04 Q841.257 1529.94 837.253 1529.94 Q835.378 1529.94 833.503 1530.35 Q831.651 1530.77 829.706 1531.65 L829.706 1514.29 Z\" fill=\"#000000\" fill-rule=\"evenodd\" fill-opacity=\"1\" /><path clip-path=\"url(#clip910)\" d=\"M1235.65 1517.37 Q1232.04 1517.37 1230.21 1520.93 Q1228.4 1524.47 1228.4 1531.6 Q1228.4 1538.71 1230.21 1542.27 Q1232.04 1545.82 1235.65 1545.82 Q1239.28 1545.82 1241.09 1542.27 Q1242.92 1538.71 1242.92 1531.6 Q1242.92 1524.47 1241.09 1520.93 Q1239.28 1517.37 1235.65 1517.37 M1235.65 1513.66 Q1241.46 1513.66 1244.52 1518.27 Q1247.59 1522.85 1247.59 1531.6 Q1247.59 1540.33 1244.52 1544.94 Q1241.46 1549.52 1235.65 1549.52 Q1229.84 1549.52 1226.76 1544.94 Q1223.71 1540.33 1223.71 1531.6 Q1223.71 1522.85 1226.76 1518.27 Q1229.84 1513.66 1235.65 1513.66 Z\" fill=\"#000000\" fill-rule=\"evenodd\" fill-opacity=\"1\" /><path clip-path=\"url(#clip910)\" d=\"M1255.81 1542.97 L1260.7 1542.97 L1260.7 1548.85 L1255.81 1548.85 L1255.81 1542.97 Z\" fill=\"#000000\" fill-rule=\"evenodd\" fill-opacity=\"1\" /><path clip-path=\"url(#clip910)\" d=\"M1280.88 1517.37 Q1277.27 1517.37 1275.44 1520.93 Q1273.64 1524.47 1273.64 1531.6 Q1273.64 1538.71 1275.44 1542.27 Q1277.27 1545.82 1280.88 1545.82 Q1284.51 1545.82 1286.32 1542.27 Q1288.15 1538.71 1288.15 1531.6 Q1288.15 1524.47 1286.32 1520.93 Q1284.51 1517.37 1280.88 1517.37 M1280.88 1513.66 Q1286.69 1513.66 1289.75 1518.27 Q1292.83 1522.85 1292.83 1531.6 Q1292.83 1540.33 1289.75 1544.94 Q1286.69 1549.52 1280.88 1549.52 Q1275.07 1549.52 1271.99 1544.94 Q1268.94 1540.33 1268.94 1531.6 Q1268.94 1522.85 1271.99 1518.27 Q1275.07 1513.66 1280.88 1513.66 Z\" fill=\"#000000\" fill-rule=\"evenodd\" fill-opacity=\"1\" /><path clip-path=\"url(#clip910)\" d=\"M1301.09 1514.29 L1319.45 1514.29 L1319.45 1518.22 L1305.37 1518.22 L1305.37 1526.7 Q1306.39 1526.35 1307.41 1526.19 Q1308.43 1526 1309.45 1526 Q1315.23 1526 1318.61 1529.17 Q1321.99 1532.34 1321.99 1537.76 Q1321.99 1543.34 1318.52 1546.44 Q1315.05 1549.52 1308.73 1549.52 Q1306.55 1549.52 1304.28 1549.15 Q1302.04 1548.78 1299.63 1548.04 L1299.63 1543.34 Q1301.71 1544.47 1303.94 1545.03 Q1306.16 1545.58 1308.64 1545.58 Q1312.64 1545.58 1314.98 1543.48 Q1317.32 1541.37 1317.32 1537.76 Q1317.32 1534.15 1314.98 1532.04 Q1312.64 1529.94 1308.64 1529.94 Q1306.76 1529.94 1304.89 1530.35 Q1303.03 1530.77 1301.09 1531.65 L1301.09 1514.29 Z\" fill=\"#000000\" fill-rule=\"evenodd\" fill-opacity=\"1\" /><path clip-path=\"url(#clip910)\" d=\"M1341.2 1517.37 Q1337.59 1517.37 1335.76 1520.93 Q1333.96 1524.47 1333.96 1531.6 Q1333.96 1538.71 1335.76 1542.27 Q1337.59 1545.82 1341.2 1545.82 Q1344.84 1545.82 1346.64 1542.27 Q1348.47 1538.71 1348.47 1531.6 Q1348.47 1524.47 1346.64 1520.93 Q1344.84 1517.37 1341.2 1517.37 M1341.2 1513.66 Q1347.01 1513.66 1350.07 1518.27 Q1353.15 1522.85 1353.15 1531.6 Q1353.15 1540.33 1350.07 1544.94 Q1347.01 1549.52 1341.2 1549.52 Q1335.39 1549.52 1332.32 1544.94 Q1329.26 1540.33 1329.26 1531.6 Q1329.26 1522.85 1332.32 1518.27 Q1335.39 1513.66 1341.2 1513.66 Z\" fill=\"#000000\" fill-rule=\"evenodd\" fill-opacity=\"1\" /><path clip-path=\"url(#clip910)\" d=\"M1738.19 1517.37 Q1734.58 1517.37 1732.75 1520.93 Q1730.94 1524.47 1730.94 1531.6 Q1730.94 1538.71 1732.75 1542.27 Q1734.58 1545.82 1738.19 1545.82 Q1741.82 1545.82 1743.63 1542.27 Q1745.46 1538.71 1745.46 1531.6 Q1745.46 1524.47 1743.63 1520.93 Q1741.82 1517.37 1738.19 1517.37 M1738.19 1513.66 Q1744 1513.66 1747.05 1518.27 Q1750.13 1522.85 1750.13 1531.6 Q1750.13 1540.33 1747.05 1544.94 Q1744 1549.52 1738.19 1549.52 Q1732.38 1549.52 1729.3 1544.94 Q1726.24 1540.33 1726.24 1531.6 Q1726.24 1522.85 1729.3 1518.27 Q1732.38 1513.66 1738.19 1513.66 Z\" fill=\"#000000\" fill-rule=\"evenodd\" fill-opacity=\"1\" /><path clip-path=\"url(#clip910)\" d=\"M1758.35 1542.97 L1763.24 1542.97 L1763.24 1548.85 L1758.35 1548.85 L1758.35 1542.97 Z\" fill=\"#000000\" fill-rule=\"evenodd\" fill-opacity=\"1\" /><path clip-path=\"url(#clip910)\" d=\"M1783.42 1517.37 Q1779.81 1517.37 1777.98 1520.93 Q1776.17 1524.47 1776.17 1531.6 Q1776.17 1538.71 1777.98 1542.27 Q1779.81 1545.82 1783.42 1545.82 Q1787.05 1545.82 1788.86 1542.27 Q1790.69 1538.71 1790.69 1531.6 Q1790.69 1524.47 1788.86 1520.93 Q1787.05 1517.37 1783.42 1517.37 M1783.42 1513.66 Q1789.23 1513.66 1792.29 1518.27 Q1795.36 1522.85 1795.36 1531.6 Q1795.36 1540.33 1792.29 1544.94 Q1789.23 1549.52 1783.42 1549.52 Q1777.61 1549.52 1774.53 1544.94 Q1771.48 1540.33 1771.48 1531.6 Q1771.48 1522.85 1774.53 1518.27 Q1777.61 1513.66 1783.42 1513.66 Z\" fill=\"#000000\" fill-rule=\"evenodd\" fill-opacity=\"1\" /><path clip-path=\"url(#clip910)\" d=\"M1802.4 1514.29 L1824.62 1514.29 L1824.62 1516.28 L1812.08 1548.85 L1807.19 1548.85 L1819 1518.22 L1802.4 1518.22 L1802.4 1514.29 Z\" fill=\"#000000\" fill-rule=\"evenodd\" fill-opacity=\"1\" /><path clip-path=\"url(#clip910)\" d=\"M1833.79 1514.29 L1852.15 1514.29 L1852.15 1518.22 L1838.07 1518.22 L1838.07 1526.7 Q1839.09 1526.35 1840.11 1526.19 Q1841.13 1526 1842.15 1526 Q1847.93 1526 1851.31 1529.17 Q1854.69 1532.34 1854.69 1537.76 Q1854.69 1543.34 1851.22 1546.44 Q1847.75 1549.52 1841.43 1549.52 Q1839.25 1549.52 1836.98 1549.15 Q1834.74 1548.78 1832.33 1548.04 L1832.33 1543.34 Q1834.42 1544.47 1836.64 1545.03 Q1838.86 1545.58 1841.34 1545.58 Q1845.34 1545.58 1847.68 1543.48 Q1850.02 1541.37 1850.02 1537.76 Q1850.02 1534.15 1847.68 1532.04 Q1845.34 1529.94 1841.34 1529.94 Q1839.46 1529.94 1837.59 1530.35 Q1835.73 1530.77 1833.79 1531.65 L1833.79 1514.29 Z\" fill=\"#000000\" fill-rule=\"evenodd\" fill-opacity=\"1\" /><path clip-path=\"url(#clip910)\" d=\"M2239.73 1517.37 Q2236.12 1517.37 2234.29 1520.93 Q2232.49 1524.47 2232.49 1531.6 Q2232.49 1538.71 2234.29 1542.27 Q2236.12 1545.82 2239.73 1545.82 Q2243.37 1545.82 2245.17 1542.27 Q2247 1538.71 2247 1531.6 Q2247 1524.47 2245.17 1520.93 Q2243.37 1517.37 2239.73 1517.37 M2239.73 1513.66 Q2245.54 1513.66 2248.6 1518.27 Q2251.68 1522.85 2251.68 1531.6 Q2251.68 1540.33 2248.6 1544.94 Q2245.54 1549.52 2239.73 1549.52 Q2233.92 1549.52 2230.84 1544.94 Q2227.79 1540.33 2227.79 1531.6 Q2227.79 1522.85 2230.84 1518.27 Q2233.92 1513.66 2239.73 1513.66 Z\" fill=\"#000000\" fill-rule=\"evenodd\" fill-opacity=\"1\" /><path clip-path=\"url(#clip910)\" d=\"M2259.9 1542.97 L2264.78 1542.97 L2264.78 1548.85 L2259.9 1548.85 L2259.9 1542.97 Z\" fill=\"#000000\" fill-rule=\"evenodd\" fill-opacity=\"1\" /><path clip-path=\"url(#clip910)\" d=\"M2275.77 1544.91 L2283.41 1544.91 L2283.41 1518.55 L2275.1 1520.21 L2275.1 1515.95 L2283.37 1514.29 L2288.04 1514.29 L2288.04 1544.91 L2295.68 1544.91 L2295.68 1548.85 L2275.77 1548.85 L2275.77 1544.91 Z\" fill=\"#000000\" fill-rule=\"evenodd\" fill-opacity=\"1\" /><path clip-path=\"url(#clip910)\" d=\"M2315.13 1517.37 Q2311.52 1517.37 2309.69 1520.93 Q2307.88 1524.47 2307.88 1531.6 Q2307.88 1538.71 2309.69 1542.27 Q2311.52 1545.82 2315.13 1545.82 Q2318.76 1545.82 2320.57 1542.27 Q2322.39 1538.71 2322.39 1531.6 Q2322.39 1524.47 2320.57 1520.93 Q2318.76 1517.37 2315.13 1517.37 M2315.13 1513.66 Q2320.94 1513.66 2323.99 1518.27 Q2327.07 1522.85 2327.07 1531.6 Q2327.07 1540.33 2323.99 1544.94 Q2320.94 1549.52 2315.13 1549.52 Q2309.32 1549.52 2306.24 1544.94 Q2303.18 1540.33 2303.18 1531.6 Q2303.18 1522.85 2306.24 1518.27 Q2309.32 1513.66 2315.13 1513.66 Z\" fill=\"#000000\" fill-rule=\"evenodd\" fill-opacity=\"1\" /><path clip-path=\"url(#clip910)\" d=\"M2345.29 1517.37 Q2341.68 1517.37 2339.85 1520.93 Q2338.04 1524.47 2338.04 1531.6 Q2338.04 1538.71 2339.85 1542.27 Q2341.68 1545.82 2345.29 1545.82 Q2348.92 1545.82 2350.73 1542.27 Q2352.56 1538.71 2352.56 1531.6 Q2352.56 1524.47 2350.73 1520.93 Q2348.92 1517.37 2345.29 1517.37 M2345.29 1513.66 Q2351.1 1513.66 2354.15 1518.27 Q2357.23 1522.85 2357.23 1531.6 Q2357.23 1540.33 2354.15 1544.94 Q2351.1 1549.52 2345.29 1549.52 Q2339.48 1549.52 2336.4 1544.94 Q2333.34 1540.33 2333.34 1531.6 Q2333.34 1522.85 2336.4 1518.27 Q2339.48 1513.66 2345.29 1513.66 Z\" fill=\"#000000\" fill-rule=\"evenodd\" fill-opacity=\"1\" /><polyline clip-path=\"url(#clip912)\" style=\"stroke:#000000; stroke-linecap:round; stroke-linejoin:round; stroke-width:2; stroke-opacity:0.1; fill:none\" points=\"\n",
       "  224.098,1445.16 2352.76,1445.16 \n",
       "  \"/>\n",
       "<polyline clip-path=\"url(#clip912)\" style=\"stroke:#000000; stroke-linecap:round; stroke-linejoin:round; stroke-width:2; stroke-opacity:0.1; fill:none\" points=\"\n",
       "  224.098,1121.11 2352.76,1121.11 \n",
       "  \"/>\n",
       "<polyline clip-path=\"url(#clip912)\" style=\"stroke:#000000; stroke-linecap:round; stroke-linejoin:round; stroke-width:2; stroke-opacity:0.1; fill:none\" points=\"\n",
       "  224.098,797.052 2352.76,797.052 \n",
       "  \"/>\n",
       "<polyline clip-path=\"url(#clip912)\" style=\"stroke:#000000; stroke-linecap:round; stroke-linejoin:round; stroke-width:2; stroke-opacity:0.1; fill:none\" points=\"\n",
       "  224.098,472.998 2352.76,472.998 \n",
       "  \"/>\n",
       "<polyline clip-path=\"url(#clip912)\" style=\"stroke:#000000; stroke-linecap:round; stroke-linejoin:round; stroke-width:2; stroke-opacity:0.1; fill:none\" points=\"\n",
       "  224.098,148.944 2352.76,148.944 \n",
       "  \"/>\n",
       "<polyline clip-path=\"url(#clip910)\" style=\"stroke:#000000; stroke-linecap:round; stroke-linejoin:round; stroke-width:4; stroke-opacity:1; fill:none\" points=\"\n",
       "  224.098,1486.45 224.098,47.2441 \n",
       "  \"/>\n",
       "<polyline clip-path=\"url(#clip910)\" style=\"stroke:#000000; stroke-linecap:round; stroke-linejoin:round; stroke-width:4; stroke-opacity:1; fill:none\" points=\"\n",
       "  224.098,1445.16 242.996,1445.16 \n",
       "  \"/>\n",
       "<polyline clip-path=\"url(#clip910)\" style=\"stroke:#000000; stroke-linecap:round; stroke-linejoin:round; stroke-width:4; stroke-opacity:1; fill:none\" points=\"\n",
       "  224.098,1121.11 242.996,1121.11 \n",
       "  \"/>\n",
       "<polyline clip-path=\"url(#clip910)\" style=\"stroke:#000000; stroke-linecap:round; stroke-linejoin:round; stroke-width:4; stroke-opacity:1; fill:none\" points=\"\n",
       "  224.098,797.052 242.996,797.052 \n",
       "  \"/>\n",
       "<polyline clip-path=\"url(#clip910)\" style=\"stroke:#000000; stroke-linecap:round; stroke-linejoin:round; stroke-width:4; stroke-opacity:1; fill:none\" points=\"\n",
       "  224.098,472.998 242.996,472.998 \n",
       "  \"/>\n",
       "<polyline clip-path=\"url(#clip910)\" style=\"stroke:#000000; stroke-linecap:round; stroke-linejoin:round; stroke-width:4; stroke-opacity:1; fill:none\" points=\"\n",
       "  224.098,148.944 242.996,148.944 \n",
       "  \"/>\n",
       "<path clip-path=\"url(#clip910)\" d=\"M51.9875 1445.61 L81.6633 1445.61 L81.6633 1449.55 L51.9875 1449.55 L51.9875 1445.61 Z\" fill=\"#000000\" fill-rule=\"evenodd\" fill-opacity=\"1\" /><path clip-path=\"url(#clip910)\" d=\"M92.566 1458.51 L100.205 1458.51 L100.205 1432.14 L91.8947 1433.81 L91.8947 1429.55 L100.159 1427.88 L104.834 1427.88 L104.834 1458.51 L112.473 1458.51 L112.473 1462.44 L92.566 1462.44 L92.566 1458.51 Z\" fill=\"#000000\" fill-rule=\"evenodd\" fill-opacity=\"1\" /><path clip-path=\"url(#clip910)\" d=\"M125.945 1458.51 L142.265 1458.51 L142.265 1462.44 L120.32 1462.44 L120.32 1458.51 Q122.982 1455.75 127.566 1451.12 Q132.172 1446.47 133.353 1445.13 Q135.598 1442.6 136.478 1440.87 Q137.381 1439.11 137.381 1437.42 Q137.381 1434.66 135.436 1432.93 Q133.515 1431.19 130.413 1431.19 Q128.214 1431.19 125.76 1431.95 Q123.33 1432.72 120.552 1434.27 L120.552 1429.55 Q123.376 1428.41 125.83 1427.83 Q128.283 1427.26 130.32 1427.26 Q135.691 1427.26 138.885 1429.94 Q142.08 1432.63 142.08 1437.12 Q142.08 1439.25 141.269 1441.17 Q140.482 1443.07 138.376 1445.66 Q137.797 1446.33 134.695 1449.55 Q131.594 1452.74 125.945 1458.51 Z\" fill=\"#000000\" fill-rule=\"evenodd\" fill-opacity=\"1\" /><path clip-path=\"url(#clip910)\" d=\"M152.08 1456.56 L156.964 1456.56 L156.964 1462.44 L152.08 1462.44 L152.08 1456.56 Z\" fill=\"#000000\" fill-rule=\"evenodd\" fill-opacity=\"1\" /><path clip-path=\"url(#clip910)\" d=\"M167.195 1427.88 L185.552 1427.88 L185.552 1431.82 L171.478 1431.82 L171.478 1440.29 Q172.496 1439.94 173.515 1439.78 Q174.533 1439.59 175.552 1439.59 Q181.339 1439.59 184.718 1442.77 Q188.098 1445.94 188.098 1451.35 Q188.098 1456.93 184.626 1460.03 Q181.153 1463.11 174.834 1463.11 Q172.658 1463.11 170.39 1462.74 Q168.144 1462.37 165.737 1461.63 L165.737 1456.93 Q167.82 1458.07 170.042 1458.62 Q172.265 1459.18 174.741 1459.18 Q178.746 1459.18 181.084 1457.07 Q183.422 1454.96 183.422 1451.35 Q183.422 1447.74 181.084 1445.64 Q178.746 1443.53 174.741 1443.53 Q172.866 1443.53 170.991 1443.95 Q169.14 1444.36 167.195 1445.24 L167.195 1427.88 Z\" fill=\"#000000\" fill-rule=\"evenodd\" fill-opacity=\"1\" /><path clip-path=\"url(#clip910)\" d=\"M50.9921 1121.56 L80.6679 1121.56 L80.6679 1125.49 L50.9921 1125.49 L50.9921 1121.56 Z\" fill=\"#000000\" fill-rule=\"evenodd\" fill-opacity=\"1\" /><path clip-path=\"url(#clip910)\" d=\"M91.5706 1134.45 L99.2095 1134.45 L99.2095 1108.09 L90.8993 1109.75 L90.8993 1105.49 L99.1632 1103.83 L103.839 1103.83 L103.839 1134.45 L111.478 1134.45 L111.478 1138.39 L91.5706 1138.39 L91.5706 1134.45 Z\" fill=\"#000000\" fill-rule=\"evenodd\" fill-opacity=\"1\" /><path clip-path=\"url(#clip910)\" d=\"M130.922 1106.91 Q127.311 1106.91 125.482 1110.47 Q123.677 1114.01 123.677 1121.14 Q123.677 1128.25 125.482 1131.81 Q127.311 1135.35 130.922 1135.35 Q134.556 1135.35 136.362 1131.81 Q138.191 1128.25 138.191 1121.14 Q138.191 1114.01 136.362 1110.47 Q134.556 1106.91 130.922 1106.91 M130.922 1103.2 Q136.732 1103.2 139.788 1107.81 Q142.867 1112.39 142.867 1121.14 Q142.867 1129.87 139.788 1134.47 Q136.732 1139.06 130.922 1139.06 Q125.112 1139.06 122.033 1134.47 Q118.978 1129.87 118.978 1121.14 Q118.978 1112.39 122.033 1107.81 Q125.112 1103.2 130.922 1103.2 Z\" fill=\"#000000\" fill-rule=\"evenodd\" fill-opacity=\"1\" /><path clip-path=\"url(#clip910)\" d=\"M151.084 1132.51 L155.968 1132.51 L155.968 1138.39 L151.084 1138.39 L151.084 1132.51 Z\" fill=\"#000000\" fill-rule=\"evenodd\" fill-opacity=\"1\" /><path clip-path=\"url(#clip910)\" d=\"M176.153 1106.91 Q172.542 1106.91 170.714 1110.47 Q168.908 1114.01 168.908 1121.14 Q168.908 1128.25 170.714 1131.81 Q172.542 1135.35 176.153 1135.35 Q179.788 1135.35 181.593 1131.81 Q183.422 1128.25 183.422 1121.14 Q183.422 1114.01 181.593 1110.47 Q179.788 1106.91 176.153 1106.91 M176.153 1103.2 Q181.964 1103.2 185.019 1107.81 Q188.098 1112.39 188.098 1121.14 Q188.098 1129.87 185.019 1134.47 Q181.964 1139.06 176.153 1139.06 Q170.343 1139.06 167.265 1134.47 Q164.209 1129.87 164.209 1121.14 Q164.209 1112.39 167.265 1107.81 Q170.343 1103.2 176.153 1103.2 Z\" fill=\"#000000\" fill-rule=\"evenodd\" fill-opacity=\"1\" /><path clip-path=\"url(#clip910)\" d=\"M82.1494 797.504 L111.825 797.504 L111.825 801.439 L82.1494 801.439 L82.1494 797.504 Z\" fill=\"#000000\" fill-rule=\"evenodd\" fill-opacity=\"1\" /><path clip-path=\"url(#clip910)\" d=\"M120.737 779.772 L142.959 779.772 L142.959 781.763 L130.413 814.332 L125.529 814.332 L137.334 783.707 L120.737 783.707 L120.737 779.772 Z\" fill=\"#000000\" fill-rule=\"evenodd\" fill-opacity=\"1\" /><path clip-path=\"url(#clip910)\" d=\"M152.08 808.453 L156.964 808.453 L156.964 814.332 L152.08 814.332 L152.08 808.453 Z\" fill=\"#000000\" fill-rule=\"evenodd\" fill-opacity=\"1\" /><path clip-path=\"url(#clip910)\" d=\"M167.195 779.772 L185.552 779.772 L185.552 783.707 L171.478 783.707 L171.478 792.18 Q172.496 791.832 173.515 791.67 Q174.533 791.485 175.552 791.485 Q181.339 791.485 184.718 794.656 Q188.098 797.828 188.098 803.244 Q188.098 808.823 184.626 811.925 Q181.153 815.004 174.834 815.004 Q172.658 815.004 170.39 814.633 Q168.144 814.263 165.737 813.522 L165.737 808.823 Q167.82 809.957 170.042 810.513 Q172.265 811.068 174.741 811.068 Q178.746 811.068 181.084 808.962 Q183.422 806.855 183.422 803.244 Q183.422 799.633 181.084 797.527 Q178.746 795.42 174.741 795.42 Q172.866 795.42 170.991 795.837 Q169.14 796.254 167.195 797.133 L167.195 779.772 Z\" fill=\"#000000\" fill-rule=\"evenodd\" fill-opacity=\"1\" /><path clip-path=\"url(#clip910)\" d=\"M81.154 473.449 L110.83 473.449 L110.83 477.385 L81.154 477.385 L81.154 473.449 Z\" fill=\"#000000\" fill-rule=\"evenodd\" fill-opacity=\"1\" /><path clip-path=\"url(#clip910)\" d=\"M120.969 455.718 L139.325 455.718 L139.325 459.653 L125.251 459.653 L125.251 468.125 Q126.27 467.778 127.288 467.616 Q128.307 467.431 129.325 467.431 Q135.112 467.431 138.492 470.602 Q141.871 473.773 141.871 479.19 Q141.871 484.769 138.399 487.871 Q134.927 490.949 128.607 490.949 Q126.432 490.949 124.163 490.579 Q121.918 490.209 119.51 489.468 L119.51 484.769 Q121.594 485.903 123.816 486.459 Q126.038 487.014 128.515 487.014 Q132.519 487.014 134.857 484.908 Q137.195 482.801 137.195 479.19 Q137.195 475.579 134.857 473.473 Q132.519 471.366 128.515 471.366 Q126.64 471.366 124.765 471.783 Q122.913 472.199 120.969 473.079 L120.969 455.718 Z\" fill=\"#000000\" fill-rule=\"evenodd\" fill-opacity=\"1\" /><path clip-path=\"url(#clip910)\" d=\"M151.084 484.398 L155.968 484.398 L155.968 490.278 L151.084 490.278 L151.084 484.398 Z\" fill=\"#000000\" fill-rule=\"evenodd\" fill-opacity=\"1\" /><path clip-path=\"url(#clip910)\" d=\"M176.153 458.797 Q172.542 458.797 170.714 462.362 Q168.908 465.903 168.908 473.033 Q168.908 480.139 170.714 483.704 Q172.542 487.246 176.153 487.246 Q179.788 487.246 181.593 483.704 Q183.422 480.139 183.422 473.033 Q183.422 465.903 181.593 462.362 Q179.788 458.797 176.153 458.797 M176.153 455.093 Q181.964 455.093 185.019 459.699 Q188.098 464.283 188.098 473.033 Q188.098 481.76 185.019 486.366 Q181.964 490.949 176.153 490.949 Q170.343 490.949 167.265 486.366 Q164.209 481.76 164.209 473.033 Q164.209 464.283 167.265 459.699 Q170.343 455.093 176.153 455.093 Z\" fill=\"#000000\" fill-rule=\"evenodd\" fill-opacity=\"1\" /><path clip-path=\"url(#clip910)\" d=\"M82.1494 149.395 L111.825 149.395 L111.825 153.33 L82.1494 153.33 L82.1494 149.395 Z\" fill=\"#000000\" fill-rule=\"evenodd\" fill-opacity=\"1\" /><path clip-path=\"url(#clip910)\" d=\"M125.945 162.289 L142.265 162.289 L142.265 166.224 L120.32 166.224 L120.32 162.289 Q122.982 159.534 127.566 154.904 Q132.172 150.252 133.353 148.909 Q135.598 146.386 136.478 144.65 Q137.381 142.891 137.381 141.201 Q137.381 138.446 135.436 136.71 Q133.515 134.974 130.413 134.974 Q128.214 134.974 125.76 135.738 Q123.33 136.502 120.552 138.053 L120.552 133.33 Q123.376 132.196 125.83 131.617 Q128.283 131.039 130.32 131.039 Q135.691 131.039 138.885 133.724 Q142.08 136.409 142.08 140.9 Q142.08 143.029 141.269 144.951 Q140.482 146.849 138.376 149.441 Q137.797 150.113 134.695 153.33 Q131.594 156.525 125.945 162.289 Z\" fill=\"#000000\" fill-rule=\"evenodd\" fill-opacity=\"1\" /><path clip-path=\"url(#clip910)\" d=\"M152.08 160.344 L156.964 160.344 L156.964 166.224 L152.08 166.224 L152.08 160.344 Z\" fill=\"#000000\" fill-rule=\"evenodd\" fill-opacity=\"1\" /><path clip-path=\"url(#clip910)\" d=\"M167.195 131.664 L185.552 131.664 L185.552 135.599 L171.478 135.599 L171.478 144.071 Q172.496 143.724 173.515 143.562 Q174.533 143.377 175.552 143.377 Q181.339 143.377 184.718 146.548 Q188.098 149.719 188.098 155.136 Q188.098 160.715 184.626 163.816 Q181.153 166.895 174.834 166.895 Q172.658 166.895 170.39 166.525 Q168.144 166.154 165.737 165.414 L165.737 160.715 Q167.82 161.849 170.042 162.404 Q172.265 162.96 174.741 162.96 Q178.746 162.96 181.084 160.853 Q183.422 158.747 183.422 155.136 Q183.422 151.525 181.084 149.418 Q178.746 147.312 174.741 147.312 Q172.866 147.312 170.991 147.728 Q169.14 148.145 167.195 149.025 L167.195 131.664 Z\" fill=\"#000000\" fill-rule=\"evenodd\" fill-opacity=\"1\" /><polyline clip-path=\"url(#clip912)\" style=\"stroke:#009af9; stroke-linecap:round; stroke-linejoin:round; stroke-width:4; stroke-opacity:1; fill:none\" points=\"\n",
       "  304.425,1445.72 324.506,1384.18 344.588,1355.29 364.67,1335.96 384.751,1275.21 404.833,1270.19 424.915,1265.48 444.996,1261.1 465.078,1257.03 485.16,1253.24 \n",
       "  505.241,1250.75 525.323,1247.38 545.405,1244.23 565.486,1241.25 585.568,1238.44 605.65,1235.77 625.731,1233.24 645.813,1230.85 665.895,1228.56 685.977,1226.39 \n",
       "  886.793,205.033 1087.61,166.013 1288.43,143.188 1489.24,126.994 1690.06,114.432 1890.88,104.169 2091.69,95.4924 2292.51,87.9763 \n",
       "  \"/>\n",
       "<path clip-path=\"url(#clip910)\" d=\"\n",
       "M33.0198 198.898 L2281.8 198.898 L2281.8 95.2176 L33.0198 95.2176  Z\n",
       "  \" fill=\"#ffffff\" fill-rule=\"evenodd\" fill-opacity=\"1\"/>\n",
       "<polyline clip-path=\"url(#clip910)\" style=\"stroke:#000000; stroke-linecap:round; stroke-linejoin:round; stroke-width:4; stroke-opacity:1; fill:none\" points=\"\n",
       "  33.0198,198.898 2281.8,198.898 2281.8,95.2176 33.0198,95.2176 33.0198,198.898 \n",
       "  \"/>\n",
       "<polyline clip-path=\"url(#clip910)\" style=\"stroke:#009af9; stroke-linecap:round; stroke-linejoin:round; stroke-width:4; stroke-opacity:1; fill:none\" points=\"\n",
       "  56.6716,147.058 198.582,147.058 \n",
       "  \"/>\n",
       "<path clip-path=\"url(#clip910)\" d=\"M229.641 131.051 L229.641 138.412 L238.414 138.412 L238.414 141.722 L229.641 141.722 L229.641 155.796 Q229.641 158.967 230.498 159.87 Q231.377 160.773 234.039 160.773 L238.414 160.773 L238.414 164.338 L234.039 164.338 Q229.109 164.338 227.234 162.509 Q225.359 160.657 225.359 155.796 L225.359 141.722 L222.234 141.722 L222.234 138.412 L225.359 138.412 L225.359 131.051 L229.641 131.051 Z\" fill=\"#000000\" fill-rule=\"evenodd\" fill-opacity=\"1\" /><path clip-path=\"url(#clip910)\" d=\"M259.039 142.393 Q258.322 141.977 257.465 141.791 Q256.632 141.583 255.613 141.583 Q252.002 141.583 250.058 143.944 Q248.137 146.282 248.137 150.68 L248.137 164.338 L243.854 164.338 L243.854 138.412 L248.137 138.412 L248.137 142.44 Q249.479 140.078 251.632 138.944 Q253.785 137.787 256.863 137.787 Q257.303 137.787 257.836 137.856 Q258.368 137.903 259.016 138.018 L259.039 142.393 Z\" fill=\"#000000\" fill-rule=\"evenodd\" fill-opacity=\"1\" /><path clip-path=\"url(#clip910)\" d=\"M275.289 151.305 Q270.127 151.305 268.136 152.486 Q266.146 153.666 266.146 156.514 Q266.146 158.782 267.627 160.125 Q269.132 161.444 271.701 161.444 Q275.243 161.444 277.372 158.944 Q279.525 156.421 279.525 152.254 L279.525 151.305 L275.289 151.305 M283.784 149.546 L283.784 164.338 L279.525 164.338 L279.525 160.402 Q278.067 162.763 275.891 163.898 Q273.715 165.009 270.567 165.009 Q266.585 165.009 264.224 162.787 Q261.886 160.541 261.886 156.791 Q261.886 152.416 264.803 150.194 Q267.743 147.972 273.553 147.972 L279.525 147.972 L279.525 147.555 Q279.525 144.615 277.581 143.018 Q275.66 141.398 272.164 141.398 Q269.942 141.398 267.835 141.93 Q265.729 142.463 263.785 143.527 L263.785 139.592 Q266.123 138.69 268.322 138.25 Q270.521 137.787 272.604 137.787 Q278.229 137.787 281.007 140.703 Q283.784 143.62 283.784 149.546 Z\" fill=\"#000000\" fill-rule=\"evenodd\" fill-opacity=\"1\" /><path clip-path=\"url(#clip910)\" d=\"M311.215 139.407 L311.215 143.389 Q309.409 142.393 307.581 141.907 Q305.775 141.398 303.923 141.398 Q299.78 141.398 297.488 144.037 Q295.196 146.652 295.196 151.398 Q295.196 156.143 297.488 158.782 Q299.78 161.398 303.923 161.398 Q305.775 161.398 307.581 160.912 Q309.409 160.402 311.215 159.407 L311.215 163.342 Q309.432 164.176 307.511 164.592 Q305.613 165.009 303.46 165.009 Q297.604 165.009 294.155 161.328 Q290.706 157.648 290.706 151.398 Q290.706 145.055 294.178 141.421 Q297.673 137.787 303.738 137.787 Q305.706 137.787 307.581 138.203 Q309.456 138.597 311.215 139.407 Z\" fill=\"#000000\" fill-rule=\"evenodd\" fill-opacity=\"1\" /><path clip-path=\"url(#clip910)\" d=\"M340.798 150.31 L340.798 152.393 L321.215 152.393 Q321.493 156.791 323.854 159.106 Q326.238 161.398 330.474 161.398 Q332.928 161.398 335.219 160.796 Q337.534 160.194 339.803 158.99 L339.803 163.018 Q337.511 163.99 335.104 164.5 Q332.696 165.009 330.219 165.009 Q324.016 165.009 320.381 161.398 Q316.77 157.787 316.77 151.629 Q316.77 145.264 320.196 141.537 Q323.645 137.787 329.479 137.787 Q334.71 137.787 337.743 141.166 Q340.798 144.523 340.798 150.31 M336.539 149.06 Q336.493 145.565 334.571 143.481 Q332.673 141.398 329.525 141.398 Q325.96 141.398 323.807 143.412 Q321.678 145.426 321.354 149.083 L336.539 149.06 Z\" fill=\"#000000\" fill-rule=\"evenodd\" fill-opacity=\"1\" /><path clip-path=\"url(#clip910)\" d=\"M379.918 142.347 L379.918 128.319 L384.177 128.319 L384.177 164.338 L379.918 164.338 L379.918 160.449 Q378.576 162.763 376.515 163.898 Q374.478 165.009 371.608 165.009 Q366.909 165.009 363.946 161.259 Q361.006 157.509 361.006 151.398 Q361.006 145.287 363.946 141.537 Q366.909 137.787 371.608 137.787 Q374.478 137.787 376.515 138.921 Q378.576 140.032 379.918 142.347 M365.404 151.398 Q365.404 156.097 367.326 158.782 Q369.27 161.444 372.65 161.444 Q376.029 161.444 377.974 158.782 Q379.918 156.097 379.918 151.398 Q379.918 146.699 377.974 144.037 Q376.029 141.352 372.65 141.352 Q369.27 141.352 367.326 144.037 Q365.404 146.699 365.404 151.398 Z\" fill=\"#000000\" fill-rule=\"evenodd\" fill-opacity=\"1\" /><path clip-path=\"url(#clip910)\" d=\"M392.951 138.412 L397.21 138.412 L397.21 164.338 L392.951 164.338 L392.951 138.412 M392.951 128.319 L397.21 128.319 L397.21 133.713 L392.951 133.713 L392.951 128.319 Z\" fill=\"#000000\" fill-rule=\"evenodd\" fill-opacity=\"1\" /><path clip-path=\"url(#clip910)\" d=\"M422.649 139.176 L422.649 143.203 Q420.844 142.277 418.899 141.815 Q416.955 141.352 414.872 141.352 Q411.7 141.352 410.103 142.324 Q408.529 143.296 408.529 145.24 Q408.529 146.722 409.663 147.578 Q410.798 148.412 414.224 149.176 L415.682 149.5 Q420.219 150.472 422.117 152.254 Q424.038 154.014 424.038 157.185 Q424.038 160.796 421.168 162.902 Q418.321 165.009 413.321 165.009 Q411.237 165.009 408.969 164.592 Q406.724 164.199 404.224 163.388 L404.224 158.99 Q406.585 160.217 408.876 160.842 Q411.168 161.444 413.413 161.444 Q416.423 161.444 418.043 160.426 Q419.663 159.384 419.663 157.509 Q419.663 155.773 418.483 154.847 Q417.325 153.921 413.367 153.064 L411.886 152.717 Q407.927 151.884 406.168 150.171 Q404.409 148.435 404.409 145.426 Q404.409 141.768 407.001 139.778 Q409.594 137.787 414.362 137.787 Q416.724 137.787 418.807 138.134 Q420.89 138.481 422.649 139.176 Z\" fill=\"#000000\" fill-rule=\"evenodd\" fill-opacity=\"1\" /><path clip-path=\"url(#clip910)\" d=\"M435.034 131.051 L435.034 138.412 L443.807 138.412 L443.807 141.722 L435.034 141.722 L435.034 155.796 Q435.034 158.967 435.89 159.87 Q436.77 160.773 439.432 160.773 L443.807 160.773 L443.807 164.338 L439.432 164.338 Q434.501 164.338 432.626 162.509 Q430.751 160.657 430.751 155.796 L430.751 141.722 L427.626 141.722 L427.626 138.412 L430.751 138.412 L430.751 131.051 L435.034 131.051 Z\" fill=\"#000000\" fill-rule=\"evenodd\" fill-opacity=\"1\" /><path clip-path=\"url(#clip910)\" d=\"M461.191 151.305 Q456.029 151.305 454.038 152.486 Q452.047 153.666 452.047 156.514 Q452.047 158.782 453.529 160.125 Q455.034 161.444 457.603 161.444 Q461.145 161.444 463.274 158.944 Q465.427 156.421 465.427 152.254 L465.427 151.305 L461.191 151.305 M469.686 149.546 L469.686 164.338 L465.427 164.338 L465.427 160.402 Q463.969 162.763 461.793 163.898 Q459.617 165.009 456.469 165.009 Q452.487 165.009 450.126 162.787 Q447.788 160.541 447.788 156.791 Q447.788 152.416 450.705 150.194 Q453.645 147.972 459.455 147.972 L465.427 147.972 L465.427 147.555 Q465.427 144.615 463.483 143.018 Q461.561 141.398 458.066 141.398 Q455.844 141.398 453.737 141.93 Q451.631 142.463 449.686 143.527 L449.686 139.592 Q452.024 138.69 454.223 138.25 Q456.422 137.787 458.506 137.787 Q464.131 137.787 466.908 140.703 Q469.686 143.62 469.686 149.546 Z\" fill=\"#000000\" fill-rule=\"evenodd\" fill-opacity=\"1\" /><path clip-path=\"url(#clip910)\" d=\"M500.01 148.689 L500.01 164.338 L495.751 164.338 L495.751 148.828 Q495.751 145.148 494.316 143.319 Q492.881 141.49 490.01 141.49 Q486.561 141.49 484.57 143.69 Q482.58 145.889 482.58 149.685 L482.58 164.338 L478.297 164.338 L478.297 138.412 L482.58 138.412 L482.58 142.44 Q484.107 140.102 486.168 138.944 Q488.251 137.787 490.959 137.787 Q495.427 137.787 497.719 140.565 Q500.01 143.319 500.01 148.689 Z\" fill=\"#000000\" fill-rule=\"evenodd\" fill-opacity=\"1\" /><path clip-path=\"url(#clip910)\" d=\"M527.163 139.407 L527.163 143.389 Q525.357 142.393 523.529 141.907 Q521.723 141.398 519.871 141.398 Q515.728 141.398 513.436 144.037 Q511.144 146.652 511.144 151.398 Q511.144 156.143 513.436 158.782 Q515.728 161.398 519.871 161.398 Q521.723 161.398 523.529 160.912 Q525.357 160.402 527.163 159.407 L527.163 163.342 Q525.38 164.176 523.459 164.592 Q521.561 165.009 519.408 165.009 Q513.552 165.009 510.103 161.328 Q506.654 157.648 506.654 151.398 Q506.654 145.055 510.126 141.421 Q513.621 137.787 519.686 137.787 Q521.654 137.787 523.529 138.203 Q525.404 138.597 527.163 139.407 Z\" fill=\"#000000\" fill-rule=\"evenodd\" fill-opacity=\"1\" /><path clip-path=\"url(#clip910)\" d=\"M556.746 150.31 L556.746 152.393 L537.163 152.393 Q537.441 156.791 539.802 159.106 Q542.186 161.398 546.422 161.398 Q548.876 161.398 551.167 160.796 Q553.482 160.194 555.751 158.99 L555.751 163.018 Q553.459 163.99 551.052 164.5 Q548.644 165.009 546.167 165.009 Q539.964 165.009 536.329 161.398 Q532.718 157.787 532.718 151.629 Q532.718 145.264 536.144 141.537 Q539.593 137.787 545.427 137.787 Q550.658 137.787 553.69 141.166 Q556.746 144.523 556.746 150.31 M552.487 149.06 Q552.44 145.565 550.519 143.481 Q548.621 141.398 545.473 141.398 Q541.908 141.398 539.755 143.412 Q537.626 145.426 537.302 149.083 L552.487 149.06 Z\" fill=\"#000000\" fill-rule=\"evenodd\" fill-opacity=\"1\" /><path clip-path=\"url(#clip910)\" d=\"M564.825 158.458 L569.709 158.458 L569.709 162.439 L565.913 169.847 L562.926 169.847 L564.825 162.439 L564.825 158.458 Z\" fill=\"#000000\" fill-rule=\"evenodd\" fill-opacity=\"1\" /><path clip-path=\"url(#clip910)\" d=\"M578.991 129.778 L585.287 129.778 L600.611 158.689 L600.611 129.778 L605.148 129.778 L605.148 164.338 L598.852 164.338 L583.528 135.426 L583.528 164.338 L578.991 164.338 L578.991 129.778 Z\" fill=\"#000000\" fill-rule=\"evenodd\" fill-opacity=\"1\" /><path clip-path=\"url(#clip910)\" d=\"M614.824 142.81 L644.5 142.81 L644.5 146.699 L614.824 146.699 L614.824 142.81 M614.824 152.254 L644.5 152.254 L644.5 156.189 L614.824 156.189 L614.824 152.254 Z\" fill=\"#000000\" fill-rule=\"evenodd\" fill-opacity=\"1\" /><path clip-path=\"url(#clip910)\" d=\"M655.403 160.402 L663.042 160.402 L663.042 134.037 L654.732 135.703 L654.732 131.444 L662.995 129.778 L667.671 129.778 L667.671 160.402 L675.31 160.402 L675.31 164.338 L655.403 164.338 L655.403 160.402 Z\" fill=\"#000000\" fill-rule=\"evenodd\" fill-opacity=\"1\" /><path clip-path=\"url(#clip910)\" d=\"M688.782 160.402 L705.102 160.402 L705.102 164.338 L683.157 164.338 L683.157 160.402 Q685.819 157.648 690.403 153.018 Q695.009 148.365 696.19 147.023 Q698.435 144.5 699.315 142.764 Q700.217 141.004 700.217 139.315 Q700.217 136.56 698.273 134.824 Q696.352 133.088 693.25 133.088 Q691.051 133.088 688.597 133.852 Q686.167 134.615 683.389 136.166 L683.389 131.444 Q686.213 130.31 688.667 129.731 Q691.12 129.153 693.157 129.153 Q698.528 129.153 701.722 131.838 Q704.916 134.523 704.916 139.014 Q704.916 141.143 704.106 143.065 Q703.319 144.963 701.213 147.555 Q700.634 148.227 697.532 151.444 Q694.43 154.639 688.782 160.402 Z\" fill=\"#000000\" fill-rule=\"evenodd\" fill-opacity=\"1\" /><path clip-path=\"url(#clip910)\" d=\"M715.403 158.458 L720.287 158.458 L720.287 162.439 L716.49 169.847 L713.504 169.847 L715.403 162.439 L715.403 158.458 Z\" fill=\"#000000\" fill-rule=\"evenodd\" fill-opacity=\"1\" /><path clip-path=\"url(#clip910)\" d=\"M763.226 134.315 Q760.865 132.694 755.333 132.694 Q749.476 132.694 749.476 135.403 Q749.476 137.532 755.587 138.643 Q760.402 139.5 763.111 142.092 Q766.398 145.217 766.398 151.629 Q766.398 157.764 763.226 161.375 Q760.055 165.009 754.5 165.009 Q748.967 165.009 745.773 161.375 Q742.601 157.764 742.601 151.398 Q742.601 146.676 745.773 142.856 Q747 141.375 748.736 140.541 Q745.125 138.713 745.125 135.449 Q745.125 129.153 755.333 129.153 Q760.449 129.153 763.226 130.773 L763.226 134.315 M751.93 141.699 Q750.356 142.37 749.083 144.06 Q747.092 146.676 747.092 151.398 Q747.092 156.097 749.06 158.736 Q751.05 161.398 754.5 161.398 Q757.902 161.398 759.893 158.713 Q761.884 156.027 761.884 151.629 Q761.884 147.023 759.777 144.801 Q757.532 142.416 754.615 142.162 Q753.134 142.023 751.93 141.699 Z\" fill=\"#000000\" fill-rule=\"evenodd\" fill-opacity=\"1\" /><path clip-path=\"url(#clip910)\" d=\"M777.671 131.051 L777.671 138.412 L786.444 138.412 L786.444 141.722 L777.671 141.722 L777.671 155.796 Q777.671 158.967 778.527 159.87 Q779.407 160.773 782.069 160.773 L786.444 160.773 L786.444 164.338 L782.069 164.338 Q777.138 164.338 775.263 162.509 Q773.388 160.657 773.388 155.796 L773.388 141.722 L770.263 141.722 L770.263 138.412 L773.388 138.412 L773.388 131.051 L777.671 131.051 Z\" fill=\"#000000\" fill-rule=\"evenodd\" fill-opacity=\"1\" /><path clip-path=\"url(#clip910)\" d=\"M792.601 142.81 L822.277 142.81 L822.277 146.699 L792.601 146.699 L792.601 142.81 M792.601 152.254 L822.277 152.254 L822.277 156.189 L792.601 156.189 L792.601 152.254 Z\" fill=\"#000000\" fill-rule=\"evenodd\" fill-opacity=\"1\" /><path clip-path=\"url(#clip910)\" d=\"M842.369 132.856 Q838.758 132.856 836.93 136.421 Q835.124 139.963 835.124 147.092 Q835.124 154.199 836.93 157.764 Q838.758 161.305 842.369 161.305 Q846.004 161.305 847.809 157.764 Q849.638 154.199 849.638 147.092 Q849.638 139.963 847.809 136.421 Q846.004 132.856 842.369 132.856 M842.369 129.153 Q848.18 129.153 851.235 133.759 Q854.314 138.342 854.314 147.092 Q854.314 155.819 851.235 160.426 Q848.18 165.009 842.369 165.009 Q836.559 165.009 833.481 160.426 Q830.425 155.819 830.425 147.092 Q830.425 138.342 833.481 133.759 Q836.559 129.153 842.369 129.153 Z\" fill=\"#000000\" fill-rule=\"evenodd\" fill-opacity=\"1\" /><path clip-path=\"url(#clip910)\" d=\"M862.531 158.458 L867.416 158.458 L867.416 164.338 L862.531 164.338 L862.531 158.458 Z\" fill=\"#000000\" fill-rule=\"evenodd\" fill-opacity=\"1\" /><path clip-path=\"url(#clip910)\" d=\"M887.601 132.856 Q883.99 132.856 882.161 136.421 Q880.355 139.963 880.355 147.092 Q880.355 154.199 882.161 157.764 Q883.99 161.305 887.601 161.305 Q891.235 161.305 893.04 157.764 Q894.869 154.199 894.869 147.092 Q894.869 139.963 893.04 136.421 Q891.235 132.856 887.601 132.856 M887.601 129.153 Q893.411 129.153 896.466 133.759 Q899.545 138.342 899.545 147.092 Q899.545 155.819 896.466 160.426 Q893.411 165.009 887.601 165.009 Q881.791 165.009 878.712 160.426 Q875.656 155.819 875.656 147.092 Q875.656 138.342 878.712 133.759 Q881.791 129.153 887.601 129.153 Z\" fill=\"#000000\" fill-rule=\"evenodd\" fill-opacity=\"1\" /><path clip-path=\"url(#clip910)\" d=\"M908.573 160.402 L916.212 160.402 L916.212 134.037 L907.901 135.703 L907.901 131.444 L916.165 129.778 L920.841 129.778 L920.841 160.402 L928.48 160.402 L928.48 164.338 L908.573 164.338 L908.573 160.402 Z\" fill=\"#000000\" fill-rule=\"evenodd\" fill-opacity=\"1\" /><path clip-path=\"url(#clip910)\" d=\"M938.411 158.458 L943.295 158.458 L943.295 162.439 L939.499 169.847 L936.512 169.847 L938.411 162.439 L938.411 158.458 Z\" fill=\"#000000\" fill-rule=\"evenodd\" fill-opacity=\"1\" /><path clip-path=\"url(#clip910)\" d=\"M967.647 129.778 L972.322 129.778 L972.322 144.384 L987.832 129.778 L993.85 129.778 L976.697 145.889 L995.077 164.338 L988.92 164.338 L972.322 147.694 L972.322 164.338 L967.647 164.338 L967.647 129.778 Z\" fill=\"#000000\" fill-rule=\"evenodd\" fill-opacity=\"1\" /><path clip-path=\"url(#clip910)\" d=\"M1013.57 142.393 Q1012.85 141.977 1012 141.791 Q1011.16 141.583 1010.15 141.583 Q1006.54 141.583 1004.59 143.944 Q1002.67 146.282 1002.67 150.68 L1002.67 164.338 L998.387 164.338 L998.387 138.412 L1002.67 138.412 L1002.67 142.44 Q1004.01 140.078 1006.16 138.944 Q1008.32 137.787 1011.4 137.787 Q1011.84 137.787 1012.37 137.856 Q1012.9 137.903 1013.55 138.018 L1013.57 142.393 Z\" fill=\"#000000\" fill-rule=\"evenodd\" fill-opacity=\"1\" /><path clip-path=\"url(#clip910)\" d=\"M1028.83 166.745 Q1027.02 171.375 1025.31 172.787 Q1023.6 174.199 1020.72 174.199 L1017.32 174.199 L1017.32 170.634 L1019.82 170.634 Q1021.58 170.634 1022.55 169.8 Q1023.53 168.967 1024.71 165.865 L1025.47 163.921 L1014.98 138.412 L1019.5 138.412 L1027.6 158.689 L1035.7 138.412 L1040.22 138.412 L1028.83 166.745 Z\" fill=\"#000000\" fill-rule=\"evenodd\" fill-opacity=\"1\" /><path clip-path=\"url(#clip910)\" d=\"M1046.1 128.319 L1050.35 128.319 L1050.35 164.338 L1046.1 164.338 L1046.1 128.319 Z\" fill=\"#000000\" fill-rule=\"evenodd\" fill-opacity=\"1\" /><path clip-path=\"url(#clip910)\" d=\"M1069.31 141.398 Q1065.89 141.398 1063.9 144.083 Q1061.91 146.745 1061.91 151.398 Q1061.91 156.051 1063.87 158.736 Q1065.86 161.398 1069.31 161.398 Q1072.72 161.398 1074.71 158.713 Q1076.7 156.027 1076.7 151.398 Q1076.7 146.791 1074.71 144.106 Q1072.72 141.398 1069.31 141.398 M1069.31 137.787 Q1074.87 137.787 1078.04 141.398 Q1081.21 145.009 1081.21 151.398 Q1081.21 157.764 1078.04 161.398 Q1074.87 165.009 1069.31 165.009 Q1063.73 165.009 1060.56 161.398 Q1057.41 157.764 1057.41 151.398 Q1057.41 145.009 1060.56 141.398 Q1063.73 137.787 1069.31 137.787 Z\" fill=\"#000000\" fill-rule=\"evenodd\" fill-opacity=\"1\" /><path clip-path=\"url(#clip910)\" d=\"M1085.22 138.412 L1089.73 138.412 L1097.83 160.171 L1105.93 138.412 L1110.45 138.412 L1100.72 164.338 L1094.94 164.338 L1085.22 138.412 Z\" fill=\"#000000\" fill-rule=\"evenodd\" fill-opacity=\"1\" /><path clip-path=\"url(#clip910)\" d=\"M1150.05 139.407 L1150.05 143.389 Q1148.25 142.393 1146.42 141.907 Q1144.61 141.398 1142.76 141.398 Q1138.62 141.398 1136.33 144.037 Q1134.03 146.652 1134.03 151.398 Q1134.03 156.143 1136.33 158.782 Q1138.62 161.398 1142.76 161.398 Q1144.61 161.398 1146.42 160.912 Q1148.25 160.402 1150.05 159.407 L1150.05 163.342 Q1148.27 164.176 1146.35 164.592 Q1144.45 165.009 1142.3 165.009 Q1136.44 165.009 1132.99 161.328 Q1129.54 157.648 1129.54 151.398 Q1129.54 145.055 1133.02 141.421 Q1136.51 137.787 1142.58 137.787 Q1144.54 137.787 1146.42 138.203 Q1148.29 138.597 1150.05 139.407 Z\" fill=\"#000000\" fill-rule=\"evenodd\" fill-opacity=\"1\" /><path clip-path=\"url(#clip910)\" d=\"M1157.02 154.106 L1157.02 138.412 L1161.28 138.412 L1161.28 153.944 Q1161.28 157.625 1162.71 159.476 Q1164.15 161.305 1167.02 161.305 Q1170.47 161.305 1172.46 159.106 Q1174.47 156.907 1174.47 153.111 L1174.47 138.412 L1178.73 138.412 L1178.73 164.338 L1174.47 164.338 L1174.47 160.356 Q1172.92 162.717 1170.86 163.875 Q1168.83 165.009 1166.12 165.009 Q1161.65 165.009 1159.34 162.231 Q1157.02 159.453 1157.02 154.106 M1167.74 137.787 L1167.74 137.787 Z\" fill=\"#000000\" fill-rule=\"evenodd\" fill-opacity=\"1\" /><path clip-path=\"url(#clip910)\" d=\"M1191.72 131.051 L1191.72 138.412 L1200.49 138.412 L1200.49 141.722 L1191.72 141.722 L1191.72 155.796 Q1191.72 158.967 1192.58 159.87 Q1193.46 160.773 1196.12 160.773 L1200.49 160.773 L1200.49 164.338 L1196.12 164.338 Q1191.19 164.338 1189.31 162.509 Q1187.44 160.657 1187.44 155.796 L1187.44 141.722 L1184.31 141.722 L1184.31 138.412 L1187.44 138.412 L1187.44 131.051 L1191.72 131.051 Z\" fill=\"#000000\" fill-rule=\"evenodd\" fill-opacity=\"1\" /><path clip-path=\"url(#clip910)\" d=\"M1216.14 141.398 Q1212.71 141.398 1210.72 144.083 Q1208.73 146.745 1208.73 151.398 Q1208.73 156.051 1210.7 158.736 Q1212.69 161.398 1216.14 161.398 Q1219.54 161.398 1221.53 158.713 Q1223.52 156.027 1223.52 151.398 Q1223.52 146.791 1221.53 144.106 Q1219.54 141.398 1216.14 141.398 M1216.14 137.787 Q1221.7 137.787 1224.87 141.398 Q1228.04 145.009 1228.04 151.398 Q1228.04 157.764 1224.87 161.398 Q1221.7 165.009 1216.14 165.009 Q1210.56 165.009 1207.39 161.398 Q1204.24 157.764 1204.24 151.398 Q1204.24 145.009 1207.39 141.398 Q1210.56 137.787 1216.14 137.787 Z\" fill=\"#000000\" fill-rule=\"evenodd\" fill-opacity=\"1\" /><path clip-path=\"url(#clip910)\" d=\"M1248.22 128.319 L1248.22 131.861 L1244.15 131.861 Q1241.86 131.861 1240.96 132.787 Q1240.08 133.713 1240.08 136.12 L1240.08 138.412 L1247.09 138.412 L1247.09 141.722 L1240.08 141.722 L1240.08 164.338 L1235.79 164.338 L1235.79 141.722 L1231.72 141.722 L1231.72 138.412 L1235.79 138.412 L1235.79 136.606 Q1235.79 132.278 1237.81 130.31 Q1239.82 128.319 1244.2 128.319 L1248.22 128.319 Z\" fill=\"#000000\" fill-rule=\"evenodd\" fill-opacity=\"1\" /><path clip-path=\"url(#clip910)\" d=\"M1264.91 128.319 L1264.91 131.861 L1260.84 131.861 Q1258.55 131.861 1257.64 132.787 Q1256.77 133.713 1256.77 136.12 L1256.77 138.412 L1263.78 138.412 L1263.78 141.722 L1256.77 141.722 L1256.77 164.338 L1252.48 164.338 L1252.48 141.722 L1248.41 141.722 L1248.41 138.412 L1252.48 138.412 L1252.48 136.606 Q1252.48 132.278 1254.5 130.31 Q1256.51 128.319 1260.89 128.319 L1264.91 128.319 Z\" fill=\"#000000\" fill-rule=\"evenodd\" fill-opacity=\"1\" /><path clip-path=\"url(#clip910)\" d=\"M1269.03 142.81 L1298.71 142.81 L1298.71 146.699 L1269.03 146.699 L1269.03 142.81 M1269.03 152.254 L1298.71 152.254 L1298.71 156.189 L1269.03 156.189 L1269.03 152.254 Z\" fill=\"#000000\" fill-rule=\"evenodd\" fill-opacity=\"1\" /><path clip-path=\"url(#clip910)\" d=\"M1309.61 160.402 L1317.25 160.402 L1317.25 134.037 L1308.94 135.703 L1308.94 131.444 L1317.2 129.778 L1321.88 129.778 L1321.88 160.402 L1329.52 160.402 L1329.52 164.338 L1309.61 164.338 L1309.61 160.402 Z\" fill=\"#000000\" fill-rule=\"evenodd\" fill-opacity=\"1\" /><path clip-path=\"url(#clip910)\" d=\"M1338.96 158.458 L1343.85 158.458 L1343.85 164.338 L1338.96 164.338 L1338.96 158.458 Z\" fill=\"#000000\" fill-rule=\"evenodd\" fill-opacity=\"1\" /><path clip-path=\"url(#clip910)\" d=\"M1364.03 132.856 Q1360.42 132.856 1358.59 136.421 Q1356.79 139.963 1356.79 147.092 Q1356.79 154.199 1358.59 157.764 Q1360.42 161.305 1364.03 161.305 Q1367.67 161.305 1369.47 157.764 Q1371.3 154.199 1371.3 147.092 Q1371.3 139.963 1369.47 136.421 Q1367.67 132.856 1364.03 132.856 M1364.03 129.153 Q1369.84 129.153 1372.9 133.759 Q1375.98 138.342 1375.98 147.092 Q1375.98 155.819 1372.9 160.426 Q1369.84 165.009 1364.03 165.009 Q1358.22 165.009 1355.14 160.426 Q1352.09 155.819 1352.09 147.092 Q1352.09 138.342 1355.14 133.759 Q1358.22 129.153 1364.03 129.153 Z\" fill=\"#000000\" fill-rule=\"evenodd\" fill-opacity=\"1\" /><path clip-path=\"url(#clip910)\" d=\"M1405.77 150.31 L1405.77 152.393 L1386.19 152.393 Q1386.46 156.791 1388.82 159.106 Q1391.21 161.398 1395.45 161.398 Q1397.9 161.398 1400.19 160.796 Q1402.51 160.194 1404.77 158.99 L1404.77 163.018 Q1402.48 163.99 1400.07 164.5 Q1397.67 165.009 1395.19 165.009 Q1388.99 165.009 1385.35 161.398 Q1381.74 157.787 1381.74 151.629 Q1381.74 145.264 1385.17 141.537 Q1388.62 137.787 1394.45 137.787 Q1399.68 137.787 1402.71 141.166 Q1405.77 144.523 1405.77 150.31 M1401.51 149.06 Q1401.46 145.565 1399.54 143.481 Q1397.64 141.398 1394.5 141.398 Q1390.93 141.398 1388.78 143.412 Q1386.65 145.426 1386.32 149.083 L1401.51 149.06 Z\" fill=\"#000000\" fill-rule=\"evenodd\" fill-opacity=\"1\" /><path clip-path=\"url(#clip910)\" d=\"M1410.61 149.453 L1423.08 149.453 L1423.08 153.25 L1410.61 153.25 L1410.61 149.453 Z\" fill=\"#000000\" fill-rule=\"evenodd\" fill-opacity=\"1\" /><path clip-path=\"url(#clip910)\" d=\"M1430.51 129.778 L1448.87 129.778 L1448.87 133.713 L1434.8 133.713 L1434.8 142.185 Q1435.82 141.838 1436.83 141.676 Q1437.85 141.49 1438.87 141.49 Q1444.66 141.49 1448.04 144.662 Q1451.42 147.833 1451.42 153.25 Q1451.42 158.828 1447.94 161.93 Q1444.47 165.009 1438.15 165.009 Q1435.98 165.009 1433.71 164.638 Q1431.46 164.268 1429.06 163.527 L1429.06 158.828 Q1431.14 159.963 1433.36 160.518 Q1435.58 161.074 1438.06 161.074 Q1442.07 161.074 1444.4 158.967 Q1446.74 156.861 1446.74 153.25 Q1446.74 149.639 1444.4 147.532 Q1442.07 145.426 1438.06 145.426 Q1436.19 145.426 1434.31 145.842 Q1432.46 146.259 1430.51 147.139 L1430.51 129.778 Z\" fill=\"#000000\" fill-rule=\"evenodd\" fill-opacity=\"1\" /><path clip-path=\"url(#clip910)\" d=\"M1461.12 158.458 L1466 158.458 L1466 162.439 L1462.2 169.847 L1459.22 169.847 L1461.12 162.439 L1461.12 158.458 Z\" fill=\"#000000\" fill-rule=\"evenodd\" fill-opacity=\"1\" /><path clip-path=\"url(#clip910)\" d=\"M1490 128.319 L1494.29 128.319 L1494.29 149.592 L1507 138.412 L1512.44 138.412 L1498.69 150.541 L1513.01 164.338 L1507.46 164.338 L1494.29 151.676 L1494.29 164.338 L1490 164.338 L1490 128.319 Z\" fill=\"#000000\" fill-rule=\"evenodd\" fill-opacity=\"1\" /><path clip-path=\"url(#clip910)\" d=\"M1522.25 160.402 L1538.57 160.402 L1538.57 164.338 L1516.63 164.338 L1516.63 160.402 Q1519.29 157.648 1523.87 153.018 Q1528.48 148.365 1529.66 147.023 Q1531.9 144.5 1532.78 142.764 Q1533.69 141.004 1533.69 139.315 Q1533.69 136.56 1531.74 134.824 Q1529.82 133.088 1526.72 133.088 Q1524.52 133.088 1522.06 133.852 Q1519.63 134.615 1516.86 136.166 L1516.86 131.444 Q1519.68 130.31 1522.13 129.731 Q1524.59 129.153 1526.63 129.153 Q1532 129.153 1535.19 131.838 Q1538.38 134.523 1538.38 139.014 Q1538.38 141.143 1537.57 143.065 Q1536.79 144.963 1534.68 147.555 Q1534.1 148.227 1531 151.444 Q1527.9 154.639 1522.25 160.402 Z\" fill=\"#000000\" fill-rule=\"evenodd\" fill-opacity=\"1\" /><path clip-path=\"url(#clip910)\" d=\"M1548.34 142.81 L1578.01 142.81 L1578.01 146.699 L1548.34 146.699 L1548.34 142.81 M1548.34 152.254 L1578.01 152.254 L1578.01 156.189 L1548.34 156.189 L1548.34 152.254 Z\" fill=\"#000000\" fill-rule=\"evenodd\" fill-opacity=\"1\" /><path clip-path=\"url(#clip910)\" d=\"M1602.27 145.703 Q1605.63 146.421 1607.5 148.689 Q1609.4 150.958 1609.4 154.291 Q1609.4 159.407 1605.88 162.208 Q1602.37 165.009 1595.88 165.009 Q1593.71 165.009 1591.39 164.569 Q1589.1 164.152 1586.65 163.296 L1586.65 158.782 Q1588.59 159.916 1590.91 160.495 Q1593.22 161.074 1595.75 161.074 Q1600.14 161.074 1602.43 159.338 Q1604.75 157.601 1604.75 154.291 Q1604.75 151.236 1602.6 149.523 Q1600.47 147.787 1596.65 147.787 L1592.62 147.787 L1592.62 143.944 L1596.83 143.944 Q1600.28 143.944 1602.11 142.578 Q1603.94 141.19 1603.94 138.597 Q1603.94 135.935 1602.04 134.523 Q1600.17 133.088 1596.65 133.088 Q1594.73 133.088 1592.53 133.504 Q1590.33 133.921 1587.69 134.801 L1587.69 130.634 Q1590.35 129.893 1592.67 129.523 Q1595 129.153 1597.06 129.153 Q1602.39 129.153 1605.49 131.583 Q1608.59 133.99 1608.59 138.111 Q1608.59 140.981 1606.95 142.972 Q1605.31 144.94 1602.27 145.703 Z\" fill=\"#000000\" fill-rule=\"evenodd\" fill-opacity=\"1\" /><path clip-path=\"url(#clip910)\" d=\"M1618.75 158.458 L1623.64 158.458 L1623.64 162.439 L1619.84 169.847 L1616.86 169.847 L1618.75 162.439 L1618.75 158.458 Z\" fill=\"#000000\" fill-rule=\"evenodd\" fill-opacity=\"1\" /><path clip-path=\"url(#clip910)\" d=\"M1652.02 131.051 L1652.02 138.412 L1660.79 138.412 L1660.79 141.722 L1652.02 141.722 L1652.02 155.796 Q1652.02 158.967 1652.87 159.87 Q1653.75 160.773 1656.42 160.773 L1660.79 160.773 L1660.79 164.338 L1656.42 164.338 Q1651.49 164.338 1649.61 162.509 Q1647.74 160.657 1647.74 155.796 L1647.74 141.722 L1644.61 141.722 L1644.61 138.412 L1647.74 138.412 L1647.74 131.051 L1652.02 131.051 Z\" fill=\"#000000\" fill-rule=\"evenodd\" fill-opacity=\"1\" /><path clip-path=\"url(#clip910)\" d=\"M1681.42 142.393 Q1680.7 141.977 1679.84 141.791 Q1679.01 141.583 1677.99 141.583 Q1674.38 141.583 1672.43 143.944 Q1670.51 146.282 1670.51 150.68 L1670.51 164.338 L1666.23 164.338 L1666.23 138.412 L1670.51 138.412 L1670.51 142.44 Q1671.86 140.078 1674.01 138.944 Q1676.16 137.787 1679.24 137.787 Q1679.68 137.787 1680.21 137.856 Q1680.74 137.903 1681.39 138.018 L1681.42 142.393 Z\" fill=\"#000000\" fill-rule=\"evenodd\" fill-opacity=\"1\" /><path clip-path=\"url(#clip910)\" d=\"M1685.44 154.106 L1685.44 138.412 L1689.7 138.412 L1689.7 153.944 Q1689.7 157.625 1691.14 159.476 Q1692.57 161.305 1695.44 161.305 Q1698.89 161.305 1700.88 159.106 Q1702.9 156.907 1702.9 153.111 L1702.9 138.412 L1707.16 138.412 L1707.16 164.338 L1702.9 164.338 L1702.9 160.356 Q1701.35 162.717 1699.29 163.875 Q1697.25 165.009 1694.54 165.009 Q1690.07 165.009 1687.76 162.231 Q1685.44 159.453 1685.44 154.106 M1696.16 137.787 L1696.16 137.787 Z\" fill=\"#000000\" fill-rule=\"evenodd\" fill-opacity=\"1\" /><path clip-path=\"url(#clip910)\" d=\"M1737.48 148.689 L1737.48 164.338 L1733.22 164.338 L1733.22 148.828 Q1733.22 145.148 1731.79 143.319 Q1730.35 141.49 1727.48 141.49 Q1724.03 141.49 1722.04 143.69 Q1720.05 145.889 1720.05 149.685 L1720.05 164.338 L1715.77 164.338 L1715.77 138.412 L1720.05 138.412 L1720.05 142.44 Q1721.58 140.102 1723.64 138.944 Q1725.72 137.787 1728.43 137.787 Q1732.9 137.787 1735.19 140.565 Q1737.48 143.319 1737.48 148.689 Z\" fill=\"#000000\" fill-rule=\"evenodd\" fill-opacity=\"1\" /><path clip-path=\"url(#clip910)\" d=\"M1764.63 139.407 L1764.63 143.389 Q1762.83 142.393 1761 141.907 Q1759.19 141.398 1757.34 141.398 Q1753.2 141.398 1750.91 144.037 Q1748.61 146.652 1748.61 151.398 Q1748.61 156.143 1750.91 158.782 Q1753.2 161.398 1757.34 161.398 Q1759.19 161.398 1761 160.912 Q1762.83 160.402 1764.63 159.407 L1764.63 163.342 Q1762.85 164.176 1760.93 164.592 Q1759.03 165.009 1756.88 165.009 Q1751.02 165.009 1747.57 161.328 Q1744.12 157.648 1744.12 151.398 Q1744.12 145.055 1747.6 141.421 Q1751.09 137.787 1757.16 137.787 Q1759.12 137.787 1761 138.203 Q1762.87 138.597 1764.63 139.407 Z\" fill=\"#000000\" fill-rule=\"evenodd\" fill-opacity=\"1\" /><path clip-path=\"url(#clip910)\" d=\"M1783.82 151.305 Q1778.66 151.305 1776.67 152.486 Q1774.68 153.666 1774.68 156.514 Q1774.68 158.782 1776.16 160.125 Q1777.67 161.444 1780.23 161.444 Q1783.78 161.444 1785.91 158.944 Q1788.06 156.421 1788.06 152.254 L1788.06 151.305 L1783.82 151.305 M1792.32 149.546 L1792.32 164.338 L1788.06 164.338 L1788.06 160.402 Q1786.6 162.763 1784.42 163.898 Q1782.25 165.009 1779.1 165.009 Q1775.12 165.009 1772.76 162.787 Q1770.42 160.541 1770.42 156.791 Q1770.42 152.416 1773.34 150.194 Q1776.28 147.972 1782.09 147.972 L1788.06 147.972 L1788.06 147.555 Q1788.06 144.615 1786.11 143.018 Q1784.19 141.398 1780.7 141.398 Q1778.48 141.398 1776.37 141.93 Q1774.26 142.463 1772.32 143.527 L1772.32 139.592 Q1774.66 138.69 1776.86 138.25 Q1779.05 137.787 1781.14 137.787 Q1786.76 137.787 1789.54 140.703 Q1792.32 143.62 1792.32 149.546 Z\" fill=\"#000000\" fill-rule=\"evenodd\" fill-opacity=\"1\" /><path clip-path=\"url(#clip910)\" d=\"M1805.3 131.051 L1805.3 138.412 L1814.08 138.412 L1814.08 141.722 L1805.3 141.722 L1805.3 155.796 Q1805.3 158.967 1806.16 159.87 Q1807.04 160.773 1809.7 160.773 L1814.08 160.773 L1814.08 164.338 L1809.7 164.338 Q1804.77 164.338 1802.9 162.509 Q1801.02 160.657 1801.02 155.796 L1801.02 141.722 L1797.9 141.722 L1797.9 138.412 L1801.02 138.412 L1801.02 131.051 L1805.3 131.051 Z\" fill=\"#000000\" fill-rule=\"evenodd\" fill-opacity=\"1\" /><path clip-path=\"url(#clip910)\" d=\"M1819.68 138.412 L1823.94 138.412 L1823.94 164.338 L1819.68 164.338 L1819.68 138.412 M1819.68 128.319 L1823.94 128.319 L1823.94 133.713 L1819.68 133.713 L1819.68 128.319 Z\" fill=\"#000000\" fill-rule=\"evenodd\" fill-opacity=\"1\" /><path clip-path=\"url(#clip910)\" d=\"M1842.9 141.398 Q1839.47 141.398 1837.48 144.083 Q1835.49 146.745 1835.49 151.398 Q1835.49 156.051 1837.46 158.736 Q1839.45 161.398 1842.9 161.398 Q1846.3 161.398 1848.29 158.713 Q1850.28 156.027 1850.28 151.398 Q1850.28 146.791 1848.29 144.106 Q1846.3 141.398 1842.9 141.398 M1842.9 137.787 Q1848.45 137.787 1851.62 141.398 Q1854.79 145.009 1854.79 151.398 Q1854.79 157.764 1851.62 161.398 Q1848.45 165.009 1842.9 165.009 Q1837.32 165.009 1834.15 161.398 Q1831 157.764 1831 151.398 Q1831 145.009 1834.15 141.398 Q1837.32 137.787 1842.9 137.787 Z\" fill=\"#000000\" fill-rule=\"evenodd\" fill-opacity=\"1\" /><path clip-path=\"url(#clip910)\" d=\"M1883.41 148.689 L1883.41 164.338 L1879.15 164.338 L1879.15 148.828 Q1879.15 145.148 1877.71 143.319 Q1876.28 141.49 1873.41 141.49 Q1869.96 141.49 1867.97 143.69 Q1865.98 145.889 1865.98 149.685 L1865.98 164.338 L1861.69 164.338 L1861.69 138.412 L1865.98 138.412 L1865.98 142.44 Q1867.5 140.102 1869.56 138.944 Q1871.65 137.787 1874.35 137.787 Q1878.82 137.787 1881.11 140.565 Q1883.41 143.319 1883.41 148.689 Z\" fill=\"#000000\" fill-rule=\"evenodd\" fill-opacity=\"1\" /><path clip-path=\"url(#clip910)\" d=\"M1925.63 139.407 L1925.63 143.389 Q1923.82 142.393 1921.99 141.907 Q1920.19 141.398 1918.34 141.398 Q1914.19 141.398 1911.9 144.037 Q1909.61 146.652 1909.61 151.398 Q1909.61 156.143 1911.9 158.782 Q1914.19 161.398 1918.34 161.398 Q1920.19 161.398 1921.99 160.912 Q1923.82 160.402 1925.63 159.407 L1925.63 163.342 Q1923.85 164.176 1921.92 164.592 Q1920.03 165.009 1917.87 165.009 Q1912.02 165.009 1908.57 161.328 Q1905.12 157.648 1905.12 151.398 Q1905.12 145.055 1908.59 141.421 Q1912.09 137.787 1918.15 137.787 Q1920.12 137.787 1921.99 138.203 Q1923.87 138.597 1925.63 139.407 Z\" fill=\"#000000\" fill-rule=\"evenodd\" fill-opacity=\"1\" /><path clip-path=\"url(#clip910)\" d=\"M1932.6 154.106 L1932.6 138.412 L1936.85 138.412 L1936.85 153.944 Q1936.85 157.625 1938.29 159.476 Q1939.72 161.305 1942.6 161.305 Q1946.04 161.305 1948.03 159.106 Q1950.05 156.907 1950.05 153.111 L1950.05 138.412 L1954.31 138.412 L1954.31 164.338 L1950.05 164.338 L1950.05 160.356 Q1948.5 162.717 1946.44 163.875 Q1944.4 165.009 1941.69 165.009 Q1937.22 165.009 1934.91 162.231 Q1932.6 159.453 1932.6 154.106 M1943.31 137.787 L1943.31 137.787 Z\" fill=\"#000000\" fill-rule=\"evenodd\" fill-opacity=\"1\" /><path clip-path=\"url(#clip910)\" d=\"M1967.29 131.051 L1967.29 138.412 L1976.07 138.412 L1976.07 141.722 L1967.29 141.722 L1967.29 155.796 Q1967.29 158.967 1968.15 159.87 Q1969.03 160.773 1971.69 160.773 L1976.07 160.773 L1976.07 164.338 L1971.69 164.338 Q1966.76 164.338 1964.89 162.509 Q1963.01 160.657 1963.01 155.796 L1963.01 141.722 L1959.89 141.722 L1959.89 138.412 L1963.01 138.412 L1963.01 131.051 L1967.29 131.051 Z\" fill=\"#000000\" fill-rule=\"evenodd\" fill-opacity=\"1\" /><path clip-path=\"url(#clip910)\" d=\"M1991.72 141.398 Q1988.29 141.398 1986.3 144.083 Q1984.31 146.745 1984.31 151.398 Q1984.31 156.051 1986.28 158.736 Q1988.27 161.398 1991.72 161.398 Q1995.12 161.398 1997.11 158.713 Q1999.1 156.027 1999.1 151.398 Q1999.1 146.791 1997.11 144.106 Q1995.12 141.398 1991.72 141.398 M1991.72 137.787 Q1997.27 137.787 2000.44 141.398 Q2003.61 145.009 2003.61 151.398 Q2003.61 157.764 2000.44 161.398 Q1997.27 165.009 1991.72 165.009 Q1986.14 165.009 1982.97 161.398 Q1979.82 157.764 1979.82 151.398 Q1979.82 145.009 1982.97 141.398 Q1986.14 137.787 1991.72 137.787 Z\" fill=\"#000000\" fill-rule=\"evenodd\" fill-opacity=\"1\" /><path clip-path=\"url(#clip910)\" d=\"M2023.8 128.319 L2023.8 131.861 L2019.72 131.861 Q2017.43 131.861 2016.53 132.787 Q2015.65 133.713 2015.65 136.12 L2015.65 138.412 L2022.66 138.412 L2022.66 141.722 L2015.65 141.722 L2015.65 164.338 L2011.37 164.338 L2011.37 141.722 L2007.29 141.722 L2007.29 138.412 L2011.37 138.412 L2011.37 136.606 Q2011.37 132.278 2013.38 130.31 Q2015.4 128.319 2019.77 128.319 L2023.8 128.319 Z\" fill=\"#000000\" fill-rule=\"evenodd\" fill-opacity=\"1\" /><path clip-path=\"url(#clip910)\" d=\"M2040.49 128.319 L2040.49 131.861 L2036.41 131.861 Q2034.12 131.861 2033.22 132.787 Q2032.34 133.713 2032.34 136.12 L2032.34 138.412 L2039.35 138.412 L2039.35 141.722 L2032.34 141.722 L2032.34 164.338 L2028.06 164.338 L2028.06 141.722 L2023.98 141.722 L2023.98 138.412 L2028.06 138.412 L2028.06 136.606 Q2028.06 132.278 2030.07 130.31 Q2032.09 128.319 2036.46 128.319 L2040.49 128.319 Z\" fill=\"#000000\" fill-rule=\"evenodd\" fill-opacity=\"1\" /><path clip-path=\"url(#clip910)\" d=\"M2044.61 142.81 L2074.28 142.81 L2074.28 146.699 L2044.61 146.699 L2044.61 142.81 M2044.61 152.254 L2074.28 152.254 L2074.28 156.189 L2044.61 156.189 L2044.61 152.254 Z\" fill=\"#000000\" fill-rule=\"evenodd\" fill-opacity=\"1\" /><path clip-path=\"url(#clip910)\" d=\"M2085.19 160.402 L2092.83 160.402 L2092.83 134.037 L2084.52 135.703 L2084.52 131.444 L2092.78 129.778 L2097.46 129.778 L2097.46 160.402 L2105.09 160.402 L2105.09 164.338 L2085.19 164.338 L2085.19 160.402 Z\" fill=\"#000000\" fill-rule=\"evenodd\" fill-opacity=\"1\" /><path clip-path=\"url(#clip910)\" d=\"M2114.54 158.458 L2119.42 158.458 L2119.42 164.338 L2114.54 164.338 L2114.54 158.458 Z\" fill=\"#000000\" fill-rule=\"evenodd\" fill-opacity=\"1\" /><path clip-path=\"url(#clip910)\" d=\"M2139.61 132.856 Q2136 132.856 2134.17 136.421 Q2132.36 139.963 2132.36 147.092 Q2132.36 154.199 2134.17 157.764 Q2136 161.305 2139.61 161.305 Q2143.24 161.305 2145.05 157.764 Q2146.88 154.199 2146.88 147.092 Q2146.88 139.963 2145.05 136.421 Q2143.24 132.856 2139.61 132.856 M2139.61 129.153 Q2145.42 129.153 2148.47 133.759 Q2151.55 138.342 2151.55 147.092 Q2151.55 155.819 2148.47 160.426 Q2145.42 165.009 2139.61 165.009 Q2133.8 165.009 2130.72 160.426 Q2127.66 155.819 2127.66 147.092 Q2127.66 138.342 2130.72 133.759 Q2133.8 129.153 2139.61 129.153 Z\" fill=\"#000000\" fill-rule=\"evenodd\" fill-opacity=\"1\" /><path clip-path=\"url(#clip910)\" d=\"M2181.34 150.31 L2181.34 152.393 L2161.76 152.393 Q2162.04 156.791 2164.4 159.106 Q2166.78 161.398 2171.02 161.398 Q2173.47 161.398 2175.77 160.796 Q2178.08 160.194 2180.35 158.99 L2180.35 163.018 Q2178.06 163.99 2175.65 164.5 Q2173.24 165.009 2170.77 165.009 Q2164.56 165.009 2160.93 161.398 Q2157.32 157.787 2157.32 151.629 Q2157.32 145.264 2160.74 141.537 Q2164.19 137.787 2170.02 137.787 Q2175.26 137.787 2178.29 141.166 Q2181.34 144.523 2181.34 150.31 M2177.08 149.06 Q2177.04 145.565 2175.12 143.481 Q2173.22 141.398 2170.07 141.398 Q2166.51 141.398 2164.35 143.412 Q2162.22 145.426 2161.9 149.083 L2177.08 149.06 Z\" fill=\"#000000\" fill-rule=\"evenodd\" fill-opacity=\"1\" /><path clip-path=\"url(#clip910)\" d=\"M2186.18 149.453 L2198.66 149.453 L2198.66 153.25 L2186.18 153.25 L2186.18 149.453 Z\" fill=\"#000000\" fill-rule=\"evenodd\" fill-opacity=\"1\" /><path clip-path=\"url(#clip910)\" d=\"M2220.21 145.703 Q2223.57 146.421 2225.44 148.689 Q2227.34 150.958 2227.34 154.291 Q2227.34 159.407 2223.82 162.208 Q2220.3 165.009 2213.82 165.009 Q2211.64 165.009 2209.33 164.569 Q2207.04 164.152 2204.58 163.296 L2204.58 158.782 Q2206.53 159.916 2208.84 160.495 Q2211.16 161.074 2213.68 161.074 Q2218.08 161.074 2220.37 159.338 Q2222.69 157.601 2222.69 154.291 Q2222.69 151.236 2220.53 149.523 Q2218.4 147.787 2214.58 147.787 L2210.56 147.787 L2210.56 143.944 L2214.77 143.944 Q2218.22 143.944 2220.05 142.578 Q2221.88 141.19 2221.88 138.597 Q2221.88 135.935 2219.98 134.523 Q2218.1 133.088 2214.58 133.088 Q2212.66 133.088 2210.46 133.504 Q2208.26 133.921 2205.63 134.801 L2205.63 130.634 Q2208.29 129.893 2210.6 129.523 Q2212.94 129.153 2215 129.153 Q2220.33 129.153 2223.43 131.583 Q2226.53 133.99 2226.53 138.111 Q2226.53 140.981 2224.89 142.972 Q2223.24 144.94 2220.21 145.703 Z\" fill=\"#000000\" fill-rule=\"evenodd\" fill-opacity=\"1\" /><path clip-path=\"url(#clip910)\" d=\"M2246.2 132.856 Q2242.59 132.856 2240.76 136.421 Q2238.96 139.963 2238.96 147.092 Q2238.96 154.199 2240.76 157.764 Q2242.59 161.305 2246.2 161.305 Q2249.84 161.305 2251.64 157.764 Q2253.47 154.199 2253.47 147.092 Q2253.47 139.963 2251.64 136.421 Q2249.84 132.856 2246.2 132.856 M2246.2 129.153 Q2252.01 129.153 2255.07 133.759 Q2258.15 138.342 2258.15 147.092 Q2258.15 155.819 2255.07 160.426 Q2252.01 165.009 2246.2 165.009 Q2240.39 165.009 2237.32 160.426 Q2234.26 155.819 2234.26 147.092 Q2234.26 138.342 2237.32 133.759 Q2240.39 129.153 2246.2 129.153 Z\" fill=\"#000000\" fill-rule=\"evenodd\" fill-opacity=\"1\" /></svg>\n"
      ]
     },
     "metadata": {},
     "output_type": "display_data"
    }
   ],
   "source": [
    "\n",
    "other_norms=false\n",
    "save_bool = false\n",
    "times1 = Vector(LinRange(δt1,T_enrich,Int(nframe_en1)))\n",
    "times2 = Vector(LinRange(T_enrich+δt,T,Int(nframe_un)))\n",
    " \n",
    "error_propagation2(corr,times1,times2,H_single,δt1,δt2,Ci,N,Krylov_cutoff,k2,tdvp_cutoff,other_norms,save_bool)\n"
   ]
  },
  {
   "cell_type": "code",
   "execution_count": 85,
   "id": "fef4a33d",
   "metadata": {},
   "outputs": [
    {
     "data": {
      "text/plain": [
       "8"
      ]
     },
     "execution_count": 85,
     "metadata": {},
     "output_type": "execute_result"
    }
   ],
   "source": [
    "length(times2)"
   ]
  },
  {
   "cell_type": "code",
   "execution_count": 74,
   "id": "4ec9446f",
   "metadata": {},
   "outputs": [
    {
     "name": "stdout",
     "output_type": "stream",
     "text": [
      "search: \u001b[0m\u001b[1mp\u001b[22m\u001b[0m\u001b[1mu\u001b[22m\u001b[0m\u001b[1ms\u001b[22m\u001b[0m\u001b[1mh\u001b[22m \u001b[0m\u001b[1mp\u001b[22m\u001b[0m\u001b[1mu\u001b[22m\u001b[0m\u001b[1ms\u001b[22m\u001b[0m\u001b[1mh\u001b[22m! \u001b[0m\u001b[1mp\u001b[22m\u001b[0m\u001b[1mu\u001b[22m\u001b[0m\u001b[1ms\u001b[22m\u001b[0m\u001b[1mh\u001b[22mfirst \u001b[0m\u001b[1mp\u001b[22m\u001b[0m\u001b[1mu\u001b[22m\u001b[0m\u001b[1ms\u001b[22m\u001b[0m\u001b[1mh\u001b[22mfirst! \u001b[0m\u001b[1mp\u001b[22m\u001b[0m\u001b[1mu\u001b[22m\u001b[0m\u001b[1ms\u001b[22m\u001b[0m\u001b[1mh\u001b[22mdisplay ex\u001b[0m\u001b[1mp\u001b[22mand\u001b[0m\u001b[1mu\u001b[22m\u001b[0m\u001b[1ms\u001b[22mer \u001b[0m\u001b[1mP\u001b[22mlot\u001b[0m\u001b[1mU\u001b[22mtil\u001b[0m\u001b[1ms\u001b[22m\n",
      "\n"
     ]
    },
    {
     "data": {
      "text/latex": [
       "\\begin{verbatim}\n",
       "push(is::Indices, i::Index)\n",
       "\\end{verbatim}\n",
       "Make a new Indices with the Index i inserted at the end.\n",
       "\n"
      ],
      "text/markdown": [
       "```\n",
       "push(is::Indices, i::Index)\n",
       "```\n",
       "\n",
       "Make a new Indices with the Index i inserted at the end.\n"
      ],
      "text/plain": [
       "\u001b[36m  push(is::Indices, i::Index)\u001b[39m\n",
       "\n",
       "  Make a new Indices with the Index i inserted at the end."
      ]
     },
     "execution_count": 74,
     "metadata": {},
     "output_type": "execute_result"
    }
   ],
   "source": [
    "append!(times1,times2)"
   ]
  },
  {
   "cell_type": "code",
   "execution_count": 61,
   "id": "ce6d816a",
   "metadata": {},
   "outputs": [
    {
     "data": {
      "text/plain": [
       "20-element Vector{Float64}:\n",
       " 0.001\n",
       " 0.002\n",
       " 0.003\n",
       " 0.004\n",
       " 0.005\n",
       " 0.006\n",
       " 0.007\n",
       " 0.008\n",
       " 0.009\n",
       " 0.009999999999999998\n",
       " 0.011\n",
       " 0.012\n",
       " 0.013\n",
       " 0.014\n",
       " 0.015\n",
       " 0.016\n",
       " 0.017\n",
       " 0.018000000000000002\n",
       " 0.019\n",
       " 0.02"
      ]
     },
     "execution_count": 61,
     "metadata": {},
     "output_type": "execute_result"
    }
   ],
   "source": [
    "Vector(LinRange(δt1,T_enrich,Int(nframe_en1)))"
   ]
  },
  {
   "cell_type": "code",
   "execution_count": 59,
   "id": "7b9b9d35",
   "metadata": {},
   "outputs": [
    {
     "data": {
      "text/plain": [
       "8"
      ]
     },
     "execution_count": 59,
     "metadata": {},
     "output_type": "execute_result"
    }
   ],
   "source": [
    "length(times2)"
   ]
  },
  {
   "cell_type": "code",
   "execution_count": 62,
   "id": "62761378",
   "metadata": {},
   "outputs": [
    {
     "data": {
      "text/plain": [
       "29"
      ]
     },
     "execution_count": 62,
     "metadata": {},
     "output_type": "execute_result"
    }
   ],
   "source": [
    "length(times1)"
   ]
  },
  {
   "cell_type": "code",
   "execution_count": 110,
   "id": "fce08077",
   "metadata": {},
   "outputs": [
    {
     "data": {
      "text/plain": [
       "1×10 Matrix{Float64}:\n",
       " 3.07725e-16  1.66582e-18  -6.44109e-17  …  1.04843e-16  -1.71387e-16"
      ]
     },
     "execution_count": 110,
     "metadata": {},
     "output_type": "execute_result"
    }
   ],
   "source": [
    "function reaction_mapping(w,J,L)\n",
    "   \n",
    "   # J = J*(heaviside(w+1) - heaviside(w-1)); # Ensure input function is clipped to the domain.\n",
    "    \n",
    "    #Define fixed numerical mesh over [-2,2] to capture spectral function and\n",
    "    # its hilbert transform correctly within [-1,1].\n",
    "    samp = 1000 # Number of points in mesh.\n",
    "    x = LinRange(-2,2,samp);\n",
    "    Jx = zeros(samp)\n",
    "    Jx =[J(xi) for xi in x]  # Evaluate symbolic input function over the grid.\n",
    "\n",
    "    tsq = zeros(1,L)\n",
    "    en = zeros(1,L)\n",
    "    # Loop over the omega intervals and perform integrations:\n",
    "    Jcur = Jx; # Current bath spectral function.\n",
    "    for s=1:L\n",
    "      \n",
    "      # Simple trapezoid integration for hopping squared and on-site energy:\n",
    "      tsq[s] = trapz(x,Jcur); \n",
    "      en[s] = (1/tsq[s])*trapz(x,x.*Jcur);\n",
    "\n",
    "      Jprev = Jcur;\n",
    "      JH = imag(hilbert(Jprev)); # Hilbert transform.\n",
    "      Jcur = ((tsq[s]/pi)^2)*Jprev./(JH.^2+Jprev.^2);\n",
    "    end\n",
    "    \n",
    "    return tsq, en\n",
    "end\n",
    "L = 10    \n",
    "reaction_mapping(w,J,L)[2]    \n",
    "    "
   ]
  },
  {
   "cell_type": "code",
   "execution_count": 46,
   "id": "d8ce9c90",
   "metadata": {},
   "outputs": [
    {
     "data": {
      "text/plain": [
       "(Jb,)"
      ]
     },
     "execution_count": 46,
     "metadata": {},
     "output_type": "execute_result"
    }
   ],
   "source": [
    "@variables w; #% Define dimensionless angular frequency w symbolically.\n",
    "@syms Jb[1:5]# % Define symbolic bath DOS function.\n"
   ]
  },
  {
   "cell_type": "code",
   "execution_count": null,
   "id": "d46d77e3",
   "metadata": {},
   "outputs": [],
   "source": []
  },
  {
   "cell_type": "code",
   "execution_count": 55,
   "id": "610597cc",
   "metadata": {},
   "outputs": [
    {
     "data": {
      "text/latex": [
       "$$ \\begin{equation}\n",
       "0.6366197723675814 \\sqrt{1 - w^{2}}\n",
       "\\end{equation}\n",
       " $$"
      ],
      "text/plain": [
       "0.6366197723675814sqrt(1 - (w^2))"
      ]
     },
     "execution_count": 55,
     "metadata": {},
     "output_type": "execute_result"
    }
   ],
   "source": [
    "J(w)"
   ]
  },
  {
   "cell_type": "code",
   "execution_count": null,
   "id": "6502d7d5",
   "metadata": {},
   "outputs": [],
   "source": []
  },
  {
   "cell_type": "code",
   "execution_count": 88,
   "id": "0c8b6219",
   "metadata": {},
   "outputs": [
    {
     "ename": "LoadError",
     "evalue": "MethodError: no method matching Complex(::Vector{Float64})\n\u001b[0mClosest candidates are:\n\u001b[0m  (::Type{T})(\u001b[91m::AbstractChar\u001b[39m) where T<:Union{AbstractChar, Number} at char.jl:50\n\u001b[0m  (::Type{T})(\u001b[91m::Base.TwicePrecision\u001b[39m) where T<:Number at twiceprecision.jl:266\n\u001b[0m  Complex(\u001b[91m::Real\u001b[39m) at complex.jl:18\n\u001b[0m  ...",
     "output_type": "error",
     "traceback": [
      "MethodError: no method matching Complex(::Vector{Float64})\n\u001b[0mClosest candidates are:\n\u001b[0m  (::Type{T})(\u001b[91m::AbstractChar\u001b[39m) where T<:Union{AbstractChar, Number} at char.jl:50\n\u001b[0m  (::Type{T})(\u001b[91m::Base.TwicePrecision\u001b[39m) where T<:Number at twiceprecision.jl:266\n\u001b[0m  Complex(\u001b[91m::Real\u001b[39m) at complex.jl:18\n\u001b[0m  ...",
      "",
      "Stacktrace:",
      " [1] J(w::LinRange{Float64, Int64})",
      "   @ Main .\\In[87]:2",
      " [2] top-level scope",
      "   @ In[88]:2",
      " [3] eval",
      "   @ .\\boot.jl:368 [inlined]",
      " [4] include_string(mapexpr::typeof(REPL.softscope), mod::Module, code::String, filename::String)",
      "   @ Base .\\loading.jl:1428"
     ]
    }
   ],
   "source": [
    "x = LinRange(-2,2,1000)\n",
    "J(x)"
   ]
  },
  {
   "cell_type": "code",
   "execution_count": 100,
   "id": "a9543f02",
   "metadata": {},
   "outputs": [],
   "source": [
    "\n",
    "    \n",
    "J(w) = (2*V^2*sqrt(Complex(1 -w^2)/pi);\n"
   ]
  },
  {
   "cell_type": "code",
   "execution_count": 101,
   "id": "40b9520f",
   "metadata": {},
   "outputs": [
    {
     "data": {
      "text/plain": [
       "1000-element Vector{Float64}:\n",
       " 0.0\n",
       " 0.0\n",
       " 0.0\n",
       " 0.0\n",
       " 0.0\n",
       " 0.0\n",
       " 0.0\n",
       " 0.0\n",
       " 0.0\n",
       " 0.0\n",
       " 0.0\n",
       " 0.0\n",
       " 0.0\n",
       " ⋮\n",
       " 0.0\n",
       " 0.0\n",
       " 0.0\n",
       " 0.0\n",
       " 0.0\n",
       " 0.0\n",
       " 0.0\n",
       " 0.0\n",
       " 0.0\n",
       " 0.0\n",
       " 0.0\n",
       " 0.0"
      ]
     },
     "execution_count": 101,
     "metadata": {},
     "output_type": "execute_result"
    }
   ],
   "source": []
  },
  {
   "cell_type": "code",
   "execution_count": 102,
   "id": "5fdf1bc6",
   "metadata": {},
   "outputs": [
    {
     "data": {
      "image/svg+xml": [
       "<?xml version=\"1.0\" encoding=\"utf-8\"?>\n",
       "<svg xmlns=\"http://www.w3.org/2000/svg\" xmlns:xlink=\"http://www.w3.org/1999/xlink\" width=\"600\" height=\"400\" viewBox=\"0 0 2400 1600\">\n",
       "<defs>\n",
       "  <clipPath id=\"clip570\">\n",
       "    <rect x=\"0\" y=\"0\" width=\"2400\" height=\"1600\"/>\n",
       "  </clipPath>\n",
       "</defs>\n",
       "<path clip-path=\"url(#clip570)\" d=\"\n",
       "M0 1600 L2400 1600 L2400 0 L0 0  Z\n",
       "  \" fill=\"#ffffff\" fill-rule=\"evenodd\" fill-opacity=\"1\"/>\n",
       "<defs>\n",
       "  <clipPath id=\"clip571\">\n",
       "    <rect x=\"480\" y=\"0\" width=\"1681\" height=\"1600\"/>\n",
       "  </clipPath>\n",
       "</defs>\n",
       "<path clip-path=\"url(#clip570)\" d=\"\n",
       "M156.598 1486.45 L2352.76 1486.45 L2352.76 47.2441 L156.598 47.2441  Z\n",
       "  \" fill=\"#ffffff\" fill-rule=\"evenodd\" fill-opacity=\"1\"/>\n",
       "<defs>\n",
       "  <clipPath id=\"clip572\">\n",
       "    <rect x=\"156\" y=\"47\" width=\"2197\" height=\"1440\"/>\n",
       "  </clipPath>\n",
       "</defs>\n",
       "<polyline clip-path=\"url(#clip572)\" style=\"stroke:#000000; stroke-linecap:round; stroke-linejoin:round; stroke-width:2; stroke-opacity:0.1; fill:none\" points=\"\n",
       "  218.754,1486.45 218.754,47.2441 \n",
       "  \"/>\n",
       "<polyline clip-path=\"url(#clip572)\" style=\"stroke:#000000; stroke-linecap:round; stroke-linejoin:round; stroke-width:2; stroke-opacity:0.1; fill:none\" points=\"\n",
       "  736.715,1486.45 736.715,47.2441 \n",
       "  \"/>\n",
       "<polyline clip-path=\"url(#clip572)\" style=\"stroke:#000000; stroke-linecap:round; stroke-linejoin:round; stroke-width:2; stroke-opacity:0.1; fill:none\" points=\"\n",
       "  1254.68,1486.45 1254.68,47.2441 \n",
       "  \"/>\n",
       "<polyline clip-path=\"url(#clip572)\" style=\"stroke:#000000; stroke-linecap:round; stroke-linejoin:round; stroke-width:2; stroke-opacity:0.1; fill:none\" points=\"\n",
       "  1772.64,1486.45 1772.64,47.2441 \n",
       "  \"/>\n",
       "<polyline clip-path=\"url(#clip572)\" style=\"stroke:#000000; stroke-linecap:round; stroke-linejoin:round; stroke-width:2; stroke-opacity:0.1; fill:none\" points=\"\n",
       "  2290.6,1486.45 2290.6,47.2441 \n",
       "  \"/>\n",
       "<polyline clip-path=\"url(#clip570)\" style=\"stroke:#000000; stroke-linecap:round; stroke-linejoin:round; stroke-width:4; stroke-opacity:1; fill:none\" points=\"\n",
       "  156.598,1486.45 2352.76,1486.45 \n",
       "  \"/>\n",
       "<polyline clip-path=\"url(#clip570)\" style=\"stroke:#000000; stroke-linecap:round; stroke-linejoin:round; stroke-width:4; stroke-opacity:1; fill:none\" points=\"\n",
       "  218.754,1486.45 218.754,1467.55 \n",
       "  \"/>\n",
       "<polyline clip-path=\"url(#clip570)\" style=\"stroke:#000000; stroke-linecap:round; stroke-linejoin:round; stroke-width:4; stroke-opacity:1; fill:none\" points=\"\n",
       "  736.715,1486.45 736.715,1467.55 \n",
       "  \"/>\n",
       "<polyline clip-path=\"url(#clip570)\" style=\"stroke:#000000; stroke-linecap:round; stroke-linejoin:round; stroke-width:4; stroke-opacity:1; fill:none\" points=\"\n",
       "  1254.68,1486.45 1254.68,1467.55 \n",
       "  \"/>\n",
       "<polyline clip-path=\"url(#clip570)\" style=\"stroke:#000000; stroke-linecap:round; stroke-linejoin:round; stroke-width:4; stroke-opacity:1; fill:none\" points=\"\n",
       "  1772.64,1486.45 1772.64,1467.55 \n",
       "  \"/>\n",
       "<polyline clip-path=\"url(#clip570)\" style=\"stroke:#000000; stroke-linecap:round; stroke-linejoin:round; stroke-width:4; stroke-opacity:1; fill:none\" points=\"\n",
       "  2290.6,1486.45 2290.6,1467.55 \n",
       "  \"/>\n",
       "<path clip-path=\"url(#clip570)\" d=\"M188.696 1532.02 L218.372 1532.02 L218.372 1535.95 L188.696 1535.95 L188.696 1532.02 Z\" fill=\"#000000\" fill-rule=\"evenodd\" fill-opacity=\"1\" /><path clip-path=\"url(#clip570)\" d=\"M232.492 1544.91 L248.811 1544.91 L248.811 1548.85 L226.867 1548.85 L226.867 1544.91 Q229.529 1542.16 234.112 1537.53 Q238.719 1532.88 239.899 1531.53 Q242.145 1529.01 243.024 1527.27 Q243.927 1525.51 243.927 1523.82 Q243.927 1521.07 241.983 1519.33 Q240.061 1517.6 236.96 1517.6 Q234.76 1517.6 232.307 1518.36 Q229.876 1519.13 227.099 1520.68 L227.099 1515.95 Q229.923 1514.82 232.376 1514.24 Q234.83 1513.66 236.867 1513.66 Q242.237 1513.66 245.432 1516.35 Q248.626 1519.03 248.626 1523.52 Q248.626 1525.65 247.816 1527.57 Q247.029 1529.47 244.922 1532.07 Q244.344 1532.74 241.242 1535.95 Q238.14 1539.15 232.492 1544.91 Z\" fill=\"#000000\" fill-rule=\"evenodd\" fill-opacity=\"1\" /><path clip-path=\"url(#clip570)\" d=\"M706.472 1532.02 L736.148 1532.02 L736.148 1535.95 L706.472 1535.95 L706.472 1532.02 Z\" fill=\"#000000\" fill-rule=\"evenodd\" fill-opacity=\"1\" /><path clip-path=\"url(#clip570)\" d=\"M747.051 1544.91 L754.69 1544.91 L754.69 1518.55 L746.38 1520.21 L746.38 1515.95 L754.643 1514.29 L759.319 1514.29 L759.319 1544.91 L766.958 1544.91 L766.958 1548.85 L747.051 1548.85 L747.051 1544.91 Z\" fill=\"#000000\" fill-rule=\"evenodd\" fill-opacity=\"1\" /><path clip-path=\"url(#clip570)\" d=\"M1254.68 1517.37 Q1251.07 1517.37 1249.24 1520.93 Q1247.43 1524.47 1247.43 1531.6 Q1247.43 1538.71 1249.24 1542.27 Q1251.07 1545.82 1254.68 1545.82 Q1258.31 1545.82 1260.12 1542.27 Q1261.95 1538.71 1261.95 1531.6 Q1261.95 1524.47 1260.12 1520.93 Q1258.31 1517.37 1254.68 1517.37 M1254.68 1513.66 Q1260.49 1513.66 1263.54 1518.27 Q1266.62 1522.85 1266.62 1531.6 Q1266.62 1540.33 1263.54 1544.94 Q1260.49 1549.52 1254.68 1549.52 Q1248.87 1549.52 1245.79 1544.94 Q1242.73 1540.33 1242.73 1531.6 Q1242.73 1522.85 1245.79 1518.27 Q1248.87 1513.66 1254.68 1513.66 Z\" fill=\"#000000\" fill-rule=\"evenodd\" fill-opacity=\"1\" /><path clip-path=\"url(#clip570)\" d=\"M1763.02 1544.91 L1770.66 1544.91 L1770.66 1518.55 L1762.35 1520.21 L1762.35 1515.95 L1770.61 1514.29 L1775.29 1514.29 L1775.29 1544.91 L1782.93 1544.91 L1782.93 1548.85 L1763.02 1548.85 L1763.02 1544.91 Z\" fill=\"#000000\" fill-rule=\"evenodd\" fill-opacity=\"1\" /><path clip-path=\"url(#clip570)\" d=\"M2285.25 1544.91 L2301.57 1544.91 L2301.57 1548.85 L2279.63 1548.85 L2279.63 1544.91 Q2282.29 1542.16 2286.87 1537.53 Q2291.48 1532.88 2292.66 1531.53 Q2294.91 1529.01 2295.79 1527.27 Q2296.69 1525.51 2296.69 1523.82 Q2296.69 1521.07 2294.74 1519.33 Q2292.82 1517.6 2289.72 1517.6 Q2287.52 1517.6 2285.07 1518.36 Q2282.64 1519.13 2279.86 1520.68 L2279.86 1515.95 Q2282.68 1514.82 2285.14 1514.24 Q2287.59 1513.66 2289.63 1513.66 Q2295 1513.66 2298.19 1516.35 Q2301.39 1519.03 2301.39 1523.52 Q2301.39 1525.65 2300.58 1527.57 Q2299.79 1529.47 2297.68 1532.07 Q2297.11 1532.74 2294 1535.95 Q2290.9 1539.15 2285.25 1544.91 Z\" fill=\"#000000\" fill-rule=\"evenodd\" fill-opacity=\"1\" /><polyline clip-path=\"url(#clip572)\" style=\"stroke:#000000; stroke-linecap:round; stroke-linejoin:round; stroke-width:2; stroke-opacity:0.1; fill:none\" points=\"\n",
       "  156.598,1445.72 2352.76,1445.72 \n",
       "  \"/>\n",
       "<polyline clip-path=\"url(#clip572)\" style=\"stroke:#000000; stroke-linecap:round; stroke-linejoin:round; stroke-width:2; stroke-opacity:0.1; fill:none\" points=\"\n",
       "  156.598,1232.44 2352.76,1232.44 \n",
       "  \"/>\n",
       "<polyline clip-path=\"url(#clip572)\" style=\"stroke:#000000; stroke-linecap:round; stroke-linejoin:round; stroke-width:2; stroke-opacity:0.1; fill:none\" points=\"\n",
       "  156.598,1019.17 2352.76,1019.17 \n",
       "  \"/>\n",
       "<polyline clip-path=\"url(#clip572)\" style=\"stroke:#000000; stroke-linecap:round; stroke-linejoin:round; stroke-width:2; stroke-opacity:0.1; fill:none\" points=\"\n",
       "  156.598,805.895 2352.76,805.895 \n",
       "  \"/>\n",
       "<polyline clip-path=\"url(#clip572)\" style=\"stroke:#000000; stroke-linecap:round; stroke-linejoin:round; stroke-width:2; stroke-opacity:0.1; fill:none\" points=\"\n",
       "  156.598,592.621 2352.76,592.621 \n",
       "  \"/>\n",
       "<polyline clip-path=\"url(#clip572)\" style=\"stroke:#000000; stroke-linecap:round; stroke-linejoin:round; stroke-width:2; stroke-opacity:0.1; fill:none\" points=\"\n",
       "  156.598,379.348 2352.76,379.348 \n",
       "  \"/>\n",
       "<polyline clip-path=\"url(#clip572)\" style=\"stroke:#000000; stroke-linecap:round; stroke-linejoin:round; stroke-width:2; stroke-opacity:0.1; fill:none\" points=\"\n",
       "  156.598,166.074 2352.76,166.074 \n",
       "  \"/>\n",
       "<polyline clip-path=\"url(#clip570)\" style=\"stroke:#000000; stroke-linecap:round; stroke-linejoin:round; stroke-width:4; stroke-opacity:1; fill:none\" points=\"\n",
       "  156.598,1486.45 156.598,47.2441 \n",
       "  \"/>\n",
       "<polyline clip-path=\"url(#clip570)\" style=\"stroke:#000000; stroke-linecap:round; stroke-linejoin:round; stroke-width:4; stroke-opacity:1; fill:none\" points=\"\n",
       "  156.598,1445.72 175.496,1445.72 \n",
       "  \"/>\n",
       "<polyline clip-path=\"url(#clip570)\" style=\"stroke:#000000; stroke-linecap:round; stroke-linejoin:round; stroke-width:4; stroke-opacity:1; fill:none\" points=\"\n",
       "  156.598,1232.44 175.496,1232.44 \n",
       "  \"/>\n",
       "<polyline clip-path=\"url(#clip570)\" style=\"stroke:#000000; stroke-linecap:round; stroke-linejoin:round; stroke-width:4; stroke-opacity:1; fill:none\" points=\"\n",
       "  156.598,1019.17 175.496,1019.17 \n",
       "  \"/>\n",
       "<polyline clip-path=\"url(#clip570)\" style=\"stroke:#000000; stroke-linecap:round; stroke-linejoin:round; stroke-width:4; stroke-opacity:1; fill:none\" points=\"\n",
       "  156.598,805.895 175.496,805.895 \n",
       "  \"/>\n",
       "<polyline clip-path=\"url(#clip570)\" style=\"stroke:#000000; stroke-linecap:round; stroke-linejoin:round; stroke-width:4; stroke-opacity:1; fill:none\" points=\"\n",
       "  156.598,592.621 175.496,592.621 \n",
       "  \"/>\n",
       "<polyline clip-path=\"url(#clip570)\" style=\"stroke:#000000; stroke-linecap:round; stroke-linejoin:round; stroke-width:4; stroke-opacity:1; fill:none\" points=\"\n",
       "  156.598,379.348 175.496,379.348 \n",
       "  \"/>\n",
       "<polyline clip-path=\"url(#clip570)\" style=\"stroke:#000000; stroke-linecap:round; stroke-linejoin:round; stroke-width:4; stroke-opacity:1; fill:none\" points=\"\n",
       "  156.598,166.074 175.496,166.074 \n",
       "  \"/>\n",
       "<path clip-path=\"url(#clip570)\" d=\"M63.4226 1431.51 Q59.8115 1431.51 57.9828 1435.08 Q56.1773 1438.62 56.1773 1445.75 Q56.1773 1452.86 57.9828 1456.42 Q59.8115 1459.96 63.4226 1459.96 Q67.0569 1459.96 68.8624 1456.42 Q70.6911 1452.86 70.6911 1445.75 Q70.6911 1438.62 68.8624 1435.08 Q67.0569 1431.51 63.4226 1431.51 M63.4226 1427.81 Q69.2328 1427.81 72.2883 1432.42 Q75.367 1437 75.367 1445.75 Q75.367 1454.48 72.2883 1459.08 Q69.2328 1463.67 63.4226 1463.67 Q57.6125 1463.67 54.5338 1459.08 Q51.4782 1454.48 51.4782 1445.75 Q51.4782 1437 54.5338 1432.42 Q57.6125 1427.81 63.4226 1427.81 Z\" fill=\"#000000\" fill-rule=\"evenodd\" fill-opacity=\"1\" /><path clip-path=\"url(#clip570)\" d=\"M83.5845 1457.12 L88.4688 1457.12 L88.4688 1463 L83.5845 1463 L83.5845 1457.12 Z\" fill=\"#000000\" fill-rule=\"evenodd\" fill-opacity=\"1\" /><path clip-path=\"url(#clip570)\" d=\"M108.654 1431.51 Q105.043 1431.51 103.214 1435.08 Q101.409 1438.62 101.409 1445.75 Q101.409 1452.86 103.214 1456.42 Q105.043 1459.96 108.654 1459.96 Q112.288 1459.96 114.094 1456.42 Q115.922 1452.86 115.922 1445.75 Q115.922 1438.62 114.094 1435.08 Q112.288 1431.51 108.654 1431.51 M108.654 1427.81 Q114.464 1427.81 117.52 1432.42 Q120.598 1437 120.598 1445.75 Q120.598 1454.48 117.52 1459.08 Q114.464 1463.67 108.654 1463.67 Q102.844 1463.67 99.765 1459.08 Q96.7095 1454.48 96.7095 1445.75 Q96.7095 1437 99.765 1432.42 Q102.844 1427.81 108.654 1427.81 Z\" fill=\"#000000\" fill-rule=\"evenodd\" fill-opacity=\"1\" /><path clip-path=\"url(#clip570)\" d=\"M64.6495 1218.24 Q61.0384 1218.24 59.2097 1221.81 Q57.4041 1225.35 57.4041 1232.48 Q57.4041 1239.58 59.2097 1243.15 Q61.0384 1246.69 64.6495 1246.69 Q68.2837 1246.69 70.0892 1243.15 Q71.9179 1239.58 71.9179 1232.48 Q71.9179 1225.35 70.0892 1221.81 Q68.2837 1218.24 64.6495 1218.24 M64.6495 1214.54 Q70.4596 1214.54 73.5152 1219.14 Q76.5938 1223.73 76.5938 1232.48 Q76.5938 1241.2 73.5152 1245.81 Q70.4596 1250.39 64.6495 1250.39 Q58.8393 1250.39 55.7606 1245.81 Q52.7051 1241.2 52.7051 1232.48 Q52.7051 1223.73 55.7606 1219.14 Q58.8393 1214.54 64.6495 1214.54 Z\" fill=\"#000000\" fill-rule=\"evenodd\" fill-opacity=\"1\" /><path clip-path=\"url(#clip570)\" d=\"M84.8114 1243.84 L89.6956 1243.84 L89.6956 1249.72 L84.8114 1249.72 L84.8114 1243.84 Z\" fill=\"#000000\" fill-rule=\"evenodd\" fill-opacity=\"1\" /><path clip-path=\"url(#clip570)\" d=\"M100.691 1245.79 L108.33 1245.79 L108.33 1219.42 L100.02 1221.09 L100.02 1216.83 L108.283 1215.16 L112.959 1215.16 L112.959 1245.79 L120.598 1245.79 L120.598 1249.72 L100.691 1249.72 L100.691 1245.79 Z\" fill=\"#000000\" fill-rule=\"evenodd\" fill-opacity=\"1\" /><path clip-path=\"url(#clip570)\" d=\"M65.0198 1004.97 Q61.4087 1004.97 59.58 1008.53 Q57.7745 1012.07 57.7745 1019.2 Q57.7745 1026.31 59.58 1029.87 Q61.4087 1033.42 65.0198 1033.42 Q68.6541 1033.42 70.4596 1029.87 Q72.2883 1026.31 72.2883 1019.2 Q72.2883 1012.07 70.4596 1008.53 Q68.6541 1004.97 65.0198 1004.97 M65.0198 1001.26 Q70.83 1001.26 73.8855 1005.87 Q76.9642 1010.45 76.9642 1019.2 Q76.9642 1027.93 73.8855 1032.54 Q70.83 1037.12 65.0198 1037.12 Q59.2097 1037.12 56.131 1032.54 Q53.0754 1027.93 53.0754 1019.2 Q53.0754 1010.45 56.131 1005.87 Q59.2097 1001.26 65.0198 1001.26 Z\" fill=\"#000000\" fill-rule=\"evenodd\" fill-opacity=\"1\" /><path clip-path=\"url(#clip570)\" d=\"M85.1818 1030.57 L90.066 1030.57 L90.066 1036.45 L85.1818 1036.45 L85.1818 1030.57 Z\" fill=\"#000000\" fill-rule=\"evenodd\" fill-opacity=\"1\" /><path clip-path=\"url(#clip570)\" d=\"M104.279 1032.51 L120.598 1032.51 L120.598 1036.45 L98.6539 1036.45 L98.6539 1032.51 Q101.316 1029.76 105.899 1025.13 Q110.506 1020.48 111.686 1019.13 Q113.932 1016.61 114.811 1014.87 Q115.714 1013.12 115.714 1011.43 Q115.714 1008.67 113.77 1006.93 Q111.848 1005.2 108.746 1005.2 Q106.547 1005.2 104.094 1005.96 Q101.663 1006.73 98.8854 1008.28 L98.8854 1003.56 Q101.709 1002.42 104.163 1001.84 Q106.617 1001.26 108.654 1001.26 Q114.024 1001.26 117.219 1003.95 Q120.413 1006.63 120.413 1011.12 Q120.413 1013.25 119.603 1015.18 Q118.816 1017.07 116.709 1019.67 Q116.131 1020.34 113.029 1023.55 Q109.927 1026.75 104.279 1032.51 Z\" fill=\"#000000\" fill-rule=\"evenodd\" fill-opacity=\"1\" /><path clip-path=\"url(#clip570)\" d=\"M64.0708 791.693 Q60.4597 791.693 58.631 795.258 Q56.8254 798.8 56.8254 805.93 Q56.8254 813.036 58.631 816.601 Q60.4597 820.142 64.0708 820.142 Q67.705 820.142 69.5105 816.601 Q71.3392 813.036 71.3392 805.93 Q71.3392 798.8 69.5105 795.258 Q67.705 791.693 64.0708 791.693 M64.0708 787.99 Q69.8809 787.99 72.9365 792.596 Q76.0151 797.18 76.0151 805.93 Q76.0151 814.656 72.9365 819.263 Q69.8809 823.846 64.0708 823.846 Q58.2606 823.846 55.1819 819.263 Q52.1264 814.656 52.1264 805.93 Q52.1264 797.18 55.1819 792.596 Q58.2606 787.99 64.0708 787.99 Z\" fill=\"#000000\" fill-rule=\"evenodd\" fill-opacity=\"1\" /><path clip-path=\"url(#clip570)\" d=\"M84.2327 817.295 L89.1169 817.295 L89.1169 823.175 L84.2327 823.175 L84.2327 817.295 Z\" fill=\"#000000\" fill-rule=\"evenodd\" fill-opacity=\"1\" /><path clip-path=\"url(#clip570)\" d=\"M113.469 804.541 Q116.825 805.258 118.7 807.527 Q120.598 809.795 120.598 813.129 Q120.598 818.244 117.08 821.045 Q113.561 823.846 107.08 823.846 Q104.904 823.846 102.589 823.406 Q100.297 822.99 97.8437 822.133 L97.8437 817.619 Q99.7882 818.754 102.103 819.332 Q104.418 819.911 106.941 819.911 Q111.339 819.911 113.631 818.175 Q115.945 816.439 115.945 813.129 Q115.945 810.073 113.793 808.36 Q111.663 806.624 107.844 806.624 L103.816 806.624 L103.816 802.781 L108.029 802.781 Q111.478 802.781 113.307 801.416 Q115.135 800.027 115.135 797.434 Q115.135 794.772 113.237 793.36 Q111.362 791.925 107.844 791.925 Q105.922 791.925 103.723 792.342 Q101.524 792.758 98.8854 793.638 L98.8854 789.471 Q101.547 788.731 103.862 788.36 Q106.2 787.99 108.26 787.99 Q113.584 787.99 116.686 790.42 Q119.788 792.828 119.788 796.948 Q119.788 799.818 118.145 801.809 Q116.501 803.777 113.469 804.541 Z\" fill=\"#000000\" fill-rule=\"evenodd\" fill-opacity=\"1\" /><path clip-path=\"url(#clip570)\" d=\"M62.9365 578.42 Q59.3254 578.42 57.4967 581.985 Q55.6912 585.526 55.6912 592.656 Q55.6912 599.762 57.4967 603.327 Q59.3254 606.869 62.9365 606.869 Q66.5707 606.869 68.3763 603.327 Q70.205 599.762 70.205 592.656 Q70.205 585.526 68.3763 581.985 Q66.5707 578.42 62.9365 578.42 M62.9365 574.716 Q68.7467 574.716 71.8022 579.323 Q74.8809 583.906 74.8809 592.656 Q74.8809 601.383 71.8022 605.989 Q68.7467 610.572 62.9365 610.572 Q57.1264 610.572 54.0477 605.989 Q50.9921 601.383 50.9921 592.656 Q50.9921 583.906 54.0477 579.323 Q57.1264 574.716 62.9365 574.716 Z\" fill=\"#000000\" fill-rule=\"evenodd\" fill-opacity=\"1\" /><path clip-path=\"url(#clip570)\" d=\"M83.0984 604.022 L87.9827 604.022 L87.9827 609.901 L83.0984 609.901 L83.0984 604.022 Z\" fill=\"#000000\" fill-rule=\"evenodd\" fill-opacity=\"1\" /><path clip-path=\"url(#clip570)\" d=\"M111.015 579.415 L99.2095 597.864 L111.015 597.864 L111.015 579.415 M109.788 575.341 L115.668 575.341 L115.668 597.864 L120.598 597.864 L120.598 601.753 L115.668 601.753 L115.668 609.901 L111.015 609.901 L111.015 601.753 L95.4132 601.753 L95.4132 597.239 L109.788 575.341 Z\" fill=\"#000000\" fill-rule=\"evenodd\" fill-opacity=\"1\" /><path clip-path=\"url(#clip570)\" d=\"M64.418 365.146 Q60.8069 365.146 58.9782 368.711 Q57.1726 372.253 57.1726 379.382 Q57.1726 386.489 58.9782 390.053 Q60.8069 393.595 64.418 393.595 Q68.0522 393.595 69.8578 390.053 Q71.6865 386.489 71.6865 379.382 Q71.6865 372.253 69.8578 368.711 Q68.0522 365.146 64.418 365.146 M64.418 361.443 Q70.2281 361.443 73.2837 366.049 Q76.3624 370.632 76.3624 379.382 Q76.3624 388.109 73.2837 392.715 Q70.2281 397.299 64.418 397.299 Q58.6078 397.299 55.5291 392.715 Q52.4736 388.109 52.4736 379.382 Q52.4736 370.632 55.5291 366.049 Q58.6078 361.443 64.418 361.443 Z\" fill=\"#000000\" fill-rule=\"evenodd\" fill-opacity=\"1\" /><path clip-path=\"url(#clip570)\" d=\"M84.5799 390.748 L89.4641 390.748 L89.4641 396.628 L84.5799 396.628 L84.5799 390.748 Z\" fill=\"#000000\" fill-rule=\"evenodd\" fill-opacity=\"1\" /><path clip-path=\"url(#clip570)\" d=\"M99.6956 362.068 L118.052 362.068 L118.052 366.003 L103.978 366.003 L103.978 374.475 Q104.996 374.128 106.015 373.966 Q107.033 373.78 108.052 373.78 Q113.839 373.78 117.219 376.952 Q120.598 380.123 120.598 385.54 Q120.598 391.118 117.126 394.22 Q113.654 397.299 107.334 397.299 Q105.159 397.299 102.89 396.928 Q100.645 396.558 98.2372 395.817 L98.2372 391.118 Q100.321 392.253 102.543 392.808 Q104.765 393.364 107.242 393.364 Q111.246 393.364 113.584 391.257 Q115.922 389.151 115.922 385.54 Q115.922 381.929 113.584 379.822 Q111.246 377.716 107.242 377.716 Q105.367 377.716 103.492 378.132 Q101.64 378.549 99.6956 379.429 L99.6956 362.068 Z\" fill=\"#000000\" fill-rule=\"evenodd\" fill-opacity=\"1\" /><path clip-path=\"url(#clip570)\" d=\"M63.2606 151.873 Q59.6495 151.873 57.8208 155.437 Q56.0152 158.979 56.0152 166.109 Q56.0152 173.215 57.8208 176.78 Q59.6495 180.321 63.2606 180.321 Q66.8948 180.321 68.7004 176.78 Q70.5291 173.215 70.5291 166.109 Q70.5291 158.979 68.7004 155.437 Q66.8948 151.873 63.2606 151.873 M63.2606 148.169 Q69.0707 148.169 72.1263 152.775 Q75.205 157.359 75.205 166.109 Q75.205 174.835 72.1263 179.442 Q69.0707 184.025 63.2606 184.025 Q57.4504 184.025 54.3717 179.442 Q51.3162 174.835 51.3162 166.109 Q51.3162 157.359 54.3717 152.775 Q57.4504 148.169 63.2606 148.169 Z\" fill=\"#000000\" fill-rule=\"evenodd\" fill-opacity=\"1\" /><path clip-path=\"url(#clip570)\" d=\"M83.4225 177.474 L88.3067 177.474 L88.3067 183.354 L83.4225 183.354 L83.4225 177.474 Z\" fill=\"#000000\" fill-rule=\"evenodd\" fill-opacity=\"1\" /><path clip-path=\"url(#clip570)\" d=\"M109.071 164.21 Q105.922 164.21 104.071 166.363 Q102.242 168.516 102.242 172.266 Q102.242 175.993 104.071 178.169 Q105.922 180.321 109.071 180.321 Q112.219 180.321 114.047 178.169 Q115.899 175.993 115.899 172.266 Q115.899 168.516 114.047 166.363 Q112.219 164.21 109.071 164.21 M118.353 149.558 L118.353 153.817 Q116.594 152.984 114.788 152.544 Q113.006 152.104 111.246 152.104 Q106.617 152.104 104.163 155.229 Q101.733 158.354 101.385 164.673 Q102.751 162.66 104.811 161.595 Q106.871 160.507 109.348 160.507 Q114.557 160.507 117.566 163.678 Q120.598 166.826 120.598 172.266 Q120.598 177.59 117.45 180.808 Q114.302 184.025 109.071 184.025 Q103.075 184.025 99.9039 179.442 Q96.7326 174.835 96.7326 166.109 Q96.7326 157.914 100.621 153.053 Q104.51 148.169 111.061 148.169 Q112.82 148.169 114.603 148.516 Q116.408 148.863 118.353 149.558 Z\" fill=\"#000000\" fill-rule=\"evenodd\" fill-opacity=\"1\" /><polyline clip-path=\"url(#clip572)\" style=\"stroke:#009af9; stroke-linecap:round; stroke-linejoin:round; stroke-width:4; stroke-opacity:1; fill:none\" points=\"\n",
       "  218.754,1445.72 220.828,1445.72 222.901,1445.72 224.975,1445.72 227.049,1445.72 229.123,1445.72 231.197,1445.72 233.271,1445.72 235.345,1445.72 237.419,1445.72 \n",
       "  239.493,1445.72 241.567,1445.72 243.641,1445.72 245.715,1445.72 247.789,1445.72 249.862,1445.72 251.936,1445.72 254.01,1445.72 256.084,1445.72 258.158,1445.72 \n",
       "  260.232,1445.72 262.306,1445.72 264.38,1445.72 266.454,1445.72 268.528,1445.72 270.602,1445.72 272.676,1445.72 274.75,1445.72 276.823,1445.72 278.897,1445.72 \n",
       "  280.971,1445.72 283.045,1445.72 285.119,1445.72 287.193,1445.72 289.267,1445.72 291.341,1445.72 293.415,1445.72 295.489,1445.72 297.563,1445.72 299.637,1445.72 \n",
       "  301.71,1445.72 303.784,1445.72 305.858,1445.72 307.932,1445.72 310.006,1445.72 312.08,1445.72 314.154,1445.72 316.228,1445.72 318.302,1445.72 320.376,1445.72 \n",
       "  322.45,1445.72 324.524,1445.72 326.598,1445.72 328.671,1445.72 330.745,1445.72 332.819,1445.72 334.893,1445.72 336.967,1445.72 339.041,1445.72 341.115,1445.72 \n",
       "  343.189,1445.72 345.263,1445.72 347.337,1445.72 349.411,1445.72 351.485,1445.72 353.558,1445.72 355.632,1445.72 357.706,1445.72 359.78,1445.72 361.854,1445.72 \n",
       "  363.928,1445.72 366.002,1445.72 368.076,1445.72 370.15,1445.72 372.224,1445.72 374.298,1445.72 376.372,1445.72 378.446,1445.72 380.519,1445.72 382.593,1445.72 \n",
       "  384.667,1445.72 386.741,1445.72 388.815,1445.72 390.889,1445.72 392.963,1445.72 395.037,1445.72 397.111,1445.72 399.185,1445.72 401.259,1445.72 403.333,1445.72 \n",
       "  405.407,1445.72 407.48,1445.72 409.554,1445.72 411.628,1445.72 413.702,1445.72 415.776,1445.72 417.85,1445.72 419.924,1445.72 421.998,1445.72 424.072,1445.72 \n",
       "  426.146,1445.72 428.22,1445.72 430.294,1445.72 432.367,1445.72 434.441,1445.72 436.515,1445.72 438.589,1445.72 440.663,1445.72 442.737,1445.72 444.811,1445.72 \n",
       "  446.885,1445.72 448.959,1445.72 451.033,1445.72 453.107,1445.72 455.181,1445.72 457.255,1445.72 459.328,1445.72 461.402,1445.72 463.476,1445.72 465.55,1445.72 \n",
       "  467.624,1445.72 469.698,1445.72 471.772,1445.72 473.846,1445.72 475.92,1445.72 477.994,1445.72 480.068,1445.72 482.142,1445.72 484.216,1445.72 486.289,1445.72 \n",
       "  488.363,1445.72 490.437,1445.72 492.511,1445.72 494.585,1445.72 496.659,1445.72 498.733,1445.72 500.807,1445.72 502.881,1445.72 504.955,1445.72 507.029,1445.72 \n",
       "  509.103,1445.72 511.176,1445.72 513.25,1445.72 515.324,1445.72 517.398,1445.72 519.472,1445.72 521.546,1445.72 523.62,1445.72 525.694,1445.72 527.768,1445.72 \n",
       "  529.842,1445.72 531.916,1445.72 533.99,1445.72 536.064,1445.72 538.137,1445.72 540.211,1445.72 542.285,1445.72 544.359,1445.72 546.433,1445.72 548.507,1445.72 \n",
       "  550.581,1445.72 552.655,1445.72 554.729,1445.72 556.803,1445.72 558.877,1445.72 560.951,1445.72 563.024,1445.72 565.098,1445.72 567.172,1445.72 569.246,1445.72 \n",
       "  571.32,1445.72 573.394,1445.72 575.468,1445.72 577.542,1445.72 579.616,1445.72 581.69,1445.72 583.764,1445.72 585.838,1445.72 587.912,1445.72 589.985,1445.72 \n",
       "  592.059,1445.72 594.133,1445.72 596.207,1445.72 598.281,1445.72 600.355,1445.72 602.429,1445.72 604.503,1445.72 606.577,1445.72 608.651,1445.72 610.725,1445.72 \n",
       "  612.799,1445.72 614.873,1445.72 616.946,1445.72 619.02,1445.72 621.094,1445.72 623.168,1445.72 625.242,1445.72 627.316,1445.72 629.39,1445.72 631.464,1445.72 \n",
       "  633.538,1445.72 635.612,1445.72 637.686,1445.72 639.76,1445.72 641.833,1445.72 643.907,1445.72 645.981,1445.72 648.055,1445.72 650.129,1445.72 652.203,1445.72 \n",
       "  654.277,1445.72 656.351,1445.72 658.425,1445.72 660.499,1445.72 662.573,1445.72 664.647,1445.72 666.721,1445.72 668.794,1445.72 670.868,1445.72 672.942,1445.72 \n",
       "  675.016,1445.72 677.09,1445.72 679.164,1445.72 681.238,1445.72 683.312,1445.72 685.386,1445.72 687.46,1445.72 689.534,1445.72 691.608,1445.72 693.681,1445.72 \n",
       "  695.755,1445.72 697.829,1445.72 699.903,1445.72 701.977,1445.72 704.051,1445.72 706.125,1445.72 708.199,1445.72 710.273,1445.72 712.347,1445.72 714.421,1445.72 \n",
       "  716.495,1445.72 718.569,1445.72 720.642,1445.72 722.716,1445.72 724.79,1445.72 726.864,1445.72 728.938,1445.72 731.012,1445.72 733.086,1445.72 735.16,1445.72 \n",
       "  737.234,1384.98 739.308,1310.04 741.382,1263.88 743.456,1227.39 745.53,1196.3 747.603,1168.79 749.677,1143.87 751.751,1120.95 753.825,1099.62 755.899,1079.62 \n",
       "  757.973,1060.73 760.047,1042.8 762.121,1025.71 764.195,1009.35 766.269,993.65 768.343,978.539 770.417,963.963 772.49,949.875 774.564,936.234 776.638,923.006 \n",
       "  778.712,910.159 780.786,897.667 782.86,885.507 784.934,873.657 787.008,862.098 789.082,850.813 791.156,839.787 793.23,829.006 795.304,818.457 797.378,808.129 \n",
       "  799.451,798.012 801.525,788.095 803.599,778.369 805.673,768.827 807.747,759.461 809.821,750.263 811.895,741.228 813.969,732.348 816.043,723.618 818.117,715.033 \n",
       "  820.191,706.588 822.265,698.278 824.339,690.098 826.412,682.045 828.486,674.114 830.56,666.301 832.634,658.604 834.708,651.018 836.782,643.541 838.856,636.169 \n",
       "  840.93,628.9 843.004,621.731 845.078,614.66 847.152,607.683 849.226,600.799 851.299,594.006 853.373,587.3 855.447,580.681 857.521,574.146 859.595,567.693 \n",
       "  861.669,561.321 863.743,555.027 865.817,548.811 867.891,542.67 869.965,536.603 872.039,530.608 874.113,524.685 876.187,518.832 878.26,513.046 880.334,507.328 \n",
       "  882.408,501.676 884.482,496.089 886.556,490.565 888.63,485.104 890.704,479.704 892.778,474.365 894.852,469.085 896.926,463.864 899,458.7 901.074,453.593 \n",
       "  903.147,448.542 905.221,443.546 907.295,438.603 909.369,433.714 911.443,428.878 913.517,424.094 915.591,419.36 917.665,414.677 919.739,410.044 921.813,405.46 \n",
       "  923.887,400.924 925.961,396.436 928.035,391.995 930.108,387.601 932.182,383.252 934.256,378.949 936.33,374.691 938.404,370.478 940.478,366.308 942.552,362.181 \n",
       "  944.626,358.098 946.7,354.056 948.774,350.057 950.848,346.099 952.922,342.182 954.996,338.305 957.069,334.469 959.143,330.672 961.217,326.914 963.291,323.196 \n",
       "  965.365,319.516 967.439,315.874 969.513,312.27 971.587,308.703 973.661,305.174 975.735,301.681 977.809,298.224 979.883,294.804 981.956,291.419 984.03,288.07 \n",
       "  986.104,284.756 988.178,281.477 990.252,278.232 992.326,275.021 994.4,271.845 996.474,268.702 998.548,265.592 1000.62,262.516 1002.7,259.473 1004.77,256.462 \n",
       "  1006.84,253.483 1008.92,250.537 1010.99,247.623 1013.07,244.74 1015.14,241.889 1017.21,239.069 1019.29,236.28 1021.36,233.522 1023.43,230.794 1025.51,228.097 \n",
       "  1027.58,225.43 1029.66,222.793 1031.73,220.185 1033.8,217.608 1035.88,215.059 1037.95,212.54 1040.03,210.05 1042.1,207.589 1044.17,205.157 1046.25,202.753 \n",
       "  1048.32,200.378 1050.4,198.03 1052.47,195.711 1054.54,193.42 1056.62,191.156 1058.69,188.92 1060.77,186.712 1062.84,184.531 1064.91,182.376 1066.99,180.249 \n",
       "  1069.06,178.149 1071.14,176.076 1073.21,174.029 1075.28,172.009 1077.36,170.015 1079.43,168.047 1081.5,166.105 1083.58,164.19 1085.65,162.3 1087.73,160.436 \n",
       "  1089.8,158.598 1091.87,156.785 1093.95,154.998 1096.02,153.236 1098.1,151.499 1100.17,149.788 1102.24,148.101 1104.32,146.44 1106.39,144.803 1108.47,143.191 \n",
       "  1110.54,141.604 1112.61,140.041 1114.69,138.503 1116.76,136.989 1118.84,135.499 1120.91,134.034 1122.98,132.592 1125.06,131.175 1127.13,129.782 1129.2,128.413 \n",
       "  1131.28,127.067 1133.35,125.746 1135.43,124.448 1137.5,123.173 1139.57,121.922 1141.65,120.695 1143.72,119.491 1145.8,118.311 1147.87,117.153 1149.94,116.019 \n",
       "  1152.02,114.908 1154.09,113.821 1156.17,112.756 1158.24,111.714 1160.31,110.696 1162.39,109.7 1164.46,108.727 1166.54,107.777 1168.61,106.849 1170.68,105.944 \n",
       "  1172.76,105.062 1174.83,104.203 1176.91,103.366 1178.98,102.552 1181.05,101.76 1183.13,100.99 1185.2,100.243 1187.27,99.5185 1189.35,98.8162 1191.42,98.1361 \n",
       "  1193.5,97.4784 1195.57,96.8428 1197.64,96.2294 1199.72,95.6383 1201.79,95.0692 1203.87,94.5223 1205.94,93.9974 1208.01,93.4947 1210.09,93.0139 1212.16,92.5552 \n",
       "  1214.24,92.1184 1216.31,91.7036 1218.38,91.3108 1220.46,90.9399 1222.53,90.5909 1224.61,90.2638 1226.68,89.9586 1228.75,89.6752 1230.83,89.4137 1232.9,89.174 \n",
       "  1234.97,88.9562 1237.05,88.7601 1239.12,88.5859 1241.2,88.4335 1243.27,88.3028 1245.34,88.194 1247.42,88.1069 1249.49,88.0416 1251.57,87.998 1253.64,87.9763 \n",
       "  1255.71,87.9763 1257.79,87.998 1259.86,88.0416 1261.94,88.1069 1264.01,88.194 1266.08,88.3028 1268.16,88.4335 1270.23,88.5859 1272.31,88.7601 1274.38,88.9562 \n",
       "  1276.45,89.174 1278.53,89.4137 1280.6,89.6752 1282.68,89.9586 1284.75,90.2638 1286.82,90.5909 1288.9,90.9399 1290.97,91.3108 1293.04,91.7036 1295.12,92.1184 \n",
       "  1297.19,92.5552 1299.27,93.0139 1301.34,93.4947 1303.41,93.9974 1305.49,94.5223 1307.56,95.0692 1309.64,95.6383 1311.71,96.2294 1313.78,96.8428 1315.86,97.4784 \n",
       "  1317.93,98.1361 1320.01,98.8162 1322.08,99.5185 1324.15,100.243 1326.23,100.99 1328.3,101.76 1330.38,102.552 1332.45,103.366 1334.52,104.203 1336.6,105.062 \n",
       "  1338.67,105.944 1340.74,106.849 1342.82,107.777 1344.89,108.727 1346.97,109.7 1349.04,110.696 1351.11,111.714 1353.19,112.756 1355.26,113.821 1357.34,114.908 \n",
       "  1359.41,116.019 1361.48,117.153 1363.56,118.311 1365.63,119.491 1367.71,120.695 1369.78,121.922 1371.85,123.173 1373.93,124.448 1376,125.746 1378.08,127.067 \n",
       "  1380.15,128.413 1382.22,129.782 1384.3,131.175 1386.37,132.592 1388.44,134.034 1390.52,135.499 1392.59,136.989 1394.67,138.503 1396.74,140.041 1398.81,141.604 \n",
       "  1400.89,143.191 1402.96,144.803 1405.04,146.44 1407.11,148.101 1409.18,149.788 1411.26,151.499 1413.33,153.236 1415.41,154.998 1417.48,156.785 1419.55,158.598 \n",
       "  1421.63,160.436 1423.7,162.3 1425.78,164.19 1427.85,166.105 1429.92,168.047 1432,170.015 1434.07,172.009 1436.15,174.029 1438.22,176.076 1440.29,178.149 \n",
       "  1442.37,180.249 1444.44,182.376 1446.51,184.531 1448.59,186.712 1450.66,188.92 1452.74,191.156 1454.81,193.42 1456.88,195.711 1458.96,198.03 1461.03,200.378 \n",
       "  1463.11,202.753 1465.18,205.157 1467.25,207.589 1469.33,210.05 1471.4,212.54 1473.48,215.059 1475.55,217.608 1477.62,220.185 1479.7,222.793 1481.77,225.43 \n",
       "  1483.85,228.097 1485.92,230.794 1487.99,233.522 1490.07,236.28 1492.14,239.069 1494.21,241.889 1496.29,244.74 1498.36,247.623 1500.44,250.537 1502.51,253.483 \n",
       "  1504.58,256.462 1506.66,259.473 1508.73,262.516 1510.81,265.592 1512.88,268.702 1514.95,271.845 1517.03,275.021 1519.1,278.232 1521.18,281.477 1523.25,284.756 \n",
       "  1525.32,288.07 1527.4,291.419 1529.47,294.804 1531.55,298.224 1533.62,301.681 1535.69,305.174 1537.77,308.703 1539.84,312.27 1541.92,315.874 1543.99,319.516 \n",
       "  1546.06,323.196 1548.14,326.914 1550.21,330.672 1552.28,334.469 1554.36,338.305 1556.43,342.182 1558.51,346.099 1560.58,350.057 1562.65,354.056 1564.73,358.098 \n",
       "  1566.8,362.181 1568.88,366.308 1570.95,370.478 1573.02,374.691 1575.1,378.949 1577.17,383.252 1579.25,387.601 1581.32,391.995 1583.39,396.436 1585.47,400.924 \n",
       "  1587.54,405.46 1589.62,410.044 1591.69,414.677 1593.76,419.36 1595.84,424.094 1597.91,428.878 1599.98,433.714 1602.06,438.603 1604.13,443.546 1606.21,448.542 \n",
       "  1608.28,453.593 1610.35,458.7 1612.43,463.864 1614.5,469.085 1616.58,474.365 1618.65,479.704 1620.72,485.104 1622.8,490.565 1624.87,496.089 1626.95,501.676 \n",
       "  1629.02,507.328 1631.09,513.046 1633.17,518.832 1635.24,524.685 1637.32,530.608 1639.39,536.603 1641.46,542.67 1643.54,548.811 1645.61,555.027 1647.69,561.321 \n",
       "  1649.76,567.693 1651.83,574.146 1653.91,580.681 1655.98,587.3 1658.05,594.006 1660.13,600.799 1662.2,607.683 1664.28,614.66 1666.35,621.731 1668.42,628.9 \n",
       "  1670.5,636.169 1672.57,643.541 1674.65,651.018 1676.72,658.604 1678.79,666.301 1680.87,674.114 1682.94,682.045 1685.02,690.098 1687.09,698.278 1689.16,706.588 \n",
       "  1691.24,715.033 1693.31,723.618 1695.39,732.348 1697.46,741.228 1699.53,750.263 1701.61,759.461 1703.68,768.827 1705.75,778.369 1707.83,788.095 1709.9,798.012 \n",
       "  1711.98,808.129 1714.05,818.457 1716.12,829.006 1718.2,839.787 1720.27,850.813 1722.35,862.098 1724.42,873.657 1726.49,885.507 1728.57,897.667 1730.64,910.159 \n",
       "  1732.72,923.006 1734.79,936.234 1736.86,949.875 1738.94,963.963 1741.01,978.539 1743.09,993.65 1745.16,1009.35 1747.23,1025.71 1749.31,1042.8 1751.38,1060.73 \n",
       "  1753.46,1079.62 1755.53,1099.62 1757.6,1120.95 1759.68,1143.87 1761.75,1168.79 1763.82,1196.3 1765.9,1227.39 1767.97,1263.88 1770.05,1310.04 1772.12,1384.98 \n",
       "  1774.19,1445.72 1776.27,1445.72 1778.34,1445.72 1780.42,1445.72 1782.49,1445.72 1784.56,1445.72 1786.64,1445.72 1788.71,1445.72 1790.79,1445.72 1792.86,1445.72 \n",
       "  1794.93,1445.72 1797.01,1445.72 1799.08,1445.72 1801.16,1445.72 1803.23,1445.72 1805.3,1445.72 1807.38,1445.72 1809.45,1445.72 1811.52,1445.72 1813.6,1445.72 \n",
       "  1815.67,1445.72 1817.75,1445.72 1819.82,1445.72 1821.89,1445.72 1823.97,1445.72 1826.04,1445.72 1828.12,1445.72 1830.19,1445.72 1832.26,1445.72 1834.34,1445.72 \n",
       "  1836.41,1445.72 1838.49,1445.72 1840.56,1445.72 1842.63,1445.72 1844.71,1445.72 1846.78,1445.72 1848.86,1445.72 1850.93,1445.72 1853,1445.72 1855.08,1445.72 \n",
       "  1857.15,1445.72 1859.22,1445.72 1861.3,1445.72 1863.37,1445.72 1865.45,1445.72 1867.52,1445.72 1869.59,1445.72 1871.67,1445.72 1873.74,1445.72 1875.82,1445.72 \n",
       "  1877.89,1445.72 1879.96,1445.72 1882.04,1445.72 1884.11,1445.72 1886.19,1445.72 1888.26,1445.72 1890.33,1445.72 1892.41,1445.72 1894.48,1445.72 1896.56,1445.72 \n",
       "  1898.63,1445.72 1900.7,1445.72 1902.78,1445.72 1904.85,1445.72 1906.93,1445.72 1909,1445.72 1911.07,1445.72 1913.15,1445.72 1915.22,1445.72 1917.29,1445.72 \n",
       "  1919.37,1445.72 1921.44,1445.72 1923.52,1445.72 1925.59,1445.72 1927.66,1445.72 1929.74,1445.72 1931.81,1445.72 1933.89,1445.72 1935.96,1445.72 1938.03,1445.72 \n",
       "  1940.11,1445.72 1942.18,1445.72 1944.26,1445.72 1946.33,1445.72 1948.4,1445.72 1950.48,1445.72 1952.55,1445.72 1954.63,1445.72 1956.7,1445.72 1958.77,1445.72 \n",
       "  1960.85,1445.72 1962.92,1445.72 1964.99,1445.72 1967.07,1445.72 1969.14,1445.72 1971.22,1445.72 1973.29,1445.72 1975.36,1445.72 1977.44,1445.72 1979.51,1445.72 \n",
       "  1981.59,1445.72 1983.66,1445.72 1985.73,1445.72 1987.81,1445.72 1989.88,1445.72 1991.96,1445.72 1994.03,1445.72 1996.1,1445.72 1998.18,1445.72 2000.25,1445.72 \n",
       "  2002.33,1445.72 2004.4,1445.72 2006.47,1445.72 2008.55,1445.72 2010.62,1445.72 2012.7,1445.72 2014.77,1445.72 2016.84,1445.72 2018.92,1445.72 2020.99,1445.72 \n",
       "  2023.06,1445.72 2025.14,1445.72 2027.21,1445.72 2029.29,1445.72 2031.36,1445.72 2033.43,1445.72 2035.51,1445.72 2037.58,1445.72 2039.66,1445.72 2041.73,1445.72 \n",
       "  2043.8,1445.72 2045.88,1445.72 2047.95,1445.72 2050.03,1445.72 2052.1,1445.72 2054.17,1445.72 2056.25,1445.72 2058.32,1445.72 2060.4,1445.72 2062.47,1445.72 \n",
       "  2064.54,1445.72 2066.62,1445.72 2068.69,1445.72 2070.76,1445.72 2072.84,1445.72 2074.91,1445.72 2076.99,1445.72 2079.06,1445.72 2081.13,1445.72 2083.21,1445.72 \n",
       "  2085.28,1445.72 2087.36,1445.72 2089.43,1445.72 2091.5,1445.72 2093.58,1445.72 2095.65,1445.72 2097.73,1445.72 2099.8,1445.72 2101.87,1445.72 2103.95,1445.72 \n",
       "  2106.02,1445.72 2108.1,1445.72 2110.17,1445.72 2112.24,1445.72 2114.32,1445.72 2116.39,1445.72 2118.47,1445.72 2120.54,1445.72 2122.61,1445.72 2124.69,1445.72 \n",
       "  2126.76,1445.72 2128.83,1445.72 2130.91,1445.72 2132.98,1445.72 2135.06,1445.72 2137.13,1445.72 2139.2,1445.72 2141.28,1445.72 2143.35,1445.72 2145.43,1445.72 \n",
       "  2147.5,1445.72 2149.57,1445.72 2151.65,1445.72 2153.72,1445.72 2155.8,1445.72 2157.87,1445.72 2159.94,1445.72 2162.02,1445.72 2164.09,1445.72 2166.17,1445.72 \n",
       "  2168.24,1445.72 2170.31,1445.72 2172.39,1445.72 2174.46,1445.72 2176.53,1445.72 2178.61,1445.72 2180.68,1445.72 2182.76,1445.72 2184.83,1445.72 2186.9,1445.72 \n",
       "  2188.98,1445.72 2191.05,1445.72 2193.13,1445.72 2195.2,1445.72 2197.27,1445.72 2199.35,1445.72 2201.42,1445.72 2203.5,1445.72 2205.57,1445.72 2207.64,1445.72 \n",
       "  2209.72,1445.72 2211.79,1445.72 2213.87,1445.72 2215.94,1445.72 2218.01,1445.72 2220.09,1445.72 2222.16,1445.72 2224.24,1445.72 2226.31,1445.72 2228.38,1445.72 \n",
       "  2230.46,1445.72 2232.53,1445.72 2234.6,1445.72 2236.68,1445.72 2238.75,1445.72 2240.83,1445.72 2242.9,1445.72 2244.97,1445.72 2247.05,1445.72 2249.12,1445.72 \n",
       "  2251.2,1445.72 2253.27,1445.72 2255.34,1445.72 2257.42,1445.72 2259.49,1445.72 2261.57,1445.72 2263.64,1445.72 2265.71,1445.72 2267.79,1445.72 2269.86,1445.72 \n",
       "  2271.94,1445.72 2274.01,1445.72 2276.08,1445.72 2278.16,1445.72 2280.23,1445.72 2282.3,1445.72 2284.38,1445.72 2286.45,1445.72 2288.53,1445.72 2290.6,1445.72 \n",
       "  \n",
       "  \"/>\n",
       "<path clip-path=\"url(#clip570)\" d=\"\n",
       "M1983.1 198.898 L2279.55 198.898 L2279.55 95.2176 L1983.1 95.2176  Z\n",
       "  \" fill=\"#ffffff\" fill-rule=\"evenodd\" fill-opacity=\"1\"/>\n",
       "<polyline clip-path=\"url(#clip570)\" style=\"stroke:#000000; stroke-linecap:round; stroke-linejoin:round; stroke-width:4; stroke-opacity:1; fill:none\" points=\"\n",
       "  1983.1,198.898 2279.55,198.898 2279.55,95.2176 1983.1,95.2176 1983.1,198.898 \n",
       "  \"/>\n",
       "<polyline clip-path=\"url(#clip570)\" style=\"stroke:#009af9; stroke-linecap:round; stroke-linejoin:round; stroke-width:4; stroke-opacity:1; fill:none\" points=\"\n",
       "  2007.5,147.058 2153.92,147.058 \n",
       "  \"/>\n",
       "<path clip-path=\"url(#clip570)\" d=\"M2192.16 166.745 Q2190.35 171.375 2188.64 172.787 Q2186.93 174.199 2184.06 174.199 L2180.65 174.199 L2180.65 170.634 L2183.15 170.634 Q2184.91 170.634 2185.89 169.8 Q2186.86 168.967 2188.04 165.865 L2188.8 163.921 L2178.32 138.412 L2182.83 138.412 L2190.93 158.689 L2199.03 138.412 L2203.55 138.412 L2192.16 166.745 Z\" fill=\"#000000\" fill-rule=\"evenodd\" fill-opacity=\"1\" /><path clip-path=\"url(#clip570)\" d=\"M2210.84 160.402 L2218.48 160.402 L2218.48 134.037 L2210.17 135.703 L2210.17 131.444 L2218.43 129.778 L2223.11 129.778 L2223.11 160.402 L2230.75 160.402 L2230.75 164.338 L2210.84 164.338 L2210.84 160.402 Z\" fill=\"#000000\" fill-rule=\"evenodd\" fill-opacity=\"1\" /></svg>\n"
      ]
     },
     "execution_count": 102,
     "metadata": {},
     "output_type": "execute_result"
    }
   ],
   "source": [
    "plot(x,Jx)"
   ]
  },
  {
   "cell_type": "code",
   "execution_count": 9,
   "id": "e936e411",
   "metadata": {},
   "outputs": [
    {
     "data": {
      "text/plain": [
       "5-element Vector{Float64}:\n",
       "  1.7013016167040798\n",
       " -1.3763819204711736\n",
       " -0.6498393924658126\n",
       " -1.3763819204711734\n",
       "  1.70130161670408"
      ]
     },
     "execution_count": 9,
     "metadata": {},
     "output_type": "execute_result"
    }
   ],
   "source": [
    "\n",
    "\"\"\"\n",
    "\n",
    "What to do next:\n",
    "\n",
    "-We need to work out whether the relative magnitudes of the Krylov states matter, i.e. do we include the delta t?\n",
    "\n",
    "-The norm of ρ_n is falling, I think these two errors are connected as they both breakdown at the same time.\n",
    "-I think I should have error checks for various properties of all the objects, i.e. the norm of ρ_n etc.\n",
    "\n",
    "-Once the projector is diagonalised, the spectra are either 0 or 1, but numerically they deviate from this by an order of\n",
    "~1e-14. Is there a way of recovering Vp from the diagonal matrix after the values have been rounded?\n",
    "\n",
    "-The stochastic enrichment method is much more efficient and seems quite straight forward to implement.\n",
    "\n",
    "-In the paper, they only use k=3 (two Krylov states) to avoid the high bond dimensions of higher order Krylov states.\n",
    "\n",
    "-Ask on the discourse page if 1TDVP is implemented as this could be another option.\n",
    "\n",
    "\n",
    "\n",
    "\"\"\"\n",
    "     "
   ]
  },
  {
   "cell_type": "code",
   "execution_count": null,
   "id": "89051bca",
   "metadata": {},
   "outputs": [],
   "source": [
    "\"\"\"\n",
    "Potential efficiency improvements:\n",
    "\n",
    "-Always sweeping towards the centre will prevent Projectors having an unnecessarily large dimension.\n",
    "\n",
    "-At the end of the enrichment, the enriched state is almost canonical apart from the first sight which carries this \n",
    "extra k factor. Does TDVP need an orthogonal centre at N? If not, we may be able to avoid orthogonalization?\n",
    "\n",
    "-    In most cases, abs_maxdim will be very high. We don't want to use this. However, if \n",
    "    for the other option we use the sum of all the linkdimensions (for n-1) of the Krylov states, \n",
    "    It won't be in canonical form so many of the dimensions will actually correspond to the same dimension. \n",
    "    Again, this isn't a huge problem because it will still likely be much less than abs_maxdim. I'm not sure how \n",
    "    this can be prevented, so I will just use the sum.\n",
    "    \n",
    "- Question: Does the kth Krylov state always contain within it the dimensions of the lower order Krylov states?\n",
    " This would solve the problem stated just about and would be more efficient.\n",
    "\n",
    "\n",
    "-For 1TDVP, they found that for k=5 the creation of the Krylov states and the enrichment step were subleading to the TDVP step, but this isn't\n",
    "what I have at the moment. 2TDVP is slower than 1TDVP but more accurate, so we don't know if these steps should be subleading to TDVP or not, but \n",
    "there's definitely ways of increasing the efficiency of these steps.\n",
    "\n",
    "\n",
    "-There's a more efficient but less accurate way to apply H to ψ, by using the variational approach that's used in TDVP itself. \n",
    "\n",
    "\n",
    "-In the paper, they say to use τ=δt but I'm not sure about this as for small delta t, these states won't be that different (think about this more).\n",
    "\n",
    "\n",
    "-The bottleneck is creating the Krylov states, see if you can make the function more efficient (Vectorise?). \n",
    "\n",
    "-During the enrichment, there will be sites that are aleady max rank, i.e close to the first site. Instead of SvDing through\n",
    "these sights manually, we could use orthogonalize to go between sites that can be enriched. I.e. say we have just enriched\n",
    "site k, and the next site that can be enriched is site k-n. Instead of SvDing the n states between these two, we could use \n",
    "orthogonalize(ψ,k-n) to move to this sight.\n",
    "\"\"\""
   ]
  }
 ],
 "metadata": {
  "kernelspec": {
   "display_name": "Julia 1.8.2",
   "language": "julia",
   "name": "julia-1.8"
  },
  "language_info": {
   "file_extension": ".jl",
   "mimetype": "application/julia",
   "name": "julia",
   "version": "1.8.2"
  }
 },
 "nbformat": 4,
 "nbformat_minor": 5
}
