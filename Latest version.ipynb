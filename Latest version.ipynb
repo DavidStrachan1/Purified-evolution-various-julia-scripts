{
 "cells": [
  {
   "cell_type": "code",
   "execution_count": 1,
   "id": "abb4de88",
   "metadata": {},
   "outputs": [],
   "source": [
    "\n",
    "using ITensors\n",
    "using ITensorTDVP\n",
    "using Plots\n",
    "using Observers\n",
    "using LinearAlgebra\n",
    "using Statistics\n",
    "using ProgressBars\n",
    "     "
   ]
  },
  {
   "cell_type": "code",
   "execution_count": 2,
   "id": "3b106da1",
   "metadata": {},
   "outputs": [
    {
     "data": {
      "text/plain": [
       "entanglement_animation (generic function with 1 method)"
      ]
     },
     "execution_count": 2,
     "metadata": {},
     "output_type": "execute_result"
    }
   ],
   "source": [
    "\n",
    "function enrich_generic3(ϕ, ψ⃗; cutoff=1e-15, kwargs...)\n",
    "\n",
    "\"\"\"\n",
    "  Given spec from the eigen function, to extract its information use the \n",
    "  following functions:\n",
    "\n",
    "  eigs(spec) returns the spectrum\n",
    "  truncerror(spec) returns the truncation error\n",
    "\"\"\"  \n",
    "  Nₘₚₛ = length(ψ⃗) ##number of MPS\n",
    "\n",
    "  @assert all(ψᵢ -> length(ψ⃗[1]) == length(ψᵢ), ψ⃗) ##check that all MPS inputs are of the same length\n",
    "\n",
    "  N = length(ψ⃗[1]) \n",
    "\n",
    "  ψ⃗ = copy.(ψ⃗)\n",
    "    \n",
    "  ###Isn't this already a vector of MPS's?  \n",
    "  ψ⃗ = convert.(MPS, ψ⃗)\n",
    "\n",
    "  s = siteinds(ψ⃗[1])\n",
    "\n",
    "  ##makes the orthogonality centre for each MPS to be at site N  \n",
    "  ψ⃗ = orthogonalize.(ψ⃗, N)\n",
    "  ϕ = orthogonalize!(ϕ, N)\n",
    "  \n",
    "  ##storage MPS\n",
    "  phi = deepcopy(ϕ)\n",
    "  \n",
    "  ρϕ = prime(ϕ[N], s[N]) * dag(ϕ[N])\n",
    "  ρ⃗ₙ = [prime(ψᵢ[N], s[N]) * dag(ψᵢ[N]) for ψᵢ in ψ⃗]\n",
    "  ρₙ = sum(ρ⃗ₙ)\n",
    " \n",
    "  \"\"\"\n",
    "  Is this needed?\n",
    "  \"\"\"\n",
    "  ρₙ /=tr(ρₙ)\n",
    "\n",
    "#   # Maximum theoretical link dimensions\n",
    " \n",
    "  Cϕprev = ϕ[N]\n",
    "  C⃗ₙ = last.(ψ⃗)\n",
    "  \n",
    " \n",
    "  for n in reverse(2:N)\n",
    "     \"\"\"\n",
    "    In the paper they propose to do this step with no truncation. At the very\n",
    "    least this cutoff should be a function parameter.\n",
    "    \"\"\"    \n",
    "    \n",
    "    left_inds = linkind(ϕ,n-1)\n",
    "   \n",
    "         #Diagonalize primary state ψ's density matrix    \n",
    "    U,S,Vϕ,spec = svd(Cϕprev,left_inds; \n",
    "      lefttags = tags(linkind(ϕ, n - 1)),\n",
    "      righttags = tags(linkind(ϕ, n - 1)))   \n",
    "\n",
    "    x = dim(inds(S)[1])\n",
    "    @assert(x == dim(linkind(ϕ, n - 1)))\n",
    "    r = uniqueinds(Vϕ, S) # Indices of density matrix\n",
    "    lϕ = commonind(S, Vϕ) # Inner link index from density matrix diagonalization\n",
    "        \n",
    "\n",
    "    # Compute the theoretical maximum bond dimension that the enriched state cannot exceeded: \n",
    "    abs_maxdim = bipart_maxdim(s,n - 1) - dim(lϕ)        \n",
    "    # Compute the number of eigenvectors of ɸ's projected density matrix to retain:\n",
    "    Kry_linkdim_vec = [dim(linkind(ψᵢ, n - 1)) for ψᵢ in ψ⃗]\n",
    "        \n",
    "   \n",
    "    ω_maxdim = min(sum(Kry_linkdim_vec),abs_maxdim)\n",
    "    \n",
    "    if ω_maxdim !== 0\n",
    "\n",
    "\n",
    "        # Construct identity matrix\n",
    "        ID = 1\n",
    "        rdim = 1\n",
    "        for iv in r\n",
    "          IDv = ITensor(dag(iv)', iv);\n",
    "          rdim *= dim(iv)\n",
    "          for i in 1:dim(iv)\n",
    "            IDv[iv' => i, iv => i] = 1.0\n",
    "          end      \n",
    "          ID = ID*IDv\n",
    "        end   \n",
    "\n",
    "\n",
    "        P = ID - prime(Vϕ, r)*dag(Vϕ) # Projector on to null-space of ρψ   \n",
    "      \n",
    "        C = combiner(r) # Combiner for indices\n",
    "        # Check that P is non-zero   \n",
    "        if abs(tr(matrix(C'*P*dag(C)))) > 1e-10    \n",
    "\n",
    "\n",
    "            Dp, Vp, spec_P = eigen(\n",
    "                  P, r', r;\n",
    "                  ishermitian=true,\n",
    "                  tags=\"P space\",\n",
    "                  cutoff=1e-1,\n",
    "                  maxdim=rdim-dim(lϕ),             ###potentially wrong\n",
    "                  kwargs...,\n",
    "                )\n",
    "\n",
    "            lp = commonind(Dp,Vp)\n",
    "           \n",
    "            ##constructing VpρₙVp\n",
    "            VpρₙVp = Vp*ρₙ        \n",
    "            VpρₙVp = VpρₙVp*dag(Vp')\n",
    "            chkP = abs(tr(matrix(VpρₙVp))) ##chkP\n",
    "\n",
    "        else\n",
    "            chkP = 0    \n",
    "        end\n",
    "    else\n",
    "        chkP = 0\n",
    "    end\n",
    "  \n",
    "    if chkP >1e-15\n",
    "        \n",
    "\n",
    "        Dₙ, Vₙ, spec = eigen(VpρₙVp, lp', lp;\n",
    "          ishermitian=true,\n",
    "          tags=tags(linkind(ψ⃗[1], n - 1)),\n",
    "          cutoff=cutoff,\n",
    "          maxdim=ω_maxdim,            \n",
    "          kwargs...,\n",
    "        )\n",
    "        \n",
    "        Vₙ = Vp*Vₙ\n",
    "\n",
    "        lₙ₋₁ = commonind(Dₙ, Vₙ)\n",
    " \n",
    "        # Construct the direct sum isometry \n",
    "        V, lnew = directsum(Vϕ => lϕ, Vₙ => lₙ₋₁; tags = tags(linkind(ϕ, n - 1)))\n",
    "    else\n",
    "         V = Vϕ\n",
    "         lnew = lϕ\n",
    "            \n",
    "    end\n",
    "    @assert dim(linkind(ϕ, n - 1)) - dim(lϕ) <=0\n",
    "    # Update the enriched state\n",
    "    phi[n] = V\n",
    "  \n",
    " \n",
    "    # Compute the new density matrix for the ancillary states\n",
    "    C⃗ₙ₋₁ = [ψ⃗[i][n - 1] * C⃗ₙ[i] * dag(V) for i in 1:Nₘₚₛ]   \n",
    "    C⃗ₙ₋₁′ = [prime(Cₙ₋₁, (s[n - 1], lnew)) for Cₙ₋₁ in C⃗ₙ₋₁]    \n",
    "    ρ⃗ₙ₋₁ = C⃗ₙ₋₁′ .* dag.(C⃗ₙ₋₁)\n",
    "    ρₙ₋₁ = sum(ρ⃗ₙ₋₁)\n",
    "    \n",
    "    # compute the density matrix for the real state    \n",
    "    Cϕ = ϕ[n - 1] * Cϕprev * dag(V)\n",
    "    Cϕd = prime(Cϕ, (s[n - 1], lnew))\n",
    "    ρϕ = Cϕd * dag(Cϕ) \n",
    "        \n",
    "\n",
    "    Cϕprev = Cϕ\n",
    "    C⃗ₙ = C⃗ₙ₋₁\n",
    "    ρₙ = ρₙ₋₁\n",
    "  \n",
    "  end\n",
    "    \n",
    "    \n",
    "    phi[1] = Cϕprev\n",
    "    phi[1] = phi[1]/norm(phi)\n",
    " \n",
    "  return phi\n",
    "end\n",
    "\n",
    "\n",
    "\n",
    "\n",
    "function bipart_maxdim(s,n)\n",
    "# Compute the theoretical maximum link dimension for an orthogonalised MPS\n",
    "# for the bipartition [1,...,n][n+1,...,N]\n",
    "    left_maxdim = 1\n",
    "    for k=1:n\n",
    "        left_maxdim *= dim(s[k])\n",
    "    end\n",
    "    right_maxdim = 1\n",
    "    for k=(n+1):length(s)\n",
    "        right_maxdim *= dim(s[k])\n",
    "    end\n",
    "    return min(left_maxdim,right_maxdim)\n",
    "end;\n",
    "\n",
    "\n",
    "\n",
    "\n",
    "function Krylov_states(H,ψ,k,τ,s)\n",
    "    \"\"\"\n",
    "    POTENTIAL PROBLEM: The Krylov states aren't canonical so don't satisfy the constraint. orthogonalizing could\n",
    "    potentially sort this.\n",
    "    \"\"\"\n",
    "    \n",
    "    \n",
    "    \n",
    "    \n",
    "    ##Create the first k Krylov states\n",
    "    Id = MPO(s,\"Id\")\n",
    "    Kry_op = Id-im*τ*H\n",
    "    list = []\n",
    "    term = copy(ψ)\n",
    "   \n",
    "   for i =1:k-1\n",
    "        term = noprime(Kry_op*term)\n",
    "        term = term/norm(term)\n",
    "        push!(list,term)\n",
    "    end\n",
    "\n",
    "    return list\n",
    "end\n",
    "\n",
    "\n",
    "\n",
    "\"\"\"\n",
    "Determining whether a Krylov state has the dimensions of lower Krylov states within it.\n",
    "We have a list of vectors, and we want to see if the 1st vector has the highest entries for every entry.\n",
    "I want the output to be a vector of length of linkdims, where each entry denotes which Krylov vector has the maximum dimension.\n",
    "\"\"\"\n",
    "\n",
    "function Krylov_linkdims(Krylov)\n",
    "    x = linkdims(Krylov[1])\n",
    "    dim1 = length(x)\n",
    "    dim2 = length(Krylov)\n",
    "    output = zeros(length(x))\n",
    "    stuff = zeros(dim1,dim2)\n",
    "    for i =1:dim1\n",
    "        for j =1:dim2\n",
    "            stuff[i,j] = linkdims(Krylov[j])[i]\n",
    "        end\n",
    "        vec = stuff[i,:]\n",
    "        term = Int(argmax(vec)) \n",
    "        output[i] = term\n",
    "        if term != dim2\n",
    "           test = vec[term] -vec[dim2]\n",
    "           if test<=0\n",
    "               output[i] = dim2\n",
    "           end\n",
    "        end\n",
    "    end\n",
    "    return output\n",
    "end\n",
    "\n",
    "# Helpful function for outputing the link dimension profile of an MPS\n",
    "function linkdims(ψ)\n",
    "    \n",
    "    \n",
    "    \n",
    "    \n",
    "  \"\"\"\n",
    "  Isn't working properly.  \n",
    "  \"\"\"\n",
    "  linkdims = zeros(length(ψ)-1,1)\n",
    "  for b in eachindex(ψ)[1:(end - 1)]\n",
    "    l = linkind(ψ, b)\n",
    "    linkdims[b] = isnothing(l) ? 1 : dim(l)\n",
    "  end\n",
    "  return linkdims\n",
    "end\n",
    "\n",
    "function _add_maxlinkdims(ψ⃗)\n",
    "  N = length(ψ⃗[1])\n",
    "  maxdims = Vector{Int}(undef, N - 1)\n",
    "  for b in 1:(N - 1)\n",
    "    maxdims[b] = sum(ψ -> linkdim(ψ, b), ψ⃗)\n",
    "  end\n",
    "  return maxdims\n",
    "end\n",
    "\n",
    "function mindim_vec(link_vec,d)\n",
    "    N = length(link_vec)\n",
    "    v1 = link_vec[1:N-1]\n",
    "    v2 = link_vec[2:N]\n",
    "    mindim_vec = min.(v1,d*v2)\n",
    "    append!(mindim_vec,link_vec[N])\n",
    "    return mindim_vec\n",
    "end\n",
    "\n",
    "\n",
    "function entanglement_entropy(ψ)\n",
    "# Compute the von Neumann entanglement entropy across each bond of the MPS\n",
    "    N = length(ψ)\n",
    "    SvN = zeros(N)\n",
    "    psi = ψ\n",
    "    for b=1:N\n",
    "        psi = orthogonalize(psi, b)\n",
    "        if b==1\n",
    "            U,S,V = svd(psi[b] , siteind(psi, b))\n",
    "        else\n",
    "            U,S,V = svd(psi[b], (linkind(psi, b-1), siteind(psi, b)))\n",
    "        end\n",
    "        for n=1:dim(S, 1)\n",
    "            p = S[n,n]^2\n",
    "            SvN[b] -= p * log2(p)\n",
    "        end\n",
    "    end\n",
    "    return SvN\n",
    "end;\n",
    "\n",
    "function spectral_density(J,Nb,Γ,D,ϵi)\n",
    "    ###Need to sort V_k the same way as the energies\n",
    "    V_k = sqrt(Γ/(2*D))*ones(Nb,1) \n",
    "    if Nb>1\n",
    "        if J== \"boxcar\"\n",
    "            V_k = sqrt(Γ/(2*D))*ones(Nb,1)                       # Couplings\n",
    "            ϵb = collect(range(-1, 1, length = Nb))              # energy of bath modes\n",
    "        end\n",
    "        ind = sortperm(abs.(ϵb.-ϵi[Ns]))                               # Broadcast abs() over vector using \".\" notation.\n",
    "        V_k, ϵb = V_k[ind], ϵb[ind];  \n",
    "    else\n",
    "        ϵb = 0;\n",
    "    end\n",
    "    return V_k, ϵb\n",
    "end\n",
    "\n",
    "function rdm(ψ,q)\n",
    "    ψdag = dag(ψ) # Complex conjugate MPS\n",
    "    ITensors.prime!(linkinds, ψdag) # Add primes to all MPS bond indices\n",
    "    # Loop over the sites q whose density matrix is required:\n",
    "    for j=1:length(q)\n",
    "        ITensors.noprime!(ψdag[q[j]]) # Remove prime on bond indices of ψdag[q[j]]\n",
    "        ITensors.prime!(ψdag[q[j]]) # Prime all indices on ψdag[q[j]] including its site index\n",
    "    end\n",
    "    # Now contract:\n",
    "    ρ = ψdag[1] * ψ[1]\n",
    "    for j in 2:N\n",
    "      ρ = ρ * ψdag[j] * ψ[j]\n",
    "    end\n",
    "    return ρ\n",
    "end;\n",
    "\n",
    "\n",
    "function band_diag(B,d)\n",
    "# Band-diagonalize matrix B with a bandwidth of d:\n",
    "    n = size(B,1); # Assumed to be square.\n",
    "    U = Diagonal(ones(n,n));\n",
    "    for k=1:Int(floor(n/d)-1)\n",
    "        C = B[(k*d+1):n,((k-1)*d+1):(k*d)]; # Extract coupling matrix.\n",
    "        F = qr(C); # Upper-triangularize.\n",
    "        blocks = [[Diagonal(ones(k*d,k*d))]; [F.Q']]\n",
    "        Q = cat(blocks...,dims=(1,2))    # Form full triangularizing unitary.    \n",
    "        B = Q*B*Q'; # Apply to input matrix to transform for next step.\n",
    "        U = Q*U; # Save this step's unitary to the full sequence.\n",
    "    end\n",
    "    return B,U; # Return the final band-diagonalized matrix.\n",
    "end;\n",
    "\n",
    "function U_thermo(N,f_k)\n",
    "    U_th = zeros(N,N)\n",
    "    U_th[1,1],U_th[2,2] = 1,1\n",
    "    b=0\n",
    "    for i=3:2:N\n",
    "        b += 1\n",
    "        U_th[i,i],U_th[i+1,i+1] = sqrt(1-f_k[b]),-sqrt(1-f_k[b])\n",
    "        U_th[i,i+1],U_th[i+1,i] = sqrt(f_k[b]),sqrt(f_k[b])\n",
    "    end\n",
    "    return U_th\n",
    "end\n",
    "\n",
    "function U_chain(N,U1,U2)\n",
    "\n",
    "    U_tot = zeros(N,N)\n",
    "    U_tot[1,1],U_tot[2,2] = 1,1\n",
    "    b1 = 0\n",
    "    for i=3:2:N\n",
    "        b2 = 0 # resets the column iteration\n",
    "        b1 +=1\n",
    "        for j =3:2:N\n",
    "            b2 += 1\n",
    "\n",
    "            U_tot[i,j] = U1[b1,b2]\n",
    "            U_tot[i+1,j+1] = U2[b1,b2]\n",
    "        end\n",
    "    end\n",
    "    return U_tot\n",
    "end\n",
    "\n",
    "\n",
    "###Observer functions\n",
    "function current_time(; current_time, bond, half_sweep)\n",
    "  if bond == 1 && half_sweep == 2\n",
    "    return real(im*current_time)\n",
    "  end\n",
    "  return nothing\n",
    "end\n",
    "\n",
    "function measure_den(; psi, bond, half_sweep)\n",
    "  if bond == 1 && half_sweep == 2\n",
    "    return expect(psi, \"n\"; sites=1)\n",
    "  end\n",
    "  return nothing\n",
    "end;\n",
    "\n",
    "function measure_SvN(; psi, bond, half_sweep)\n",
    "    if bond == 1 && half_sweep == 2\n",
    "        return entanglement_entropy(psi)\n",
    "    end\n",
    "    return nothing\n",
    "end\n",
    "\n",
    "function measure_correlation_matrix(; psi, bond, half_sweep)\n",
    "    if bond==1 && half_sweep == 2\n",
    "        return transpose(correlation_matrix(psi,\"Cdag\",\"C\"))\n",
    "    end\n",
    "    return nothing\n",
    "end\n",
    "\n",
    "\n",
    "#Error functions\n",
    "function fidelity(ρ,σ)\n",
    "    ##make sure ρ and σ are in matrix form\n",
    "    matrix = sqrt(ρ)*σ*sqrt(ρ)\n",
    "    matrix = sqrt(matrix)\n",
    "    fid = tr(matrix)*conj(tr(matrix))\n",
    "    return fid\n",
    "end\n",
    "\n",
    "function trace_dist(ρ,σ)\n",
    "    matrix = (ρ-σ)*(ρ-σ)'\n",
    "    matrix = sqrt(matrix)\n",
    "    return 0.5*tr(matrix)\n",
    "end\n",
    "\n",
    "function error_propagation(corr,times,H_single,δt,Ci,N,Krylov_cutoff,k2,cutoff,other_norms,save_bool)\n",
    "    parameter_string = \"N=\"*string(N)*\", δt=\"*string(δt)*\", Krylov cutoff=\"*string(Krylov_cutoff)*\n",
    "            \", k2=\"*string(k2)*\", truncation cutoff=\"*string(cutoff)\n",
    "    corr_list = copy(corr)\n",
    "    time_list = copy(times)\n",
    "    sim_ρ_list = corr_list./tr.(corr_list)\n",
    "    exact_corr_list = Any[]\n",
    "    exact_ρ_list = Any[]\n",
    "    fid_list = Any[]\n",
    "    trace_list = Any[]\n",
    "    n = length(times)\n",
    "    \n",
    "    pushfirst!(corr_list,Ci)\n",
    "    pushfirst!(time_list,0)\n",
    "    pushfirst!(exact_corr_list,Ci)\n",
    "    pushfirst!(exact_ρ_list,Ci/tr(Ci))\n",
    "    pushfirst!(sim_ρ_list,Ci/tr(Ci))\n",
    "    pushfirst!(fid_list,1) \n",
    "    pushfirst!(trace_list,0)\n",
    "    U_step= exp(-im*δt*H_single)\n",
    "    \n",
    "    for i =1:n\n",
    "        corr_term = U_step*(exact_corr_list[i])*U_step'\n",
    "        ρ_term = corr_term/tr(corr_term)\n",
    "        fid_term = fidelity(ρ_term,sim_ρ_list[i+1])\n",
    "        trace_term = abs(trace_dist(ρ_term,sim_ρ_list[i+1]))\n",
    "        \n",
    "        push!(exact_corr_list,corr_term)\n",
    "        push!(exact_ρ_list,ρ_term)\n",
    "        push!(fid_list,fid_term)\n",
    "        push!(trace_list,trace_term)\n",
    "    end\n",
    "    \n",
    "    fid_list = fid_list .- 1 ### The fidelity of two identical density matrices is 1\n",
    "#     println(abs.(trace_list[1]))\n",
    "#     println(abs.(trace_list[2]))\n",
    "#     println(abs.(trace_list[5]))\n",
    "#     println(abs.(trace_list[10]))\n",
    "#     println(abs.(trace_list[20]))\n",
    "#     println(abs.(trace_list[30]))\n",
    "#     println(abs.(trace_list[40]))\n",
    "#     println(abs.(trace_list[50]))\n",
    "    \n",
    "    \n",
    "    \n",
    "    \n",
    "    diff_list = exact_corr_list - corr_list\n",
    "    perc_diff_norm1_list = opnorm.(diff_list,1)./(opnorm.(exact_corr_list,1))\n",
    "    perc_diff_norm2_list = opnorm.(diff_list,2)./(opnorm.(exact_corr_list,2))\n",
    "    perc_diff_norminf_list = opnorm.(diff_list,Inf)./(opnorm.(exact_corr_list,Inf))\n",
    "    perc_diff_normfrob_list = norm.(diff_list)./(norm.(exact_corr_list,1))\n",
    "    max_diff_list = maximum.([abs.(diff_list[i]) for i=1:(size(diff_list)[1])]) \n",
    "   if other_norms\n",
    "        plot(time_list,(abs.(perc_diff_norm1_list)),label=\"p=1 matrix norm\")\n",
    "        plot!(time_list,(abs.(perc_diff_norm2_list)),;label=\"p=2 matrix norm\")\n",
    "        plot!(time_list,(abs.(perc_diff_norminf_list)),label=\"p=inf matrix norm\")\n",
    "        plot!(time_list,(abs.(perc_diff_normfrob_list)),label=\"frobenius norm\")\n",
    "        plot!(time_list,(abs.(fid_list)),label=\"fidelity - 1\")\n",
    "        display(plot!(time_list,(abs.(trace_list)),label=\"trace distance,\"*parameter_string))\n",
    "   else\n",
    "        display(plot(time_list,(abs.(trace_list)),label=\"trace distance,\"*parameter_string))\n",
    "   end\n",
    "\n",
    "   if other_norms\n",
    "        plot(time_list,log10.(abs.(perc_diff_norm1_list)),label=\"p=1 matrix norm\")\n",
    "        plot!(time_list,log10.(abs.(perc_diff_norm2_list)),;label=\"p=2 matrix norm\")\n",
    "        plot!(time_list,log10.(abs.(perc_diff_norminf_list)),label=\"p=inf matrix norm\")\n",
    "        plot!(time_list,log10.(abs.(perc_diff_normfrob_list)),label=\"frobenius norm\")\n",
    "        plot!(time_list,log10.(abs.(fid_list)),label=\"fidelity - 1\")\n",
    "        display(plot!(time_list,log10.(abs.(trace_list)),\n",
    "           label=\"trace distance,\"*parameter_string))\n",
    "    else\n",
    "        display(plot(time_list,log10.(abs.(trace_list)),\n",
    "           label=\"trace distance,\"*parameter_string))\n",
    "    end\n",
    "    \n",
    "    if save_bool\n",
    "        savefig(\"error propagation,\"*parameter_string*\".png\") \n",
    "    end\n",
    "    end\n",
    "\n",
    "\n",
    "function error_propagation2(corr,times1,times2,H_single,δt1,δt2,Ci,N,Krylov_cutoff,k2,cutoff,other_norms,save_bool)\n",
    "    parameter_string = \"N=\"*string(N)*\", δt=\"*string(δt)*\", Krylov cutoff=\"*string(Krylov_cutoff)*\n",
    "            \", k2=\"*string(k2)*\", truncation cutoff=\"*string(cutoff)\n",
    "    corr_list = copy(corr)\n",
    "    time_list = copy(times)\n",
    "    sim_ρ_list = corr_list./tr.(corr_list)\n",
    "    exact_corr_list = Any[]\n",
    "    exact_ρ_list = Any[]\n",
    "    fid_list = Any[]\n",
    "    trace_list = Any[]\n",
    "    n1 = length(times1)\n",
    "    n2 = length(times2)\n",
    "    \n",
    "    pushfirst!(corr_list,Ci)\n",
    "    pushfirst!(time_list,0)\n",
    "    pushfirst!(exact_corr_list,Ci)\n",
    "    pushfirst!(exact_ρ_list,Ci/tr(Ci))\n",
    "    pushfirst!(sim_ρ_list,Ci/tr(Ci))\n",
    "    pushfirst!(fid_list,1) \n",
    "    pushfirst!(trace_list,0)\n",
    "    \n",
    "    U_step1= exp(-im*δt1*H_single)\n",
    "    U_step2 = exp(-im*δt2*H_single)\n",
    "    \n",
    "    for i =1:n1\n",
    "        corr_term = U_step1*(exact_corr_list[i])*U_step1'\n",
    "        ρ_term = corr_term/tr(corr_term)\n",
    "        fid_term = fidelity(ρ_term,sim_ρ_list[i+1])\n",
    "        trace_term = abs(trace_dist(ρ_term,sim_ρ_list[i+1]))\n",
    "        \n",
    "        push!(exact_corr_list,corr_term)\n",
    "        push!(exact_ρ_list,ρ_term)\n",
    "        push!(fid_list,fid_term)\n",
    "        push!(trace_list,trace_term)\n",
    "    end\n",
    "    for i =(n1+1):(n1+n2)\n",
    "        corr_term = U_step2*(exact_corr_list[i])*U_step2'\n",
    "        ρ_term = corr_term/tr(corr_term)\n",
    "        fid_term = fidelity(ρ_term,sim_ρ_list[i+1])\n",
    "        trace_term = abs(trace_dist(ρ_term,sim_ρ_list[i+1]))\n",
    "        \n",
    "        push!(exact_corr_list,corr_term)\n",
    "        push!(exact_ρ_list,ρ_term)\n",
    "        push!(fid_list,fid_term)\n",
    "        push!(trace_list,trace_term)\n",
    "    end\n",
    "    \n",
    "    fid_list = fid_list .- 1 ### The fidelity of two identical density matrices is 1\n",
    "    \n",
    "    \n",
    "    diff_list = exact_corr_list - corr_list\n",
    "    perc_diff_norm1_list = opnorm.(diff_list,1)./(opnorm.(exact_corr_list,1))\n",
    "    perc_diff_norm2_list = opnorm.(diff_list,2)./(opnorm.(exact_corr_list,2))\n",
    "    perc_diff_norminf_list = opnorm.(diff_list,Inf)./(opnorm.(exact_corr_list,Inf))\n",
    "    perc_diff_normfrob_list = norm.(diff_list)./(norm.(exact_corr_list,1))\n",
    "    max_diff_list = maximum.([abs.(diff_list[i]) for i=1:(size(diff_list)[1])]) \n",
    "   if other_norms\n",
    "        plot(time_list,(abs.(perc_diff_norm1_list)),label=\"p=1 matrix norm\")\n",
    "        plot!(time_list,(abs.(perc_diff_norm2_list)),;label=\"p=2 matrix norm\")\n",
    "        plot!(time_list,(abs.(perc_diff_norminf_list)),label=\"p=inf matrix norm\")\n",
    "        plot!(time_list,(abs.(perc_diff_normfrob_list)),label=\"frobenius norm\")\n",
    "        plot!(time_list,(abs.(fid_list)),label=\"fidelity - 1\")\n",
    "        display(plot!(time_list,(abs.(trace_list)),label=\"trace distance,\"*parameter_string))\n",
    "   else\n",
    "        display(plot(time_list,(abs.(trace_list)),label=\"trace distance,\"*parameter_string))\n",
    "   end\n",
    "\n",
    "   if other_norms\n",
    "        plot(time_list,log10.(abs.(perc_diff_norm1_list)),label=\"p=1 matrix norm\")\n",
    "        plot!(time_list,log10.(abs.(perc_diff_norm2_list)),;label=\"p=2 matrix norm\")\n",
    "        plot!(time_list,log10.(abs.(perc_diff_norminf_list)),label=\"p=inf matrix norm\")\n",
    "        plot!(time_list,log10.(abs.(perc_diff_normfrob_list)),label=\"frobenius norm\")\n",
    "        plot!(time_list,log10.(abs.(fid_list)),label=\"fidelity - 1\")\n",
    "        display(plot!(time_list,log10.(abs.(trace_list)),\n",
    "           label=\"trace distance,\"*parameter_string))\n",
    "    else\n",
    "        display(plot(time_list,log10.(abs.(trace_list)),\n",
    "           label=\"trace distance,\"*parameter_string))\n",
    "    end\n",
    "\n",
    "    if save_bool\n",
    "        savefig(\"error propagation,\"*parameter_string*\".png\") \n",
    "    end\n",
    "   \n",
    "end\n",
    "\n",
    "\n",
    "function correlation_matrix_statistics(Cf,Cf_test,eps)\n",
    "   \n",
    "#     trun_ind1 = findall(x -> (abs(x)>eps), Cf)\n",
    "#     trun_ind2 = findall(x -> (abs(x)>eps), Cf_test)\n",
    "#     bool = size(trun_ind1)[1]>size(trun_ind2)[1]\n",
    "#     if bool\n",
    "#         trun_ind = trun_ind1\n",
    "#     else\n",
    "#         trun_ind = trun_ind2\n",
    "#     end\n",
    "#     Cf_trun = Cf[trun_ind]\n",
    "#     Cf_test_trun = Cf_test[trun_ind]\n",
    "#     Cf_trun_diff = Cf_trun-Cf_test_trun\n",
    "    Cf_trun_diff = Cf-Cf_test\n",
    "    \n",
    "    norm0 = opnorm(Cf,1)\n",
    "    norm1 = opnorm(Cf_trun_diff,1)\n",
    "    norm2 = opnorm(Cf_trun_diff,2)\n",
    "    norminf = opnorm(Cf_trun_diff,Inf)\n",
    "    normfrob = norm(Cf_trun_diff)\n",
    "    \n",
    "    println(\"p=1 norm of simulated correlation matrix=\"*string(norm0))\n",
    "    println(\"p=1 norm of truncated difference matrix=\"*string(norm1))\n",
    "    println(\"p=2 norm of truncated difference matrix=\"*string(norm2))\n",
    "    println(\"p=inf norm of truncated difference matrix=\"*string(norminf))\n",
    "    println(\"Frobenius norm of truncated difference matrix=\"*string(normfrob))\n",
    "#     println(\"mean of truncated Cf=\"*string(mean(broadcast(abs,Cf_trun))))\n",
    "#     println(\"mean of truncated Cf_test=\"*string(mean(broadcast(abs,Cf_test_trun))))\n",
    "    println(\"mean of difference =\"*string(mean(broadcast(abs,Cf_trun_diff))))\n",
    "    \n",
    "    f(x, y) = abs(Cf[x,y])\n",
    "\n",
    "    display(surface(1:6,1:6,f,title = \"Simulated Correlation matrix\",\n",
    "    xlabel = \"sites\",\n",
    "    ylabel = \"sites\"))\n",
    "    \n",
    "    h(x,y) =abs(Cf_test[x,y])\n",
    "    \n",
    "    display(surface(1:6,1:6,h,title = \"Exact correlation matrix\",\n",
    "    xlabel = \"sites\",\n",
    "    ylabel = \"sites\"))\n",
    "    \n",
    "    g(x, y) = abs(Cf[x,y]-Cf_test[x,y])\n",
    "\n",
    "    display(surface(1:6,1:6,g,title = \"Difference between simulated and exact\",\n",
    "    xlabel = \"sites\",\n",
    "    ylabel = \"sites\"))\n",
    "    \n",
    "    return #Cf_trun_diff\n",
    "\n",
    "end\n",
    "\n",
    "\n",
    "###Animation functions\n",
    "\n",
    "\n",
    "function correlation_heatmap(corr, nframe, site_lim,T,model)\n",
    "    x=y=1:site_lim\n",
    "    anim = @animate for i=1:n\n",
    "        f(x, y) = abs((corr[i])[x,y])\n",
    "        heatmap(x,y,f,size=(400,400),aspect_ratio=:equal,clims=(0, 1),legend=true,c=:Set1_6)\n",
    "    end\n",
    "    gif(anim,\"correlation_heatmap_anim,T=\"*string(T)*\",model=\"*string(model)*\".gif\")\n",
    "end\n",
    "\n",
    "function correlation_contour(corr, nframe, site_lim,T,model)\n",
    "    x=y=1:site_lim\n",
    "    anim = @animate for i=1:n\n",
    "        f(x, y) = abs((corr[i])[x,y])\n",
    "        contour(x,y,f,size=(400,400),aspect_ratio=:equal,clims=(0, 1),legend=true)\n",
    "    end\n",
    "    gif(anim,\"correlation_contour_anim,T=\"*string(T)*\",model=\"*string(model)*\".gif\")\n",
    "end\n",
    "\n",
    "function correlation_surface_plot(corr, nframe, site_lim,T,model)\n",
    "    default(legend=false)\n",
    "    x=y=1:site_lim\n",
    "    anim = @animate for i=1:n\n",
    "        f(x, y) = abs((corr[i])[x,y])\n",
    "        surface(x, y, f,zlim=(0,1),xlabel=\"sites\",ylabel=\"sites\",\n",
    "             title=\"animation of correlation matrix over time\", c = :blues,clims=(0,1))\n",
    "    end\n",
    "    gif(anim,\"correlation_surface_plot_anim,T=\"*string(T)*\",model=\"*string(model)*\".gif\")\n",
    "end\n",
    "\n",
    "function entanglement_animation(SvN, nframe, site_lim, SvN_ylim,T,model)\n",
    "    anim = @animate for i=1:nframe\n",
    "        plot(sites[1:site_lim],SvN[i][1:site_lim],ylim=(0,SvN_ylim),\n",
    "         xlabel=\"sites\",ylabel=\"entanglement entropy\")\n",
    "    end\n",
    "    gif(anim,\"entanglement_entropy_anim,T=\"*string(T)*\",model=\"*string(model)*\".gif\")\n",
    "end\n",
    "     "
   ]
  },
  {
   "cell_type": "code",
   "execution_count": null,
   "id": "7e30c6cb",
   "metadata": {},
   "outputs": [
    {
     "name": "stdout",
     "output_type": "stream",
     "text": [
      "bath eigenmodes = 1, thermofield eigenmodes = 2, Tridiagonalisation = 3stdin> 3\n"
     ]
    }
   ],
   "source": [
    "\n",
    "   \n",
    "\n",
    "J = \"boxcar\"                                 #choice of bath spectral function\n",
    "N = 40                                       # Number of sites\n",
    "Ns = 3                                       #Number of system sites (not including ancilla)\n",
    "Nb = Int((N-2*Ns)/2)                                  #Number of bath sites (not including ancilla)\n",
    "tdvp_cutoff = 1E-20                          # Truncation allowed per step\n",
    "Krylov_cutoff = 1E-5\n",
    "s = siteinds(\"Fermion\", N)                   # Array of site indices  \n",
    "sites = 1:N                                  # site list\n",
    "δt = 0.1                                     # Time-step\n",
    "T = 10;                                       # Total time\n",
    "T_enrich = 0.5                               # Time when the state is enriched in each step\n",
    "T_unenriched = T-T_enrich                    # Time when the state is no longer enriched each step\n",
    "nframe = T/δt                                # Number of time steps\n",
    "nframe_en = T_enrich/δt\n",
    "β = 0;                                       #inverse temperature\n",
    "ϵi = 0.5*ones(Ns);                                    # energy of impurity mode\n",
    "\n",
    "D = 10                                       #half bandwidth\n",
    "Γ = 0.1                                      # total impurity-bath strength\n",
    "t = sqrt(Γ/(pi * Nb)) \n",
    "V_k, ϵb = spectral_density(J,Nb,Γ,D,ϵi)                        \n",
    "f_k = 1 ./(1 .+exp.(β*ϵb))                   # Fermi distributions of the bath modes\n",
    "k1 = 5\n",
    "k2 = 3                                       # Number of Krylov states\n",
    "τ_Krylov = 1\n",
    "###Construct arrays of local operators\n",
    "\n",
    "c = ops(s, [(\"C\", n) for n in sites]);        # annihilation operators\n",
    "cd = ops(s, [(\"Cdag\", n) for n in sites]);    # creation operators\n",
    "Imat = [1.0 0.0; 0.0 1.0]                     # identity matrix\n",
    "Id = Vector{ITensor}(undef,N)\n",
    "for i=1:N\n",
    "   Id[i] = ITensor(Imat,s[i]',s[i])           # identiy operators\n",
    "end;\n",
    "\n",
    "\n",
    "###Constructs Initial state\n",
    "vac = productMPS(s, \"0\");\n",
    "\n",
    "print(\"bath eigenmodes = 1, thermofield eigenmodes = 2, Tridiagonalisation = 3\")\n",
    "\n",
    "choice = parse(Int,readline())\n",
    "if choice == 1\n",
    "    #gates = [(cd[n]*Id[n+1] + Id[n]*cd[n+1])/sqrt(2) for n in 3:2:N]; \n",
    "    gates = [(sqrt(f_k[Int((n-1)/2)])*cd[n]*Id[n+1] + sqrt(1-f_k[Int((n-1)/2)])*Id[n]*cd[n+1])/sqrt(2) for n in 3:2:N]; \n",
    "end\n",
    "\n",
    "if choice==2 || choice==3\n",
    "     gates = [cd[n]*Id[n+1] for n in (2*Ns+1):2:N]\n",
    "     \n",
    "end\n",
    "\n",
    "system_gate = [(cd[n]*Id[n+1] + Id[n]*cd[n+1])/sqrt(2) for n in 1:2:(2*Ns-1)]\n",
    "\n",
    "if N>2*Ns\n",
    "    for i in reverse(1:length(system_gate))\n",
    "        push!(gates,system_gate[i])\n",
    "    end\n",
    "else\n",
    "    gates = system_gate\n",
    "end\n",
    "ψ = apply(gates,vac;cutoff=1e-15);\n",
    "\n",
    "\n",
    "for i =1:length(linkdims(ψ))\n",
    "    \"\"\"\n",
    "    Don't understand why this function isn't working. The tags created by the gates are not correct. \n",
    "    \"\"\"\n",
    "    replacetags(linkind(ψ,i),tags(linkind(ψ,i)),tags(linkind(vac,i)))\n",
    "end\n",
    "\n",
    "\n",
    "\n",
    "\n",
    "\n",
    "#The following code is not optimised, various objects are created multiple times\n",
    "#and within each different option there is identical code which doesn't\n",
    "#need to be written multiple times.\n",
    "\n",
    "\n",
    "###Create Hamiltonian MPO \n",
    "terms = OpSum()\n",
    "###Create single particle matrix hamiltonian\n",
    "H_single = zeros(N,N)\n",
    "\n",
    "### For all choices, the first two indices are the system ancilla and the system respectively.\n",
    "for i=1:Ns\n",
    "    \n",
    "    terms += ϵi[i],\"n\",2*i;\n",
    "    H_single[2*i,2*i] = ϵi[i]\n",
    "end\n",
    "b = 0\n",
    "\n",
    "\n",
    "if choice ==1\n",
    "    print(\"negative ancilla H = -1, no ancilla H = 0, positive ancilla H = 1\")\n",
    "    HA_choice = parse(Int,readline()) \n",
    "    model =  \"E basis,\"\n",
    "    if HA_choice ==1\n",
    "        model = model*\"Ha=Hb\"\n",
    "    end\n",
    "    if HA_choice ==0\n",
    "        model = model*\"Ha=0\"\n",
    "    end\n",
    "    if HA_choice ==-1\n",
    "        model = model*\"Ha=-1\"\n",
    "    end\n",
    "    for j=(2*Ns+1):2:N\n",
    "        b += 1\n",
    "        terms += ϵb[b],\"n\",j                                   # bath mode self energy\n",
    "        H_single[j,j] = ϵb[b]\n",
    "        \n",
    "        terms += HA_choice*ϵb[b],\"n\",j+1                       # ancilla bath mode self energy\n",
    "        H_single[j+1,j+1] =  HA_choice*ϵb[b]\n",
    "        \n",
    "        terms += V_k[b],\"Cdag\",j,\"C\",2*Ns                         #hopping from system to kth f mode \n",
    "        H_single[j,2*Ns] = V_k[b]\n",
    "        \n",
    "        terms += conj(V_k[b]),\"Cdag\",2*Ns,\"C\",j                   #hopping from kth f mode to system \n",
    "        H_single[2*Ns,j] = conj(V_k[b])\n",
    "    end    \n",
    "end\n",
    "\n",
    "if choice==2\n",
    "    model = \"thermofield basis\"\n",
    "    for j=(2*Ns+1):2:N\n",
    "        b += 1\n",
    "        terms += ϵb[b],\"n\",j                                   # filled mode self energy\n",
    "        H_single[j,j] = ϵb[b]\n",
    "        \n",
    "        terms += ϵb[b],\"n\",j+1                                 # empty mode self energy\n",
    "        H_single[j+1,j+1] =  ϵb[b]\n",
    "        \n",
    "        terms += V_k[b]*sqrt(f_k[b]),\"Cdag\",j,\"C\",2*Ns            #hopping from system to kth f mode\n",
    "        H_single[j,2*Ns] = V_k[b]*sqrt(f_k[b])\n",
    "        \n",
    "        terms += conj(V_k[b])*sqrt(f_k[b]),\"Cdag\",2*Ns,\"C\",j      #hopping from kth f mode to system \n",
    "        H_single[2*Ns,j] = conj(V_k[b])*sqrt(f_k[b])\n",
    "        \n",
    "        terms += V_k[b]*sqrt(1-f_k[b]),\"Cdag\",j+1,\"C\",2*Ns        #coupling from system to kth e mode\n",
    "        H_single[j+1,2*Ns] =  V_k[b]*sqrt(1-f_k[b])\n",
    "        \n",
    "        terms += conj(V_k[b])*sqrt(1-f_k[b]),\"Cdag\",2*Ns,\"C\",j+1  #coupling from kth e mode to system\n",
    "        H_single[2*Ns,j+1] =  conj(V_k[b])*sqrt(1-f_k[b])\n",
    "    end\n",
    "end\n",
    "\n",
    "if choice ==3\n",
    "    model = \"thermofield+tridiag\"\n",
    "    fill_mat = zeros(Nb+1,Nb+1)\n",
    "    emp_mat = zeros(Nb+1,Nb+1)\n",
    "    ### Same terms as for choice 2, inputed as a matrix rather than an MPO. \n",
    "    for j=1:Nb\n",
    "        ###This loop creates two (Nb+1) x (Nb+1) matrices, one includes the couplings and self energies of the \n",
    "        ###filled modes and the system, the other the empty modes and the system. These are then tridiagonalised \n",
    "        ###separately in the next loop, and their elements are used to construct the MPO for the hamiltonian in this new, tridiagonal basis. \n",
    "    \n",
    "        fill_mat[1,1],emp_mat[1,1] = ϵi[Ns], ϵi[Ns]\n",
    "\n",
    "        fill_mat[j+1,j+1],emp_mat[j+1,j+1] = ϵb[j],ϵb[j]\n",
    "\n",
    "        fill_mat[j+1,1] = V_k[j]*sqrt(f_k[j])\n",
    "\n",
    "        fill_mat[1,j+1] = conj(V_k[j])*sqrt(f_k[j])\n",
    "\n",
    "        emp_mat[j+1,1] = V_k[j]*sqrt(1-f_k[j])\n",
    "\n",
    "        emp_mat[1,j+1] = conj(V_k[j])*sqrt(1-f_k[j])\n",
    "    end\n",
    "\n",
    "    fill_mat,Uf = band_diag(fill_mat,1)\n",
    "    emp_mat,Ue = band_diag(emp_mat,1)\n",
    "\n",
    "    Uf = Uf[2:Nb+1,2:Nb+1] ###discarding the system terms as the system isn't mixed in this transformation.\n",
    "    Ue = Ue[2:Nb+1,2:Nb+1]\n",
    "    \n",
    "    b = 1\n",
    "    for j=(2*Ns+1):2:N\n",
    "        b += 1\n",
    "        terms += fill_mat[b,b],\"n\",j\n",
    "        H_single[j,j] = fill_mat[b,b]\n",
    "        \n",
    "        terms += emp_mat[b,b],\"n\",j+1\n",
    "        H_single[j+1,j+1] = emp_mat[b,b]\n",
    "        \n",
    "        terms += emp_mat[b-1,b],\"Cdag\",j-1,\"C\",j+1\n",
    "        H_single[j-1,j+1] = emp_mat[b-1,b]\n",
    "        \n",
    "        terms += emp_mat[b,b-1],\"Cdag\",j+1,\"C\",j-1\n",
    "        H_single[j+1,j-1] = emp_mat[b,b-1]\n",
    "        if j==2*Ns+1\n",
    "            terms += fill_mat[b-1,b],\"Cdag\",2*Ns,\"C\",2*Ns+1\n",
    "            H_single[2*Ns,2*Ns+1] = fill_mat[b-1,b]\n",
    "            \n",
    "            terms += fill_mat[b,b-1],\"Cdag\",2*Ns+1,\"C\",2*Ns\n",
    "            H_single[2*Ns+1,2*Ns] = fill_mat[b,b-1]\n",
    "        else\n",
    "            terms += fill_mat[b-1,b],\"Cdag\",j-2,\"C\",j\n",
    "            H_single[j-2,j] = fill_mat[b-1,b]\n",
    "            \n",
    "            terms += fill_mat[b,b-1],\"Cdag\",j,\"C\",j-2\n",
    "            H_single[j,j-2] = fill_mat[b,b-1]\n",
    "        end\n",
    "    end\n",
    "end\n",
    "H = MPO(terms,s);\n",
    "#@show(linkinds(H))\n",
    "#@show(linkinds(ψ))\n",
    "println(\"here1\")\n",
    "k1 = 10\n",
    "Krylov = Krylov_states(H,ψ,k1,τ_Krylov,s);\n",
    "println(\"here2\")\n",
    "###Initial Correlations\n",
    "ψ[N]= ψ[N]/norm(ψ)\n",
    "println(\"here3\")\n",
    "ψ1 = enrich_generic3(ψ, Krylov; Krylov_cutoff);\n",
    "println(\"1 - overlap of initial state and enriched initial state = \",1-inner(ψ,ψ1))\n",
    "ψ = ψ1\n",
    "Ci = transpose(correlation_matrix(ψ,\"Cdag\",\"C\"));\n",
    "println(\"here4\")\n",
    "\n",
    "###Initial Entropy\n",
    "SvN_init = entanglement_entropy(ψ);\n",
    "\n",
    "\n",
    "###density of initial state\n",
    "num_init = expect(ψ,\"n\");\n",
    "\n",
    "###Initial state\n",
    "ψ_init = deepcopy(ψ);\n"
   ]
  },
  {
   "cell_type": "code",
   "execution_count": null,
   "id": "11d5d509",
   "metadata": {},
   "outputs": [],
   "source": []
  },
  {
   "cell_type": "code",
   "execution_count": null,
   "id": "d472195d",
   "metadata": {},
   "outputs": [],
   "source": []
  },
  {
   "cell_type": "code",
   "execution_count": null,
   "id": "749010d7",
   "metadata": {},
   "outputs": [],
   "source": []
  },
  {
   "cell_type": "code",
   "execution_count": 4,
   "id": "9c910983",
   "metadata": {},
   "outputs": [
    {
     "name": "stderr",
     "output_type": "stream",
     "text": [
      "\r",
      "0.0%┣                                             ┫ 0/400 [00:00<00:-20, -0s/it]"
     ]
    },
    {
     "name": "stdout",
     "output_type": "stream",
     "text": [
      "After sweep 1: maxlinkdim=64"
     ]
    },
    {
     "name": "stderr",
     "output_type": "stream",
     "text": [
      "\n"
     ]
    },
    {
     "name": "stdout",
     "output_type": "stream",
     "text": [
      " maxerr=0.00E+00 current_time=0.0 - 0.0im time=5.916\n"
     ]
    },
    {
     "name": "stderr",
     "output_type": "stream",
     "text": [
      "\u001b[1A\r",
      "0.2%┣                                          ┫ 1/400 [00:08<Inf:Inf, InfGs/it]\n"
     ]
    },
    {
     "name": "stdout",
     "output_type": "stream",
     "text": [
      "After sweep 1: maxlinkdim=64 maxerr=0.00E+00 current_time=0.0 - 0.0im time=0.101\n"
     ]
    },
    {
     "name": "stderr",
     "output_type": "stream",
     "text": [
      "\u001b[1A\r",
      "0.5%┣▎                                              ┫ 2/400 [00:08<52:49, 8s/it]\n"
     ]
    },
    {
     "name": "stdout",
     "output_type": "stream",
     "text": [
      "After sweep 1: maxlinkdim=64 maxerr=0.00E+00 current_time=0.0 - 0.0im time=0.073\n",
      "After sweep 1: maxlinkdim=64 maxerr=0.00E+00 current_time=0.0 - 0.0im time=0.067"
     ]
    },
    {
     "name": "stderr",
     "output_type": "stream",
     "text": [
      "\u001b[1A\r",
      "0.8%┣▍                                              ┫ 3/400 [00:08<27:34, 4s/it]\n"
     ]
    },
    {
     "name": "stdout",
     "output_type": "stream",
     "text": [
      "\n"
     ]
    },
    {
     "name": "stderr",
     "output_type": "stream",
     "text": [
      "\u001b[1A\r",
      "1.0%┣▌                                              ┫ 4/400 [00:09<19:05, 3s/it]\n"
     ]
    },
    {
     "name": "stdout",
     "output_type": "stream",
     "text": [
      "After sweep 1: maxlinkdim=64 maxerr=0.00E+00 current_time=0.0 - 0.0im time=0.084\n"
     ]
    },
    {
     "name": "stderr",
     "output_type": "stream",
     "text": [
      "\u001b[1A\r",
      "1.2%┣▋                                              ┫ 5/400 [00:09<14:54, 2s/it]\n"
     ]
    },
    {
     "name": "stdout",
     "output_type": "stream",
     "text": [
      "After sweep 1: maxlinkdim=64 maxerr=0.00E+00 current_time=0.0 - 0.0im time=0.09\n",
      "After sweep 1: maxlinkdim=64 maxerr=0.00E+00 current_time=0.0 - 0.0im time=0.069\n"
     ]
    },
    {
     "name": "stderr",
     "output_type": "stream",
     "text": [
      "1.5%┣▊                                              ┫ 6/400 [00:09<12:26, 2s/it]\n",
      "1.8%┣▉                                              ┫ 7/400 [00:10<10:40, 2s/it]\n"
     ]
    },
    {
     "name": "stdout",
     "output_type": "stream",
     "text": [
      "After sweep 1: maxlinkdim=64 maxerr=0.00E+00 current_time=0.0 - 0.0im time=0.077\n"
     ]
    },
    {
     "name": "stderr",
     "output_type": "stream",
     "text": [
      "\u001b[1A\r",
      "2.0%┣█                                              ┫ 8/400 [00:10<09:27, 1s/it]\n"
     ]
    },
    {
     "name": "stdout",
     "output_type": "stream",
     "text": [
      "After sweep 1: maxlinkdim=64 maxerr=0.00E+00 current_time=0.0 - 0.0im time=0.08\n",
      "After sweep 1: maxlinkdim=64 maxerr=0.00E+00 current_time=0.0 - 0.0im time=0.077"
     ]
    },
    {
     "name": "stderr",
     "output_type": "stream",
     "text": [
      "\u001b[1A\r",
      "2.2%┣█                                              ┫ 9/400 [00:10<08:33, 1s/it]\n"
     ]
    },
    {
     "name": "stdout",
     "output_type": "stream",
     "text": [
      "\n"
     ]
    },
    {
     "name": "stderr",
     "output_type": "stream",
     "text": [
      "\u001b[1A\r",
      "2.5%┣█▏                                            ┫ 10/400 [00:11<07:49, 1s/it]\n"
     ]
    },
    {
     "name": "stdout",
     "output_type": "stream",
     "text": [
      "After sweep 1: maxlinkdim=64 maxerr=0.00E+00 current_time=0.0 - 0.0im time=0.088\n",
      "After sweep 1"
     ]
    },
    {
     "name": "stderr",
     "output_type": "stream",
     "text": [
      "\u001b[1A\r",
      "2.8%┣█▎                                            ┫ 11/400 [00:11<07:16, 1s/it]\n"
     ]
    },
    {
     "name": "stdout",
     "output_type": "stream",
     "text": [
      ": maxlinkdim=64 maxerr=0.00E+00 current_time=0.0 - 0.0im time=0.074\n",
      "After sweep 1: maxlinkdim=64 maxerr=0.00E+00 current_time=0.0 - 0.0im time=0.064\n"
     ]
    },
    {
     "name": "stderr",
     "output_type": "stream",
     "text": [
      "\u001b[1A\r",
      "3.0%┣█▍                                            ┫ 12/400 [00:12<06:48, 1s/it]\n"
     ]
    },
    {
     "name": "stdout",
     "output_type": "stream",
     "text": [
      "After sweep 1: maxlinkdim=64 maxerr=0.00E+00 current_time=0.0 - 0.0im time=0.075\n"
     ]
    },
    {
     "name": "stderr",
     "output_type": "stream",
     "text": [
      "3.2%┣█▌                                            ┫ 13/400 [00:12<06:23, 1it/s]\n",
      "3.5%┣█▋                                            ┫ 14/400 [00:12<06:01, 1it/s]\n"
     ]
    },
    {
     "name": "stdout",
     "output_type": "stream",
     "text": [
      "After sweep 1: maxlinkdim=64 maxerr=0.00E+00 current_time=0.0 - 0.0im time=0.074\n"
     ]
    },
    {
     "name": "stderr",
     "output_type": "stream",
     "text": [
      "\u001b[1A\r",
      "3.8%┣█▊                                            ┫ 15/400 [00:13<05:44, 1it/s]\n"
     ]
    },
    {
     "name": "stdout",
     "output_type": "stream",
     "text": [
      "After sweep 1: maxlinkdim=64 maxerr=0.00E+00 current_time=0.0 - 0.0im time=0.08\n",
      "After sweep 1: maxlinkdim=64 maxerr=0.00E+00 current_time=0.0 - 0.0im time=0.069\n"
     ]
    },
    {
     "name": "stderr",
     "output_type": "stream",
     "text": [
      "4.0%┣█▉                                            ┫ 16/400 [00:13<05:30, 1it/s]\n",
      "4.2%┣██                                            ┫ 17/400 [00:13<05:16, 1it/s]\n"
     ]
    },
    {
     "name": "stdout",
     "output_type": "stream",
     "text": [
      "After sweep 1: maxlinkdim=64 maxerr=0.00E+00 current_time=0.0 - 0.0im time=0.066\n",
      "After sweep 1: maxlinkdim=64 maxerr=0.00E+00 current_time=0.0 - 0.0im time=0.072\n"
     ]
    },
    {
     "name": "stderr",
     "output_type": "stream",
     "text": [
      "\u001b[1A\r",
      "4.5%┣██                                            ┫ 18/400 [00:14<05:04, 1it/s]\n"
     ]
    },
    {
     "name": "stdout",
     "output_type": "stream",
     "text": [
      "After sweep 1: maxlinkdim=64 maxerr=0.00E+00 current_time=0.0 - 0.0im time=0.071\n"
     ]
    },
    {
     "name": "stderr",
     "output_type": "stream",
     "text": [
      "4.8%┣██▏                                           ┫ 19/400 [00:14<04:53, 1it/s]\n",
      "5.0%┣██▎                                           ┫ 20/400 [00:14<04:43, 1it/s]"
     ]
    },
    {
     "name": "stdout",
     "output_type": "stream",
     "text": [
      "After sweep 1: maxlinkdim=64 maxerr=0.00E+00 current_time=0.0 - 0.0im time=0.071\n"
     ]
    },
    {
     "name": "stderr",
     "output_type": "stream",
     "text": [
      "\n"
     ]
    },
    {
     "name": "stdout",
     "output_type": "stream",
     "text": [
      "After sweep 1: maxlinkdim=64 maxerr=0.00E+00 current_time=0.0 - 0.0im time=0.064\n"
     ]
    },
    {
     "name": "stderr",
     "output_type": "stream",
     "text": [
      "\u001b[1A\r",
      "5.2%┣██▍                                           ┫ 21/400 [00:14<04:35, 1it/s]\n"
     ]
    },
    {
     "name": "stdout",
     "output_type": "stream",
     "text": [
      "After sweep 1: maxlinkdim=64 maxerr=0.00E+00 current_time=0.0 - 0.0im time=0.072\n"
     ]
    },
    {
     "name": "stderr",
     "output_type": "stream",
     "text": [
      "\u001b[1A\r",
      "5.5%┣██▌                                           ┫ 22/400 [00:15<04:27, 1it/s]\n"
     ]
    },
    {
     "name": "stdout",
     "output_type": "stream",
     "text": [
      "After sweep 1: maxlinkdim=64 maxerr=0.00E+00 current_time=0.0 - 0.0im time=0.065\n"
     ]
    },
    {
     "name": "stderr",
     "output_type": "stream",
     "text": [
      "\u001b[1A\r",
      "5.8%┣██▋                                           ┫ 23/400 [00:15<04:19, 1it/s]\n"
     ]
    },
    {
     "name": "stdout",
     "output_type": "stream",
     "text": [
      "After sweep 1: maxlinkdim=64 maxerr=0.00E+00 current_time=0.0 - 0.0im time=0.065\n"
     ]
    },
    {
     "name": "stderr",
     "output_type": "stream",
     "text": [
      "\u001b[1A\r",
      "6.0%┣██▊                                           ┫ 24/400 [00:15<04:11, 1it/s]\n"
     ]
    },
    {
     "name": "stdout",
     "output_type": "stream",
     "text": [
      "After sweep 1: maxlinkdim=64 maxerr=0.00E+00 current_time=0.0 - 0.0im time=0.069\n"
     ]
    },
    {
     "name": "stderr",
     "output_type": "stream",
     "text": [
      "\u001b[1A\r",
      "6.2%┣██▉                                           ┫ 25/400 [00:16<04:04, 2it/s]\n"
     ]
    },
    {
     "name": "stdout",
     "output_type": "stream",
     "text": [
      "After sweep 1: maxlinkdim=64 maxerr=0.00E+00 current_time=0.0 - 0.0im time=0.069"
     ]
    },
    {
     "name": "stderr",
     "output_type": "stream",
     "text": [
      "\u001b[1A\r",
      "6.5%┣███                                           ┫ 26/400 [00:16<03:58, 2it/s]\n"
     ]
    },
    {
     "name": "stdout",
     "output_type": "stream",
     "text": [
      "\n"
     ]
    },
    {
     "name": "stderr",
     "output_type": "stream",
     "text": [
      "\u001b[1A\r",
      "6.8%┣███                                           ┫ 27/400 [00:16<03:53, 2it/s]\n"
     ]
    },
    {
     "name": "stdout",
     "output_type": "stream",
     "text": [
      "After sweep 1: maxlinkdim=64 maxerr=0.00E+00 current_time=0.0 - 0.0im time=0.072\n",
      "After sweep 1: maxlinkdim=64 maxerr=0.00E+00 current_time=0.0 - 0.0im time=0.061"
     ]
    },
    {
     "name": "stderr",
     "output_type": "stream",
     "text": [
      "\u001b[1A\r",
      "7.0%┣███▏                                          ┫ 28/400 [00:17<03:48, 2it/s]\n"
     ]
    },
    {
     "name": "stdout",
     "output_type": "stream",
     "text": [
      "\n",
      "After sweep 1: maxlinkdim=64 maxerr=0.00E+00 current_time=0.0 - 0.0im time=0.063"
     ]
    },
    {
     "name": "stderr",
     "output_type": "stream",
     "text": [
      "\u001b[1A\r",
      "7.2%┣███▍                                          ┫ 29/400 [00:17<03:44, 2it/s]\n"
     ]
    },
    {
     "name": "stdout",
     "output_type": "stream",
     "text": [
      "\n",
      "After sweep 1: maxlinkdim=64 maxerr=0.00E+00 current_time=0.0 - 0.0im time=0.068\n"
     ]
    },
    {
     "name": "stderr",
     "output_type": "stream",
     "text": [
      "\u001b[1A\r",
      "7.5%┣███▌                                          ┫ 30/400 [00:17<03:39, 2it/s]\n"
     ]
    },
    {
     "name": "stdout",
     "output_type": "stream",
     "text": [
      "After sweep 1: maxlinkdim=64 maxerr=0.00E+00 current_time=0.0 - 0.0im time=0.071\n"
     ]
    },
    {
     "name": "stderr",
     "output_type": "stream",
     "text": [
      "\u001b[1A\r",
      "7.8%┣███▋                                          ┫ 31/400 [00:18<03:36, 2it/s]\n"
     ]
    },
    {
     "name": "stdout",
     "output_type": "stream",
     "text": [
      "After sweep 1: maxlinkdim=64 maxerr=0.00E+00 current_time=0.0 - 0.0im time=0.065\n"
     ]
    },
    {
     "name": "stderr",
     "output_type": "stream",
     "text": [
      "\u001b[1A\r",
      "8.0%┣███▊                                          ┫ 32/400 [00:18<03:32, 2it/s]\n"
     ]
    },
    {
     "name": "stdout",
     "output_type": "stream",
     "text": [
      "After sweep "
     ]
    },
    {
     "name": "stderr",
     "output_type": "stream",
     "text": [
      "\u001b[1A\r",
      "8.2%┣███▉                                          ┫ 33/400 [00:18<03:28, 2it/s]\n"
     ]
    },
    {
     "name": "stdout",
     "output_type": "stream",
     "text": [
      "1: maxlinkdim=64 maxerr=0.00E+00 current_time=0.0 - 0.0im time=0.072\n",
      "After sweep 1: maxlinkdim=64 maxerr=0.00E+00 current_time=0.0 - 0.0im time=0.066\n"
     ]
    },
    {
     "name": "stderr",
     "output_type": "stream",
     "text": [
      "\u001b[1A\r",
      "8.5%┣████                                          ┫ 34/400 [00:19<03:25, 2it/s]\n"
     ]
    },
    {
     "name": "stdout",
     "output_type": "stream",
     "text": [
      "After sweep 1: maxlinkdim=64 maxerr=0.00E+00 current_time=0.0 - 0.0im time=0.062\n"
     ]
    },
    {
     "name": "stderr",
     "output_type": "stream",
     "text": [
      "\u001b[1A\r",
      "8.8%┣████                                          ┫ 35/400 [00:19<03:22, 2it/s]\n"
     ]
    },
    {
     "name": "stdout",
     "output_type": "stream",
     "text": [
      "After sweep 1: maxlinkdim=64 maxerr=0.00E+00 current_time=0.0 - 0.0im time=0.068\n"
     ]
    },
    {
     "name": "stderr",
     "output_type": "stream",
     "text": [
      "9.0%┣████▏                                         ┫ 36/400 [00:19<03:19, 2it/s]\n",
      "9.2%┣████▎                                         ┫ 37/400 [00:19<03:16, 2it/s]\n"
     ]
    },
    {
     "name": "stdout",
     "output_type": "stream",
     "text": [
      "After sweep 1: maxlinkdim=64 maxerr=0.00E+00 current_time=0.0 - 0.0im time=0.073\n",
      "After sweep 1: maxlinkdim=64 maxerr=0.00E+00 current_time=0.0 - 0.0im time=0.067\n"
     ]
    },
    {
     "name": "stderr",
     "output_type": "stream",
     "text": [
      "\u001b[1A\r",
      "9.5%┣████▍                                         ┫ 38/400 [00:20<03:13, 2it/s]\n"
     ]
    },
    {
     "name": "stdout",
     "output_type": "stream",
     "text": [
      "After sweep 1: maxlinkdim=64 maxerr=0.00E+00 current_time=0.0 - 0.0im time=0.068\n"
     ]
    },
    {
     "name": "stderr",
     "output_type": "stream",
     "text": [
      "\u001b[1A\r",
      "9.8%┣████▌                                         ┫ 39/400 [00:20<03:10, 2it/s]\n"
     ]
    },
    {
     "name": "stdout",
     "output_type": "stream",
     "text": [
      "After sweep 1"
     ]
    },
    {
     "name": "stderr",
     "output_type": "stream",
     "text": [
      "\u001b[1A\r",
      "10.0%┣████▌                                        ┫ 40/400 [00:20<03:08, 2it/s]\n"
     ]
    },
    {
     "name": "stdout",
     "output_type": "stream",
     "text": [
      ": maxlinkdim=64 maxerr=0.00E+00 current_time=0.0 - 0.0im time=0.068\n",
      "After sweep 1: maxlinkdim=64 maxerr=0.00E+00 current_time=0.0 - 0.0im time=0.063\n"
     ]
    },
    {
     "name": "stderr",
     "output_type": "stream",
     "text": [
      "\u001b[1A\r",
      "10.2%┣████▋                                        ┫ 41/400 [00:21<03:06, 2it/s]\n"
     ]
    },
    {
     "name": "stdout",
     "output_type": "stream",
     "text": [
      "After sweep 1"
     ]
    },
    {
     "name": "stderr",
     "output_type": "stream",
     "text": [
      "\u001b[1A\r",
      "10.5%┣████▊                                        ┫ 42/400 [00:21<03:03, 2it/s]\n"
     ]
    },
    {
     "name": "stdout",
     "output_type": "stream",
     "text": [
      ": maxlinkdim=64 maxerr=0.00E+00 current_time=0.0 - 0.0im time=0.066\n",
      "After sweep 1: maxlinkdim=64 maxerr=0.00E+00 current_time=0.0 - 0.0im time=0.068\n"
     ]
    },
    {
     "name": "stderr",
     "output_type": "stream",
     "text": [
      "\u001b[1A\r",
      "10.8%┣████▉                                        ┫ 43/400 [00:21<03:01, 2it/s]\n"
     ]
    },
    {
     "name": "stdout",
     "output_type": "stream",
     "text": [
      "After sweep 1: maxlinkdim=64"
     ]
    },
    {
     "name": "stderr",
     "output_type": "stream",
     "text": [
      "\u001b[1A\r",
      "11.0%┣█████                                        ┫ 44/400 [00:22<02:59, 2it/s]\n"
     ]
    },
    {
     "name": "stdout",
     "output_type": "stream",
     "text": [
      " maxerr=0.00E+00 current_time=0.0 - 0.0im time=0.063\n",
      "After sweep 1: maxlinkdim=64 maxerr=0.00E+00 current_time=0.0 - 0.0im time=0.066\n"
     ]
    },
    {
     "name": "stderr",
     "output_type": "stream",
     "text": [
      "\u001b[1A\r",
      "11.2%┣█████                                        ┫ 45/400 [00:22<02:57, 2it/s]\n"
     ]
    },
    {
     "name": "stdout",
     "output_type": "stream",
     "text": [
      "After sweep 1: maxlinkdim=64 maxerr=0.00E+00 current_time=0.0 - 0.0im time=0.066\n"
     ]
    },
    {
     "name": "stderr",
     "output_type": "stream",
     "text": [
      "\u001b[1A\r",
      "11.5%┣█████▏                                       ┫ 46/400 [00:22<02:55, 2it/s]\n"
     ]
    },
    {
     "name": "stdout",
     "output_type": "stream",
     "text": [
      "After sweep 1: maxlinkdim=64 maxerr=0.00E+00 current_time=0.0 - 0.0im time=0.066\n"
     ]
    },
    {
     "name": "stderr",
     "output_type": "stream",
     "text": [
      "\u001b[1A\r",
      "11.8%┣█████▎                                       ┫ 47/400 [00:23<02:53, 2it/s]\n"
     ]
    },
    {
     "name": "stdout",
     "output_type": "stream",
     "text": [
      "After sweep 1: maxlinkdim=64 maxerr=0.00E+00 current_time=0.0 - 0.0im time=0.065\n"
     ]
    },
    {
     "name": "stderr",
     "output_type": "stream",
     "text": [
      "\u001b[1A\r",
      "12.0%┣█████▍                                       ┫ 48/400 [00:23<02:50, 2it/s]\n"
     ]
    },
    {
     "name": "stdout",
     "output_type": "stream",
     "text": [
      "After sweep 1: maxlinkdim=64 maxerr=0.00E+00 current_time=0.0 - 0.0im time=0.062"
     ]
    },
    {
     "name": "stderr",
     "output_type": "stream",
     "text": [
      "\u001b[1A\r",
      "12.2%┣█████▌                                       ┫ 49/400 [00:23<02:48, 2it/s]\n"
     ]
    },
    {
     "name": "stdout",
     "output_type": "stream",
     "text": [
      "\n"
     ]
    },
    {
     "name": "stderr",
     "output_type": "stream",
     "text": [
      "\u001b[1A\r",
      "12.5%┣█████▋                                       ┫ 50/400 [00:23<02:47, 2it/s]\n"
     ]
    },
    {
     "name": "stdout",
     "output_type": "stream",
     "text": [
      "After sweep 1: maxlinkdim=64 maxerr=0.00E+00 current_time=0.0 - 0.0im time=0.07\n",
      "After sweep 1"
     ]
    },
    {
     "name": "stderr",
     "output_type": "stream",
     "text": [
      "\u001b[1A\r",
      "12.8%┣█████▊                                       ┫ 51/400 [00:24<02:45, 2it/s]\n"
     ]
    },
    {
     "name": "stdout",
     "output_type": "stream",
     "text": [
      ": maxlinkdim=64 maxerr=0.00E+00 current_time=0.0 - 0.0im time=0.059\n",
      "After sweep 1: maxlinkdim=64 maxerr=0.00E+00 current_time=0.0 - 0.0im time=0.064\n"
     ]
    },
    {
     "name": "stderr",
     "output_type": "stream",
     "text": [
      "\u001b[1A\r",
      "13.0%┣█████▉                                       ┫ 52/400 [00:24<02:44, 2it/s]\n"
     ]
    },
    {
     "name": "stdout",
     "output_type": "stream",
     "text": [
      "After sweep 1: maxlinkdim=64"
     ]
    },
    {
     "name": "stderr",
     "output_type": "stream",
     "text": [
      "\u001b[1A\r",
      "13.2%┣██████                                       ┫ 53/400 [00:24<02:42, 2it/s]\n"
     ]
    },
    {
     "name": "stdout",
     "output_type": "stream",
     "text": [
      " maxerr=0.00E+00 current_time=0.0 - 0.0im time=0.072\n"
     ]
    },
    {
     "name": "stderr",
     "output_type": "stream",
     "text": [
      "\u001b[1A\r",
      "13.5%┣██████                                       ┫ 54/400 [00:25<02:40, 2it/s]\n"
     ]
    },
    {
     "name": "stdout",
     "output_type": "stream",
     "text": [
      "After sweep 1: maxlinkdim=64 maxerr=0.00E+00 current_time=0.0 - 0.0im time=0.066\n"
     ]
    },
    {
     "name": "stderr",
     "output_type": "stream",
     "text": [
      "\u001b[1A\r",
      "13.8%┣██████▏                                      ┫ 55/400 [00:25<02:39, 2it/s]\n"
     ]
    },
    {
     "name": "stdout",
     "output_type": "stream",
     "text": [
      "After sweep 1: maxlinkdim=64 maxerr=0.00E+00 current_time=0.0 - 0.0im time=0.076\n",
      "After sweep 1: maxlinkdim=64 maxerr=0.00E+00 current_time=0.0 - 0.0im time=0.069\n"
     ]
    },
    {
     "name": "stderr",
     "output_type": "stream",
     "text": [
      "\u001b[1A\r",
      "14.0%┣██████▎                                      ┫ 56/400 [00:25<02:38, 2it/s]\n"
     ]
    },
    {
     "name": "stdout",
     "output_type": "stream",
     "text": [
      "After sweep 1: maxlinkdim=64 maxerr=0.00E+00 current_time=0.0 - 0.0im time=0.066\n"
     ]
    },
    {
     "name": "stderr",
     "output_type": "stream",
     "text": [
      "14.2%┣██████▍                                      ┫ 57/400 [00:25<02:36, 2it/s]\n",
      "14.5%┣██████▌                                      ┫ 58/400 [00:26<02:34, 2it/s]\n"
     ]
    },
    {
     "name": "stdout",
     "output_type": "stream",
     "text": [
      "After sweep 1: maxlinkdim=64 maxerr=0.00E+00 current_time=0.0 - 0.0im time=0.085\n",
      "After sweep 1: maxlinkdim=64 maxerr=0.00E+00 current_time=0.0 - 0.0im time=0.064\n"
     ]
    },
    {
     "name": "stderr",
     "output_type": "stream",
     "text": [
      "\u001b[1A\r",
      "14.8%┣██████▋                                      ┫ 59/400 [00:26<02:33, 2it/s]\n"
     ]
    },
    {
     "name": "stdout",
     "output_type": "stream",
     "text": [
      "After sweep 1: maxlinkdim=64 maxerr=0.00E+00 current_time=0.0 - 0.0im time=0.064\n"
     ]
    },
    {
     "name": "stderr",
     "output_type": "stream",
     "text": [
      "\u001b[1A\r",
      "15.0%┣██████▊                                      ┫ 60/400 [00:26<02:31, 2it/s]\n"
     ]
    },
    {
     "name": "stdout",
     "output_type": "stream",
     "text": [
      "After sweep 1: maxlinkdim=64 maxerr=0.00E+00 current_time=0.0 - 0.0im time=0.065\n"
     ]
    },
    {
     "name": "stderr",
     "output_type": "stream",
     "text": [
      "\u001b[1A\r",
      "15.2%┣██████▉                                      ┫ 61/400 [00:27<02:30, 2it/s]\n"
     ]
    },
    {
     "name": "stdout",
     "output_type": "stream",
     "text": [
      "After sweep 1: maxlinkdim=64 maxerr=0.00E+00 current_time=0.0 - 0.0im time=0.067\n"
     ]
    },
    {
     "name": "stderr",
     "output_type": "stream",
     "text": [
      "\u001b[1A\r",
      "15.5%┣███████                                      ┫ 62/400 [00:27<02:29, 2it/s]\n"
     ]
    },
    {
     "name": "stdout",
     "output_type": "stream",
     "text": [
      "After sweep 1: maxlinkdim=64 maxerr=0.00E+00 current_time=0.0 - 0.0im time=0.065\n"
     ]
    },
    {
     "name": "stderr",
     "output_type": "stream",
     "text": [
      "\u001b[1A\r",
      "15.8%┣███████                                      ┫ 63/400 [00:27<02:27, 2it/s]\n"
     ]
    },
    {
     "name": "stdout",
     "output_type": "stream",
     "text": [
      "After sweep 1: maxlinkdim=64 maxerr=0.00E+00 current_time="
     ]
    },
    {
     "name": "stderr",
     "output_type": "stream",
     "text": [
      "\u001b[1A\r",
      "16.0%┣███████▏                                     ┫ 64/400 [00:27<02:26, 2it/s]\n"
     ]
    },
    {
     "name": "stdout",
     "output_type": "stream",
     "text": [
      "0.0 - 0.0im time=0.067\n",
      "After sweep 1:"
     ]
    },
    {
     "name": "stderr",
     "output_type": "stream",
     "text": [
      "\u001b[1A\r",
      "16.2%┣███████▎                                     ┫ 65/400 [00:28<02:25, 2it/s]\n"
     ]
    },
    {
     "name": "stdout",
     "output_type": "stream",
     "text": [
      " maxlinkdim=64 maxerr=0.00E+00 current_time=0.0 - 0.0im time=0.061\n"
     ]
    },
    {
     "name": "stderr",
     "output_type": "stream",
     "text": [
      "\u001b[1A\r",
      "16.5%┣███████▍                                     ┫ 66/400 [00:28<02:25, 2it/s]\n"
     ]
    },
    {
     "name": "stdout",
     "output_type": "stream",
     "text": [
      "After sweep 1: maxlinkdim=64 maxerr=0.00E+00 current_time=0.0 - 0.0im time=0.067\n"
     ]
    },
    {
     "name": "stderr",
     "output_type": "stream",
     "text": [
      "\u001b[1A\r",
      "16.8%┣███████▌                                     ┫ 67/400 [00:29<02:24, 2it/s]\n"
     ]
    },
    {
     "name": "stdout",
     "output_type": "stream",
     "text": [
      "After sweep 1: maxlinkdim=64 maxerr=0.00E+00 current_time=0.0 - 0.0im time=0.095\n",
      "After sweep 1: maxlinkdim=64 maxerr=0.00E+00 current_time=0.0 - 0.0im time=0.067\n"
     ]
    },
    {
     "name": "stderr",
     "output_type": "stream",
     "text": [
      "\u001b[1A\r",
      "17.0%┣███████▋                                     ┫ 68/400 [00:29<02:23, 2it/s]\n"
     ]
    },
    {
     "name": "stdout",
     "output_type": "stream",
     "text": [
      "After sweep 1: maxlinkdim="
     ]
    },
    {
     "name": "stderr",
     "output_type": "stream",
     "text": [
      "\u001b[1A\r",
      "17.2%┣███████▊                                     ┫ 69/400 [00:29<02:22, 2it/s]\n"
     ]
    },
    {
     "name": "stdout",
     "output_type": "stream",
     "text": [
      "64 maxerr=0.00E+00 current_time=0.0 - 0.0im time=0.071\n",
      "After sweep 1: maxlinkdim=64 maxerr=0.00E+00 current_time=0.0 - 0.0im time=0.068\n"
     ]
    },
    {
     "name": "stderr",
     "output_type": "stream",
     "text": [
      "\u001b[1A\r",
      "17.5%┣███████▉                                     ┫ 70/400 [00:29<02:21, 2it/s]\n"
     ]
    },
    {
     "name": "stdout",
     "output_type": "stream",
     "text": [
      "After sweep 1: maxlinkdim=64 maxerr=0.00E+00 current_time=0.0 - 0.0im time=0.065\n"
     ]
    },
    {
     "name": "stderr",
     "output_type": "stream",
     "text": [
      "17.8%┣████████                                     ┫ 71/400 [00:30<02:19, 2it/s]\n",
      "18.0%┣████████                                     ┫ 72/400 [00:30<02:19, 2it/s]\n"
     ]
    },
    {
     "name": "stdout",
     "output_type": "stream",
     "text": [
      "After sweep 1: maxlinkdim=64 maxerr=0.00E+00 current_time=0.0 - 0.0im time=0.079\n",
      "After sweep 1: maxlinkdim=64 maxerr=0.00E+00 current_time=0.0 - 0.0im time=0.07\n"
     ]
    },
    {
     "name": "stderr",
     "output_type": "stream",
     "text": [
      "\u001b[1A\r",
      "18.2%┣████████▏                                    ┫ 73/400 [00:30<02:18, 2it/s]\n"
     ]
    },
    {
     "name": "stdout",
     "output_type": "stream",
     "text": [
      "After sweep 1: maxlinkdim=64 maxerr=0.00E+00 current_time=0.0 - 0.0im time=0.065\n"
     ]
    },
    {
     "name": "stderr",
     "output_type": "stream",
     "text": [
      "\u001b[1A\r",
      "18.5%┣████████▎                                    ┫ 74/400 [00:31<02:17, 2it/s]\n"
     ]
    },
    {
     "name": "stdout",
     "output_type": "stream",
     "text": [
      "After sweep 1: maxlinkdim=64 maxerr=0.00E+00 current_time=0.0 - 0.0im time=0.065\n"
     ]
    },
    {
     "name": "stderr",
     "output_type": "stream",
     "text": [
      "\u001b[1A\r",
      "18.8%┣████████▍                                    ┫ 75/400 [00:31<02:16, 2it/s]\n"
     ]
    },
    {
     "name": "stdout",
     "output_type": "stream",
     "text": [
      "After sweep 1: maxlinkdim=64 maxerr=0.00E+00 current_time=0.0 - 0.0im time=0.065\n"
     ]
    },
    {
     "name": "stderr",
     "output_type": "stream",
     "text": [
      "\u001b[1A\r",
      "19.0%┣████████▌                                    ┫ 76/400 [00:31<02:15, 2it/s]\n"
     ]
    },
    {
     "name": "stdout",
     "output_type": "stream",
     "text": [
      "After sweep 1: maxlinkdim=64 maxerr=0.00E+00 current_time=0.0 - 0.0im time=0.065"
     ]
    },
    {
     "name": "stderr",
     "output_type": "stream",
     "text": [
      "\u001b[1A\r",
      "19.2%┣████████▋                                    ┫ 77/400 [00:31<02:14, 2it/s]\n"
     ]
    },
    {
     "name": "stdout",
     "output_type": "stream",
     "text": [
      "\n"
     ]
    },
    {
     "name": "stderr",
     "output_type": "stream",
     "text": [
      "\u001b[1A\r",
      "19.5%┣████████▊                                    ┫ 78/400 [00:32<02:13, 2it/s]"
     ]
    },
    {
     "name": "stdout",
     "output_type": "stream",
     "text": [
      "After sweep 1: maxlinkdim=64 maxerr=0.00E+00 current_time=0.0 - 0.0im time=0.068\n"
     ]
    },
    {
     "name": "stderr",
     "output_type": "stream",
     "text": [
      "\n"
     ]
    },
    {
     "name": "stdout",
     "output_type": "stream",
     "text": [
      "After sweep 1: maxlinkdim=64 maxerr=0.00E+00 current_time=0.0 - 0.0im time=0.061\n"
     ]
    },
    {
     "name": "stderr",
     "output_type": "stream",
     "text": [
      "\u001b[1A\r",
      "19.8%┣████████▉                                    ┫ 79/400 [00:32<02:12, 2it/s]\n"
     ]
    },
    {
     "name": "stdout",
     "output_type": "stream",
     "text": [
      "After sweep 1: maxlinkdim=64 maxerr=0.00E+00 current_time=0.0 - 0.0im time=0.066\n"
     ]
    },
    {
     "name": "stderr",
     "output_type": "stream",
     "text": [
      "\u001b[1A\r",
      "20.0%┣█████████                                    ┫ 80/400 [00:32<02:11, 2it/s]\n"
     ]
    },
    {
     "name": "stdout",
     "output_type": "stream",
     "text": [
      "After sweep 1: maxlinkdim=64 maxerr=0.00E+00 current_time=0.0 - 0.0im time=0.07\n"
     ]
    },
    {
     "name": "stderr",
     "output_type": "stream",
     "text": [
      "\u001b[1A\r",
      "20.2%┣█████████▏                                   ┫ 81/400 [00:33<02:10, 2it/s]\n"
     ]
    },
    {
     "name": "stdout",
     "output_type": "stream",
     "text": [
      "After sweep 1: maxlinkdim=64 maxerr=0.00E+00 current_time="
     ]
    },
    {
     "name": "stderr",
     "output_type": "stream",
     "text": [
      "\u001b[1A\r",
      "20.5%┣█████████▎                                   ┫ 82/400 [00:33<02:09, 2it/s]\n"
     ]
    },
    {
     "name": "stdout",
     "output_type": "stream",
     "text": [
      "0.0 - 0.0im time=0.064\n"
     ]
    },
    {
     "name": "stderr",
     "output_type": "stream",
     "text": [
      "\u001b[1A\r",
      "20.8%┣█████████▍                                   ┫ 83/400 [00:33<02:09, 2it/s]\n"
     ]
    },
    {
     "name": "stdout",
     "output_type": "stream",
     "text": [
      "After sweep 1: maxlinkdim=64 maxerr=0.00E+00 current_time=0.0 - 0.0im time=0.065\n",
      "After sweep 1: maxlinkdim=64 maxerr=0.00E+00 current_time=0.0 - 0.0im time=0.058\n"
     ]
    },
    {
     "name": "stderr",
     "output_type": "stream",
     "text": [
      "\u001b[1A\r",
      "21.0%┣█████████▌                                   ┫ 84/400 [00:34<02:08, 2it/s]\n"
     ]
    },
    {
     "name": "stdout",
     "output_type": "stream",
     "text": [
      "After sweep 1: maxlinkdim=64 maxerr=0.00E+00 current_time=0.0 - 0.0im time=0.061\n"
     ]
    },
    {
     "name": "stderr",
     "output_type": "stream",
     "text": [
      "\u001b[1A\r",
      "21.2%┣█████████▋                                   ┫ 85/400 [00:34<02:07, 2it/s]\n"
     ]
    },
    {
     "name": "stdout",
     "output_type": "stream",
     "text": [
      "After sweep 1: maxlinkdim=64 maxerr=0.00E+00 current_time=0.0 - 0.0im time=0.063\n"
     ]
    },
    {
     "name": "stderr",
     "output_type": "stream",
     "text": [
      "\u001b[1A\r",
      "21.5%┣█████████▊                                   ┫ 86/400 [00:34<02:06, 2it/s]\n"
     ]
    },
    {
     "name": "stdout",
     "output_type": "stream",
     "text": [
      "After sweep 1"
     ]
    },
    {
     "name": "stderr",
     "output_type": "stream",
     "text": [
      "\u001b[1A\r",
      "21.8%┣█████████▉                                   ┫ 87/400 [00:35<02:06, 2it/s]\n"
     ]
    },
    {
     "name": "stdout",
     "output_type": "stream",
     "text": [
      ": maxlinkdim=64 maxerr=0.00E+00 current_time=0.0 - 0.0im time=0.07\n",
      "After sweep 1: maxlinkdim=64 maxerr=0.00E+00 current_time=0.0 - 0.0im time=0.066\n"
     ]
    },
    {
     "name": "stderr",
     "output_type": "stream",
     "text": [
      "\u001b[1A\r",
      "22.0%┣██████████                                   ┫ 88/400 [00:35<02:05, 2it/s]\n"
     ]
    },
    {
     "name": "stdout",
     "output_type": "stream",
     "text": [
      "After sweep 1: maxlinkdim=64 maxerr=0.00E+00 current_time=0.0 - 0.0im time=0.065\n"
     ]
    },
    {
     "name": "stderr",
     "output_type": "stream",
     "text": [
      "\u001b[1A\r",
      "22.2%┣██████████                                   ┫ 89/400 [00:35<02:04, 3it/s]\n"
     ]
    },
    {
     "name": "stdout",
     "output_type": "stream",
     "text": [
      "After sweep 1: maxlinkdim=64 maxerr=0.00E+00 current_time=0.0 - 0.0im time=0.059\n"
     ]
    },
    {
     "name": "stderr",
     "output_type": "stream",
     "text": [
      "\u001b[1A\r",
      "22.5%┣██████████▏                                  ┫ 90/400 [00:35<02:03, 3it/s]\n"
     ]
    },
    {
     "name": "stdout",
     "output_type": "stream",
     "text": [
      "After sweep 1: maxlinkdim=64 maxerr=0.00E+00 current_time=0.0 - 0.0im time=0.064\n"
     ]
    },
    {
     "name": "stderr",
     "output_type": "stream",
     "text": [
      "\u001b[1A\r",
      "22.8%┣██████████▎                                  ┫ 91/400 [00:36<02:02, 3it/s]\n"
     ]
    },
    {
     "name": "stdout",
     "output_type": "stream",
     "text": [
      "After sweep 1: maxlinkdim=64 maxerr=0.00E+00 current_time=0.0 - 0.0im time=0.057\n"
     ]
    },
    {
     "name": "stderr",
     "output_type": "stream",
     "text": [
      "23.0%┣██████████▍                                  ┫ 92/400 [00:36<02:02, 3it/s]\n",
      "23.2%┣██████████▌                                  ┫ 93/400 [00:36<02:01, 3it/s]"
     ]
    },
    {
     "name": "stdout",
     "output_type": "stream",
     "text": [
      "After sweep 1: maxlinkdim=64 maxerr=0.00E+00 current_time=0.0 - 0.0im time=0.078\n"
     ]
    },
    {
     "name": "stderr",
     "output_type": "stream",
     "text": [
      "\n"
     ]
    },
    {
     "name": "stdout",
     "output_type": "stream",
     "text": [
      "After sweep 1: maxlinkdim=64 maxerr=0.00E+00 current_time=0.0 - 0.0im time=0.061\n"
     ]
    },
    {
     "name": "stderr",
     "output_type": "stream",
     "text": [
      "23.5%┣██████████▋                                  ┫ 94/400 [00:37<02:00, 3it/s]\n",
      "23.8%┣██████████▊                                  ┫ 95/400 [00:37<01:59, 3it/s]\n"
     ]
    },
    {
     "name": "stdout",
     "output_type": "stream",
     "text": [
      "After sweep 1: maxlinkdim=64 maxerr=0.00E+00 current_time=0.0 - 0.0im time=0.089\n",
      "After sweep 1: maxlinkdim=64 maxerr=0.00E+00 current_time=0.0 - 0.0im time=0.064\n"
     ]
    },
    {
     "name": "stderr",
     "output_type": "stream",
     "text": [
      "24.0%┣██████████▉                                  ┫ 96/400 [00:37<01:59, 3it/s]\n",
      "24.2%┣███████████                                  ┫ 97/400 [00:37<01:58, 3it/s]\n"
     ]
    },
    {
     "name": "stdout",
     "output_type": "stream",
     "text": [
      "After sweep 1: maxlinkdim=64 maxerr=0.00E+00 current_time=0.0 - 0.0im time=0.089\n",
      "After sweep 1: maxlinkdim=64 maxerr=0.00E+00 current_time=0.0 - 0.0im time=0.064\n"
     ]
    },
    {
     "name": "stderr",
     "output_type": "stream",
     "text": [
      "\u001b[1A\r",
      "24.5%┣███████████                                  ┫ 98/400 [00:38<01:58, 3it/s]\n"
     ]
    },
    {
     "name": "stdout",
     "output_type": "stream",
     "text": [
      "After sweep 1: maxlinkdim=64 maxerr=0.00E+00 current_time=0.0 - 0.0im time=0.068\n"
     ]
    },
    {
     "name": "stderr",
     "output_type": "stream",
     "text": [
      "\u001b[1A\r",
      "24.8%┣███████████▏                                 ┫ 99/400 [00:38<01:57, 3it/s]\n"
     ]
    },
    {
     "name": "stdout",
     "output_type": "stream",
     "text": [
      "After sweep 1: maxlinkdim=64 maxerr=0.00E+00 current_time=0.0 - 0.0im time=0.069\n"
     ]
    },
    {
     "name": "stderr",
     "output_type": "stream",
     "text": [
      "\u001b[1A\r",
      "25.0%┣███████████                                 ┫ 100/400 [00:38<01:56, 3it/s]\n"
     ]
    },
    {
     "name": "stdout",
     "output_type": "stream",
     "text": [
      "After sweep 1: maxlinkdim=64 maxerr=0.00E+00 current_time=0.0 - 0.0im time=0.063\n"
     ]
    },
    {
     "name": "stderr",
     "output_type": "stream",
     "text": [
      "\u001b[1A\r",
      "25.2%┣███████████                                 ┫ 101/400 [00:39<01:55, 3it/s]\n"
     ]
    },
    {
     "name": "stdout",
     "output_type": "stream",
     "text": [
      "After sweep 1: maxlinkdim=64 maxerr=0.00E+00 current_time=0.0 - 0.0im time=0.063\n"
     ]
    },
    {
     "name": "stderr",
     "output_type": "stream",
     "text": [
      "\u001b[1A\r",
      "25.5%┣███████████▏                                ┫ 102/400 [00:39<01:55, 3it/s]\n"
     ]
    },
    {
     "name": "stdout",
     "output_type": "stream",
     "text": [
      "After sweep 1: maxlinkdim=64 maxerr=0.00E+00 current_time=0.0 - 0.0im time=0.061\n"
     ]
    },
    {
     "name": "stderr",
     "output_type": "stream",
     "text": [
      "\u001b[1A\r",
      "25.8%┣███████████▎                                ┫ 103/400 [00:39<01:54, 3it/s]\n"
     ]
    },
    {
     "name": "stdout",
     "output_type": "stream",
     "text": [
      "After sweep 1: maxlinkdim=64 maxerr=0.00E+00 current_time=0.0 - 0.0im time=0.059\n"
     ]
    },
    {
     "name": "stderr",
     "output_type": "stream",
     "text": [
      "\u001b[1A\r",
      "26.0%┣███████████▍                                ┫ 104/400 [00:39<01:53, 3it/s]\n"
     ]
    },
    {
     "name": "stdout",
     "output_type": "stream",
     "text": [
      "After sweep 1: maxlinkdim=64 maxerr=0.00E+00 current_time=0.0 - 0.0im time=0.064\n"
     ]
    },
    {
     "name": "stderr",
     "output_type": "stream",
     "text": [
      "\u001b[1A\r",
      "26.2%┣███████████▌                                ┫ 105/400 [00:40<01:53, 3it/s]\n"
     ]
    },
    {
     "name": "stdout",
     "output_type": "stream",
     "text": [
      "After sweep 1: maxlinkdim=64 maxerr=0.00E+00 current_time=0.0 - 0.0im time=0.068\n"
     ]
    },
    {
     "name": "stderr",
     "output_type": "stream",
     "text": [
      "\u001b[1A\r",
      "26.5%┣███████████▋                                ┫ 106/400 [00:40<01:52, 3it/s]\n"
     ]
    },
    {
     "name": "stdout",
     "output_type": "stream",
     "text": [
      "After sweep 1: maxlinkdim=64 maxerr=0.00E+00 current_time=0.0 - 0.0im time=0.07\n"
     ]
    },
    {
     "name": "stderr",
     "output_type": "stream",
     "text": [
      "\u001b[1A\r",
      "26.8%┣███████████▊                                ┫ 107/400 [00:40<01:51, 3it/s]\n"
     ]
    },
    {
     "name": "stdout",
     "output_type": "stream",
     "text": [
      "After sweep 1: maxlinkdim=64 maxerr=0.00E+00 current_time=0.0 - 0.0im time=0.06\n"
     ]
    },
    {
     "name": "stderr",
     "output_type": "stream",
     "text": [
      "27.0%┣███████████▉                                ┫ 108/400 [00:41<01:51, 3it/s]\n",
      "27.3%┣████████████                                ┫ 109/400 [00:41<01:50, 3it/s]\n"
     ]
    },
    {
     "name": "stdout",
     "output_type": "stream",
     "text": [
      "After sweep 1: maxlinkdim=64 maxerr=0.00E+00 current_time=0.0 - 0.0im time=0.064\n",
      "After sweep 1: maxlinkdim=64 maxerr=0.00E+00 current_time=0.0 - 0.0im time=0.062\n"
     ]
    },
    {
     "name": "stderr",
     "output_type": "stream",
     "text": [
      "\u001b[1A\r",
      "27.5%┣████████████                                ┫ 110/400 [00:41<01:49, 3it/s]\n"
     ]
    },
    {
     "name": "stdout",
     "output_type": "stream",
     "text": [
      "After sweep 1: maxlinkdim=64 maxerr=0.00E+00 current_time=0.0 - 0.0im time=0.065\n"
     ]
    },
    {
     "name": "stderr",
     "output_type": "stream",
     "text": [
      "\u001b[1A\r",
      "27.8%┣████████████▏                               ┫ 111/400 [00:41<01:49, 3it/s]\n"
     ]
    },
    {
     "name": "stdout",
     "output_type": "stream",
     "text": [
      "After sweep 1: maxlinkdim=64 maxerr=0.00E+00 current_time=0.0 - 0.0im time=0.059\n"
     ]
    },
    {
     "name": "stderr",
     "output_type": "stream",
     "text": [
      "\u001b[1A\r",
      "28.0%┣████████████▎                               ┫ 112/400 [00:42<01:48, 3it/s]\n"
     ]
    },
    {
     "name": "stdout",
     "output_type": "stream",
     "text": [
      "After sweep 1: maxlinkdim=64 maxerr=0.00E+00 current_time=0.0 - 0.0im time=0.066\n"
     ]
    },
    {
     "name": "stderr",
     "output_type": "stream",
     "text": [
      "\u001b[1A\r",
      "28.2%┣████████████▍                               ┫ 113/400 [00:42<01:48, 3it/s]\n"
     ]
    },
    {
     "name": "stdout",
     "output_type": "stream",
     "text": [
      "After sweep 1"
     ]
    },
    {
     "name": "stderr",
     "output_type": "stream",
     "text": [
      "\u001b[1A\r",
      "28.5%┣████████████▌                               ┫ 114/400 [00:42<01:47, 3it/s]\n"
     ]
    },
    {
     "name": "stdout",
     "output_type": "stream",
     "text": [
      ": maxlinkdim=64 maxerr=0.00E+00 current_time=0.0 - 0.0im time=0.068\n",
      "After sweep 1: maxlinkdim=64 maxerr=0.00E+00 current_time=0.0 - 0.0im time=0.067\n"
     ]
    },
    {
     "name": "stderr",
     "output_type": "stream",
     "text": [
      "\u001b[1A\r",
      "28.7%┣████████████▋                               ┫ 115/400 [00:43<01:47, 3it/s]\n"
     ]
    },
    {
     "name": "stdout",
     "output_type": "stream",
     "text": [
      "After sweep 1: maxlinkdim=64 maxerr=0.00E+00 current_time=0.0 - 0.0im time=0.06\n"
     ]
    },
    {
     "name": "stderr",
     "output_type": "stream",
     "text": [
      "29.0%┣████████████▊                               ┫ 116/400 [00:43<01:46, 3it/s]\n",
      "29.2%┣████████████▉                               ┫ 117/400 [00:43<01:45, 3it/s]\n"
     ]
    },
    {
     "name": "stdout",
     "output_type": "stream",
     "text": [
      "After sweep 1: maxlinkdim=64 maxerr=0.00E+00 current_time=0.0 - 0.0im time=0.06\n"
     ]
    },
    {
     "name": "stderr",
     "output_type": "stream",
     "text": [
      "\u001b[1A\r",
      "29.5%┣█████████████                               ┫ 118/400 [00:44<01:45, 3it/s]\n"
     ]
    },
    {
     "name": "stdout",
     "output_type": "stream",
     "text": [
      "After sweep 1: maxlinkdim=64 maxerr=0.00E+00 current_time=0.0 - 0.0im time=0.069\n",
      "After sweep 1: maxlinkdim=64 maxerr=0.00E+00 current_time=0.0 - 0.0im time=0.059\n"
     ]
    },
    {
     "name": "stderr",
     "output_type": "stream",
     "text": [
      "\u001b[1A\r",
      "29.8%┣█████████████                               ┫ 119/400 [00:44<01:44, 3it/s]\n"
     ]
    },
    {
     "name": "stdout",
     "output_type": "stream",
     "text": [
      "After sweep 1: maxlinkdim=64 maxerr=0.00E+00 current_time=0.0 - 0.0im time=0.061\n"
     ]
    },
    {
     "name": "stderr",
     "output_type": "stream",
     "text": [
      "30.0%┣█████████████▏                              ┫ 120/400 [00:44<01:44, 3it/s]\n",
      "30.2%┣█████████████▎                              ┫ 121/400 [00:44<01:43, 3it/s]\n"
     ]
    },
    {
     "name": "stdout",
     "output_type": "stream",
     "text": [
      "After sweep 1: maxlinkdim=64 maxerr=0.00E+00 current_time=0.0 - 0.0im time=0.074\n",
      "After sweep 1: maxlinkdim=64 maxerr=0.00E+00 current_time=0.0 - 0.0im time=0.063\n"
     ]
    },
    {
     "name": "stderr",
     "output_type": "stream",
     "text": [
      "\u001b[1A\r",
      "30.5%┣█████████████▍                              ┫ 122/400 [00:45<01:43, 3it/s]\n"
     ]
    },
    {
     "name": "stdout",
     "output_type": "stream",
     "text": [
      "After sweep 1: maxlinkdim=64 maxerr=0.00E+00 current_time=0.0 - 0.0im time=0.066\n"
     ]
    },
    {
     "name": "stderr",
     "output_type": "stream",
     "text": [
      "30.8%┣█████████████▌                              ┫ 123/400 [00:45<01:42, 3it/s]\n",
      "31.0%┣█████████████▋                              ┫ 124/400 [00:45<01:42, 3it/s]\n"
     ]
    },
    {
     "name": "stdout",
     "output_type": "stream",
     "text": [
      "After sweep 1: maxlinkdim=64 maxerr=0.00E+00 current_time=0.0 - 0.0im time=0.063\n",
      "After sweep 1: maxlinkdim=64 maxerr=0.00E+00 current_time="
     ]
    },
    {
     "name": "stderr",
     "output_type": "stream",
     "text": [
      "\u001b[1A\r",
      "31.2%┣█████████████▊                              ┫ 125/400 [00:46<01:41, 3it/s]\n"
     ]
    },
    {
     "name": "stdout",
     "output_type": "stream",
     "text": [
      "0.0 - 0.0im time=0.072\n",
      "After sweep 1: maxlinkdim=64 maxerr=0.00E+00 current_time=0.0 - 0.0im time=0.064\n"
     ]
    },
    {
     "name": "stderr",
     "output_type": "stream",
     "text": [
      "31.5%┣█████████████▉                              ┫ 126/400 [00:46<01:41, 3it/s]\n",
      "31.8%┣██████████████                              ┫ 127/400 [00:46<01:40, 3it/s]"
     ]
    },
    {
     "name": "stdout",
     "output_type": "stream",
     "text": [
      "After sweep 1: maxlinkdim=64 maxerr=0.00E+00 current_time=0.0 - 0.0im time=0.076\n"
     ]
    },
    {
     "name": "stderr",
     "output_type": "stream",
     "text": [
      "\n"
     ]
    },
    {
     "name": "stdout",
     "output_type": "stream",
     "text": [
      "After sweep 1: maxlinkdim=64 maxerr=0.00E+00 current_time=0.0 - 0.0im time=0.068\n"
     ]
    },
    {
     "name": "stderr",
     "output_type": "stream",
     "text": [
      "\u001b[1A\r",
      "32.0%┣██████████████                              ┫ 128/400 [00:47<01:40, 3it/s]\n"
     ]
    },
    {
     "name": "stdout",
     "output_type": "stream",
     "text": [
      "After sweep 1: maxlinkdim=64 maxerr=0.00E+00 current_time=0.0 - 0.0im time=0.061\n"
     ]
    },
    {
     "name": "stderr",
     "output_type": "stream",
     "text": [
      "\u001b[1A\r",
      "32.2%┣██████████████▏                             ┫ 129/400 [00:47<01:39, 3it/s]\n"
     ]
    },
    {
     "name": "stdout",
     "output_type": "stream",
     "text": [
      "After sweep 1: maxlinkdim=64 maxerr=0.00E+00 current_time=0.0 - 0.0im time=0.065\n"
     ]
    },
    {
     "name": "stderr",
     "output_type": "stream",
     "text": [
      "\u001b[1A\r",
      "32.5%┣██████████████▎                             ┫ 130/400 [00:47<01:39, 3it/s]\n"
     ]
    },
    {
     "name": "stdout",
     "output_type": "stream",
     "text": [
      "After sweep 1: maxlinkdim=64 maxerr=0.00E+00 current_time=0.0 - 0.0im time=0.063\n"
     ]
    },
    {
     "name": "stderr",
     "output_type": "stream",
     "text": [
      "\u001b[1A\r",
      "32.8%┣██████████████▍                             ┫ 131/400 [00:47<01:38, 3it/s]\n"
     ]
    },
    {
     "name": "stdout",
     "output_type": "stream",
     "text": [
      "After sweep 1: maxlinkdim=64 maxerr=0.00E+00 current_time=0.0 - 0.0im time=0.061\n"
     ]
    },
    {
     "name": "stderr",
     "output_type": "stream",
     "text": [
      "\u001b[1A\r",
      "33.0%┣██████████████▌                             ┫ 132/400 [00:48<01:38, 3it/s]\n"
     ]
    },
    {
     "name": "stdout",
     "output_type": "stream",
     "text": [
      "After sweep 1: maxlinkdim=64 maxerr=0.00E+00 current_time=0.0 - 0.0im time=0.062\n"
     ]
    },
    {
     "name": "stderr",
     "output_type": "stream",
     "text": [
      "33.2%┣██████████████▋                             ┫ 133/400 [00:48<01:37, 3it/s]\n",
      "33.5%┣██████████████▊                             ┫ 134/400 [00:48<01:37, 3it/s]\n"
     ]
    },
    {
     "name": "stdout",
     "output_type": "stream",
     "text": [
      "After sweep 1: maxlinkdim=64 maxerr=0.00E+00 current_time=0.0 - 0.0im time=0.071\n",
      "After sweep 1: maxlinkdim=64 maxerr=0.00E+00 current_time=0.0 - 0.0im time=0.057\n"
     ]
    },
    {
     "name": "stderr",
     "output_type": "stream",
     "text": [
      "\u001b[1A\r",
      "33.8%┣██████████████▉                             ┫ 135/400 [00:49<01:36, 3it/s]\n"
     ]
    },
    {
     "name": "stdout",
     "output_type": "stream",
     "text": [
      "After sweep 1: maxlinkdim=64 maxerr=0.00E+00 current_time=0.0 - 0.0im time=0.059\n"
     ]
    },
    {
     "name": "stderr",
     "output_type": "stream",
     "text": [
      "\u001b[1A\r",
      "34.0%┣███████████████                             ┫ 136/400 [00:49<01:36, 3it/s]\n"
     ]
    },
    {
     "name": "stdout",
     "output_type": "stream",
     "text": [
      "After sweep 1: maxlinkdim=64 maxerr=0.00E+00 current_time=0.0 - 0.0im time=0.066"
     ]
    },
    {
     "name": "stderr",
     "output_type": "stream",
     "text": [
      "\u001b[1A\r",
      "34.2%┣███████████████                             ┫ 137/400 [00:49<01:35, 3it/s]\n"
     ]
    },
    {
     "name": "stdout",
     "output_type": "stream",
     "text": [
      "\n"
     ]
    },
    {
     "name": "stderr",
     "output_type": "stream",
     "text": [
      "\u001b[1A\r",
      "34.5%┣███████████████▏                            ┫ 138/400 [00:49<01:35, 3it/s]\n"
     ]
    },
    {
     "name": "stdout",
     "output_type": "stream",
     "text": [
      "After sweep 1: maxlinkdim=64 maxerr=0.00E+00 current_time=0.0 - 0.0im time=0.067\n",
      "After sweep 1: maxlinkdim=64 maxerr=0.00E+00 current_time=0.0 - 0.0im time=0.059\n"
     ]
    },
    {
     "name": "stderr",
     "output_type": "stream",
     "text": [
      "\u001b[1A\r",
      "34.8%┣███████████████▎                            ┫ 139/400 [00:50<01:34, 3it/s]\n"
     ]
    },
    {
     "name": "stdout",
     "output_type": "stream",
     "text": [
      "After sweep 1: maxlinkdim=64 maxerr=0.00E+00 current_time=0.0 - 0.0im time=0.066\n"
     ]
    },
    {
     "name": "stderr",
     "output_type": "stream",
     "text": [
      "\u001b[1A\r",
      "35.0%┣███████████████▍                            ┫ 140/400 [00:50<01:34, 3it/s]\n"
     ]
    },
    {
     "name": "stdout",
     "output_type": "stream",
     "text": [
      "After sweep 1: maxlinkdim=64 maxerr=0.00E+00 current_time=0.0 - 0.0im time=0.067"
     ]
    },
    {
     "name": "stderr",
     "output_type": "stream",
     "text": [
      "\u001b[1A\r",
      "35.2%┣███████████████▌                            ┫ 141/400 [00:50<01:33, 3it/s]\n"
     ]
    },
    {
     "name": "stdout",
     "output_type": "stream",
     "text": [
      "\n"
     ]
    },
    {
     "name": "stderr",
     "output_type": "stream",
     "text": [
      "\u001b[1A\r",
      "35.5%┣███████████████▋                            ┫ 142/400 [00:51<01:33, 3it/s]\n"
     ]
    },
    {
     "name": "stdout",
     "output_type": "stream",
     "text": [
      "After sweep 1: maxlinkdim=64 maxerr=0.00E+00 current_time=0.0 - 0.0im time=0.095\n",
      "After sweep 1: maxlinkdim=64 maxerr=0.00E+00 current_time=0.0 - 0.0im time=0.071\n"
     ]
    },
    {
     "name": "stderr",
     "output_type": "stream",
     "text": [
      "\u001b[1A\r",
      "35.8%┣███████████████▊                            ┫ 143/400 [00:51<01:32, 3it/s]\n"
     ]
    },
    {
     "name": "stdout",
     "output_type": "stream",
     "text": [
      "After sweep 1: maxlinkdim=64 maxerr=0.00E+00 current_time=0.0 - 0.0im time=0.061\n"
     ]
    },
    {
     "name": "stderr",
     "output_type": "stream",
     "text": [
      "\u001b[1A\r",
      "36.0%┣███████████████▉                            ┫ 144/400 [00:51<01:32, 3it/s]\n"
     ]
    },
    {
     "name": "stdout",
     "output_type": "stream",
     "text": [
      "After sweep 1: maxlinkdim=64 maxerr=0.00E+00 current_time=0.0 - 0.0im time=0.069\n"
     ]
    },
    {
     "name": "stderr",
     "output_type": "stream",
     "text": [
      "\u001b[1A\r",
      "36.2%┣████████████████                            ┫ 145/400 [00:52<01:31, 3it/s]\n"
     ]
    },
    {
     "name": "stdout",
     "output_type": "stream",
     "text": [
      "After sweep 1: maxlinkdim=64 maxerr=0.00E+00 current_time=0.0 - 0.0im time=0.059\n"
     ]
    },
    {
     "name": "stderr",
     "output_type": "stream",
     "text": [
      "\u001b[1A\r",
      "36.5%┣████████████████                            ┫ 146/400 [00:52<01:31, 3it/s]\n"
     ]
    },
    {
     "name": "stdout",
     "output_type": "stream",
     "text": [
      "After sweep 1: maxlinkdim=64 maxerr=0.00E+00 current_time=0.0 - 0.0im time=0.067\n"
     ]
    },
    {
     "name": "stderr",
     "output_type": "stream",
     "text": [
      "\u001b[1A\r",
      "36.8%┣████████████████▏                           ┫ 147/400 [00:52<01:30, 3it/s]\n"
     ]
    },
    {
     "name": "stdout",
     "output_type": "stream",
     "text": [
      "After sweep 1: maxlinkdim=64 maxerr=0.00E+00 current_time=0.0 - 0.0im time=0.06\n"
     ]
    },
    {
     "name": "stderr",
     "output_type": "stream",
     "text": [
      "\u001b[1A\r",
      "37.0%┣████████████████▎                           ┫ 148/400 [00:52<01:30, 3it/s]\n"
     ]
    },
    {
     "name": "stdout",
     "output_type": "stream",
     "text": [
      "After sweep 1: maxlinkdim=64 maxerr=0.00E+00 current_time=0.0 - 0.0im time=0.063\n"
     ]
    },
    {
     "name": "stderr",
     "output_type": "stream",
     "text": [
      "\u001b[1A\r",
      "37.2%┣████████████████▍                           ┫ 149/400 [00:53<01:29, 3it/s]\n"
     ]
    },
    {
     "name": "stdout",
     "output_type": "stream",
     "text": [
      "After sweep 1: maxlinkdim=64 maxerr=0.00E+00 current_time=0.0 - 0.0im time=0.063\n"
     ]
    },
    {
     "name": "stderr",
     "output_type": "stream",
     "text": [
      "\u001b[1A\r",
      "37.5%┣████████████████▌                           ┫ 150/400 [00:53<01:29, 3it/s]\n"
     ]
    },
    {
     "name": "stdout",
     "output_type": "stream",
     "text": [
      "After sweep 1: maxlinkdim=64 maxerr=0.00E+00 current_time=0.0 - 0.0im time=0.064\n"
     ]
    },
    {
     "name": "stderr",
     "output_type": "stream",
     "text": [
      "\u001b[1A\r",
      "37.8%┣████████████████▋                           ┫ 151/400 [00:53<01:28, 3it/s]\n"
     ]
    },
    {
     "name": "stdout",
     "output_type": "stream",
     "text": [
      "After sweep 1: maxlinkdim="
     ]
    },
    {
     "name": "stderr",
     "output_type": "stream",
     "text": [
      "\u001b[1A\r",
      "38.0%┣████████████████▊                           ┫ 152/400 [00:53<01:28, 3it/s]\n"
     ]
    },
    {
     "name": "stdout",
     "output_type": "stream",
     "text": [
      "64 maxerr=0.00E+00 current_time=0.0 - 0.0im time=0.065\n",
      "After sweep 1: maxlinkdim=64 maxerr=0.00E+00 current_time=0.0 - 0.0im time=0.064\n"
     ]
    },
    {
     "name": "stderr",
     "output_type": "stream",
     "text": [
      "\u001b[1A\r",
      "38.2%┣████████████████▉                           ┫ 153/400 [00:54<01:27, 3it/s]\n"
     ]
    },
    {
     "name": "stdout",
     "output_type": "stream",
     "text": [
      "After sweep 1: maxlinkdim=64 maxerr=0.00E+00 current_time=0.0 - 0.0im time=0.067\n"
     ]
    },
    {
     "name": "stderr",
     "output_type": "stream",
     "text": [
      "\u001b[1A\r",
      "38.5%┣█████████████████                           ┫ 154/400 [00:54<01:27, 3it/s]\n"
     ]
    },
    {
     "name": "stdout",
     "output_type": "stream",
     "text": [
      "After sweep 1: maxlinkdim=64 maxerr=0.00E+00 current_time=0.0 - 0.0im time=0.061\n"
     ]
    },
    {
     "name": "stderr",
     "output_type": "stream",
     "text": [
      "\u001b[1A\r",
      "38.8%┣█████████████████                           ┫ 155/400 [00:54<01:26, 3it/s]\n"
     ]
    },
    {
     "name": "stdout",
     "output_type": "stream",
     "text": [
      "After sweep 1"
     ]
    },
    {
     "name": "stderr",
     "output_type": "stream",
     "text": [
      "\u001b[1A\r",
      "39.0%┣█████████████████▏                          ┫ 156/400 [00:55<01:26, 3it/s]\n"
     ]
    },
    {
     "name": "stdout",
     "output_type": "stream",
     "text": [
      ": maxlinkdim=64 maxerr=0.00E+00 current_time=0.0 - 0.0im time=0.062\n",
      "After sweep 1: maxlinkdim=64 maxerr=0.00E+00 current_time=0.0 - 0.0im time=0.063\n"
     ]
    },
    {
     "name": "stderr",
     "output_type": "stream",
     "text": [
      "\u001b[1A\r",
      "39.2%┣█████████████████▎                          ┫ 157/400 [00:55<01:25, 3it/s]\n"
     ]
    },
    {
     "name": "stdout",
     "output_type": "stream",
     "text": [
      "After sweep 1: maxlinkdim=64 maxerr=0.00E+00 current_time=0.0 - 0.0im time=0.056\n"
     ]
    },
    {
     "name": "stderr",
     "output_type": "stream",
     "text": [
      "\u001b[1A\r",
      "39.5%┣█████████████████▍                          ┫ 158/400 [00:55<01:25, 3it/s]\n"
     ]
    },
    {
     "name": "stdout",
     "output_type": "stream",
     "text": [
      "After sweep 1: maxlinkdim=64 maxerr=0.00E+00 current_time=0.0 - 0.0im time=0.059\n"
     ]
    },
    {
     "name": "stderr",
     "output_type": "stream",
     "text": [
      "\u001b[1A\r",
      "39.8%┣█████████████████▌                          ┫ 159/400 [00:55<01:25, 3it/s]\n"
     ]
    },
    {
     "name": "stdout",
     "output_type": "stream",
     "text": [
      "After sweep 1: maxlinkdim=64 maxerr=0.00E+00 current_time=0.0 - 0.0im time=0.06\n"
     ]
    },
    {
     "name": "stderr",
     "output_type": "stream",
     "text": [
      "\u001b[1A\r",
      "40.0%┣█████████████████▋                          ┫ 160/400 [00:56<01:24, 3it/s]\n"
     ]
    },
    {
     "name": "stdout",
     "output_type": "stream",
     "text": [
      "After sweep 1: maxlinkdim=64 maxerr=0.00E+00 current_time=0.0 - 0.0im time=0.059\n"
     ]
    },
    {
     "name": "stderr",
     "output_type": "stream",
     "text": [
      "\u001b[1A\r",
      "40.2%┣█████████████████▊                          ┫ 161/400 [00:56<01:24, 3it/s]\n"
     ]
    },
    {
     "name": "stdout",
     "output_type": "stream",
     "text": [
      "After sweep 1: maxlinkdim=64 maxerr=0.00E+00 current_time=0.0 - 0.0im time=0.06\n"
     ]
    },
    {
     "name": "stderr",
     "output_type": "stream",
     "text": [
      "40.5%┣█████████████████▉                          ┫ 162/400 [00:56<01:23, 3it/s]\n",
      "40.8%┣██████████████████                          ┫ 163/400 [00:57<01:23, 3it/s]\n"
     ]
    },
    {
     "name": "stdout",
     "output_type": "stream",
     "text": [
      "After sweep 1: maxlinkdim=64 maxerr=0.00E+00 current_time=0.0 - 0.0im time=0.068\n"
     ]
    },
    {
     "name": "stderr",
     "output_type": "stream",
     "text": [
      "\u001b[1A\r",
      "41.0%┣██████████████████                          ┫ 164/400 [00:57<01:22, 3it/s]\n"
     ]
    },
    {
     "name": "stdout",
     "output_type": "stream",
     "text": [
      "After sweep 1: maxlinkdim=64 maxerr=0.00E+00 current_time=0.0 - 0.0im time=0.06\n"
     ]
    },
    {
     "name": "stderr",
     "output_type": "stream",
     "text": [
      "\u001b[1A\r",
      "41.2%┣██████████████████▏                         ┫ 165/400 [00:57<01:22, 3it/s]\n"
     ]
    },
    {
     "name": "stdout",
     "output_type": "stream",
     "text": [
      "After sweep 1: maxlinkdim=64 maxerr=0.00E+00 current_time=0.0 - 0.0im time=0.057\n",
      "After sweep 1: maxlinkdim=64 maxerr=0.00E+00 current_time=0.0 - 0.0im time=0.056\n"
     ]
    },
    {
     "name": "stderr",
     "output_type": "stream",
     "text": [
      "\u001b[1A\r",
      "41.5%┣██████████████████▎                         ┫ 166/400 [00:58<01:22, 3it/s]\n"
     ]
    },
    {
     "name": "stdout",
     "output_type": "stream",
     "text": [
      "After sweep 1: maxlinkdim=64 maxerr=0.00E+00 current_time=0.0 - 0.0im time=0.062\n"
     ]
    },
    {
     "name": "stderr",
     "output_type": "stream",
     "text": [
      "\u001b[1A\r",
      "41.8%┣██████████████████▍                         ┫ 167/400 [00:58<01:21, 3it/s]\n"
     ]
    },
    {
     "name": "stdout",
     "output_type": "stream",
     "text": [
      "After sweep 1: maxlinkdim=64 maxerr=0.00E+00 current_time=0.0 - 0.0im time=0.063"
     ]
    },
    {
     "name": "stderr",
     "output_type": "stream",
     "text": [
      "\u001b[1A\r",
      "42.0%┣██████████████████▌                         ┫ 168/400 [00:58<01:21, 3it/s]\n"
     ]
    },
    {
     "name": "stdout",
     "output_type": "stream",
     "text": [
      "\n"
     ]
    },
    {
     "name": "stderr",
     "output_type": "stream",
     "text": [
      "\u001b[1A\r",
      "42.2%┣██████████████████▋                         ┫ 169/400 [00:58<01:20, 3it/s]\n"
     ]
    },
    {
     "name": "stdout",
     "output_type": "stream",
     "text": [
      "After sweep 1: maxlinkdim=64 maxerr=0.00E+00 current_time=0.0 - 0.0im time=0.062\n",
      "After sweep 1: maxlinkdim=64 maxerr=0.00E+00 current_time=0.0 - 0.0im time=0.059\n"
     ]
    },
    {
     "name": "stderr",
     "output_type": "stream",
     "text": [
      "\u001b[1A\r",
      "42.5%┣██████████████████▊                         ┫ 170/400 [00:59<01:20, 3it/s]\n"
     ]
    },
    {
     "name": "stdout",
     "output_type": "stream",
     "text": [
      "After sweep 1: maxlinkdim=64 maxerr=0.00E+00 current_time=0.0 - 0.0im time=0.062\n"
     ]
    },
    {
     "name": "stderr",
     "output_type": "stream",
     "text": [
      "\u001b[1A\r",
      "42.8%┣██████████████████▉                         ┫ 171/400 [00:59<01:20, 3it/s]\n"
     ]
    },
    {
     "name": "stdout",
     "output_type": "stream",
     "text": [
      "After sweep 1: maxlinkdim=64 maxerr=0.00E+00 current_time=0.0 - 0.0im time=0.064\n"
     ]
    },
    {
     "name": "stderr",
     "output_type": "stream",
     "text": [
      "\u001b[1A\r",
      "43.0%┣███████████████████                         ┫ 172/400 [00:59<01:19, 3it/s]\n"
     ]
    },
    {
     "name": "stdout",
     "output_type": "stream",
     "text": [
      "After sweep 1: maxlinkdim=64 maxerr=0.00E+00 current_time=0.0 - 0.0im time=0.068\n"
     ]
    },
    {
     "name": "stderr",
     "output_type": "stream",
     "text": [
      "\u001b[1A\r",
      "43.2%┣███████████████████                         ┫ 173/400 [01:00<01:19, 3it/s]\n"
     ]
    },
    {
     "name": "stdout",
     "output_type": "stream",
     "text": [
      "After sweep 1: maxlinkdim=64 maxerr=0.00E+00 current_time=0.0 - 0.0im time=0.06\n"
     ]
    },
    {
     "name": "stderr",
     "output_type": "stream",
     "text": [
      "43.5%┣███████████████████▏                        ┫ 174/400 [01:00<01:18, 3it/s]\n",
      "43.8%┣███████████████████▎                        ┫ 175/400 [01:00<01:18, 3it/s]\n"
     ]
    },
    {
     "name": "stdout",
     "output_type": "stream",
     "text": [
      "After sweep 1: maxlinkdim=64 maxerr=0.00E+00 current_time=0.0 - 0.0im time=0.069\n",
      "After sweep 1: maxlinkdim=64 maxerr=0.00E+00 current_time=0.0 - 0.0im time=0.059\n"
     ]
    },
    {
     "name": "stderr",
     "output_type": "stream",
     "text": [
      "\u001b[1A\r",
      "44.0%┣███████████████████▍                        ┫ 176/400 [01:01<01:18, 3it/s]\n"
     ]
    },
    {
     "name": "stdout",
     "output_type": "stream",
     "text": [
      "After sweep 1: maxlinkdim=64 maxerr=0.00E+00 current_time=0.0 - 0.0im time=0.07\n"
     ]
    },
    {
     "name": "stderr",
     "output_type": "stream",
     "text": [
      "\u001b[1A\r",
      "44.2%┣███████████████████▌                        ┫ 177/400 [01:01<01:17, 3it/s]\n"
     ]
    },
    {
     "name": "stdout",
     "output_type": "stream",
     "text": [
      "After sweep 1: maxlinkdim=64 maxerr=0.00E+00 current_time=0.0 - 0.0im time=0.061"
     ]
    },
    {
     "name": "stderr",
     "output_type": "stream",
     "text": [
      "\u001b[1A\r",
      "44.5%┣███████████████████▋                        ┫ 178/400 [01:01<01:17, 3it/s]\n"
     ]
    },
    {
     "name": "stdout",
     "output_type": "stream",
     "text": [
      "\n",
      "After sweep 1: maxlinkdim=64 maxerr=0.00E+00 current_time=0.0 - 0.0im time=0.056\n"
     ]
    },
    {
     "name": "stderr",
     "output_type": "stream",
     "text": [
      "\u001b[1A\r",
      "44.8%┣███████████████████▊                        ┫ 179/400 [01:02<01:16, 3it/s]\n"
     ]
    },
    {
     "name": "stdout",
     "output_type": "stream",
     "text": [
      "After sweep 1: maxlinkdim=64 maxerr=0.00E+00 current_time=0.0 - 0.0im time=0.059\n"
     ]
    },
    {
     "name": "stderr",
     "output_type": "stream",
     "text": [
      "\u001b[1A\r",
      "45.0%┣███████████████████▉                        ┫ 180/400 [01:02<01:16, 3it/s]\n"
     ]
    },
    {
     "name": "stdout",
     "output_type": "stream",
     "text": [
      "After sweep 1: maxlinkdim=64 maxerr=0.00E+00 current_time=0.0 - 0.0im time=0.067\n"
     ]
    },
    {
     "name": "stderr",
     "output_type": "stream",
     "text": [
      "45.2%┣████████████████████                        ┫ 181/400 [01:02<01:16, 3it/s]\n",
      "45.5%┣████████████████████                        ┫ 182/400 [01:02<01:15, 3it/s]\n"
     ]
    },
    {
     "name": "stdout",
     "output_type": "stream",
     "text": [
      "After sweep 1: maxlinkdim=64 maxerr=0.00E+00 current_time=0.0 - 0.0im time=0.074\n",
      "After sweep "
     ]
    },
    {
     "name": "stderr",
     "output_type": "stream",
     "text": [
      "\u001b[1A\r",
      "45.8%┣████████████████████▏                       ┫ 183/400 [01:03<01:15, 3it/s]\n"
     ]
    },
    {
     "name": "stdout",
     "output_type": "stream",
     "text": [
      "1: maxlinkdim=64 maxerr=0.00E+00 current_time=0.0 - 0.0im time=0.066\n",
      "After sweep 1: maxlinkdim=64 maxerr=0.00E+00 current_time=0.0 - 0.0im time=0.067\n"
     ]
    },
    {
     "name": "stderr",
     "output_type": "stream",
     "text": [
      "\u001b[1A\r",
      "46.0%┣████████████████████▎                       ┫ 184/400 [01:03<01:14, 3it/s]\n"
     ]
    },
    {
     "name": "stdout",
     "output_type": "stream",
     "text": [
      "After sweep 1: maxlinkdim=64 maxerr=0.00E+00 current_time=0.0 - 0.0im time=0.064\n"
     ]
    },
    {
     "name": "stderr",
     "output_type": "stream",
     "text": [
      "\u001b[1A\r",
      "46.2%┣████████████████████▍                       ┫ 185/400 [01:03<01:14, 3it/s]\n"
     ]
    },
    {
     "name": "stdout",
     "output_type": "stream",
     "text": [
      "After sweep 1: maxlinkdim=64 maxerr=0.00E+00 current_time=0.0 - 0.0im time=0.075\n"
     ]
    },
    {
     "name": "stderr",
     "output_type": "stream",
     "text": [
      "\u001b[1A\r",
      "46.5%┣████████████████████▌                       ┫ 186/400 [01:04<01:14, 3it/s]\n"
     ]
    },
    {
     "name": "stdout",
     "output_type": "stream",
     "text": [
      "After sweep 1: maxlinkdim=64 maxerr=0.00E+00 current_time=0.0 - 0.0im time=0.069\n"
     ]
    },
    {
     "name": "stderr",
     "output_type": "stream",
     "text": [
      "46.8%┣████████████████████▋                       ┫ 187/400 [01:04<01:13, 3it/s]\n",
      "47.0%┣████████████████████▊                       ┫ 188/400 [01:04<01:13, 3it/s]\n"
     ]
    },
    {
     "name": "stdout",
     "output_type": "stream",
     "text": [
      "After sweep 1: maxlinkdim=64 maxerr=0.00E+00 current_time=0.0 - 0.0im time=0.069\n",
      "After sweep 1: maxlinkdim=64 maxerr=0.00E+00 current_time=0.0 - 0.0im time=0.056\n"
     ]
    },
    {
     "name": "stderr",
     "output_type": "stream",
     "text": [
      "\u001b[1A\r",
      "47.2%┣████████████████████▉                       ┫ 189/400 [01:04<01:12, 3it/s]\n"
     ]
    },
    {
     "name": "stdout",
     "output_type": "stream",
     "text": [
      "After sweep 1: maxlinkdim=64 maxerr=0.00E+00 current_time=0.0 - 0.0im time=0.06\n"
     ]
    },
    {
     "name": "stderr",
     "output_type": "stream",
     "text": [
      "\u001b[1A\r",
      "47.5%┣█████████████████████                       ┫ 190/400 [01:05<01:12, 3it/s]\n"
     ]
    },
    {
     "name": "stdout",
     "output_type": "stream",
     "text": [
      "After sweep 1: maxlinkdim=64 maxerr=0.00E+00 current_time=0.0 - 0.0im time=0.068\n"
     ]
    },
    {
     "name": "stderr",
     "output_type": "stream",
     "text": [
      "\u001b[1A\r",
      "47.8%┣█████████████████████                       ┫ 191/400 [01:05<01:11, 3it/s]\n"
     ]
    },
    {
     "name": "stdout",
     "output_type": "stream",
     "text": [
      "After sweep 1: maxlinkdim=64 maxerr=0.00E+00 current_time=0.0 - "
     ]
    },
    {
     "name": "stderr",
     "output_type": "stream",
     "text": [
      "\u001b[1A\r",
      "48.0%┣█████████████████████▏                      ┫ 192/400 [01:05<01:11, 3it/s]\n"
     ]
    },
    {
     "name": "stdout",
     "output_type": "stream",
     "text": [
      "0.0im time=0.059\n",
      "After sweep 1: maxlinkdim=64 maxerr=0.00E+00 current_time=0.0 - 0.0im time=0.068\n"
     ]
    },
    {
     "name": "stderr",
     "output_type": "stream",
     "text": [
      "\u001b[1A\r",
      "48.2%┣█████████████████████▎                      ┫ 193/400 [01:06<01:11, 3it/s]\n"
     ]
    },
    {
     "name": "stdout",
     "output_type": "stream",
     "text": [
      "After sweep 1: maxlinkdim=64 maxerr=0.00E+00 current_time=0.0 - 0.0im time=0.063\n"
     ]
    },
    {
     "name": "stderr",
     "output_type": "stream",
     "text": [
      "48.5%┣█████████████████████▍                      ┫ 194/400 [01:06<01:10, 3it/s]\n",
      "48.8%┣█████████████████████▌                      ┫ 195/400 [01:06<01:10, 3it/s]"
     ]
    },
    {
     "name": "stdout",
     "output_type": "stream",
     "text": [
      "After sweep 1: maxlinkdim=64 maxerr=0.00E+00 current_time=0.0 - 0.0im time=0.068\n"
     ]
    },
    {
     "name": "stderr",
     "output_type": "stream",
     "text": [
      "\n"
     ]
    },
    {
     "name": "stdout",
     "output_type": "stream",
     "text": [
      "After sweep 1: maxlinkdim=64 maxerr=0.00E+00 current_time=0.0 - 0.0im time=0.059\n"
     ]
    },
    {
     "name": "stderr",
     "output_type": "stream",
     "text": [
      "\u001b[1A\r",
      "49.0%┣█████████████████████▋                      ┫ 196/400 [01:07<01:10, 3it/s]\n"
     ]
    },
    {
     "name": "stdout",
     "output_type": "stream",
     "text": [
      "After sweep 1:"
     ]
    },
    {
     "name": "stderr",
     "output_type": "stream",
     "text": [
      "\u001b[1A\r",
      "49.2%┣█████████████████████▊                      ┫ 197/400 [01:07<01:09, 3it/s]\n"
     ]
    },
    {
     "name": "stdout",
     "output_type": "stream",
     "text": [
      " maxlinkdim=64 maxerr=0.00E+00 current_time=0.0 - 0.0im time=0.066\n",
      "After sweep 1: maxlinkdim=64 maxerr=0.00E+00 current_time=0.0 - 0.0im time=0.055\n"
     ]
    },
    {
     "name": "stderr",
     "output_type": "stream",
     "text": [
      "49.5%┣█████████████████████▉                      ┫ 198/400 [01:07<01:09, 3it/s]\n",
      "49.8%┣██████████████████████                      ┫ 199/400 [01:08<01:09, 3it/s]\n"
     ]
    },
    {
     "name": "stdout",
     "output_type": "stream",
     "text": [
      "After sweep 1: maxlinkdim=64 maxerr=0.00E+00 current_time=0.0 - 0.0im time=0.063\n",
      "After sweep 1: maxlinkdim=64 maxerr=0.00E+00 current_time=0.0 - 0.0im time=0.065\n"
     ]
    },
    {
     "name": "stderr",
     "output_type": "stream",
     "text": [
      "\u001b[1A\r",
      "50.0%┣██████████████████████                      ┫ 200/400 [01:08<01:08, 3it/s]\n"
     ]
    },
    {
     "name": "stdout",
     "output_type": "stream",
     "text": [
      "After sweep 1: maxlinkdim=64 maxerr=0.00E+00 current_time=0.0 - 0.0im time=0.064\n"
     ]
    },
    {
     "name": "stderr",
     "output_type": "stream",
     "text": [
      "\u001b[1A\r",
      "50.2%┣██████████████████████                      ┫ 201/400 [01:08<01:08, 3it/s]\n"
     ]
    },
    {
     "name": "stdout",
     "output_type": "stream",
     "text": [
      "After sweep 1: maxlinkdim=64 maxerr=0.00E+00 current_time=0.0 - 0.0im time=0.059\n"
     ]
    },
    {
     "name": "stderr",
     "output_type": "stream",
     "text": [
      "\u001b[1A\r",
      "50.5%┣██████████████████████▏                     ┫ 202/400 [01:08<01:07, 3it/s]\n"
     ]
    },
    {
     "name": "stdout",
     "output_type": "stream",
     "text": [
      "After sweep 1: maxlinkdim=64 maxerr=0.00E+00 current_time=0.0 - 0.0im time=0.062\n"
     ]
    },
    {
     "name": "stderr",
     "output_type": "stream",
     "text": [
      "\u001b[1A\r",
      "50.7%┣██████████████████████▎                     ┫ 203/400 [01:09<01:07, 3it/s]\n"
     ]
    },
    {
     "name": "stdout",
     "output_type": "stream",
     "text": [
      "After sweep 1: maxlinkdim=64 maxerr=0.00E+00 current_time=0.0 - 0.0im time=0.061\n"
     ]
    },
    {
     "name": "stderr",
     "output_type": "stream",
     "text": [
      "\u001b[1A\r",
      "51.0%┣██████████████████████▍                     ┫ 204/400 [01:09<01:07, 3it/s]\n"
     ]
    },
    {
     "name": "stdout",
     "output_type": "stream",
     "text": [
      "After sweep 1: maxlinkdim=64 maxerr=0.00E+00 current_time=0.0 - 0.0im time=0.058\n"
     ]
    },
    {
     "name": "stderr",
     "output_type": "stream",
     "text": [
      "\u001b[1A\r",
      "51.2%┣██████████████████████▌                     ┫ 205/400 [01:09<01:06, 3it/s]\n"
     ]
    },
    {
     "name": "stdout",
     "output_type": "stream",
     "text": [
      "After sweep 1: maxlinkdim=64 maxerr=0.00E+00 current_time=0.0 - 0.0im time=0.063\n"
     ]
    },
    {
     "name": "stderr",
     "output_type": "stream",
     "text": [
      "\u001b[1A\r",
      "51.5%┣██████████████████████▋                     ┫ 206/400 [01:10<01:06, 3it/s]\n"
     ]
    },
    {
     "name": "stdout",
     "output_type": "stream",
     "text": [
      "After sweep 1: maxlinkdim=64 maxerr=0.00E+00 current_time=0.0 - 0.0im time=0.059\n"
     ]
    },
    {
     "name": "stderr",
     "output_type": "stream",
     "text": [
      "\u001b[1A\r",
      "51.7%┣██████████████████████▊                     ┫ 207/400 [01:10<01:05, 3it/s]\n"
     ]
    },
    {
     "name": "stdout",
     "output_type": "stream",
     "text": [
      "After sweep 1"
     ]
    },
    {
     "name": "stderr",
     "output_type": "stream",
     "text": [
      "\u001b[1A\r",
      "52.0%┣██████████████████████▉                     ┫ 208/400 [01:10<01:05, 3it/s]\n"
     ]
    },
    {
     "name": "stdout",
     "output_type": "stream",
     "text": [
      ": maxlinkdim=64 maxerr=0.00E+00 current_time=0.0 - 0.0im time=0.06\n",
      "After sweep 1: maxlinkdim=64 maxerr=0.00E+00 current_time=0.0 - 0.0im time=0.056\n"
     ]
    },
    {
     "name": "stderr",
     "output_type": "stream",
     "text": [
      "52.2%┣███████████████████████                     ┫ 209/400 [01:10<01:05, 3it/s]\n",
      "52.5%┣███████████████████████                     ┫ 210/400 [01:11<01:04, 3it/s]\n"
     ]
    },
    {
     "name": "stdout",
     "output_type": "stream",
     "text": [
      "After sweep 1: maxlinkdim=64 maxerr=0.00E+00 current_time=0.0 - 0.0im time=0.069\n",
      "After sweep 1: maxlinkdim=64 maxerr=0.00E+00 current_time=0.0 - 0.0im time=0.067\n"
     ]
    },
    {
     "name": "stderr",
     "output_type": "stream",
     "text": [
      "\u001b[1A\r",
      "52.8%┣███████████████████████▏                    ┫ 211/400 [01:11<01:04, 3it/s]\n"
     ]
    },
    {
     "name": "stdout",
     "output_type": "stream",
     "text": [
      "After sweep 1: maxlinkdim=64 maxerr=0.00E+00 current_time=0.0 - 0.0im time=0.057\n"
     ]
    },
    {
     "name": "stderr",
     "output_type": "stream",
     "text": [
      "53.0%┣███████████████████████▎                    ┫ 212/400 [01:11<01:04, 3it/s]\n",
      "53.2%┣███████████████████████▍                    ┫ 213/400 [01:12<01:03, 3it/s]"
     ]
    },
    {
     "name": "stdout",
     "output_type": "stream",
     "text": [
      "After sweep 1: maxlinkdim=64 maxerr=0.00E+00 current_time=0.0 - 0.0im time=0.063\n"
     ]
    },
    {
     "name": "stderr",
     "output_type": "stream",
     "text": [
      "\n"
     ]
    },
    {
     "name": "stdout",
     "output_type": "stream",
     "text": [
      "After sweep 1: maxlinkdim=64 maxerr=0.00E+00 current_time=0.0 - 0.0im time=0.064\n"
     ]
    },
    {
     "name": "stderr",
     "output_type": "stream",
     "text": [
      "53.5%┣███████████████████████▌                    ┫ 214/400 [01:12<01:03, 3it/s]\n",
      "53.8%┣███████████████████████▋                    ┫ 215/400 [01:12<01:02, 3it/s]\n"
     ]
    },
    {
     "name": "stdout",
     "output_type": "stream",
     "text": [
      "After sweep 1: maxlinkdim=64 maxerr=0.00E+00 current_time=0.0 - 0.0im time=0.066\n",
      "After sweep "
     ]
    },
    {
     "name": "stderr",
     "output_type": "stream",
     "text": [
      "\u001b[1A\r",
      "54.0%┣███████████████████████▊                    ┫ 216/400 [01:13<01:02, 3it/s]\n"
     ]
    },
    {
     "name": "stdout",
     "output_type": "stream",
     "text": [
      "1: maxlinkdim=64 maxerr=0.00E+00 current_time=0.0 - 0.0im time=0.059\n",
      "After sweep 1: maxlinkdim=64 maxerr=0.00E+00 current_time=0.0 - 0.0im time=0.059\n"
     ]
    },
    {
     "name": "stderr",
     "output_type": "stream",
     "text": [
      "\u001b[1A\r",
      "54.2%┣███████████████████████▉                    ┫ 217/400 [01:13<01:02, 3it/s]\n"
     ]
    },
    {
     "name": "stdout",
     "output_type": "stream",
     "text": [
      "After sweep 1: maxlinkdim=64 maxerr=0.00E+00 current_time=0.0 - 0.0im time=0.07\n"
     ]
    },
    {
     "name": "stderr",
     "output_type": "stream",
     "text": [
      "\u001b[1A\r",
      "54.5%┣████████████████████████                    ┫ 218/400 [01:13<01:01, 3it/s]\n"
     ]
    },
    {
     "name": "stdout",
     "output_type": "stream",
     "text": [
      "After sweep 1: maxlinkdim=64 maxerr=0.00E+00 current_time=0.0 - 0.0im time=0.063\n"
     ]
    },
    {
     "name": "stderr",
     "output_type": "stream",
     "text": [
      "\u001b[1A\r",
      "54.8%┣████████████████████████                    ┫ 219/400 [01:13<01:01, 3it/s]\n"
     ]
    },
    {
     "name": "stdout",
     "output_type": "stream",
     "text": [
      "After sweep 1: maxlinkdim=64 maxerr=0.00E+00 current_time=0.0 - 0.0im time=0.063\n"
     ]
    },
    {
     "name": "stderr",
     "output_type": "stream",
     "text": [
      "\u001b[1A\r",
      "55.0%┣████████████████████████▏                   ┫ 220/400 [01:14<01:01, 3it/s]\n"
     ]
    },
    {
     "name": "stdout",
     "output_type": "stream",
     "text": [
      "After sweep 1: maxlinkdim=64 maxerr=0.00E+00 current_time=0.0 - 0.0im time=0.06\n"
     ]
    },
    {
     "name": "stderr",
     "output_type": "stream",
     "text": [
      "55.2%┣████████████████████████▎                   ┫ 221/400 [01:14<01:00, 3it/s]\n",
      "55.5%┣████████████████████████▍                   ┫ 222/400 [01:14<01:00, 3it/s]\n"
     ]
    },
    {
     "name": "stdout",
     "output_type": "stream",
     "text": [
      "After sweep 1: maxlinkdim=64 maxerr=0.00E+00 current_time=0.0 - 0.0im time=0.073\n",
      "After sweep 1: maxlinkdim=64 maxerr=0.00E+00 current_time=0.0 - 0.0im time=0.057\n"
     ]
    },
    {
     "name": "stderr",
     "output_type": "stream",
     "text": [
      "\u001b[1A\r",
      "55.8%┣████████████████████████▌                   ┫ 223/400 [01:14<00:59, 3it/s]\n"
     ]
    },
    {
     "name": "stdout",
     "output_type": "stream",
     "text": [
      "After sweep 1: maxlinkdim=64 maxerr=0.00E+00 current_time=0.0 - 0.0im time=0.06\n"
     ]
    },
    {
     "name": "stderr",
     "output_type": "stream",
     "text": [
      "\u001b[1A\r",
      "56.0%┣████████████████████████▋                   ┫ 224/400 [01:15<00:59, 3it/s]\n"
     ]
    },
    {
     "name": "stdout",
     "output_type": "stream",
     "text": [
      "After sweep 1: maxlinkdim=64 maxerr=0.00E+00 current_time=0.0 - 0.0im time=0.067\n"
     ]
    },
    {
     "name": "stderr",
     "output_type": "stream",
     "text": [
      "\u001b[1A\r",
      "56.2%┣████████████████████████▊                   ┫ 225/400 [01:15<00:59, 3it/s]\n"
     ]
    },
    {
     "name": "stdout",
     "output_type": "stream",
     "text": [
      "After sweep 1: maxlinkdim=64 maxerr=0.00E+00 current_time=0.0 - 0.0im time=0.057\n"
     ]
    },
    {
     "name": "stderr",
     "output_type": "stream",
     "text": [
      "\u001b[1A\r",
      "56.5%┣████████████████████████▉                   ┫ 226/400 [01:15<00:58, 3it/s]\n"
     ]
    },
    {
     "name": "stdout",
     "output_type": "stream",
     "text": [
      "After sweep 1: maxlinkdim=64 maxerr=0.00E+00 current_time=0.0 - 0.0im time=0.053\n"
     ]
    },
    {
     "name": "stderr",
     "output_type": "stream",
     "text": [
      "\u001b[1A\r",
      "56.8%┣█████████████████████████                   ┫ 227/400 [01:16<00:58, 3it/s]\n"
     ]
    },
    {
     "name": "stdout",
     "output_type": "stream",
     "text": [
      "After sweep 1: maxlinkdim=64 maxerr=0.00E+00 current_time=0.0 - 0.0im time=0.063\n"
     ]
    },
    {
     "name": "stderr",
     "output_type": "stream",
     "text": [
      "\u001b[1A\r",
      "57.0%┣█████████████████████████                   ┫ 228/400 [01:16<00:58, 3it/s]\n"
     ]
    },
    {
     "name": "stdout",
     "output_type": "stream",
     "text": [
      "After sweep 1: maxlinkdim=64 maxerr=0.00E+00 current_time=0.0 - 0.0im time=0.056\n"
     ]
    },
    {
     "name": "stderr",
     "output_type": "stream",
     "text": [
      "57.2%┣█████████████████████████▏                  ┫ 229/400 [01:16<00:57, 3it/s]\n",
      "57.5%┣█████████████████████████▎                  ┫ 230/400 [01:16<00:57, 3it/s]\n"
     ]
    },
    {
     "name": "stdout",
     "output_type": "stream",
     "text": [
      "After sweep 1: maxlinkdim=64 maxerr=0.00E+00 current_time=0.0 - 0.0im time=0.084\n",
      "After sweep 1: maxlinkdim=64 maxerr=0.00E+00 current_time=0.0 - 0.0im time=0.056\n"
     ]
    },
    {
     "name": "stderr",
     "output_type": "stream",
     "text": [
      "\u001b[1A\r",
      "57.8%┣█████████████████████████▍                  ┫ 231/400 [01:17<00:56, 3it/s]\n"
     ]
    },
    {
     "name": "stdout",
     "output_type": "stream",
     "text": [
      "After sweep 1: maxlinkdim=64 maxerr=0.00E+00 current_time=0.0 - 0.0im time=0.056\n"
     ]
    },
    {
     "name": "stderr",
     "output_type": "stream",
     "text": [
      "58.0%┣█████████████████████████▌                  ┫ 232/400 [01:17<00:56, 3it/s]\n",
      "58.2%┣█████████████████████████▋                  ┫ 233/400 [01:17<00:56, 3it/s]"
     ]
    },
    {
     "name": "stdout",
     "output_type": "stream",
     "text": [
      "After sweep 1: maxlinkdim=64 maxerr=0.00E+00 current_time=0.0 - 0.0im time=0.087\n"
     ]
    },
    {
     "name": "stderr",
     "output_type": "stream",
     "text": [
      "\n",
      "58.5%┣█████████████████████████▊                  ┫ 234/400 [01:18<00:55, 3it/s]\n"
     ]
    },
    {
     "name": "stdout",
     "output_type": "stream",
     "text": [
      "After sweep 1: maxlinkdim=64 maxerr=0.00E+00 current_time=0.0 - 0.0im time=0.075\n",
      "After sweep 1: maxlinkdim=64 maxerr=0.00E+00 current_time=0.0 - 0.0im time=0.07\n"
     ]
    },
    {
     "name": "stderr",
     "output_type": "stream",
     "text": [
      "\u001b[1A\r",
      "58.8%┣█████████████████████████▉                  ┫ 235/400 [01:18<00:55, 3it/s]\n"
     ]
    },
    {
     "name": "stdout",
     "output_type": "stream",
     "text": [
      "After sweep 1: maxlinkdim=64 maxerr=0.00E+00 current_time=0.0 - 0.0im time=0.062\n"
     ]
    },
    {
     "name": "stderr",
     "output_type": "stream",
     "text": [
      "59.0%┣██████████████████████████                  ┫ 236/400 [01:18<00:55, 3it/s]\n",
      "59.2%┣██████████████████████████                  ┫ 237/400 [01:18<00:54, 3it/s]\n"
     ]
    },
    {
     "name": "stdout",
     "output_type": "stream",
     "text": [
      "After sweep 1: maxlinkdim=64 maxerr=0.00E+00 current_time=0.0 - 0.0im time=0.076\n",
      "After sweep 1: maxlinkdim=64 maxerr=0.00E+00 current_time=0.0 - 0.0im time=0.064\n"
     ]
    },
    {
     "name": "stderr",
     "output_type": "stream",
     "text": [
      "\u001b[1A\r",
      "59.5%┣██████████████████████████▏                 ┫ 238/400 [01:19<00:54, 3it/s]\n"
     ]
    },
    {
     "name": "stdout",
     "output_type": "stream",
     "text": [
      "After sweep 1: maxlinkdim=64 maxerr=0.00E+00 current_time=0.0 - 0.0im time=0.066\n"
     ]
    },
    {
     "name": "stderr",
     "output_type": "stream",
     "text": [
      "\u001b[1A\r",
      "59.8%┣██████████████████████████▎                 ┫ 239/400 [01:19<00:54, 3it/s]\n"
     ]
    },
    {
     "name": "stdout",
     "output_type": "stream",
     "text": [
      "After sweep 1: maxlinkdim=64 maxerr=0.00E+00 current_time=0.0 - 0.0im time=0.062\n"
     ]
    },
    {
     "name": "stderr",
     "output_type": "stream",
     "text": [
      "60.0%┣██████████████████████████▍                 ┫ 240/400 [01:19<00:53, 3it/s]\n",
      "60.2%┣██████████████████████████▌                 ┫ 241/400 [01:20<00:53, 3it/s]\n"
     ]
    },
    {
     "name": "stdout",
     "output_type": "stream",
     "text": [
      "After sweep 1: maxlinkdim=64 maxerr=0.00E+00 current_time=0.0 - 0.0im time=0.071\n",
      "After sweep 1: maxlinkdim=64 maxerr=0.00E+00 current_time=0.0 - 0.0im time=0.069\n"
     ]
    },
    {
     "name": "stderr",
     "output_type": "stream",
     "text": [
      "60.5%┣██████████████████████████▋                 ┫ 242/400 [01:20<00:52, 3it/s]\n",
      "60.8%┣██████████████████████████▊                 ┫ 243/400 [01:20<00:52, 3it/s]\n"
     ]
    },
    {
     "name": "stdout",
     "output_type": "stream",
     "text": [
      "After sweep 1: maxlinkdim=64 maxerr=0.00E+00 current_time=0.0 - 0.0im time=0.071\n"
     ]
    },
    {
     "name": "stderr",
     "output_type": "stream",
     "text": [
      "\u001b[1A\r",
      "61.0%┣██████████████████████████▉                 ┫ 244/400 [01:21<00:52, 3it/s]\n"
     ]
    },
    {
     "name": "stdout",
     "output_type": "stream",
     "text": [
      "After sweep 1: maxlinkdim=64 maxerr=0.00E+00 current_time=0.0 - 0.0im time=0.068\n"
     ]
    },
    {
     "name": "stderr",
     "output_type": "stream",
     "text": [
      "\u001b[1A\r",
      "61.3%┣███████████████████████████                 ┫ 245/400 [01:21<00:51, 3it/s]\n"
     ]
    },
    {
     "name": "stdout",
     "output_type": "stream",
     "text": [
      "After sweep 1: maxlinkdim=64 maxerr=0.00E+00 current_time=0.0 - 0.0im time=0.063\n",
      "After sweep 1: maxlinkdim=64 maxerr=0.00E+00 current_time=0.0 - 0.0im time=0.058\n"
     ]
    },
    {
     "name": "stderr",
     "output_type": "stream",
     "text": [
      "\u001b[1A\r",
      "61.5%┣███████████████████████████                 ┫ 246/400 [01:21<00:51, 3it/s]\n"
     ]
    },
    {
     "name": "stdout",
     "output_type": "stream",
     "text": [
      "After sweep 1: maxlinkdim=64 maxerr=0.00E+00 current_time=0.0 - 0.0im time=0.06\n"
     ]
    },
    {
     "name": "stderr",
     "output_type": "stream",
     "text": [
      "\u001b[1A\r",
      "61.8%┣███████████████████████████▏                ┫ 247/400 [01:21<00:51, 3it/s]\n"
     ]
    },
    {
     "name": "stdout",
     "output_type": "stream",
     "text": [
      "After sweep 1: maxlinkdim=64 maxerr=0.00E+00 current_time=0.0 - 0.0im time=0.066\n"
     ]
    },
    {
     "name": "stderr",
     "output_type": "stream",
     "text": [
      "\u001b[1A\r",
      "62.0%┣███████████████████████████▎                ┫ 248/400 [01:22<00:50, 3it/s]\n"
     ]
    },
    {
     "name": "stdout",
     "output_type": "stream",
     "text": [
      "After sweep 1: maxlinkdim=64 maxerr=0.00E+00 current_time=0.0 - 0.0im time=0.063\n"
     ]
    },
    {
     "name": "stderr",
     "output_type": "stream",
     "text": [
      "\u001b[1A\r",
      "62.3%┣███████████████████████████▍                ┫ 249/400 [01:22<00:50, 3it/s]\n"
     ]
    },
    {
     "name": "stdout",
     "output_type": "stream",
     "text": [
      "After sweep 1: maxlinkdim=64 maxerr=0.00E+00 current_time=0.0 - 0.0im time=0.071\n"
     ]
    },
    {
     "name": "stderr",
     "output_type": "stream",
     "text": [
      "\u001b[1A\r",
      "62.5%┣███████████████████████████▌                ┫ 250/400 [01:22<00:49, 3it/s]\n"
     ]
    },
    {
     "name": "stdout",
     "output_type": "stream",
     "text": [
      "After sweep 1: maxlinkdim=64 maxerr=0.00E+00 current_time=0.0 - 0.0im time=0.07\n"
     ]
    },
    {
     "name": "stderr",
     "output_type": "stream",
     "text": [
      "\u001b[1A\r",
      "62.7%┣███████████████████████████▋                ┫ 251/400 [01:22<00:49, 3it/s]\n"
     ]
    },
    {
     "name": "stdout",
     "output_type": "stream",
     "text": [
      "After sweep 1: maxlinkdim=64 maxerr=0.00E+00 current_time=0.0 - 0.0im time=0.056\n"
     ]
    },
    {
     "name": "stderr",
     "output_type": "stream",
     "text": [
      "\u001b[1A\r",
      "63.0%┣███████████████████████████▊                ┫ 252/400 [01:23<00:49, 3it/s]\n"
     ]
    },
    {
     "name": "stdout",
     "output_type": "stream",
     "text": [
      "After sweep 1: maxlinkdim=64 maxerr=0.00E+00 current_time=0.0 - 0.0im time=0.064\n"
     ]
    },
    {
     "name": "stderr",
     "output_type": "stream",
     "text": [
      "\u001b[1A\r",
      "63.2%┣███████████████████████████▉                ┫ 253/400 [01:23<00:48, 3it/s]\n"
     ]
    },
    {
     "name": "stdout",
     "output_type": "stream",
     "text": [
      "After sweep 1: maxlinkdim=64 maxerr=0.00E+00 current_time=0.0 - 0.0im time=0.063\n"
     ]
    },
    {
     "name": "stderr",
     "output_type": "stream",
     "text": [
      "\u001b[1A\r",
      "63.5%┣████████████████████████████                ┫ 254/400 [01:23<00:48, 3it/s]\n"
     ]
    },
    {
     "name": "stdout",
     "output_type": "stream",
     "text": [
      "After sweep 1:"
     ]
    },
    {
     "name": "stderr",
     "output_type": "stream",
     "text": [
      "\u001b[1A\r",
      "63.7%┣████████████████████████████                ┫ 255/400 [01:24<00:48, 3it/s]\n"
     ]
    },
    {
     "name": "stdout",
     "output_type": "stream",
     "text": [
      " maxlinkdim=64 maxerr=0.00E+00 current_time=0.0 - 0.0im time=0.06\n",
      "After sweep 1: maxlinkdim=64 maxerr=0.00E+00 current_time=0.0 - 0.0im time=0.059\n"
     ]
    },
    {
     "name": "stderr",
     "output_type": "stream",
     "text": [
      "\u001b[1A\r",
      "64.0%┣████████████████████████████▏               ┫ 256/400 [01:24<00:47, 3it/s]\n"
     ]
    },
    {
     "name": "stdout",
     "output_type": "stream",
     "text": [
      "After sweep 1: maxlinkdim=64 maxerr=0.00E+00 current_time=0.0 - 0.0im time=0.066\n"
     ]
    },
    {
     "name": "stderr",
     "output_type": "stream",
     "text": [
      "\u001b[1A\r",
      "64.2%┣████████████████████████████▎               ┫ 257/400 [01:24<00:47, 3it/s]\n"
     ]
    },
    {
     "name": "stdout",
     "output_type": "stream",
     "text": [
      "After sweep 1: maxlinkdim=64 maxerr=0.00E+00 current_time=0.0 - 0.0im time=0.064\n"
     ]
    },
    {
     "name": "stderr",
     "output_type": "stream",
     "text": [
      "\u001b[1A\r",
      "64.5%┣████████████████████████████▍               ┫ 258/400 [01:25<00:47, 3it/s]\n"
     ]
    },
    {
     "name": "stdout",
     "output_type": "stream",
     "text": [
      "After sweep 1: maxlinkdim=64 maxerr=0.00E+00 current_time=0.0 - 0.0im time=0.056\n"
     ]
    },
    {
     "name": "stderr",
     "output_type": "stream",
     "text": [
      "\u001b[1A\r",
      "64.8%┣████████████████████████████▌               ┫ 259/400 [01:25<00:46, 3it/s]\n"
     ]
    },
    {
     "name": "stdout",
     "output_type": "stream",
     "text": [
      "After sweep 1: maxlinkdim=64 maxerr=0.00E+00 current_time=0.0 - 0.0im time=0.057\n"
     ]
    },
    {
     "name": "stderr",
     "output_type": "stream",
     "text": [
      "\u001b[1A\r",
      "65.0%┣████████████████████████████▋               ┫ 260/400 [01:25<00:46, 3it/s]\n"
     ]
    },
    {
     "name": "stdout",
     "output_type": "stream",
     "text": [
      "After sweep 1: maxlinkdim=64 maxerr=0.00E+00 current_time=0.0 - 0.0im time=0.069\n"
     ]
    },
    {
     "name": "stderr",
     "output_type": "stream",
     "text": [
      "\u001b[1A\r",
      "65.2%┣████████████████████████████▊               ┫ 261/400 [01:25<00:46, 3it/s]\n"
     ]
    },
    {
     "name": "stdout",
     "output_type": "stream",
     "text": [
      "After sweep 1: maxlinkdim=64 maxerr=0.00E+00 current_time=0.0 - 0.0im time=0.064\n"
     ]
    },
    {
     "name": "stderr",
     "output_type": "stream",
     "text": [
      "\u001b[1A\r",
      "65.5%┣████████████████████████████▉               ┫ 262/400 [01:26<00:45, 3it/s]\n"
     ]
    },
    {
     "name": "stdout",
     "output_type": "stream",
     "text": [
      "After sweep 1: maxlinkdim=64 maxerr=0.00E+00 current_time=0.0 - 0.0im time=0.057\n"
     ]
    },
    {
     "name": "stderr",
     "output_type": "stream",
     "text": [
      "\u001b[1A\r",
      "65.8%┣█████████████████████████████               ┫ 263/400 [01:26<00:45, 3it/s]\n"
     ]
    },
    {
     "name": "stdout",
     "output_type": "stream",
     "text": [
      "After sweep 1: maxlinkdim=64 maxerr=0.00E+00 current_time=0.0 - 0.0im time=0.059\n"
     ]
    },
    {
     "name": "stderr",
     "output_type": "stream",
     "text": [
      "66.0%┣█████████████████████████████               ┫ 264/400 [01:26<00:45, 3it/s]\n",
      "66.2%┣█████████████████████████████▏              ┫ 265/400 [01:26<00:44, 3it/s]\n"
     ]
    },
    {
     "name": "stdout",
     "output_type": "stream",
     "text": [
      "After sweep 1: maxlinkdim=64 maxerr=0.00E+00 current_time=0.0 - 0.0im time=0.067\n",
      "After sweep 1: maxlinkdim=64 maxerr=0.00E+00 current_time=0.0 - 0.0im time=0.07\n"
     ]
    },
    {
     "name": "stderr",
     "output_type": "stream",
     "text": [
      "\u001b[1A\r",
      "66.5%┣█████████████████████████████▎              ┫ 266/400 [01:27<00:44, 3it/s]\n"
     ]
    },
    {
     "name": "stdout",
     "output_type": "stream",
     "text": [
      "After sweep 1: maxlinkdim=64 maxerr=0.00E+00 current_time=0.0 - 0.0im time=0.071\n"
     ]
    },
    {
     "name": "stderr",
     "output_type": "stream",
     "text": [
      "\u001b[1A\r",
      "66.8%┣█████████████████████████████▍              ┫ 267/400 [01:27<00:44, 3it/s]\n"
     ]
    },
    {
     "name": "stdout",
     "output_type": "stream",
     "text": [
      "After sweep 1: maxlinkdim=64 maxerr=0.00E+00 current_time=0.0 - 0.0im time=0.059\n"
     ]
    },
    {
     "name": "stderr",
     "output_type": "stream",
     "text": [
      "\u001b[1A\r",
      "67.0%┣█████████████████████████████▌              ┫ 268/400 [01:27<00:43, 3it/s]\n"
     ]
    },
    {
     "name": "stdout",
     "output_type": "stream",
     "text": [
      "After sweep 1: maxlinkdim=64 maxerr=0.00E+00 current_time=0.0 - 0.0im time=0.055\n"
     ]
    },
    {
     "name": "stderr",
     "output_type": "stream",
     "text": [
      "67.2%┣█████████████████████████████▋              ┫ 269/400 [01:28<00:43, 3it/s]\n",
      "67.5%┣█████████████████████████████▊              ┫ 270/400 [01:28<00:42, 3it/s]\n"
     ]
    },
    {
     "name": "stdout",
     "output_type": "stream",
     "text": [
      "After sweep 1: maxlinkdim=64 maxerr=0.00E+00 current_time=0.0 - 0.0im time=0.057\n",
      "After sweep 1: maxlinkdim=64 maxerr=0.00E+00 current_time=0.0 - 0.0im time=0.054\n"
     ]
    },
    {
     "name": "stderr",
     "output_type": "stream",
     "text": [
      "\u001b[1A\r",
      "67.8%┣█████████████████████████████▉              ┫ 271/400 [01:28<00:42, 3it/s]\n"
     ]
    },
    {
     "name": "stdout",
     "output_type": "stream",
     "text": [
      "After sweep 1: maxlinkdim=64 maxerr=0.00E+00 current_time=0.0 - 0.0im time=0.065\n"
     ]
    },
    {
     "name": "stderr",
     "output_type": "stream",
     "text": [
      "68.0%┣██████████████████████████████              ┫ 272/400 [01:28<00:42, 3it/s]\n",
      "68.2%┣██████████████████████████████              ┫ 273/400 [01:29<00:41, 3it/s]\n"
     ]
    },
    {
     "name": "stdout",
     "output_type": "stream",
     "text": [
      "After sweep 1: maxlinkdim=64 maxerr=0.00E+00 current_time=0.0 - 0.0im time=0.066\n",
      "After sweep 1: maxlinkdim=64 maxerr=0.00E+00 current_time=0.0 - 0.0im time=0.06\n"
     ]
    },
    {
     "name": "stderr",
     "output_type": "stream",
     "text": [
      "68.5%┣██████████████████████████████▏             ┫ 274/400 [01:29<00:41, 3it/s]\n",
      "68.8%┣██████████████████████████████▎             ┫ 275/400 [01:29<00:41, 3it/s]\n"
     ]
    },
    {
     "name": "stdout",
     "output_type": "stream",
     "text": [
      "After sweep 1: maxlinkdim=64 maxerr=0.00E+00 current_time=0.0 - 0.0im time=0.059\n",
      "After sweep 1: maxlinkdim=64 maxerr=0.00E+00 current_time=0.0 - 0.0im time=0.052\n"
     ]
    },
    {
     "name": "stderr",
     "output_type": "stream",
     "text": [
      "69.0%┣██████████████████████████████▍             ┫ 276/400 [01:30<00:40, 3it/s]\n",
      "69.2%┣██████████████████████████████▌             ┫ 277/400 [01:30<00:40, 3it/s]\n"
     ]
    },
    {
     "name": "stdout",
     "output_type": "stream",
     "text": [
      "After sweep 1: maxlinkdim=64 maxerr=0.00E+00 current_time=0.0 - 0.0im time=0.069\n",
      "After sweep 1: maxlinkdim=64 maxerr=0.00E+00 current_time=0.0 - 0.0im time=0.057\n"
     ]
    },
    {
     "name": "stderr",
     "output_type": "stream",
     "text": [
      "\u001b[1A\r",
      "69.5%┣██████████████████████████████▋             ┫ 278/400 [01:30<00:40, 3it/s]\n"
     ]
    },
    {
     "name": "stdout",
     "output_type": "stream",
     "text": [
      "After sweep 1: maxlinkdim=64 maxerr=0.00E+00 current_time=0.0 - 0.0im time=0.056\n"
     ]
    },
    {
     "name": "stderr",
     "output_type": "stream",
     "text": [
      "\u001b[1A\r",
      "69.8%┣██████████████████████████████▊             ┫ 279/400 [01:30<00:39, 3it/s]\n"
     ]
    },
    {
     "name": "stdout",
     "output_type": "stream",
     "text": [
      "After sweep 1: maxlinkdim=64 maxerr=0.00E+00 current_time=0.0 - 0.0im time=0.058\n"
     ]
    },
    {
     "name": "stderr",
     "output_type": "stream",
     "text": [
      "\u001b[1A\r",
      "70.0%┣██████████████████████████████▉             ┫ 280/400 [01:30<00:39, 3it/s]\n"
     ]
    },
    {
     "name": "stdout",
     "output_type": "stream",
     "text": [
      "After sweep 1: maxlinkdim=64 maxerr=0.00E+00 current_time=0.0 - 0.0im time=0.062\n"
     ]
    },
    {
     "name": "stderr",
     "output_type": "stream",
     "text": [
      "\u001b[1A\r",
      "70.2%┣███████████████████████████████             ┫ 281/400 [01:31<00:39, 3it/s]\n"
     ]
    },
    {
     "name": "stdout",
     "output_type": "stream",
     "text": [
      "After sweep 1: maxlinkdim=64 maxerr=0.00E+00 current_time=0.0 - 0.0im time=0.058\n"
     ]
    },
    {
     "name": "stderr",
     "output_type": "stream",
     "text": [
      "\u001b[1A\r",
      "70.5%┣███████████████████████████████             ┫ 282/400 [01:31<00:38, 3it/s]\n"
     ]
    },
    {
     "name": "stdout",
     "output_type": "stream",
     "text": [
      "After sweep 1: maxlinkdim=64 maxerr=0.00E+00 current_time=0.0 - 0.0im time=0.059\n"
     ]
    },
    {
     "name": "stderr",
     "output_type": "stream",
     "text": [
      "70.8%┣███████████████████████████████▏            ┫ 283/400 [01:31<00:38, 3it/s]\n",
      "71.0%┣███████████████████████████████▎            ┫ 284/400 [01:32<00:38, 3it/s]\n"
     ]
    },
    {
     "name": "stdout",
     "output_type": "stream",
     "text": [
      "After sweep 1: maxlinkdim=64 maxerr=0.00E+00 current_time=0.0 - 0.0im time=0.071\n",
      "After sweep 1: maxlinkdim=64 maxerr=0.00E+00 current_time=0.0 - 0.0im time=0.061\n"
     ]
    },
    {
     "name": "stderr",
     "output_type": "stream",
     "text": [
      "\u001b[1A\r",
      "71.2%┣███████████████████████████████▍            ┫ 285/400 [01:32<00:37, 3it/s]\n"
     ]
    },
    {
     "name": "stdout",
     "output_type": "stream",
     "text": [
      "After sweep 1: maxlinkdim=64 maxerr=0.00E+00 current_time=0.0 - 0.0im time=0.053\n"
     ]
    },
    {
     "name": "stderr",
     "output_type": "stream",
     "text": [
      "71.5%┣███████████████████████████████▌            ┫ 286/400 [01:32<00:37, 3it/s]\n",
      "71.8%┣███████████████████████████████▋            ┫ 287/400 [01:32<00:36, 3it/s]\n"
     ]
    },
    {
     "name": "stdout",
     "output_type": "stream",
     "text": [
      "After sweep 1: maxlinkdim=64 maxerr=0.00E+00 current_time=0.0 - 0.0im time=0.066\n",
      "After sweep 1: maxlinkdim=64 maxerr=0.00E+00 current_time=0.0 - 0.0im time=0.059\n"
     ]
    },
    {
     "name": "stderr",
     "output_type": "stream",
     "text": [
      "\u001b[1A\r",
      "72.0%┣███████████████████████████████▊            ┫ 288/400 [01:33<00:36, 3it/s]\n"
     ]
    },
    {
     "name": "stdout",
     "output_type": "stream",
     "text": [
      "After sweep 1: maxlinkdim=64 maxerr=0.00E+00 current_time=0.0 - 0.0im time=0.057\n"
     ]
    },
    {
     "name": "stderr",
     "output_type": "stream",
     "text": [
      "\u001b[1A\r",
      "72.2%┣███████████████████████████████▉            ┫ 289/400 [01:33<00:36, 3it/s]\n"
     ]
    },
    {
     "name": "stdout",
     "output_type": "stream",
     "text": [
      "After sweep 1: maxlinkdim=64 maxerr=0.00E+00 current_time=0.0 - 0.0im time=0.064\n"
     ]
    },
    {
     "name": "stderr",
     "output_type": "stream",
     "text": [
      "\u001b[1A\r",
      "72.5%┣████████████████████████████████            ┫ 290/400 [01:33<00:35, 3it/s]\n"
     ]
    },
    {
     "name": "stdout",
     "output_type": "stream",
     "text": [
      "After sweep 1: maxlinkdim=64 maxerr=0.00E+00 current_time=0.0 - 0.0"
     ]
    },
    {
     "name": "stderr",
     "output_type": "stream",
     "text": [
      "\u001b[1A\r",
      "72.8%┣████████████████████████████████            ┫ 291/400 [01:34<00:35, 3it/s]\n"
     ]
    },
    {
     "name": "stdout",
     "output_type": "stream",
     "text": [
      "im time=0.059\n",
      "After sweep 1: maxlinkdim=64 maxerr=0.00E+00 current_time=0.0 - 0.0im time=0.066\n"
     ]
    },
    {
     "name": "stderr",
     "output_type": "stream",
     "text": [
      "\u001b[1A\r",
      "73.0%┣████████████████████████████████▏           ┫ 292/400 [01:34<00:35, 3it/s]\n"
     ]
    },
    {
     "name": "stdout",
     "output_type": "stream",
     "text": [
      "After sweep 1: maxlinkdim=64 maxerr=0.00E+00 current_time=0.0 - 0.0im time=0.064\n"
     ]
    },
    {
     "name": "stderr",
     "output_type": "stream",
     "text": [
      "\u001b[1A\r",
      "73.2%┣████████████████████████████████▎           ┫ 293/400 [01:34<00:34, 3it/s]\n"
     ]
    },
    {
     "name": "stdout",
     "output_type": "stream",
     "text": [
      "After sweep 1: maxlinkdim=64 maxerr=0.00E+00 current_time=0.0 - 0.0im time=0.064\n"
     ]
    },
    {
     "name": "stderr",
     "output_type": "stream",
     "text": [
      "\u001b[1A\r",
      "73.5%┣████████████████████████████████▍           ┫ 294/400 [01:34<00:34, 3it/s]\n"
     ]
    },
    {
     "name": "stdout",
     "output_type": "stream",
     "text": [
      "After sweep 1: maxlinkdim=64 maxerr=0.00E+00 current_time=0.0 - 0.0im time="
     ]
    },
    {
     "name": "stderr",
     "output_type": "stream",
     "text": [
      "\u001b[1A\r",
      "73.8%┣████████████████████████████████▌           ┫ 295/400 [01:35<00:34, 3it/s]\n"
     ]
    },
    {
     "name": "stdout",
     "output_type": "stream",
     "text": [
      "0.06\n",
      "After sweep 1: maxlinkdim=64 maxerr=0.00E+00 current_time=0.0 - 0.0im time=0.059\n"
     ]
    },
    {
     "name": "stderr",
     "output_type": "stream",
     "text": [
      "\u001b[1A\r",
      "74.0%┣████████████████████████████████▋           ┫ 296/400 [01:35<00:34, 3it/s]\n"
     ]
    },
    {
     "name": "stdout",
     "output_type": "stream",
     "text": [
      "After sweep 1: maxlinkdim=64 maxerr=0.00E+00 current_time=0.0 - 0.0im time=0.058\n"
     ]
    },
    {
     "name": "stderr",
     "output_type": "stream",
     "text": [
      "\u001b[1A\r",
      "74.2%┣████████████████████████████████▊           ┫ 297/400 [01:35<00:33, 3it/s]\n"
     ]
    },
    {
     "name": "stdout",
     "output_type": "stream",
     "text": [
      "After sweep 1: maxlinkdim=64 maxerr=0.00E+00 current_time=0.0 - 0.0im time=0.057\n"
     ]
    },
    {
     "name": "stderr",
     "output_type": "stream",
     "text": [
      "\u001b[1A\r",
      "74.5%┣████████████████████████████████▉           ┫ 298/400 [01:36<00:33, 3it/s]\n"
     ]
    },
    {
     "name": "stdout",
     "output_type": "stream",
     "text": [
      "After sweep 1: maxlinkdim=64 maxerr=0.00E+00 current_time=0.0 - 0.0im time=0.054\n"
     ]
    },
    {
     "name": "stderr",
     "output_type": "stream",
     "text": [
      "\u001b[1A\r",
      "74.8%┣█████████████████████████████████           ┫ 299/400 [01:36<00:32, 3it/s]\n"
     ]
    },
    {
     "name": "stdout",
     "output_type": "stream",
     "text": [
      "After sweep 1: maxlinkdim=64 maxerr=0.00E+00 current_time=0.0 - 0.0im time=0.058\n"
     ]
    },
    {
     "name": "stderr",
     "output_type": "stream",
     "text": [
      "\u001b[1A\r",
      "75.0%┣█████████████████████████████████           ┫ 300/400 [01:36<00:32, 3it/s]\n"
     ]
    },
    {
     "name": "stdout",
     "output_type": "stream",
     "text": [
      "After sweep 1: maxlinkdim=64 maxerr=0.00E+00 current_time=0.0 - 0.0im time=0.064\n"
     ]
    },
    {
     "name": "stderr",
     "output_type": "stream",
     "text": [
      "\u001b[1A\r",
      "75.2%┣█████████████████████████████████           ┫ 301/400 [01:36<00:32, 3it/s]\n"
     ]
    },
    {
     "name": "stdout",
     "output_type": "stream",
     "text": [
      "After sweep 1: maxlinkdim=64 maxerr=0.00E+00"
     ]
    },
    {
     "name": "stderr",
     "output_type": "stream",
     "text": [
      "\u001b[1A\r",
      "75.5%┣█████████████████████████████████▏          ┫ 302/400 [01:37<00:31, 3it/s]\n"
     ]
    },
    {
     "name": "stdout",
     "output_type": "stream",
     "text": [
      " current_time=0.0 - 0.0im time=0.058\n"
     ]
    },
    {
     "name": "stderr",
     "output_type": "stream",
     "text": [
      "\u001b[1A\r",
      "75.8%┣█████████████████████████████████▎          ┫ 303/400 [01:37<00:31, 3it/s]\n"
     ]
    },
    {
     "name": "stdout",
     "output_type": "stream",
     "text": [
      "After sweep 1: maxlinkdim=64 maxerr=0.00E+00 current_time=0.0 - 0.0im time=0.061\n",
      "After sweep 1: maxlinkdim=64 maxerr=0.00E+00 current_time=0.0 - 0.0im time=0.053\n"
     ]
    },
    {
     "name": "stderr",
     "output_type": "stream",
     "text": [
      "\u001b[1A\r",
      "76.0%┣█████████████████████████████████▍          ┫ 304/400 [01:37<00:31, 3it/s]\n"
     ]
    },
    {
     "name": "stdout",
     "output_type": "stream",
     "text": [
      "After sweep 1: maxlinkdim=64 maxerr=0.00E+00 current_time=0.0 - 0.0im time=0.057\n"
     ]
    },
    {
     "name": "stderr",
     "output_type": "stream",
     "text": [
      "\u001b[1A\r",
      "76.2%┣█████████████████████████████████▌          ┫ 305/400 [01:38<00:30, 3it/s]\n"
     ]
    },
    {
     "name": "stdout",
     "output_type": "stream",
     "text": [
      "After sweep 1: maxlinkdim=64 maxerr=0.00E+00 current_time=0.0 - 0.0im time=0.062\n"
     ]
    },
    {
     "name": "stderr",
     "output_type": "stream",
     "text": [
      "\u001b[1A\r",
      "76.5%┣█████████████████████████████████▋          ┫ 306/400 [01:38<00:30, 3it/s]\n"
     ]
    },
    {
     "name": "stdout",
     "output_type": "stream",
     "text": [
      "After sweep 1: maxlinkdim=64 maxerr=0.00E+00 current_time=0.0 - 0.0im time=0.073\n"
     ]
    },
    {
     "name": "stderr",
     "output_type": "stream",
     "text": [
      "\u001b[1A\r",
      "76.8%┣█████████████████████████████████▊          ┫ 307/400 [01:38<00:30, 3it/s]\n"
     ]
    },
    {
     "name": "stdout",
     "output_type": "stream",
     "text": [
      "After sweep 1: maxlinkdim=64 maxerr=0.00E+00 current_time=0.0 - 0.0im time=0.053\n"
     ]
    },
    {
     "name": "stderr",
     "output_type": "stream",
     "text": [
      "\u001b[1A\r",
      "77.0%┣█████████████████████████████████▉          ┫ 308/400 [01:38<00:29, 3it/s]\n"
     ]
    },
    {
     "name": "stdout",
     "output_type": "stream",
     "text": [
      "After sweep 1: maxlinkdim=64 maxerr=0.00E+00 current_time=0.0 - 0.0im time=0.052\n"
     ]
    },
    {
     "name": "stderr",
     "output_type": "stream",
     "text": [
      "\u001b[1A\r",
      "77.2%┣██████████████████████████████████          ┫ 309/400 [01:39<00:29, 3it/s]\n"
     ]
    },
    {
     "name": "stdout",
     "output_type": "stream",
     "text": [
      "After sweep 1: maxlinkdim=64"
     ]
    },
    {
     "name": "stderr",
     "output_type": "stream",
     "text": [
      "\u001b[1A\r",
      "77.5%┣██████████████████████████████████          ┫ 310/400 [01:39<00:29, 3it/s]\n"
     ]
    },
    {
     "name": "stdout",
     "output_type": "stream",
     "text": [
      " maxerr=0.00E+00 current_time=0.0 - 0.0im time=0.063\n",
      "After sweep 1: maxlinkdim=64 maxerr=0.00E+00 current_time=0.0 - 0.0im time=0.05\n"
     ]
    },
    {
     "name": "stderr",
     "output_type": "stream",
     "text": [
      "77.8%┣██████████████████████████████████▏         ┫ 311/400 [01:39<00:28, 3it/s]\n",
      "78.0%┣██████████████████████████████████▎         ┫ 312/400 [01:39<00:28, 3it/s]\n"
     ]
    },
    {
     "name": "stdout",
     "output_type": "stream",
     "text": [
      "After sweep 1: maxlinkdim=64 maxerr=0.00E+00 current_time=0.0 - 0.0im time=0.06\n",
      "After sweep 1: maxlinkdim=64 maxerr=0.00E+00 current_time=0.0 - 0.0"
     ]
    },
    {
     "name": "stderr",
     "output_type": "stream",
     "text": [
      "\u001b[1A\r",
      "78.2%┣██████████████████████████████████▍         ┫ 313/400 [01:40<00:28, 3it/s]\n"
     ]
    },
    {
     "name": "stdout",
     "output_type": "stream",
     "text": [
      "im time=0.057\n",
      "After sweep 1: maxlinkdim=64 maxerr=0.00E+00 current_time=0.0 - 0.0im time=0.052\n"
     ]
    },
    {
     "name": "stderr",
     "output_type": "stream",
     "text": [
      "\u001b[1A\r",
      "78.5%┣██████████████████████████████████▌         ┫ 314/400 [01:40<00:28, 3it/s]\n"
     ]
    },
    {
     "name": "stdout",
     "output_type": "stream",
     "text": [
      "After sweep 1: maxlinkdim=64 maxerr=0.00E+00 current_time=0.0 - 0.0im time=0.054\n"
     ]
    },
    {
     "name": "stderr",
     "output_type": "stream",
     "text": [
      "\u001b[1A\r",
      "78.8%┣██████████████████████████████████▋         ┫ 315/400 [01:40<00:27, 3it/s]\n"
     ]
    },
    {
     "name": "stdout",
     "output_type": "stream",
     "text": [
      "After sweep 1: maxlinkdim=64 maxerr=0.00E+00 current_time=0.0 - 0.0im time=0.065\n"
     ]
    },
    {
     "name": "stderr",
     "output_type": "stream",
     "text": [
      "\u001b[1A\r",
      "79.0%┣██████████████████████████████████▊         ┫ 316/400 [01:41<00:27, 3it/s]\n"
     ]
    },
    {
     "name": "stdout",
     "output_type": "stream",
     "text": [
      "After sweep 1: maxlinkdim=64 maxerr=0.00E+00 current_time=0.0 - 0.0im time=0.059\n"
     ]
    },
    {
     "name": "stderr",
     "output_type": "stream",
     "text": [
      "\u001b[1A\r",
      "79.2%┣██████████████████████████████████▉         ┫ 317/400 [01:41<00:26, 3it/s]\n"
     ]
    },
    {
     "name": "stdout",
     "output_type": "stream",
     "text": [
      "After sweep 1: maxlinkdim=64 maxerr=0.00E+00 current_time=0.0 - 0.0im time=0.057\n"
     ]
    },
    {
     "name": "stderr",
     "output_type": "stream",
     "text": [
      "\u001b[1A\r",
      "79.5%┣███████████████████████████████████         ┫ 318/400 [01:41<00:26, 3it/s]\n"
     ]
    },
    {
     "name": "stdout",
     "output_type": "stream",
     "text": [
      "After sweep 1: maxlinkdim=64 maxerr=0.00E+00 current_time=0.0 - 0.0im time=0.058\n"
     ]
    },
    {
     "name": "stderr",
     "output_type": "stream",
     "text": [
      "79.8%┣███████████████████████████████████         ┫ 319/400 [01:41<00:26, 3it/s]\n",
      "80.0%┣███████████████████████████████████▏        ┫ 320/400 [01:42<00:26, 3it/s]\n"
     ]
    },
    {
     "name": "stdout",
     "output_type": "stream",
     "text": [
      "After sweep 1: maxlinkdim=64 maxerr=0.00E+00 current_time=0.0 - 0.0im time=0.056\n",
      "After sweep 1: maxlinkdim=64 maxerr=0.00E+00 current_time=0.0 - 0.0im time=0.057\n"
     ]
    },
    {
     "name": "stderr",
     "output_type": "stream",
     "text": [
      "\u001b[1A\r",
      "80.2%┣███████████████████████████████████▎        ┫ 321/400 [01:42<00:25, 3it/s]\n"
     ]
    },
    {
     "name": "stdout",
     "output_type": "stream",
     "text": [
      "After sweep 1: maxlinkdim=64 maxerr=0.00E+00 current_time=0.0 - 0.0im time=0.061\n"
     ]
    },
    {
     "name": "stderr",
     "output_type": "stream",
     "text": [
      "\u001b[1A\r",
      "80.5%┣███████████████████████████████████▍        ┫ 322/400 [01:42<00:25, 3it/s]\n"
     ]
    },
    {
     "name": "stdout",
     "output_type": "stream",
     "text": [
      "After sweep 1: maxlinkdim=64 maxerr=0.00E+00 current_time=0.0 - 0.0im time=0.054\n"
     ]
    },
    {
     "name": "stderr",
     "output_type": "stream",
     "text": [
      "\u001b[1A\r",
      "80.8%┣███████████████████████████████████▌        ┫ 323/400 [01:43<00:25, 3it/s]\n"
     ]
    },
    {
     "name": "stdout",
     "output_type": "stream",
     "text": [
      "After sweep 1: maxlinkdim=64 maxerr=0.00E+00 current_time=0.0 - 0.0im time=0.062\n"
     ]
    },
    {
     "name": "stderr",
     "output_type": "stream",
     "text": [
      "\u001b[1A\r",
      "81.0%┣███████████████████████████████████▋        ┫ 324/400 [01:43<00:24, 3it/s]\n"
     ]
    },
    {
     "name": "stdout",
     "output_type": "stream",
     "text": [
      "After sweep 1: maxlinkdim=64 maxerr=0.00E+00 current_time=0.0 - 0.0im time=0.05\n"
     ]
    },
    {
     "name": "stderr",
     "output_type": "stream",
     "text": [
      "\u001b[1A\r",
      "81.2%┣███████████████████████████████████▊        ┫ 325/400 [01:43<00:24, 3it/s]\n"
     ]
    },
    {
     "name": "stdout",
     "output_type": "stream",
     "text": [
      "After sweep 1: maxlinkdim=64 maxerr=0.00E+00 current_time=0.0 - 0.0im time=0.052\n"
     ]
    },
    {
     "name": "stderr",
     "output_type": "stream",
     "text": [
      "81.5%┣███████████████████████████████████▉        ┫ 326/400 [01:43<00:24, 3it/s]\n",
      "81.8%┣████████████████████████████████████        ┫ 327/400 [01:44<00:23, 3it/s]\n"
     ]
    },
    {
     "name": "stdout",
     "output_type": "stream",
     "text": [
      "After sweep 1: maxlinkdim=64 maxerr=0.00E+00 current_time=0.0 - 0.0im time=0.071\n",
      "After sweep 1: maxlinkdim=64 maxerr=0.00E+00 current_time=0.0 - 0.0im time=0.051"
     ]
    },
    {
     "name": "stderr",
     "output_type": "stream",
     "text": [
      "\u001b[1A\r",
      "82.0%┣████████████████████████████████████        ┫ 328/400 [01:44<00:23, 3it/s]\n"
     ]
    },
    {
     "name": "stdout",
     "output_type": "stream",
     "text": [
      "\n"
     ]
    },
    {
     "name": "stderr",
     "output_type": "stream",
     "text": [
      "\u001b[1A\r",
      "82.2%┣████████████████████████████████████▏       ┫ 329/400 [01:44<00:23, 3it/s]\n"
     ]
    },
    {
     "name": "stdout",
     "output_type": "stream",
     "text": [
      "After sweep 1: maxlinkdim=64 maxerr=0.00E+00 current_time=0.0 - 0.0im time=0.063\n",
      "After sweep 1:"
     ]
    },
    {
     "name": "stderr",
     "output_type": "stream",
     "text": [
      "\u001b[1A\r",
      "82.5%┣████████████████████████████████████▎       ┫ 330/400 [01:45<00:22, 3it/s]\n"
     ]
    },
    {
     "name": "stdout",
     "output_type": "stream",
     "text": [
      " maxlinkdim=64 maxerr=0.00E+00 current_time=0.0 - 0.0im time=0.058\n",
      "After sweep 1: maxlinkdim=64 maxerr=0.00E+00 current_time=0.0 - 0.0im time=0.053\n"
     ]
    },
    {
     "name": "stderr",
     "output_type": "stream",
     "text": [
      "\u001b[1A\r",
      "82.8%┣████████████████████████████████████▍       ┫ 331/400 [01:45<00:22, 3it/s]\n"
     ]
    },
    {
     "name": "stdout",
     "output_type": "stream",
     "text": [
      "After sweep 1: maxlinkdim=64 maxerr=0.00E+00 current_time=0.0 - 0.0im time=0.053\n"
     ]
    },
    {
     "name": "stderr",
     "output_type": "stream",
     "text": [
      "83.0%┣████████████████████████████████████▌       ┫ 332/400 [01:45<00:22, 3it/s]\n",
      "83.2%┣████████████████████████████████████▋       ┫ 333/400 [01:45<00:21, 3it/s]\n"
     ]
    },
    {
     "name": "stdout",
     "output_type": "stream",
     "text": [
      "After sweep 1: maxlinkdim=64 maxerr=0.00E+00 current_time=0.0 - 0.0im time=0.073\n",
      "After sweep 1: maxlinkdim=64 maxerr=0.00E+00 current_time=0.0 - 0.0im time=0.048\n"
     ]
    },
    {
     "name": "stderr",
     "output_type": "stream",
     "text": [
      "\u001b[1A\r",
      "83.5%┣████████████████████████████████████▊       ┫ 334/400 [01:46<00:21, 3it/s]\n"
     ]
    },
    {
     "name": "stdout",
     "output_type": "stream",
     "text": [
      "After sweep 1: maxlinkdim=64 maxerr=0.00E+00 current_time=0.0 - 0.0im time=0.059\n"
     ]
    },
    {
     "name": "stderr",
     "output_type": "stream",
     "text": [
      "\u001b[1A\r",
      "83.8%┣████████████████████████████████████▉       ┫ 335/400 [01:46<00:21, 3it/s]\n"
     ]
    },
    {
     "name": "stdout",
     "output_type": "stream",
     "text": [
      "After sweep 1: maxlinkdim=64 maxerr=0.00E+00 current_time=0.0 - 0.0im time=0.054\n"
     ]
    },
    {
     "name": "stderr",
     "output_type": "stream",
     "text": [
      "\u001b[1A\r",
      "84.0%┣█████████████████████████████████████       ┫ 336/400 [01:46<00:20, 3it/s]\n"
     ]
    },
    {
     "name": "stdout",
     "output_type": "stream",
     "text": [
      "After sweep 1: maxlinkdim=64 maxerr=0.00E+00 current_time=0.0 - 0.0im time=0.056"
     ]
    },
    {
     "name": "stderr",
     "output_type": "stream",
     "text": [
      "\u001b[1A\r",
      "84.2%┣█████████████████████████████████████       ┫ 337/400 [01:47<00:20, 3it/s]\n"
     ]
    },
    {
     "name": "stdout",
     "output_type": "stream",
     "text": [
      "\n"
     ]
    },
    {
     "name": "stderr",
     "output_type": "stream",
     "text": [
      "\u001b[1A\r",
      "84.5%┣█████████████████████████████████████▏      ┫ 338/400 [01:47<00:20, 3it/s]\n"
     ]
    },
    {
     "name": "stdout",
     "output_type": "stream",
     "text": [
      "After sweep 1: maxlinkdim=64 maxerr=0.00E+00 current_time=0.0 - 0.0im time=0.079\n"
     ]
    },
    {
     "name": "stderr",
     "output_type": "stream",
     "text": [
      "\u001b[1A\r",
      "84.8%┣█████████████████████████████████████▎      ┫ 339/400 [01:47<00:19, 3it/s]\n"
     ]
    },
    {
     "name": "stdout",
     "output_type": "stream",
     "text": [
      "After sweep 1: maxlinkdim=64 maxerr=0.00E+00 current_time=0.0 - 0.0im time=0.058\n"
     ]
    },
    {
     "name": "stderr",
     "output_type": "stream",
     "text": [
      "\u001b[1A\r",
      "85.0%┣█████████████████████████████████████▍      ┫ 340/400 [01:48<00:19, 3it/s]\n"
     ]
    },
    {
     "name": "stdout",
     "output_type": "stream",
     "text": [
      "After sweep 1: maxlinkdim=64 maxerr=0.00E+00 current_time=0.0 - 0.0im time=0.058\n",
      "After sweep 1: maxlinkdim=64 maxerr=0.00E+00 current_time=0.0 - 0.0im time=0.066\n"
     ]
    },
    {
     "name": "stderr",
     "output_type": "stream",
     "text": [
      "\u001b[1A\r",
      "85.2%┣█████████████████████████████████████▌      ┫ 341/400 [01:48<00:19, 3it/s]\n"
     ]
    },
    {
     "name": "stdout",
     "output_type": "stream",
     "text": [
      "After sweep 1: maxlinkdim=64 maxerr=0.00E+00 current_time=0.0 - 0.0im time=0.052\n"
     ]
    },
    {
     "name": "stderr",
     "output_type": "stream",
     "text": [
      "\u001b[1A\r",
      "85.5%┣█████████████████████████████████████▋      ┫ 342/400 [01:48<00:18, 3it/s]\n"
     ]
    },
    {
     "name": "stdout",
     "output_type": "stream",
     "text": [
      "After sweep 1: maxlinkdim=64 maxerr=0.00E+00 current_time=0.0 - 0.0im time=0.051\n"
     ]
    },
    {
     "name": "stderr",
     "output_type": "stream",
     "text": [
      "\u001b[1A\r",
      "85.8%┣█████████████████████████████████████▊      ┫ 343/400 [01:49<00:18, 3it/s]\n"
     ]
    },
    {
     "name": "stdout",
     "output_type": "stream",
     "text": [
      "After sweep 1: maxlinkdim=64 maxerr=0.00E+00 current_time=0.0 - 0.0im time=0.064\n"
     ]
    },
    {
     "name": "stderr",
     "output_type": "stream",
     "text": [
      "\u001b[1A\r",
      "86.0%┣█████████████████████████████████████▉      ┫ 344/400 [01:49<00:18, 3it/s]\n"
     ]
    },
    {
     "name": "stdout",
     "output_type": "stream",
     "text": [
      "After sweep 1: maxlinkdim=64 maxerr=0.00E+00 current_time=0.0 - 0.0im time=0.054\n"
     ]
    },
    {
     "name": "stderr",
     "output_type": "stream",
     "text": [
      "\u001b[1A\r",
      "86.2%┣██████████████████████████████████████      ┫ 345/400 [01:49<00:17, 3it/s]\n"
     ]
    },
    {
     "name": "stdout",
     "output_type": "stream",
     "text": [
      "After sweep 1: maxlinkdim=64 maxerr=0.00E+00"
     ]
    },
    {
     "name": "stderr",
     "output_type": "stream",
     "text": [
      "\u001b[1A\r",
      "86.5%┣██████████████████████████████████████      ┫ 346/400 [01:49<00:17, 3it/s]\n"
     ]
    },
    {
     "name": "stdout",
     "output_type": "stream",
     "text": [
      " current_time=0.0 - 0.0im time=0.052\n",
      "After sweep 1: maxlinkdim=64 maxerr=0.00E+00 current_time=0.0 - 0.0im time=0.058\n"
     ]
    },
    {
     "name": "stderr",
     "output_type": "stream",
     "text": [
      "86.8%┣██████████████████████████████████████▏     ┫ 347/400 [01:50<00:17, 3it/s]\n",
      "87.0%┣██████████████████████████████████████▎     ┫ 348/400 [01:50<00:16, 3it/s]\n"
     ]
    },
    {
     "name": "stdout",
     "output_type": "stream",
     "text": [
      "After sweep 1: maxlinkdim=64 maxerr=0.00E+00 current_time=0.0 - 0.0im time=0.058\n",
      "After sweep 1: maxlinkdim=64 maxerr=0.00E+00 current_time=0.0 - 0.0im time=0.06\n"
     ]
    },
    {
     "name": "stderr",
     "output_type": "stream",
     "text": [
      "87.2%┣██████████████████████████████████████▍     ┫ 349/400 [01:50<00:16, 3it/s]\n",
      "87.5%┣██████████████████████████████████████▌     ┫ 350/400 [01:51<00:16, 3it/s]\n"
     ]
    },
    {
     "name": "stdout",
     "output_type": "stream",
     "text": [
      "After sweep 1: maxlinkdim=64 maxerr=0.00E+00 current_time=0.0 - 0.0im time=0.055\n",
      "After sweep 1: maxlinkdim=64 maxerr=0.00E+00 current_time=0.0 - 0.0im time=0.05\n"
     ]
    },
    {
     "name": "stderr",
     "output_type": "stream",
     "text": [
      "\u001b[1A\r",
      "87.8%┣██████████████████████████████████████▋     ┫ 351/400 [01:51<00:16, 3it/s]\n"
     ]
    },
    {
     "name": "stdout",
     "output_type": "stream",
     "text": [
      "After sweep 1: maxlinkdim=64 maxerr=0.00E+00 current_time=0.0 - 0.0im time=0.054\n"
     ]
    },
    {
     "name": "stderr",
     "output_type": "stream",
     "text": [
      "\u001b[1A\r",
      "88.0%┣██████████████████████████████████████▊     ┫ 352/400 [01:51<00:15, 3it/s]\n"
     ]
    },
    {
     "name": "stdout",
     "output_type": "stream",
     "text": [
      "After sweep 1: maxlinkdim=64 maxerr=0.00E+00 current_time=0.0 - 0.0im time=0.059\n"
     ]
    },
    {
     "name": "stderr",
     "output_type": "stream",
     "text": [
      "88.2%┣██████████████████████████████████████▉     ┫ 353/400 [01:52<00:15, 3it/s]\n",
      "88.5%┣███████████████████████████████████████     ┫ 354/400 [01:52<00:15, 3it/s]\n"
     ]
    },
    {
     "name": "stdout",
     "output_type": "stream",
     "text": [
      "After sweep 1: maxlinkdim=64 maxerr=0.00E+00 current_time=0.0 - 0.0im time=0.059\n",
      "After sweep 1: maxlinkdim=64 maxerr=0.00E+00 current_time=0.0 - 0.0im time=0.051\n"
     ]
    },
    {
     "name": "stderr",
     "output_type": "stream",
     "text": [
      "\u001b[1A\r",
      "88.8%┣███████████████████████████████████████     ┫ 355/400 [01:52<00:14, 3it/s]\n"
     ]
    },
    {
     "name": "stdout",
     "output_type": "stream",
     "text": [
      "After sweep 1: maxlinkdim=64 maxerr=0.00E+00 current_time=0.0 - 0.0im time=0.054\n"
     ]
    },
    {
     "name": "stderr",
     "output_type": "stream",
     "text": [
      "\u001b[1A\r",
      "89.0%┣███████████████████████████████████████▏    ┫ 356/400 [01:52<00:14, 3it/s]\n"
     ]
    },
    {
     "name": "stdout",
     "output_type": "stream",
     "text": [
      "After sweep 1: maxlinkdim=64 maxerr=0.00E+00 current_time=0.0 - 0.0im time=0.055\n"
     ]
    },
    {
     "name": "stderr",
     "output_type": "stream",
     "text": [
      "\u001b[1A\r",
      "89.2%┣███████████████████████████████████████▎    ┫ 357/400 [01:53<00:14, 3it/s]\n"
     ]
    },
    {
     "name": "stdout",
     "output_type": "stream",
     "text": [
      "After sweep 1: maxlinkdim=64 maxerr=0.00E+00 current_time=0.0 - 0.0im time=0.051\n"
     ]
    },
    {
     "name": "stderr",
     "output_type": "stream",
     "text": [
      "\u001b[1A\r",
      "89.5%┣███████████████████████████████████████▍    ┫ 358/400 [01:53<00:13, 3it/s]\n"
     ]
    },
    {
     "name": "stdout",
     "output_type": "stream",
     "text": [
      "After sweep 1: maxlinkdim=64 maxerr=0.00E+00 current_time=0.0 - 0.0im time=0.065\n"
     ]
    },
    {
     "name": "stderr",
     "output_type": "stream",
     "text": [
      "\u001b[1A\r",
      "89.8%┣███████████████████████████████████████▌    ┫ 359/400 [01:53<00:13, 3it/s]\n"
     ]
    },
    {
     "name": "stdout",
     "output_type": "stream",
     "text": [
      "After sweep 1: maxlinkdim=64 maxerr=0.00E+00 current_time=0.0 - 0.0im time=0.059\n"
     ]
    },
    {
     "name": "stderr",
     "output_type": "stream",
     "text": [
      "\u001b[1A\r",
      "90.0%┣███████████████████████████████████████▋    ┫ 360/400 [01:54<00:13, 3it/s]\n"
     ]
    },
    {
     "name": "stdout",
     "output_type": "stream",
     "text": [
      "After sweep 1: maxlinkdim=64 maxerr=0.00E+00 current_time=0.0 - 0.0im time=0.055\n"
     ]
    },
    {
     "name": "stderr",
     "output_type": "stream",
     "text": [
      "\u001b[1A\r",
      "90.2%┣███████████████████████████████████████▊    ┫ 361/400 [01:54<00:12, 3it/s]\n"
     ]
    },
    {
     "name": "stdout",
     "output_type": "stream",
     "text": [
      "After sweep 1: maxlinkdim=64 maxerr=0.00E+00 current_time=0.0 - 0.0im time=0.068\n"
     ]
    },
    {
     "name": "stderr",
     "output_type": "stream",
     "text": [
      "\u001b[1A\r",
      "90.5%┣███████████████████████████████████████▉    ┫ 362/400 [01:54<00:12, 3it/s]\n"
     ]
    },
    {
     "name": "stdout",
     "output_type": "stream",
     "text": [
      "After sweep 1: maxlinkdim=64 maxerr=0.00E+00 current_time=0.0 - 0.0im time=0.059\n"
     ]
    },
    {
     "name": "stderr",
     "output_type": "stream",
     "text": [
      "\u001b[1A\r",
      "90.8%┣████████████████████████████████████████    ┫ 363/400 [01:55<00:12, 3it/s]\n"
     ]
    },
    {
     "name": "stdout",
     "output_type": "stream",
     "text": [
      "After sweep 1: maxlinkdim=64 maxerr=0.00E+00 current_time=0.0 - 0.0im time=0.058\n"
     ]
    },
    {
     "name": "stderr",
     "output_type": "stream",
     "text": [
      "\u001b[1A\r",
      "91.0%┣████████████████████████████████████████    ┫ 364/400 [01:55<00:11, 3it/s]\n"
     ]
    },
    {
     "name": "stdout",
     "output_type": "stream",
     "text": [
      "After sweep 1: maxlinkdim=64 maxerr=0.00E+00 current_time=0.0 - 0.0im time=0.058"
     ]
    },
    {
     "name": "stderr",
     "output_type": "stream",
     "text": [
      "\u001b[1A\r",
      "91.2%┣████████████████████████████████████████▏   ┫ 365/400 [01:55<00:11, 3it/s]\n"
     ]
    },
    {
     "name": "stdout",
     "output_type": "stream",
     "text": [
      "\n"
     ]
    },
    {
     "name": "stderr",
     "output_type": "stream",
     "text": [
      "\u001b[1A\r",
      "91.5%┣████████████████████████████████████████▎   ┫ 366/400 [01:55<00:11, 3it/s]\n"
     ]
    },
    {
     "name": "stdout",
     "output_type": "stream",
     "text": [
      "After sweep 1: maxlinkdim=64 maxerr=0.00E+00 current_time=0.0 - 0.0im time=0.074\n"
     ]
    },
    {
     "name": "stderr",
     "output_type": "stream",
     "text": [
      "\u001b[1A\r",
      "91.8%┣████████████████████████████████████████▍   ┫ 367/400 [01:56<00:10, 3it/s]\n"
     ]
    },
    {
     "name": "stdout",
     "output_type": "stream",
     "text": [
      "After sweep 1: maxlinkdim=64 maxerr=0.00E+00 current_time=0.0 - 0.0im time=0.06\n"
     ]
    },
    {
     "name": "stderr",
     "output_type": "stream",
     "text": [
      "\u001b[1A\r",
      "92.0%┣████████████████████████████████████████▌   ┫ 368/400 [01:56<00:10, 3it/s]"
     ]
    },
    {
     "name": "stdout",
     "output_type": "stream",
     "text": [
      "After sweep 1: maxlinkdim=64 maxerr=0.00E+00 current_time=0.0 - 0.0im time=0.061\n"
     ]
    },
    {
     "name": "stderr",
     "output_type": "stream",
     "text": [
      "\n",
      "92.2%┣████████████████████████████████████████▋   ┫ 369/400 [01:56<00:10, 3it/s]\n"
     ]
    },
    {
     "name": "stdout",
     "output_type": "stream",
     "text": [
      "After sweep 1: maxlinkdim=64 maxerr=0.00E+00 current_time=0.0 - 0.0im time=0.057\n",
      "After sweep 1: maxlinkdim=64 maxerr=0.00E+00 current_time=0.0 - 0.0im time=0.055\n"
     ]
    },
    {
     "name": "stderr",
     "output_type": "stream",
     "text": [
      "\u001b[1A\r",
      "92.5%┣████████████████████████████████████████▊   ┫ 370/400 [01:57<00:09, 3it/s]\n"
     ]
    },
    {
     "name": "stdout",
     "output_type": "stream",
     "text": [
      "After sweep 1: maxlinkdim=64 maxerr=0.00E+00 current_time=0.0 - 0.0im time=0.06"
     ]
    },
    {
     "name": "stderr",
     "output_type": "stream",
     "text": [
      "\u001b[1A\r",
      "92.8%┣████████████████████████████████████████▉   ┫ 371/400 [01:57<00:09, 3it/s]\n"
     ]
    },
    {
     "name": "stdout",
     "output_type": "stream",
     "text": [
      "\n",
      "After sweep 1: maxlinkdim=64 maxerr=0.00E+00 current_time=0.0 - 0.0im time=0.057\n"
     ]
    },
    {
     "name": "stderr",
     "output_type": "stream",
     "text": [
      "\u001b[1A\r",
      "93.0%┣█████████████████████████████████████████   ┫ 372/400 [01:57<00:09, 3it/s]\n"
     ]
    },
    {
     "name": "stdout",
     "output_type": "stream",
     "text": [
      "After sweep 1: maxlinkdim=64 maxerr=0.00E+00 current_time=0.0 - 0.0im time=0.052\n"
     ]
    },
    {
     "name": "stderr",
     "output_type": "stream",
     "text": [
      "\u001b[1A\r",
      "93.2%┣█████████████████████████████████████████   ┫ 373/400 [01:58<00:09, 3it/s]\n"
     ]
    },
    {
     "name": "stdout",
     "output_type": "stream",
     "text": [
      "After sweep 1: maxlinkdim=64 maxerr=0.00E+00 current_time=0.0 - 0.0im time=0.054\n"
     ]
    },
    {
     "name": "stderr",
     "output_type": "stream",
     "text": [
      "\u001b[1A\r",
      "93.5%┣█████████████████████████████████████████▏  ┫ 374/400 [01:58<00:08, 3it/s]\n"
     ]
    },
    {
     "name": "stdout",
     "output_type": "stream",
     "text": [
      "After sweep 1: maxlinkdim=64 maxerr=0.00E+00 current_time=0.0 - 0.0im time=0.052"
     ]
    },
    {
     "name": "stderr",
     "output_type": "stream",
     "text": [
      "\u001b[1A\r",
      "93.8%┣█████████████████████████████████████████▎  ┫ 375/400 [01:58<00:08, 3it/s]\n"
     ]
    },
    {
     "name": "stdout",
     "output_type": "stream",
     "text": [
      "\n",
      "After sweep 1: maxlinkdim=64 maxerr=0.00E+00 current_time=0.0 - 0.0im time=0.075\n"
     ]
    },
    {
     "name": "stderr",
     "output_type": "stream",
     "text": [
      "\u001b[1A\r",
      "94.0%┣█████████████████████████████████████████▍  ┫ 376/400 [01:59<00:08, 3it/s]\n"
     ]
    },
    {
     "name": "stdout",
     "output_type": "stream",
     "text": [
      "After sweep 1: maxlinkdim=64 maxerr=0.00E+00 current_time=0.0 - 0.0im time=0.056\n"
     ]
    },
    {
     "name": "stderr",
     "output_type": "stream",
     "text": [
      "\u001b[1A\r",
      "94.2%┣█████████████████████████████████████████▌  ┫ 377/400 [01:59<00:07, 3it/s]\n"
     ]
    },
    {
     "name": "stdout",
     "output_type": "stream",
     "text": [
      "After sweep 1: maxlinkdim=64 maxerr=0.00E+00 current_time=0.0 - 0.0im time=0.06\n"
     ]
    },
    {
     "name": "stderr",
     "output_type": "stream",
     "text": [
      "\u001b[1A\r",
      "94.5%┣█████████████████████████████████████████▋  ┫ 378/400 [01:59<00:07, 3it/s]\n"
     ]
    },
    {
     "name": "stdout",
     "output_type": "stream",
     "text": [
      "After sweep "
     ]
    },
    {
     "name": "stderr",
     "output_type": "stream",
     "text": [
      "\u001b[1A\r",
      "94.8%┣█████████████████████████████████████████▊  ┫ 379/400 [01:59<00:07, 3it/s]\n"
     ]
    },
    {
     "name": "stdout",
     "output_type": "stream",
     "text": [
      "1: maxlinkdim=64 maxerr=0.00E+00 current_time=0.0 - 0.0im time=0.055\n",
      "After sweep 1: maxlinkdim=64 maxerr=0.00E+00 current_time=0.0"
     ]
    },
    {
     "name": "stderr",
     "output_type": "stream",
     "text": [
      "\u001b[1A\r",
      "95.0%┣█████████████████████████████████████████▉  ┫ 380/400 [02:00<00:06, 3it/s]\n"
     ]
    },
    {
     "name": "stdout",
     "output_type": "stream",
     "text": [
      " - 0.0im time=0.056\n",
      "After sweep 1: maxlinkdim=64 maxerr=0.00E+00 current_time=0.0 - 0.0im time=0.061\n"
     ]
    },
    {
     "name": "stderr",
     "output_type": "stream",
     "text": [
      "95.2%┣██████████████████████████████████████████  ┫ 381/400 [02:00<00:06, 3it/s]\n",
      "95.5%┣██████████████████████████████████████████  ┫ 382/400 [02:00<00:06, 3it/s]\n"
     ]
    },
    {
     "name": "stdout",
     "output_type": "stream",
     "text": [
      "After sweep 1: maxlinkdim=64 maxerr=0.00E+00 current_time=0.0 - 0.0im time=0.084\n",
      "After sweep 1: maxlinkdim=64 maxerr=0.00E+00 current_time=0.0 - 0.0im time=0.059\n"
     ]
    },
    {
     "name": "stderr",
     "output_type": "stream",
     "text": [
      "\u001b[1A\r",
      "95.8%┣██████████████████████████████████████████▏ ┫ 383/400 [02:01<00:05, 3it/s]\n"
     ]
    },
    {
     "name": "stdout",
     "output_type": "stream",
     "text": [
      "After sweep 1: maxlinkdim=64 maxerr=0.00E+00 current_time=0.0 - 0.0im time=0.055"
     ]
    },
    {
     "name": "stderr",
     "output_type": "stream",
     "text": [
      "\u001b[1A\r",
      "96.0%┣██████████████████████████████████████████▎ ┫ 384/400 [02:01<00:05, 3it/s]\n"
     ]
    },
    {
     "name": "stdout",
     "output_type": "stream",
     "text": [
      "\n"
     ]
    },
    {
     "name": "stderr",
     "output_type": "stream",
     "text": [
      "\u001b[1A\r",
      "96.2%┣██████████████████████████████████████████▍ ┫ 385/400 [02:01<00:05, 3it/s]\n"
     ]
    },
    {
     "name": "stdout",
     "output_type": "stream",
     "text": [
      "After sweep 1: maxlinkdim=64 maxerr=0.00E+00 current_time=0.0 - 0.0im time=0.062\n",
      "After sweep 1: maxlinkdim=64 maxerr=0.00E+00 current_time=0.0 - 0.0im time=0.054\n"
     ]
    },
    {
     "name": "stderr",
     "output_type": "stream",
     "text": [
      "\u001b[1A\r",
      "96.5%┣██████████████████████████████████████████▌ ┫ 386/400 [02:01<00:04, 3it/s]\n"
     ]
    },
    {
     "name": "stdout",
     "output_type": "stream",
     "text": [
      "After sweep 1: maxlinkdim=64 maxerr=0.00E+00 current_time=0.0 - 0.0im time=0.058\n"
     ]
    },
    {
     "name": "stderr",
     "output_type": "stream",
     "text": [
      "\u001b[1A\r",
      "96.8%┣██████████████████████████████████████████▋ ┫ 387/400 [02:02<00:04, 3it/s]\n"
     ]
    },
    {
     "name": "stdout",
     "output_type": "stream",
     "text": [
      "After sweep 1: maxlinkdim=64 maxerr=0.00E+00 current_time=0.0 - 0.0im time=0.052\n"
     ]
    },
    {
     "name": "stderr",
     "output_type": "stream",
     "text": [
      "\u001b[1A\r",
      "97.0%┣██████████████████████████████████████████▊ ┫ 388/400 [02:02<00:04, 3it/s]\n"
     ]
    },
    {
     "name": "stdout",
     "output_type": "stream",
     "text": [
      "After sweep 1: maxlinkdim=64 maxerr=0.00E+00 current_time=0.0 - 0.0im time=0.051\n"
     ]
    },
    {
     "name": "stderr",
     "output_type": "stream",
     "text": [
      "\u001b[1A\r",
      "97.2%┣██████████████████████████████████████████▉ ┫ 389/400 [02:02<00:03, 3it/s]\n"
     ]
    },
    {
     "name": "stdout",
     "output_type": "stream",
     "text": [
      "After sweep 1: maxlinkdim=64 maxerr=0.00E+00 current_time=0.0 - 0.0im time=0.052\n"
     ]
    },
    {
     "name": "stderr",
     "output_type": "stream",
     "text": [
      "\u001b[1A\r",
      "97.5%┣███████████████████████████████████████████ ┫ 390/400 [02:03<00:03, 3it/s]\n"
     ]
    },
    {
     "name": "stdout",
     "output_type": "stream",
     "text": [
      "After sweep 1: maxlinkdim=64 maxerr=0.00E+00 current_time=0.0 - 0.0im time=0.063\n"
     ]
    },
    {
     "name": "stderr",
     "output_type": "stream",
     "text": [
      "\u001b[1A\r",
      "97.8%┣███████████████████████████████████████████ ┫ 391/400 [02:03<00:03, 3it/s]\n"
     ]
    },
    {
     "name": "stdout",
     "output_type": "stream",
     "text": [
      "After sweep 1: maxlinkdim=64 maxerr=0.00E+00 current_time=0.0 - 0.0im time=0.052\n"
     ]
    },
    {
     "name": "stderr",
     "output_type": "stream",
     "text": [
      "\u001b[1A\r",
      "98.0%┣███████████████████████████████████████████▏┫ 392/400 [02:03<00:03, 3it/s]\n"
     ]
    },
    {
     "name": "stdout",
     "output_type": "stream",
     "text": [
      "After sweep 1: maxlinkdim=64 maxerr=0.00E+00 current_time=0.0 - 0.0im time=0.053\n"
     ]
    },
    {
     "name": "stderr",
     "output_type": "stream",
     "text": [
      "\u001b[1A\r",
      "98.2%┣███████████████████████████████████████████▎┫ 393/400 [02:03<00:02, 3it/s]\n"
     ]
    },
    {
     "name": "stdout",
     "output_type": "stream",
     "text": [
      "After sweep 1: maxlinkdim=64 maxerr=0.00E+00 current_time=0.0 - 0.0im time=0.055"
     ]
    },
    {
     "name": "stderr",
     "output_type": "stream",
     "text": [
      "\u001b[1A\r",
      "98.5%┣███████████████████████████████████████████▍┫ 394/400 [02:04<00:02, 3it/s]\n"
     ]
    },
    {
     "name": "stdout",
     "output_type": "stream",
     "text": [
      "\n",
      "After sweep 1: maxlinkdim=64 maxerr=0.00E+00 current_time=0.0 - 0.0im time=0.07\n"
     ]
    },
    {
     "name": "stderr",
     "output_type": "stream",
     "text": [
      "\u001b[1A\r",
      "98.8%┣███████████████████████████████████████████▌┫ 395/400 [02:04<00:02, 3it/s]\n"
     ]
    },
    {
     "name": "stdout",
     "output_type": "stream",
     "text": [
      "After sweep 1: maxlinkdim=64 maxerr=0.00E+00 current_time=0.0 - 0.0im time=0.053\n"
     ]
    },
    {
     "name": "stderr",
     "output_type": "stream",
     "text": [
      "\u001b[1A\r",
      "99.0%┣███████████████████████████████████████████▋┫ 396/400 [02:04<00:01, 3it/s]\n"
     ]
    },
    {
     "name": "stdout",
     "output_type": "stream",
     "text": [
      "After sweep 1: maxlinkdim=64 maxerr=0.00E+00 current_time=0.0 - 0.0im time=0.062\n"
     ]
    },
    {
     "name": "stderr",
     "output_type": "stream",
     "text": [
      "\u001b[1A\r",
      "99.2%┣███████████████████████████████████████████▊┫ 397/400 [02:04<00:01, 3it/s]\n"
     ]
    },
    {
     "name": "stdout",
     "output_type": "stream",
     "text": [
      "After sweep 1: maxlinkdim=64 maxerr=0.00E+00 current_time=0.0 - 0.0im time=0.059\n"
     ]
    },
    {
     "name": "stderr",
     "output_type": "stream",
     "text": [
      "\u001b[1A\r",
      "99.5%┣███████████████████████████████████████████▉┫ 398/400 [02:05<00:01, 3it/s]\n"
     ]
    },
    {
     "name": "stdout",
     "output_type": "stream",
     "text": [
      "After sweep 1: maxlinkdim=64 maxerr=0.00E+00 current_time=0.0 - 0.0im time=0.05\n"
     ]
    },
    {
     "name": "stderr",
     "output_type": "stream",
     "text": [
      "\u001b[1A\r",
      "99.8%┣████████████████████████████████████████████┫ 399/400 [02:05<00:00, 3it/s]\n"
     ]
    },
    {
     "name": "stdout",
     "output_type": "stream",
     "text": [
      "  0.000215 seconds (1.32 k allocations: 636.844 KiB)"
     ]
    },
    {
     "name": "stderr",
     "output_type": "stream",
     "text": [
      "\u001b[1A\r",
      "100.0%┣███████████████████████████████████████████┫ 400/400 [02:05<00:00, 3it/s]\n",
      "\u001b[1A\r",
      "100.0%┣███████████████████████████████████████████┫ 400/400 [02:05<00:00, 3it/s]\n"
     ]
    },
    {
     "name": "stdout",
     "output_type": "stream",
     "text": [
      "\n"
     ]
    }
   ],
   "source": [
    "tdvp_cutoff = 0#1e-25 ##TRY ZERO\n",
    "Krylov_cutoff = 1e-5\n",
    "δt1 = 5e-5                                   # Time-step\n",
    "δt2 = 5e-5\n",
    "δt = 5e-5\n",
    "T = 2e-2                                     # Total time\n",
    "T_enrich =T                                  # Time when the state is enriched in each step\n",
    "T_unenriched = T-T_enrich                    # Time when the state is no longer enriched each step                                             # Number of time steps\n",
    "nframe_en = Int(ceil(T_enrich/δt))\n",
    "nframe_un =  Int(ceil(T_unenriched/δt2))\n",
    "\n",
    "k2=3\n",
    "ψe = deepcopy(ψ)\n",
    "obs = Observer(\"times\" => current_time,\"corr\" => measure_correlation_matrix,\"SvN\" =>measure_SvN)\n",
    "\n",
    "for i in ProgressBar(1:(nframe_en))\n",
    "    \n",
    "    ψe = tdvp(H,-im * δt,ψe; time_step = -im * δt1, cutoff = tdvp_cutoff, \n",
    "        outputlevel=1, normalize=false, (observer!)=obs)\n",
    "    \n",
    "    Krylov_i = Krylov_states(H,ψe,k2,τ_Krylov,s);\n",
    "  #  @assert(minimum(Krylov_linkdims(Krylov) .- length(Krylov)) ==0)\n",
    "    ψe2 = enrich_generic3(ψe, Krylov_i; Krylov_cutoff)\n",
    "    @assert abs(1-inner(ψe2,ψe)) <1e-10\n",
    "  \n",
    "    ψe = ψe2\n",
    "    \n",
    "end\n",
    "\n",
    "@time ψf = tdvp(H,-im * T_unenriched,ψe; time_step = -im * δt2, cutoff = tdvp_cutoff, outputlevel=1, normalize=false, (observer!)=obs)\n",
    "\n",
    "res = results(obs)\n",
    "times = res[\"times\"]\n",
    "corr = res[\"corr\"]\n",
    "SvN = res[\"SvN\"];\n",
    "\n",
    "\n",
    "###exact propagation\n",
    "### Correlation functions evolve as U'*Ci*U, not the other way around.\n",
    "U= exp(-im*T*H_single);\n",
    "Cf_test = U*Ci*U';\n",
    "#Cf = transpose(correlation_matrix(ψf,\"Cdag\",\"C\"));\n"
   ]
  },
  {
   "cell_type": "code",
   "execution_count": 5,
   "id": "9106bfd7",
   "metadata": {},
   "outputs": [
    {
     "data": {
      "image/svg+xml": [
       "<?xml version=\"1.0\" encoding=\"utf-8\"?>\n",
       "<svg xmlns=\"http://www.w3.org/2000/svg\" xmlns:xlink=\"http://www.w3.org/1999/xlink\" width=\"600\" height=\"400\" viewBox=\"0 0 2400 1600\">\n",
       "<defs>\n",
       "  <clipPath id=\"clip090\">\n",
       "    <rect x=\"0\" y=\"0\" width=\"2400\" height=\"1600\"/>\n",
       "  </clipPath>\n",
       "</defs>\n",
       "<path clip-path=\"url(#clip090)\" d=\"\n",
       "M0 1600 L2400 1600 L2400 0 L0 0  Z\n",
       "  \" fill=\"#ffffff\" fill-rule=\"evenodd\" fill-opacity=\"1\"/>\n",
       "<defs>\n",
       "  <clipPath id=\"clip091\">\n",
       "    <rect x=\"480\" y=\"0\" width=\"1681\" height=\"1600\"/>\n",
       "  </clipPath>\n",
       "</defs>\n",
       "<path clip-path=\"url(#clip090)\" d=\"\n",
       "M332.011 1486.45 L2352.76 1486.45 L2352.76 47.2441 L332.011 47.2441  Z\n",
       "  \" fill=\"#ffffff\" fill-rule=\"evenodd\" fill-opacity=\"1\"/>\n",
       "<defs>\n",
       "  <clipPath id=\"clip092\">\n",
       "    <rect x=\"332\" y=\"47\" width=\"2022\" height=\"1440\"/>\n",
       "  </clipPath>\n",
       "</defs>\n",
       "<polyline clip-path=\"url(#clip092)\" style=\"stroke:#000000; stroke-linecap:round; stroke-linejoin:round; stroke-width:2; stroke-opacity:0.1; fill:none\" points=\"\n",
       "  389.202,1486.45 389.202,47.2441 \n",
       "  \"/>\n",
       "<polyline clip-path=\"url(#clip092)\" style=\"stroke:#000000; stroke-linecap:round; stroke-linejoin:round; stroke-width:2; stroke-opacity:0.1; fill:none\" points=\"\n",
       "  865.793,1486.45 865.793,47.2441 \n",
       "  \"/>\n",
       "<polyline clip-path=\"url(#clip092)\" style=\"stroke:#000000; stroke-linecap:round; stroke-linejoin:round; stroke-width:2; stroke-opacity:0.1; fill:none\" points=\"\n",
       "  1342.38,1486.45 1342.38,47.2441 \n",
       "  \"/>\n",
       "<polyline clip-path=\"url(#clip092)\" style=\"stroke:#000000; stroke-linecap:round; stroke-linejoin:round; stroke-width:2; stroke-opacity:0.1; fill:none\" points=\"\n",
       "  1818.97,1486.45 1818.97,47.2441 \n",
       "  \"/>\n",
       "<polyline clip-path=\"url(#clip092)\" style=\"stroke:#000000; stroke-linecap:round; stroke-linejoin:round; stroke-width:2; stroke-opacity:0.1; fill:none\" points=\"\n",
       "  2295.57,1486.45 2295.57,47.2441 \n",
       "  \"/>\n",
       "<polyline clip-path=\"url(#clip090)\" style=\"stroke:#000000; stroke-linecap:round; stroke-linejoin:round; stroke-width:4; stroke-opacity:1; fill:none\" points=\"\n",
       "  332.011,1486.45 2352.76,1486.45 \n",
       "  \"/>\n",
       "<polyline clip-path=\"url(#clip090)\" style=\"stroke:#000000; stroke-linecap:round; stroke-linejoin:round; stroke-width:4; stroke-opacity:1; fill:none\" points=\"\n",
       "  389.202,1486.45 389.202,1467.55 \n",
       "  \"/>\n",
       "<polyline clip-path=\"url(#clip090)\" style=\"stroke:#000000; stroke-linecap:round; stroke-linejoin:round; stroke-width:4; stroke-opacity:1; fill:none\" points=\"\n",
       "  865.793,1486.45 865.793,1467.55 \n",
       "  \"/>\n",
       "<polyline clip-path=\"url(#clip090)\" style=\"stroke:#000000; stroke-linecap:round; stroke-linejoin:round; stroke-width:4; stroke-opacity:1; fill:none\" points=\"\n",
       "  1342.38,1486.45 1342.38,1467.55 \n",
       "  \"/>\n",
       "<polyline clip-path=\"url(#clip090)\" style=\"stroke:#000000; stroke-linecap:round; stroke-linejoin:round; stroke-width:4; stroke-opacity:1; fill:none\" points=\"\n",
       "  1818.97,1486.45 1818.97,1467.55 \n",
       "  \"/>\n",
       "<polyline clip-path=\"url(#clip090)\" style=\"stroke:#000000; stroke-linecap:round; stroke-linejoin:round; stroke-width:4; stroke-opacity:1; fill:none\" points=\"\n",
       "  2295.57,1486.45 2295.57,1467.55 \n",
       "  \"/>\n",
       "<path clip-path=\"url(#clip090)\" d=\"M336.424 1517.37 Q332.813 1517.37 330.985 1520.93 Q329.179 1524.47 329.179 1531.6 Q329.179 1538.71 330.985 1542.27 Q332.813 1545.82 336.424 1545.82 Q340.059 1545.82 341.864 1542.27 Q343.693 1538.71 343.693 1531.6 Q343.693 1524.47 341.864 1520.93 Q340.059 1517.37 336.424 1517.37 M336.424 1513.66 Q342.235 1513.66 345.29 1518.27 Q348.369 1522.85 348.369 1531.6 Q348.369 1540.33 345.29 1544.94 Q342.235 1549.52 336.424 1549.52 Q330.614 1549.52 327.536 1544.94 Q324.48 1540.33 324.48 1531.6 Q324.48 1522.85 327.536 1518.27 Q330.614 1513.66 336.424 1513.66 Z\" fill=\"#000000\" fill-rule=\"evenodd\" fill-opacity=\"1\" /><path clip-path=\"url(#clip090)\" d=\"M356.586 1542.97 L361.471 1542.97 L361.471 1548.85 L356.586 1548.85 L356.586 1542.97 Z\" fill=\"#000000\" fill-rule=\"evenodd\" fill-opacity=\"1\" /><path clip-path=\"url(#clip090)\" d=\"M381.656 1517.37 Q378.045 1517.37 376.216 1520.93 Q374.41 1524.47 374.41 1531.6 Q374.41 1538.71 376.216 1542.27 Q378.045 1545.82 381.656 1545.82 Q385.29 1545.82 387.095 1542.27 Q388.924 1538.71 388.924 1531.6 Q388.924 1524.47 387.095 1520.93 Q385.29 1517.37 381.656 1517.37 M381.656 1513.66 Q387.466 1513.66 390.521 1518.27 Q393.6 1522.85 393.6 1531.6 Q393.6 1540.33 390.521 1544.94 Q387.466 1549.52 381.656 1549.52 Q375.846 1549.52 372.767 1544.94 Q369.711 1540.33 369.711 1531.6 Q369.711 1522.85 372.767 1518.27 Q375.846 1513.66 381.656 1513.66 Z\" fill=\"#000000\" fill-rule=\"evenodd\" fill-opacity=\"1\" /><path clip-path=\"url(#clip090)\" d=\"M411.818 1517.37 Q408.206 1517.37 406.378 1520.93 Q404.572 1524.47 404.572 1531.6 Q404.572 1538.71 406.378 1542.27 Q408.206 1545.82 411.818 1545.82 Q415.452 1545.82 417.257 1542.27 Q419.086 1538.71 419.086 1531.6 Q419.086 1524.47 417.257 1520.93 Q415.452 1517.37 411.818 1517.37 M411.818 1513.66 Q417.628 1513.66 420.683 1518.27 Q423.762 1522.85 423.762 1531.6 Q423.762 1540.33 420.683 1544.94 Q417.628 1549.52 411.818 1549.52 Q406.007 1549.52 402.929 1544.94 Q399.873 1540.33 399.873 1531.6 Q399.873 1522.85 402.929 1518.27 Q406.007 1513.66 411.818 1513.66 Z\" fill=\"#000000\" fill-rule=\"evenodd\" fill-opacity=\"1\" /><path clip-path=\"url(#clip090)\" d=\"M441.979 1517.37 Q438.368 1517.37 436.54 1520.93 Q434.734 1524.47 434.734 1531.6 Q434.734 1538.71 436.54 1542.27 Q438.368 1545.82 441.979 1545.82 Q445.614 1545.82 447.419 1542.27 Q449.248 1538.71 449.248 1531.6 Q449.248 1524.47 447.419 1520.93 Q445.614 1517.37 441.979 1517.37 M441.979 1513.66 Q447.79 1513.66 450.845 1518.27 Q453.924 1522.85 453.924 1531.6 Q453.924 1540.33 450.845 1544.94 Q447.79 1549.52 441.979 1549.52 Q436.169 1549.52 433.091 1544.94 Q430.035 1540.33 430.035 1531.6 Q430.035 1522.85 433.091 1518.27 Q436.169 1513.66 441.979 1513.66 Z\" fill=\"#000000\" fill-rule=\"evenodd\" fill-opacity=\"1\" /><path clip-path=\"url(#clip090)\" d=\"M813.513 1517.37 Q809.902 1517.37 808.073 1520.93 Q806.268 1524.47 806.268 1531.6 Q806.268 1538.71 808.073 1542.27 Q809.902 1545.82 813.513 1545.82 Q817.147 1545.82 818.953 1542.27 Q820.781 1538.71 820.781 1531.6 Q820.781 1524.47 818.953 1520.93 Q817.147 1517.37 813.513 1517.37 M813.513 1513.66 Q819.323 1513.66 822.379 1518.27 Q825.457 1522.85 825.457 1531.6 Q825.457 1540.33 822.379 1544.94 Q819.323 1549.52 813.513 1549.52 Q807.703 1549.52 804.624 1544.94 Q801.569 1540.33 801.569 1531.6 Q801.569 1522.85 804.624 1518.27 Q807.703 1513.66 813.513 1513.66 Z\" fill=\"#000000\" fill-rule=\"evenodd\" fill-opacity=\"1\" /><path clip-path=\"url(#clip090)\" d=\"M833.675 1542.97 L838.559 1542.97 L838.559 1548.85 L833.675 1548.85 L833.675 1542.97 Z\" fill=\"#000000\" fill-rule=\"evenodd\" fill-opacity=\"1\" /><path clip-path=\"url(#clip090)\" d=\"M858.744 1517.37 Q855.133 1517.37 853.304 1520.93 Q851.499 1524.47 851.499 1531.6 Q851.499 1538.71 853.304 1542.27 Q855.133 1545.82 858.744 1545.82 Q862.378 1545.82 864.184 1542.27 Q866.013 1538.71 866.013 1531.6 Q866.013 1524.47 864.184 1520.93 Q862.378 1517.37 858.744 1517.37 M858.744 1513.66 Q864.554 1513.66 867.61 1518.27 Q870.689 1522.85 870.689 1531.6 Q870.689 1540.33 867.61 1544.94 Q864.554 1549.52 858.744 1549.52 Q852.934 1549.52 849.855 1544.94 Q846.8 1540.33 846.8 1531.6 Q846.8 1522.85 849.855 1518.27 Q852.934 1513.66 858.744 1513.66 Z\" fill=\"#000000\" fill-rule=\"evenodd\" fill-opacity=\"1\" /><path clip-path=\"url(#clip090)\" d=\"M888.906 1517.37 Q885.295 1517.37 883.466 1520.93 Q881.661 1524.47 881.661 1531.6 Q881.661 1538.71 883.466 1542.27 Q885.295 1545.82 888.906 1545.82 Q892.54 1545.82 894.346 1542.27 Q896.175 1538.71 896.175 1531.6 Q896.175 1524.47 894.346 1520.93 Q892.54 1517.37 888.906 1517.37 M888.906 1513.66 Q894.716 1513.66 897.772 1518.27 Q900.85 1522.85 900.85 1531.6 Q900.85 1540.33 897.772 1544.94 Q894.716 1549.52 888.906 1549.52 Q883.096 1549.52 880.017 1544.94 Q876.962 1540.33 876.962 1531.6 Q876.962 1522.85 880.017 1518.27 Q883.096 1513.66 888.906 1513.66 Z\" fill=\"#000000\" fill-rule=\"evenodd\" fill-opacity=\"1\" /><path clip-path=\"url(#clip090)\" d=\"M909.114 1514.29 L927.471 1514.29 L927.471 1518.22 L913.397 1518.22 L913.397 1526.7 Q914.415 1526.35 915.434 1526.19 Q916.452 1526 917.471 1526 Q923.258 1526 926.637 1529.17 Q930.017 1532.34 930.017 1537.76 Q930.017 1543.34 926.545 1546.44 Q923.073 1549.52 916.753 1549.52 Q914.577 1549.52 912.309 1549.15 Q910.063 1548.78 907.656 1548.04 L907.656 1543.34 Q909.739 1544.47 911.961 1545.03 Q914.184 1545.58 916.661 1545.58 Q920.665 1545.58 923.003 1543.48 Q925.341 1541.37 925.341 1537.76 Q925.341 1534.15 923.003 1532.04 Q920.665 1529.94 916.661 1529.94 Q914.786 1529.94 912.911 1530.35 Q911.059 1530.77 909.114 1531.65 L909.114 1514.29 Z\" fill=\"#000000\" fill-rule=\"evenodd\" fill-opacity=\"1\" /><path clip-path=\"url(#clip090)\" d=\"M1289.61 1517.37 Q1285.99 1517.37 1284.17 1520.93 Q1282.36 1524.47 1282.36 1531.6 Q1282.36 1538.71 1284.17 1542.27 Q1285.99 1545.82 1289.61 1545.82 Q1293.24 1545.82 1295.05 1542.27 Q1296.87 1538.71 1296.87 1531.6 Q1296.87 1524.47 1295.05 1520.93 Q1293.24 1517.37 1289.61 1517.37 M1289.61 1513.66 Q1295.42 1513.66 1298.47 1518.27 Q1301.55 1522.85 1301.55 1531.6 Q1301.55 1540.33 1298.47 1544.94 Q1295.42 1549.52 1289.61 1549.52 Q1283.8 1549.52 1280.72 1544.94 Q1277.66 1540.33 1277.66 1531.6 Q1277.66 1522.85 1280.72 1518.27 Q1283.8 1513.66 1289.61 1513.66 Z\" fill=\"#000000\" fill-rule=\"evenodd\" fill-opacity=\"1\" /><path clip-path=\"url(#clip090)\" d=\"M1309.77 1542.97 L1314.65 1542.97 L1314.65 1548.85 L1309.77 1548.85 L1309.77 1542.97 Z\" fill=\"#000000\" fill-rule=\"evenodd\" fill-opacity=\"1\" /><path clip-path=\"url(#clip090)\" d=\"M1334.84 1517.37 Q1331.23 1517.37 1329.4 1520.93 Q1327.59 1524.47 1327.59 1531.6 Q1327.59 1538.71 1329.4 1542.27 Q1331.23 1545.82 1334.84 1545.82 Q1338.47 1545.82 1340.28 1542.27 Q1342.11 1538.71 1342.11 1531.6 Q1342.11 1524.47 1340.28 1520.93 Q1338.47 1517.37 1334.84 1517.37 M1334.84 1513.66 Q1340.65 1513.66 1343.7 1518.27 Q1346.78 1522.85 1346.78 1531.6 Q1346.78 1540.33 1343.7 1544.94 Q1340.65 1549.52 1334.84 1549.52 Q1329.03 1549.52 1325.95 1544.94 Q1322.89 1540.33 1322.89 1531.6 Q1322.89 1522.85 1325.95 1518.27 Q1329.03 1513.66 1334.84 1513.66 Z\" fill=\"#000000\" fill-rule=\"evenodd\" fill-opacity=\"1\" /><path clip-path=\"url(#clip090)\" d=\"M1355.81 1544.91 L1363.45 1544.91 L1363.45 1518.55 L1355.14 1520.21 L1355.14 1515.95 L1363.4 1514.29 L1368.08 1514.29 L1368.08 1544.91 L1375.72 1544.91 L1375.72 1548.85 L1355.81 1548.85 L1355.81 1544.91 Z\" fill=\"#000000\" fill-rule=\"evenodd\" fill-opacity=\"1\" /><path clip-path=\"url(#clip090)\" d=\"M1395.16 1517.37 Q1391.55 1517.37 1389.72 1520.93 Q1387.92 1524.47 1387.92 1531.6 Q1387.92 1538.71 1389.72 1542.27 Q1391.55 1545.82 1395.16 1545.82 Q1398.8 1545.82 1400.6 1542.27 Q1402.43 1538.71 1402.43 1531.6 Q1402.43 1524.47 1400.6 1520.93 Q1398.8 1517.37 1395.16 1517.37 M1395.16 1513.66 Q1400.97 1513.66 1404.03 1518.27 Q1407.11 1522.85 1407.11 1531.6 Q1407.11 1540.33 1404.03 1544.94 Q1400.97 1549.52 1395.16 1549.52 Q1389.35 1549.52 1386.27 1544.94 Q1383.22 1540.33 1383.22 1531.6 Q1383.22 1522.85 1386.27 1518.27 Q1389.35 1513.66 1395.16 1513.66 Z\" fill=\"#000000\" fill-rule=\"evenodd\" fill-opacity=\"1\" /><path clip-path=\"url(#clip090)\" d=\"M1766.69 1517.37 Q1763.08 1517.37 1761.25 1520.93 Q1759.45 1524.47 1759.45 1531.6 Q1759.45 1538.71 1761.25 1542.27 Q1763.08 1545.82 1766.69 1545.82 Q1770.33 1545.82 1772.13 1542.27 Q1773.96 1538.71 1773.96 1531.6 Q1773.96 1524.47 1772.13 1520.93 Q1770.33 1517.37 1766.69 1517.37 M1766.69 1513.66 Q1772.5 1513.66 1775.56 1518.27 Q1778.64 1522.85 1778.64 1531.6 Q1778.64 1540.33 1775.56 1544.94 Q1772.5 1549.52 1766.69 1549.52 Q1760.88 1549.52 1757.81 1544.94 Q1754.75 1540.33 1754.75 1531.6 Q1754.75 1522.85 1757.81 1518.27 Q1760.88 1513.66 1766.69 1513.66 Z\" fill=\"#000000\" fill-rule=\"evenodd\" fill-opacity=\"1\" /><path clip-path=\"url(#clip090)\" d=\"M1786.86 1542.97 L1791.74 1542.97 L1791.74 1548.85 L1786.86 1548.85 L1786.86 1542.97 Z\" fill=\"#000000\" fill-rule=\"evenodd\" fill-opacity=\"1\" /><path clip-path=\"url(#clip090)\" d=\"M1811.93 1517.37 Q1808.31 1517.37 1806.49 1520.93 Q1804.68 1524.47 1804.68 1531.6 Q1804.68 1538.71 1806.49 1542.27 Q1808.31 1545.82 1811.93 1545.82 Q1815.56 1545.82 1817.37 1542.27 Q1819.19 1538.71 1819.19 1531.6 Q1819.19 1524.47 1817.37 1520.93 Q1815.56 1517.37 1811.93 1517.37 M1811.93 1513.66 Q1817.74 1513.66 1820.79 1518.27 Q1823.87 1522.85 1823.87 1531.6 Q1823.87 1540.33 1820.79 1544.94 Q1817.74 1549.52 1811.93 1549.52 Q1806.12 1549.52 1803.04 1544.94 Q1799.98 1540.33 1799.98 1531.6 Q1799.98 1522.85 1803.04 1518.27 Q1806.12 1513.66 1811.93 1513.66 Z\" fill=\"#000000\" fill-rule=\"evenodd\" fill-opacity=\"1\" /><path clip-path=\"url(#clip090)\" d=\"M1832.9 1544.91 L1840.54 1544.91 L1840.54 1518.55 L1832.23 1520.21 L1832.23 1515.95 L1840.49 1514.29 L1845.17 1514.29 L1845.17 1544.91 L1852.81 1544.91 L1852.81 1548.85 L1832.9 1548.85 L1832.9 1544.91 Z\" fill=\"#000000\" fill-rule=\"evenodd\" fill-opacity=\"1\" /><path clip-path=\"url(#clip090)\" d=\"M1862.3 1514.29 L1880.65 1514.29 L1880.65 1518.22 L1866.58 1518.22 L1866.58 1526.7 Q1867.6 1526.35 1868.62 1526.19 Q1869.63 1526 1870.65 1526 Q1876.44 1526 1879.82 1529.17 Q1883.2 1532.34 1883.2 1537.76 Q1883.2 1543.34 1879.73 1546.44 Q1876.25 1549.52 1869.93 1549.52 Q1867.76 1549.52 1865.49 1549.15 Q1863.24 1548.78 1860.84 1548.04 L1860.84 1543.34 Q1862.92 1544.47 1865.14 1545.03 Q1867.37 1545.58 1869.84 1545.58 Q1873.85 1545.58 1876.18 1543.48 Q1878.52 1541.37 1878.52 1537.76 Q1878.52 1534.15 1876.18 1532.04 Q1873.85 1529.94 1869.84 1529.94 Q1867.97 1529.94 1866.09 1530.35 Q1864.24 1530.77 1862.3 1531.65 L1862.3 1514.29 Z\" fill=\"#000000\" fill-rule=\"evenodd\" fill-opacity=\"1\" /><path clip-path=\"url(#clip090)\" d=\"M2242.79 1517.37 Q2239.18 1517.37 2237.35 1520.93 Q2235.54 1524.47 2235.54 1531.6 Q2235.54 1538.71 2237.35 1542.27 Q2239.18 1545.82 2242.79 1545.82 Q2246.42 1545.82 2248.23 1542.27 Q2250.06 1538.71 2250.06 1531.6 Q2250.06 1524.47 2248.23 1520.93 Q2246.42 1517.37 2242.79 1517.37 M2242.79 1513.66 Q2248.6 1513.66 2251.65 1518.27 Q2254.73 1522.85 2254.73 1531.6 Q2254.73 1540.33 2251.65 1544.94 Q2248.6 1549.52 2242.79 1549.52 Q2236.98 1549.52 2233.9 1544.94 Q2230.84 1540.33 2230.84 1531.6 Q2230.84 1522.85 2233.9 1518.27 Q2236.98 1513.66 2242.79 1513.66 Z\" fill=\"#000000\" fill-rule=\"evenodd\" fill-opacity=\"1\" /><path clip-path=\"url(#clip090)\" d=\"M2262.95 1542.97 L2267.83 1542.97 L2267.83 1548.85 L2262.95 1548.85 L2262.95 1542.97 Z\" fill=\"#000000\" fill-rule=\"evenodd\" fill-opacity=\"1\" /><path clip-path=\"url(#clip090)\" d=\"M2288.02 1517.37 Q2284.41 1517.37 2282.58 1520.93 Q2280.77 1524.47 2280.77 1531.6 Q2280.77 1538.71 2282.58 1542.27 Q2284.41 1545.82 2288.02 1545.82 Q2291.65 1545.82 2293.46 1542.27 Q2295.29 1538.71 2295.29 1531.6 Q2295.29 1524.47 2293.46 1520.93 Q2291.65 1517.37 2288.02 1517.37 M2288.02 1513.66 Q2293.83 1513.66 2296.88 1518.27 Q2299.96 1522.85 2299.96 1531.6 Q2299.96 1540.33 2296.88 1544.94 Q2293.83 1549.52 2288.02 1549.52 Q2282.21 1549.52 2279.13 1544.94 Q2276.07 1540.33 2276.07 1531.6 Q2276.07 1522.85 2279.13 1518.27 Q2282.21 1513.66 2288.02 1513.66 Z\" fill=\"#000000\" fill-rule=\"evenodd\" fill-opacity=\"1\" /><path clip-path=\"url(#clip090)\" d=\"M2312.21 1544.91 L2328.53 1544.91 L2328.53 1548.85 L2306.58 1548.85 L2306.58 1544.91 Q2309.25 1542.16 2313.83 1537.53 Q2318.44 1532.88 2319.62 1531.53 Q2321.86 1529.01 2322.74 1527.27 Q2323.64 1525.51 2323.64 1523.82 Q2323.64 1521.07 2321.7 1519.33 Q2319.78 1517.6 2316.68 1517.6 Q2314.48 1517.6 2312.02 1518.36 Q2309.59 1519.13 2306.81 1520.68 L2306.81 1515.95 Q2309.64 1514.82 2312.09 1514.24 Q2314.55 1513.66 2316.58 1513.66 Q2321.95 1513.66 2325.15 1516.35 Q2328.34 1519.03 2328.34 1523.52 Q2328.34 1525.65 2327.53 1527.57 Q2326.75 1529.47 2324.64 1532.07 Q2324.06 1532.74 2320.96 1535.95 Q2317.86 1539.15 2312.21 1544.91 Z\" fill=\"#000000\" fill-rule=\"evenodd\" fill-opacity=\"1\" /><path clip-path=\"url(#clip090)\" d=\"M2348.34 1517.37 Q2344.73 1517.37 2342.9 1520.93 Q2341.1 1524.47 2341.1 1531.6 Q2341.1 1538.71 2342.9 1542.27 Q2344.73 1545.82 2348.34 1545.82 Q2351.98 1545.82 2353.78 1542.27 Q2355.61 1538.71 2355.61 1531.6 Q2355.61 1524.47 2353.78 1520.93 Q2351.98 1517.37 2348.34 1517.37 M2348.34 1513.66 Q2354.15 1513.66 2357.21 1518.27 Q2360.29 1522.85 2360.29 1531.6 Q2360.29 1540.33 2357.21 1544.94 Q2354.15 1549.52 2348.34 1549.52 Q2342.53 1549.52 2339.45 1544.94 Q2336.4 1540.33 2336.4 1531.6 Q2336.4 1522.85 2339.45 1518.27 Q2342.53 1513.66 2348.34 1513.66 Z\" fill=\"#000000\" fill-rule=\"evenodd\" fill-opacity=\"1\" /><polyline clip-path=\"url(#clip092)\" style=\"stroke:#000000; stroke-linecap:round; stroke-linejoin:round; stroke-width:2; stroke-opacity:0.1; fill:none\" points=\"\n",
       "  332.011,1445.72 2352.76,1445.72 \n",
       "  \"/>\n",
       "<polyline clip-path=\"url(#clip092)\" style=\"stroke:#000000; stroke-linecap:round; stroke-linejoin:round; stroke-width:2; stroke-opacity:0.1; fill:none\" points=\"\n",
       "  332.011,1086.94 2352.76,1086.94 \n",
       "  \"/>\n",
       "<polyline clip-path=\"url(#clip092)\" style=\"stroke:#000000; stroke-linecap:round; stroke-linejoin:round; stroke-width:2; stroke-opacity:0.1; fill:none\" points=\"\n",
       "  332.011,728.17 2352.76,728.17 \n",
       "  \"/>\n",
       "<polyline clip-path=\"url(#clip092)\" style=\"stroke:#000000; stroke-linecap:round; stroke-linejoin:round; stroke-width:2; stroke-opacity:0.1; fill:none\" points=\"\n",
       "  332.011,369.397 2352.76,369.397 \n",
       "  \"/>\n",
       "<polyline clip-path=\"url(#clip090)\" style=\"stroke:#000000; stroke-linecap:round; stroke-linejoin:round; stroke-width:4; stroke-opacity:1; fill:none\" points=\"\n",
       "  332.011,1486.45 332.011,47.2441 \n",
       "  \"/>\n",
       "<polyline clip-path=\"url(#clip090)\" style=\"stroke:#000000; stroke-linecap:round; stroke-linejoin:round; stroke-width:4; stroke-opacity:1; fill:none\" points=\"\n",
       "  332.011,1445.72 350.909,1445.72 \n",
       "  \"/>\n",
       "<polyline clip-path=\"url(#clip090)\" style=\"stroke:#000000; stroke-linecap:round; stroke-linejoin:round; stroke-width:4; stroke-opacity:1; fill:none\" points=\"\n",
       "  332.011,1086.94 350.909,1086.94 \n",
       "  \"/>\n",
       "<polyline clip-path=\"url(#clip090)\" style=\"stroke:#000000; stroke-linecap:round; stroke-linejoin:round; stroke-width:4; stroke-opacity:1; fill:none\" points=\"\n",
       "  332.011,728.17 350.909,728.17 \n",
       "  \"/>\n",
       "<polyline clip-path=\"url(#clip090)\" style=\"stroke:#000000; stroke-linecap:round; stroke-linejoin:round; stroke-width:4; stroke-opacity:1; fill:none\" points=\"\n",
       "  332.011,369.397 350.909,369.397 \n",
       "  \"/>\n",
       "<path clip-path=\"url(#clip090)\" d=\"M284.067 1431.51 Q280.456 1431.51 278.627 1435.08 Q276.821 1438.62 276.821 1445.75 Q276.821 1452.86 278.627 1456.42 Q280.456 1459.96 284.067 1459.96 Q287.701 1459.96 289.506 1456.42 Q291.335 1452.86 291.335 1445.75 Q291.335 1438.62 289.506 1435.08 Q287.701 1431.51 284.067 1431.51 M284.067 1427.81 Q289.877 1427.81 292.932 1432.42 Q296.011 1437 296.011 1445.75 Q296.011 1454.48 292.932 1459.08 Q289.877 1463.67 284.067 1463.67 Q278.257 1463.67 275.178 1459.08 Q272.122 1454.48 272.122 1445.75 Q272.122 1437 275.178 1432.42 Q278.257 1427.81 284.067 1427.81 Z\" fill=\"#000000\" fill-rule=\"evenodd\" fill-opacity=\"1\" /><path clip-path=\"url(#clip090)\" d=\"M57.7745 1106.74 L74.0939 1106.74 L74.0939 1110.67 L52.1495 1110.67 L52.1495 1106.74 Q54.8115 1103.98 59.3949 1099.35 Q64.0013 1094.7 65.1819 1093.36 Q67.4272 1090.83 68.3068 1089.1 Q69.2096 1087.34 69.2096 1085.65 Q69.2096 1082.89 67.2652 1081.16 Q65.3439 1079.42 62.2421 1079.42 Q60.043 1079.42 57.5893 1080.18 Q55.1588 1080.95 52.381 1082.5 L52.381 1077.78 Q55.2051 1076.64 57.6588 1076.06 Q60.1124 1075.49 62.1495 1075.49 Q67.5198 1075.49 70.7142 1078.17 Q73.9087 1080.86 73.9087 1085.35 Q73.9087 1087.48 73.0985 1089.4 Q72.3115 1091.3 70.205 1093.89 Q69.6263 1094.56 66.5245 1097.78 Q63.4226 1100.97 57.7745 1106.74 Z\" fill=\"#000000\" fill-rule=\"evenodd\" fill-opacity=\"1\" /><path clip-path=\"url(#clip090)\" d=\"M83.9086 1104.79 L88.7928 1104.79 L88.7928 1110.67 L83.9086 1110.67 L83.9086 1104.79 Z\" fill=\"#000000\" fill-rule=\"evenodd\" fill-opacity=\"1\" /><path clip-path=\"url(#clip090)\" d=\"M108.978 1079.19 Q105.367 1079.19 103.538 1082.75 Q101.733 1086.3 101.733 1093.43 Q101.733 1100.53 103.538 1104.1 Q105.367 1107.64 108.978 1107.64 Q112.612 1107.64 114.418 1104.1 Q116.246 1100.53 116.246 1093.43 Q116.246 1086.3 114.418 1082.75 Q112.612 1079.19 108.978 1079.19 M108.978 1075.49 Q114.788 1075.49 117.844 1080.09 Q120.922 1084.68 120.922 1093.43 Q120.922 1102.15 117.844 1106.76 Q114.788 1111.34 108.978 1111.34 Q103.168 1111.34 100.089 1106.76 Q97.0335 1102.15 97.0335 1093.43 Q97.0335 1084.68 100.089 1080.09 Q103.168 1075.49 108.978 1075.49 Z\" fill=\"#000000\" fill-rule=\"evenodd\" fill-opacity=\"1\" /><path clip-path=\"url(#clip090)\" d=\"M157.311 1085.21 L146.732 1095.83 L157.311 1106.41 L154.556 1109.21 L143.931 1098.59 L133.306 1109.21 L130.575 1106.41 L141.131 1095.83 L130.575 1085.21 L133.306 1082.41 L143.931 1093.03 L154.556 1082.41 L157.311 1085.21 Z\" fill=\"#000000\" fill-rule=\"evenodd\" fill-opacity=\"1\" /><path clip-path=\"url(#clip090)\" d=\"M169.672 1106.74 L177.311 1106.74 L177.311 1080.37 L169.001 1082.04 L169.001 1077.78 L177.265 1076.11 L181.94 1076.11 L181.94 1106.74 L189.579 1106.74 L189.579 1110.67 L169.672 1110.67 L169.672 1106.74 Z\" fill=\"#000000\" fill-rule=\"evenodd\" fill-opacity=\"1\" /><path clip-path=\"url(#clip090)\" d=\"M209.024 1079.19 Q205.413 1079.19 203.584 1082.75 Q201.778 1086.3 201.778 1093.43 Q201.778 1100.53 203.584 1104.1 Q205.413 1107.64 209.024 1107.64 Q212.658 1107.64 214.463 1104.1 Q216.292 1100.53 216.292 1093.43 Q216.292 1086.3 214.463 1082.75 Q212.658 1079.19 209.024 1079.19 M209.024 1075.49 Q214.834 1075.49 217.889 1080.09 Q220.968 1084.68 220.968 1093.43 Q220.968 1102.15 217.889 1106.76 Q214.834 1111.34 209.024 1111.34 Q203.214 1111.34 200.135 1106.76 Q197.079 1102.15 197.079 1093.43 Q197.079 1084.68 200.135 1080.09 Q203.214 1075.49 209.024 1075.49 Z\" fill=\"#000000\" fill-rule=\"evenodd\" fill-opacity=\"1\" /><path clip-path=\"url(#clip090)\" d=\"M220.968 1069.59 L245.08 1069.59 L245.08 1072.78 L220.968 1072.78 L220.968 1069.59 Z\" fill=\"#000000\" fill-rule=\"evenodd\" fill-opacity=\"1\" /><path clip-path=\"url(#clip090)\" d=\"M253.938 1080.06 L260.145 1080.06 L260.145 1058.64 L253.393 1059.99 L253.393 1056.53 L260.107 1055.18 L263.906 1055.18 L263.906 1080.06 L270.113 1080.06 L270.113 1083.26 L253.938 1083.26 L253.938 1080.06 Z\" fill=\"#000000\" fill-rule=\"evenodd\" fill-opacity=\"1\" /><path clip-path=\"url(#clip090)\" d=\"M288.225 1058.49 L278.633 1073.48 L288.225 1073.48 L288.225 1058.49 M287.228 1055.18 L292.005 1055.18 L292.005 1073.48 L296.011 1073.48 L296.011 1076.64 L292.005 1076.64 L292.005 1083.26 L288.225 1083.26 L288.225 1076.64 L275.548 1076.64 L275.548 1072.97 L287.228 1055.18 Z\" fill=\"#000000\" fill-rule=\"evenodd\" fill-opacity=\"1\" /><path clip-path=\"url(#clip090)\" d=\"M66.5939 721.412 L54.7884 739.861 L66.5939 739.861 L66.5939 721.412 M65.367 717.338 L71.2466 717.338 L71.2466 739.861 L76.1772 739.861 L76.1772 743.75 L71.2466 743.75 L71.2466 751.898 L66.5939 751.898 L66.5939 743.75 L50.9921 743.75 L50.9921 739.236 L65.367 717.338 Z\" fill=\"#000000\" fill-rule=\"evenodd\" fill-opacity=\"1\" /><path clip-path=\"url(#clip090)\" d=\"M83.9086 746.018 L88.7928 746.018 L88.7928 751.898 L83.9086 751.898 L83.9086 746.018 Z\" fill=\"#000000\" fill-rule=\"evenodd\" fill-opacity=\"1\" /><path clip-path=\"url(#clip090)\" d=\"M108.978 720.416 Q105.367 720.416 103.538 723.981 Q101.733 727.523 101.733 734.652 Q101.733 741.759 103.538 745.324 Q105.367 748.865 108.978 748.865 Q112.612 748.865 114.418 745.324 Q116.246 741.759 116.246 734.652 Q116.246 727.523 114.418 723.981 Q112.612 720.416 108.978 720.416 M108.978 716.713 Q114.788 716.713 117.844 721.319 Q120.922 725.902 120.922 734.652 Q120.922 743.379 117.844 747.986 Q114.788 752.569 108.978 752.569 Q103.168 752.569 100.089 747.986 Q97.0335 743.379 97.0335 734.652 Q97.0335 725.902 100.089 721.319 Q103.168 716.713 108.978 716.713 Z\" fill=\"#000000\" fill-rule=\"evenodd\" fill-opacity=\"1\" /><path clip-path=\"url(#clip090)\" d=\"M157.311 726.435 L146.732 737.06 L157.311 747.638 L154.556 750.439 L143.931 739.814 L133.306 750.439 L130.575 747.638 L141.131 737.06 L130.575 726.435 L133.306 723.634 L143.931 734.259 L154.556 723.634 L157.311 726.435 Z\" fill=\"#000000\" fill-rule=\"evenodd\" fill-opacity=\"1\" /><path clip-path=\"url(#clip090)\" d=\"M169.672 747.963 L177.311 747.963 L177.311 721.597 L169.001 723.264 L169.001 719.004 L177.265 717.338 L181.94 717.338 L181.94 747.963 L189.579 747.963 L189.579 751.898 L169.672 751.898 L169.672 747.963 Z\" fill=\"#000000\" fill-rule=\"evenodd\" fill-opacity=\"1\" /><path clip-path=\"url(#clip090)\" d=\"M209.024 720.416 Q205.413 720.416 203.584 723.981 Q201.778 727.523 201.778 734.652 Q201.778 741.759 203.584 745.324 Q205.413 748.865 209.024 748.865 Q212.658 748.865 214.463 745.324 Q216.292 741.759 216.292 734.652 Q216.292 727.523 214.463 723.981 Q212.658 720.416 209.024 720.416 M209.024 716.713 Q214.834 716.713 217.889 721.319 Q220.968 725.902 220.968 734.652 Q220.968 743.379 217.889 747.986 Q214.834 752.569 209.024 752.569 Q203.214 752.569 200.135 747.986 Q197.079 743.379 197.079 734.652 Q197.079 725.902 200.135 721.319 Q203.214 716.713 209.024 716.713 Z\" fill=\"#000000\" fill-rule=\"evenodd\" fill-opacity=\"1\" /><path clip-path=\"url(#clip090)\" d=\"M220.968 710.814 L245.08 710.814 L245.08 714.011 L220.968 714.011 L220.968 710.814 Z\" fill=\"#000000\" fill-rule=\"evenodd\" fill-opacity=\"1\" /><path clip-path=\"url(#clip090)\" d=\"M253.938 721.29 L260.145 721.29 L260.145 699.868 L253.393 701.222 L253.393 697.761 L260.107 696.407 L263.906 696.407 L263.906 721.29 L270.113 721.29 L270.113 724.487 L253.938 724.487 L253.938 721.29 Z\" fill=\"#000000\" fill-rule=\"evenodd\" fill-opacity=\"1\" /><path clip-path=\"url(#clip090)\" d=\"M288.225 699.717 L278.633 714.707 L288.225 714.707 L288.225 699.717 M287.228 696.407 L292.005 696.407 L292.005 714.707 L296.011 714.707 L296.011 717.867 L292.005 717.867 L292.005 724.487 L288.225 724.487 L288.225 717.867 L275.548 717.867 L275.548 714.199 L287.228 696.407 Z\" fill=\"#000000\" fill-rule=\"evenodd\" fill-opacity=\"1\" /><path clip-path=\"url(#clip090)\" d=\"M64.3254 373.982 Q61.1773 373.982 59.3254 376.134 Q57.4967 378.287 57.4967 382.037 Q57.4967 385.764 59.3254 387.94 Q61.1773 390.093 64.3254 390.093 Q67.4735 390.093 69.3022 387.94 Q71.1541 385.764 71.1541 382.037 Q71.1541 378.287 69.3022 376.134 Q67.4735 373.982 64.3254 373.982 M73.6077 359.329 L73.6077 363.588 Q71.8485 362.755 70.0429 362.315 Q68.2606 361.875 66.5013 361.875 Q61.8717 361.875 59.418 365 Q56.9875 368.125 56.6402 374.444 Q58.006 372.431 60.0662 371.366 Q62.1263 370.278 64.6032 370.278 Q69.8115 370.278 72.8207 373.449 Q75.8531 376.597 75.8531 382.037 Q75.8531 387.361 72.705 390.579 Q69.5568 393.796 64.3254 393.796 Q58.33 393.796 55.1588 389.213 Q51.9875 384.606 51.9875 375.88 Q51.9875 367.685 55.8764 362.824 Q59.7652 357.94 66.3161 357.94 Q68.0754 357.94 69.8578 358.287 Q71.6633 358.634 73.6077 359.329 Z\" fill=\"#000000\" fill-rule=\"evenodd\" fill-opacity=\"1\" /><path clip-path=\"url(#clip090)\" d=\"M83.9086 387.245 L88.7928 387.245 L88.7928 393.125 L83.9086 393.125 L83.9086 387.245 Z\" fill=\"#000000\" fill-rule=\"evenodd\" fill-opacity=\"1\" /><path clip-path=\"url(#clip090)\" d=\"M108.978 361.644 Q105.367 361.644 103.538 365.208 Q101.733 368.75 101.733 375.88 Q101.733 382.986 103.538 386.551 Q105.367 390.093 108.978 390.093 Q112.612 390.093 114.418 386.551 Q116.246 382.986 116.246 375.88 Q116.246 368.75 114.418 365.208 Q112.612 361.644 108.978 361.644 M108.978 357.94 Q114.788 357.94 117.844 362.546 Q120.922 367.13 120.922 375.88 Q120.922 384.606 117.844 389.213 Q114.788 393.796 108.978 393.796 Q103.168 393.796 100.089 389.213 Q97.0335 384.606 97.0335 375.88 Q97.0335 367.13 100.089 362.546 Q103.168 357.94 108.978 357.94 Z\" fill=\"#000000\" fill-rule=\"evenodd\" fill-opacity=\"1\" /><path clip-path=\"url(#clip090)\" d=\"M157.311 367.662 L146.732 378.287 L157.311 388.866 L154.556 391.667 L143.931 381.042 L133.306 391.667 L130.575 388.866 L141.131 378.287 L130.575 367.662 L133.306 364.861 L143.931 375.486 L154.556 364.861 L157.311 367.662 Z\" fill=\"#000000\" fill-rule=\"evenodd\" fill-opacity=\"1\" /><path clip-path=\"url(#clip090)\" d=\"M169.672 389.19 L177.311 389.19 L177.311 362.824 L169.001 364.491 L169.001 360.232 L177.265 358.565 L181.94 358.565 L181.94 389.19 L189.579 389.19 L189.579 393.125 L169.672 393.125 L169.672 389.19 Z\" fill=\"#000000\" fill-rule=\"evenodd\" fill-opacity=\"1\" /><path clip-path=\"url(#clip090)\" d=\"M209.024 361.644 Q205.413 361.644 203.584 365.208 Q201.778 368.75 201.778 375.88 Q201.778 382.986 203.584 386.551 Q205.413 390.093 209.024 390.093 Q212.658 390.093 214.463 386.551 Q216.292 382.986 216.292 375.88 Q216.292 368.75 214.463 365.208 Q212.658 361.644 209.024 361.644 M209.024 357.94 Q214.834 357.94 217.889 362.546 Q220.968 367.13 220.968 375.88 Q220.968 384.606 217.889 389.213 Q214.834 393.796 209.024 393.796 Q203.214 393.796 200.135 389.213 Q197.079 384.606 197.079 375.88 Q197.079 367.13 200.135 362.546 Q203.214 357.94 209.024 357.94 Z\" fill=\"#000000\" fill-rule=\"evenodd\" fill-opacity=\"1\" /><path clip-path=\"url(#clip090)\" d=\"M220.968 352.041 L245.08 352.041 L245.08 355.239 L220.968 355.239 L220.968 352.041 Z\" fill=\"#000000\" fill-rule=\"evenodd\" fill-opacity=\"1\" /><path clip-path=\"url(#clip090)\" d=\"M253.938 362.517 L260.145 362.517 L260.145 341.095 L253.393 342.449 L253.393 338.989 L260.107 337.635 L263.906 337.635 L263.906 362.517 L270.113 362.517 L270.113 365.715 L253.938 365.715 L253.938 362.517 Z\" fill=\"#000000\" fill-rule=\"evenodd\" fill-opacity=\"1\" /><path clip-path=\"url(#clip090)\" d=\"M288.225 340.945 L278.633 355.934 L288.225 355.934 L288.225 340.945 M287.228 337.635 L292.005 337.635 L292.005 355.934 L296.011 355.934 L296.011 359.094 L292.005 359.094 L292.005 365.715 L288.225 365.715 L288.225 359.094 L275.548 359.094 L275.548 355.427 L287.228 337.635 Z\" fill=\"#000000\" fill-rule=\"evenodd\" fill-opacity=\"1\" /><polyline clip-path=\"url(#clip092)\" style=\"stroke:#009af9; stroke-linecap:round; stroke-linejoin:round; stroke-width:4; stroke-opacity:1; fill:none\" points=\"\n",
       "  389.202,1445.72 393.968,1439.1 398.734,1435.03 403.5,1425.84 408.266,1414.63 413.031,1398.51 417.797,1378.08 422.563,1354.01 427.329,1326.25 432.095,1295.72 \n",
       "  436.861,1262.74 441.627,1225.68 446.393,1189.07 451.159,1141.23 455.925,1093.53 460.691,1045.92 465.456,992.877 470.222,933.909 474.988,873.966 479.754,810.864 \n",
       "  484.52,744.782 489.286,674.831 494.052,599.963 498.818,522.707 503.584,481.7 508.35,479.855 513.116,477.46 517.881,477.869 522.647,475.685 527.413,475.92 \n",
       "  532.179,474.211 536.945,474.267 541.711,473.515 546.477,473.132 551.243,472.727 556.009,471.906 560.775,471.982 565.541,473.241 570.306,472.096 575.072,469.708 \n",
       "  579.838,469.726 584.604,468.271 589.37,466.206 594.136,467.74 598.902,464.264 603.668,465.545 608.434,464.619 613.2,463.411 617.966,458.612 622.731,459.401 \n",
       "  627.497,458.354 632.263,456.013 637.029,456.519 641.795,453.669 646.561,452.853 651.327,452.865 656.093,450.858 660.859,448.025 665.625,447.937 670.391,445.239 \n",
       "  675.156,446.664 679.922,443.976 684.688,443.531 689.454,440.867 694.22,443.851 698.986,440.881 703.752,439.953 708.518,440.492 713.284,439.162 718.05,439.822 \n",
       "  722.815,441.013 727.581,441.073 732.347,441.417 737.113,441.779 741.879,441.417 746.645,440.261 751.411,441.716 756.177,439.257 760.943,439.901 765.709,438.419 \n",
       "  770.475,437.078 775.24,437.49 780.006,437.268 784.772,439.259 789.538,438.396 794.304,437.771 799.07,438.008 803.836,436.958 808.602,437.069 813.368,436.8 \n",
       "  818.134,439.073 822.9,438.742 827.665,439.099 832.431,439.121 837.197,438.816 841.963,440.62 846.729,438.5 851.495,437.897 856.261,436.663 861.027,436.097 \n",
       "  865.793,436.999 870.559,437.117 875.325,437.372 880.09,437.414 884.856,436.825 889.622,436.173 894.388,435.982 899.154,435.129 903.92,435.124 908.686,435.229 \n",
       "  913.452,434.907 918.218,435.32 922.984,434.687 927.75,433.551 932.515,433.322 937.281,432.75 942.047,432.359 946.813,431.89 951.579,432.939 956.345,431.635 \n",
       "  961.111,431.643 965.877,431.782 970.643,431.307 975.409,430.47 980.175,429.137 984.94,428.133 989.706,426.84 994.472,426.763 999.238,427.259 1004,424.805 \n",
       "  1008.77,422.107 1013.54,422.01 1018.3,421.131 1023.07,419.135 1027.83,419.699 1032.6,419.012 1037.37,416.728 1042.13,416.719 1046.9,417.444 1051.66,417.388 \n",
       "  1056.43,417.677 1061.19,416.208 1065.96,411.564 1070.73,414.753 1075.49,409.672 1080.26,410.045 1085.02,410.156 1089.79,408.73 1094.56,407.536 1099.32,406.193 \n",
       "  1104.09,404.895 1108.85,406.361 1113.62,405.007 1118.39,405.144 1123.15,404.206 1127.92,401.794 1132.68,400.252 1137.45,400.971 1142.22,401.761 1146.98,401.957 \n",
       "  1151.75,400.688 1156.51,402.086 1161.28,401.388 1166.04,397.694 1170.81,399.351 1175.58,398.643 1180.34,398.695 1185.11,397.84 1189.87,397.569 1194.64,397.479 \n",
       "  1199.41,397.445 1204.17,396.648 1208.94,394.895 1213.7,396.317 1218.47,394.606 1223.24,395.583 1228,393.631 1232.77,392.992 1237.53,392.731 1242.3,392.88 \n",
       "  1247.07,391.441 1251.83,390.647 1256.6,388.194 1261.36,389.403 1266.13,387.925 1270.89,385.384 1275.66,384.963 1280.43,384.254 1285.19,383.727 1289.96,382.877 \n",
       "  1294.72,381.019 1299.49,380.913 1304.26,380.494 1309.02,381.058 1313.79,379.748 1318.55,380.033 1323.32,378.748 1328.09,381.305 1332.85,379.915 1337.62,379.043 \n",
       "  1342.38,378.042 1347.15,377.041 1351.92,377.278 1356.68,375.442 1361.45,377.031 1366.21,375.556 1370.98,375.198 1375.74,374.113 1380.51,373.185 1385.28,372.002 \n",
       "  1390.04,372.325 1394.81,371.064 1399.57,369.05 1404.34,368.616 1409.11,368.045 1413.87,366.361 1418.64,366.612 1423.4,365.669 1428.17,366.141 1432.94,366.356 \n",
       "  1437.7,364.822 1442.47,362.764 1447.23,362.013 1452,361.836 1456.77,360.261 1461.53,359.112 1466.3,359.499 1471.06,359.577 1475.83,358.851 1480.59,358.748 \n",
       "  1485.36,359.105 1490.13,357 1494.89,354.028 1499.66,355.913 1504.42,352.74 1509.19,353.647 1513.96,351.533 1518.72,351.533 1523.49,348.518 1528.25,348.017 \n",
       "  1533.02,348.229 1537.79,347.796 1542.55,345.543 1547.32,343.074 1552.08,341.269 1556.85,340.271 1561.62,339.331 1566.38,338.351 1571.15,337.36 1575.91,335.186 \n",
       "  1580.68,333.475 1585.44,335.26 1590.21,333.853 1594.98,330.691 1599.74,332.643 1604.51,330.933 1609.27,330.421 1614.04,329.424 1618.81,328.146 1623.57,326.244 \n",
       "  1628.34,324.703 1633.1,322.955 1637.87,322.4 1642.64,320.537 1647.4,319.51 1652.17,319.509 1656.93,317.748 1661.7,317.393 1666.47,316.969 1671.23,315.189 \n",
       "  1676,313.745 1680.76,312.038 1685.53,311.12 1690.29,309.273 1695.06,306.793 1699.83,305.465 1704.59,304.038 1709.36,303.665 1714.12,302.587 1718.89,302.491 \n",
       "  1723.66,299.687 1728.42,299.098 1733.19,297.109 1737.95,295.542 1742.72,293.16 1747.49,292.121 1752.25,290.674 1757.02,289.336 1761.78,287.953 1766.55,286.474 \n",
       "  1771.32,283.663 1776.08,284.639 1780.85,281.661 1785.61,281.725 1790.38,279.124 1795.14,277.415 1799.91,277.268 1804.68,277.056 1809.44,273.21 1814.21,272.554 \n",
       "  1818.97,271.185 1823.74,268.901 1828.51,267.169 1833.27,266.228 1838.04,265.859 1842.8,265.174 1847.57,263.86 1852.34,262.185 1857.1,261.329 1861.87,258.181 \n",
       "  1866.63,255.036 1871.4,255.777 1876.17,254.112 1880.93,251.884 1885.7,249.164 1890.46,246.942 1895.23,248.616 1899.99,246.092 1904.76,243.769 1909.53,241.806 \n",
       "  1914.29,243.402 1919.06,242.673 1923.82,240.036 1928.59,237.957 1933.36,239.006 1938.12,239.233 1942.89,238.629 1947.65,234.819 1952.42,231.834 1957.19,231.063 \n",
       "  1961.95,227.792 1966.72,226.365 1971.48,224.529 1976.25,226.009 1981.02,222.515 1985.78,220.301 1990.55,218.878 1995.31,216.615 2000.08,215.757 2004.84,215.091 \n",
       "  2009.61,212.263 2014.38,210.389 2019.14,210.27 2023.91,207.577 2028.67,207 2033.44,204.921 2038.21,202.932 2042.97,202.393 2047.74,201.715 2052.5,198.323 \n",
       "  2057.27,195.88 2062.04,195.333 2066.8,193.873 2071.57,191.703 2076.33,190.009 2081.1,186.919 2085.87,185.418 2090.63,181.639 2095.4,178.819 2100.16,175.742 \n",
       "  2104.93,172.242 2109.69,169.138 2114.46,168.17 2119.23,164.076 2123.99,162.823 2128.76,161.925 2133.52,157.428 2138.29,155.866 2143.06,152.924 2147.82,148.512 \n",
       "  2152.59,146.248 2157.35,143.481 2162.12,141.072 2166.89,138.841 2171.65,135.573 2176.42,133.523 2181.18,130.877 2185.95,128.4 2190.72,124.996 2195.48,122.423 \n",
       "  2200.25,121.433 2205.01,121.922 2209.78,118.729 2214.54,118.273 2219.31,116.365 2224.08,114.155 2228.84,111.314 2233.61,110.466 2238.37,108.25 2243.14,106.852 \n",
       "  2247.91,104.645 2252.67,103.377 2257.44,102.685 2262.2,101.595 2266.97,97.5801 2271.74,96.4479 2276.5,96.1115 2281.27,91.3012 2286.03,88.7297 2290.8,87.9763 \n",
       "  2295.57,88.1433 \n",
       "  \"/>\n",
       "<path clip-path=\"url(#clip090)\" d=\"\n",
       "M130.511 198.898 L2285.4 198.898 L2285.4 95.2176 L130.511 95.2176  Z\n",
       "  \" fill=\"#ffffff\" fill-rule=\"evenodd\" fill-opacity=\"1\"/>\n",
       "<polyline clip-path=\"url(#clip090)\" style=\"stroke:#000000; stroke-linecap:round; stroke-linejoin:round; stroke-width:4; stroke-opacity:1; fill:none\" points=\"\n",
       "  130.511,198.898 2285.4,198.898 2285.4,95.2176 130.511,95.2176 130.511,198.898 \n",
       "  \"/>\n",
       "<polyline clip-path=\"url(#clip090)\" style=\"stroke:#009af9; stroke-linecap:round; stroke-linejoin:round; stroke-width:4; stroke-opacity:1; fill:none\" points=\"\n",
       "  152.963,147.058 287.68,147.058 \n",
       "  \"/>\n",
       "<path clip-path=\"url(#clip090)\" d=\"M317.54 131.051 L317.54 138.412 L326.313 138.412 L326.313 141.722 L317.54 141.722 L317.54 155.796 Q317.54 158.967 318.396 159.87 Q319.276 160.773 321.938 160.773 L326.313 160.773 L326.313 164.338 L321.938 164.338 Q317.007 164.338 315.132 162.509 Q313.257 160.657 313.257 155.796 L313.257 141.722 L310.132 141.722 L310.132 138.412 L313.257 138.412 L313.257 131.051 L317.54 131.051 Z\" fill=\"#000000\" fill-rule=\"evenodd\" fill-opacity=\"1\" /><path clip-path=\"url(#clip090)\" d=\"M346.938 142.393 Q346.22 141.977 345.364 141.791 Q344.53 141.583 343.512 141.583 Q339.901 141.583 337.956 143.944 Q336.035 146.282 336.035 150.68 L336.035 164.338 L331.753 164.338 L331.753 138.412 L336.035 138.412 L336.035 142.44 Q337.378 140.078 339.53 138.944 Q341.683 137.787 344.762 137.787 Q345.202 137.787 345.734 137.856 Q346.266 137.903 346.914 138.018 L346.938 142.393 Z\" fill=\"#000000\" fill-rule=\"evenodd\" fill-opacity=\"1\" /><path clip-path=\"url(#clip090)\" d=\"M363.188 151.305 Q358.026 151.305 356.035 152.486 Q354.044 153.666 354.044 156.514 Q354.044 158.782 355.526 160.125 Q357.03 161.444 359.6 161.444 Q363.141 161.444 365.271 158.944 Q367.424 156.421 367.424 152.254 L367.424 151.305 L363.188 151.305 M371.683 149.546 L371.683 164.338 L367.424 164.338 L367.424 160.402 Q365.965 162.763 363.789 163.898 Q361.613 165.009 358.465 165.009 Q354.484 165.009 352.123 162.787 Q349.785 160.541 349.785 156.791 Q349.785 152.416 352.701 150.194 Q355.641 147.972 361.451 147.972 L367.424 147.972 L367.424 147.555 Q367.424 144.615 365.479 143.018 Q363.558 141.398 360.063 141.398 Q357.84 141.398 355.734 141.93 Q353.627 142.463 351.683 143.527 L351.683 139.592 Q354.021 138.69 356.22 138.25 Q358.419 137.787 360.502 137.787 Q366.127 137.787 368.905 140.703 Q371.683 143.62 371.683 149.546 Z\" fill=\"#000000\" fill-rule=\"evenodd\" fill-opacity=\"1\" /><path clip-path=\"url(#clip090)\" d=\"M399.113 139.407 L399.113 143.389 Q397.308 142.393 395.479 141.907 Q393.673 141.398 391.822 141.398 Q387.678 141.398 385.387 144.037 Q383.095 146.652 383.095 151.398 Q383.095 156.143 385.387 158.782 Q387.678 161.398 391.822 161.398 Q393.673 161.398 395.479 160.912 Q397.308 160.402 399.113 159.407 L399.113 163.342 Q397.331 164.176 395.41 164.592 Q393.511 165.009 391.359 165.009 Q385.502 165.009 382.053 161.328 Q378.604 157.648 378.604 151.398 Q378.604 145.055 382.076 141.421 Q385.572 137.787 391.636 137.787 Q393.604 137.787 395.479 138.203 Q397.354 138.597 399.113 139.407 Z\" fill=\"#000000\" fill-rule=\"evenodd\" fill-opacity=\"1\" /><path clip-path=\"url(#clip090)\" d=\"M428.696 150.31 L428.696 152.393 L409.113 152.393 Q409.391 156.791 411.752 159.106 Q414.136 161.398 418.372 161.398 Q420.826 161.398 423.118 160.796 Q425.433 160.194 427.701 158.99 L427.701 163.018 Q425.409 163.99 423.002 164.5 Q420.595 165.009 418.118 165.009 Q411.914 165.009 408.28 161.398 Q404.669 157.787 404.669 151.629 Q404.669 145.264 408.095 141.537 Q411.544 137.787 417.377 137.787 Q422.609 137.787 425.641 141.166 Q428.696 144.523 428.696 150.31 M424.437 149.06 Q424.391 145.565 422.47 143.481 Q420.571 141.398 417.423 141.398 Q413.859 141.398 411.706 143.412 Q409.576 145.426 409.252 149.083 L424.437 149.06 Z\" fill=\"#000000\" fill-rule=\"evenodd\" fill-opacity=\"1\" /><path clip-path=\"url(#clip090)\" d=\"M467.817 142.347 L467.817 128.319 L472.076 128.319 L472.076 164.338 L467.817 164.338 L467.817 160.449 Q466.474 162.763 464.414 163.898 Q462.377 165.009 459.506 165.009 Q454.807 165.009 451.844 161.259 Q448.905 157.509 448.905 151.398 Q448.905 145.287 451.844 141.537 Q454.807 137.787 459.506 137.787 Q462.377 137.787 464.414 138.921 Q466.474 140.032 467.817 142.347 M453.303 151.398 Q453.303 156.097 455.224 158.782 Q457.169 161.444 460.548 161.444 Q463.928 161.444 465.872 158.782 Q467.817 156.097 467.817 151.398 Q467.817 146.699 465.872 144.037 Q463.928 141.352 460.548 141.352 Q457.169 141.352 455.224 144.037 Q453.303 146.699 453.303 151.398 Z\" fill=\"#000000\" fill-rule=\"evenodd\" fill-opacity=\"1\" /><path clip-path=\"url(#clip090)\" d=\"M480.849 138.412 L485.108 138.412 L485.108 164.338 L480.849 164.338 L480.849 138.412 M480.849 128.319 L485.108 128.319 L485.108 133.713 L480.849 133.713 L480.849 128.319 Z\" fill=\"#000000\" fill-rule=\"evenodd\" fill-opacity=\"1\" /><path clip-path=\"url(#clip090)\" d=\"M510.548 139.176 L510.548 143.203 Q508.742 142.277 506.798 141.815 Q504.853 141.352 502.77 141.352 Q499.599 141.352 498.002 142.324 Q496.428 143.296 496.428 145.24 Q496.428 146.722 497.562 147.578 Q498.696 148.412 502.122 149.176 L503.58 149.5 Q508.117 150.472 510.015 152.254 Q511.937 154.014 511.937 157.185 Q511.937 160.796 509.066 162.902 Q506.219 165.009 501.219 165.009 Q499.136 165.009 496.867 164.592 Q494.622 164.199 492.122 163.388 L492.122 158.99 Q494.483 160.217 496.775 160.842 Q499.066 161.444 501.312 161.444 Q504.321 161.444 505.941 160.426 Q507.562 159.384 507.562 157.509 Q507.562 155.773 506.381 154.847 Q505.224 153.921 501.266 153.064 L499.784 152.717 Q495.826 151.884 494.066 150.171 Q492.307 148.435 492.307 145.426 Q492.307 141.768 494.9 139.778 Q497.492 137.787 502.261 137.787 Q504.622 137.787 506.705 138.134 Q508.789 138.481 510.548 139.176 Z\" fill=\"#000000\" fill-rule=\"evenodd\" fill-opacity=\"1\" /><path clip-path=\"url(#clip090)\" d=\"M522.932 131.051 L522.932 138.412 L531.705 138.412 L531.705 141.722 L522.932 141.722 L522.932 155.796 Q522.932 158.967 523.789 159.87 Q524.668 160.773 527.33 160.773 L531.705 160.773 L531.705 164.338 L527.33 164.338 Q522.4 164.338 520.525 162.509 Q518.65 160.657 518.65 155.796 L518.65 141.722 L515.525 141.722 L515.525 138.412 L518.65 138.412 L518.65 131.051 L522.932 131.051 Z\" fill=\"#000000\" fill-rule=\"evenodd\" fill-opacity=\"1\" /><path clip-path=\"url(#clip090)\" d=\"M549.089 151.305 Q543.927 151.305 541.937 152.486 Q539.946 153.666 539.946 156.514 Q539.946 158.782 541.427 160.125 Q542.932 161.444 545.501 161.444 Q549.043 161.444 551.173 158.944 Q553.325 156.421 553.325 152.254 L553.325 151.305 L549.089 151.305 M557.585 149.546 L557.585 164.338 L553.325 164.338 L553.325 160.402 Q551.867 162.763 549.691 163.898 Q547.515 165.009 544.367 165.009 Q540.386 165.009 538.025 162.787 Q535.687 160.541 535.687 156.791 Q535.687 152.416 538.603 150.194 Q541.543 147.972 547.353 147.972 L553.325 147.972 L553.325 147.555 Q553.325 144.615 551.381 143.018 Q549.46 141.398 545.964 141.398 Q543.742 141.398 541.636 141.93 Q539.529 142.463 537.585 143.527 L537.585 139.592 Q539.923 138.69 542.122 138.25 Q544.321 137.787 546.404 137.787 Q552.029 137.787 554.807 140.703 Q557.585 143.62 557.585 149.546 Z\" fill=\"#000000\" fill-rule=\"evenodd\" fill-opacity=\"1\" /><path clip-path=\"url(#clip090)\" d=\"M587.909 148.689 L587.909 164.338 L583.649 164.338 L583.649 148.828 Q583.649 145.148 582.214 143.319 Q580.779 141.49 577.909 141.49 Q574.46 141.49 572.469 143.69 Q570.478 145.889 570.478 149.685 L570.478 164.338 L566.196 164.338 L566.196 138.412 L570.478 138.412 L570.478 142.44 Q572.006 140.102 574.066 138.944 Q576.149 137.787 578.858 137.787 Q583.325 137.787 585.617 140.565 Q587.909 143.319 587.909 148.689 Z\" fill=\"#000000\" fill-rule=\"evenodd\" fill-opacity=\"1\" /><path clip-path=\"url(#clip090)\" d=\"M615.061 139.407 L615.061 143.389 Q613.256 142.393 611.427 141.907 Q609.621 141.398 607.77 141.398 Q603.626 141.398 601.334 144.037 Q599.043 146.652 599.043 151.398 Q599.043 156.143 601.334 158.782 Q603.626 161.398 607.77 161.398 Q609.621 161.398 611.427 160.912 Q613.256 160.402 615.061 159.407 L615.061 163.342 Q613.279 164.176 611.358 164.592 Q609.459 165.009 607.307 165.009 Q601.45 165.009 598.001 161.328 Q594.552 157.648 594.552 151.398 Q594.552 145.055 598.024 141.421 Q601.52 137.787 607.584 137.787 Q609.552 137.787 611.427 138.203 Q613.302 138.597 615.061 139.407 Z\" fill=\"#000000\" fill-rule=\"evenodd\" fill-opacity=\"1\" /><path clip-path=\"url(#clip090)\" d=\"M644.644 150.31 L644.644 152.393 L625.061 152.393 Q625.339 156.791 627.7 159.106 Q630.084 161.398 634.32 161.398 Q636.774 161.398 639.066 160.796 Q641.381 160.194 643.649 158.99 L643.649 163.018 Q641.357 163.99 638.95 164.5 Q636.543 165.009 634.066 165.009 Q627.862 165.009 624.228 161.398 Q620.617 157.787 620.617 151.629 Q620.617 145.264 624.043 141.537 Q627.492 137.787 633.325 137.787 Q638.556 137.787 641.589 141.166 Q644.644 144.523 644.644 150.31 M640.385 149.06 Q640.339 145.565 638.418 143.481 Q636.519 141.398 633.371 141.398 Q629.806 141.398 627.654 143.412 Q625.524 145.426 625.2 149.083 L640.385 149.06 Z\" fill=\"#000000\" fill-rule=\"evenodd\" fill-opacity=\"1\" /><path clip-path=\"url(#clip090)\" d=\"M652.723 158.458 L657.607 158.458 L657.607 162.439 L653.811 169.847 L650.825 169.847 L652.723 162.439 L652.723 158.458 Z\" fill=\"#000000\" fill-rule=\"evenodd\" fill-opacity=\"1\" /><path clip-path=\"url(#clip090)\" d=\"M666.89 129.778 L673.186 129.778 L688.51 158.689 L688.51 129.778 L693.047 129.778 L693.047 164.338 L686.751 164.338 L671.427 135.426 L671.427 164.338 L666.89 164.338 L666.89 129.778 Z\" fill=\"#000000\" fill-rule=\"evenodd\" fill-opacity=\"1\" /><path clip-path=\"url(#clip090)\" d=\"M702.723 142.81 L732.399 142.81 L732.399 146.699 L702.723 146.699 L702.723 142.81 M702.723 152.254 L732.399 152.254 L732.399 156.189 L702.723 156.189 L702.723 152.254 Z\" fill=\"#000000\" fill-rule=\"evenodd\" fill-opacity=\"1\" /><path clip-path=\"url(#clip090)\" d=\"M743.301 160.402 L750.94 160.402 L750.94 134.037 L742.63 135.703 L742.63 131.444 L750.894 129.778 L755.57 129.778 L755.57 160.402 L763.209 160.402 L763.209 164.338 L743.301 164.338 L743.301 160.402 Z\" fill=\"#000000\" fill-rule=\"evenodd\" fill-opacity=\"1\" /><path clip-path=\"url(#clip090)\" d=\"M776.681 160.402 L793 160.402 L793 164.338 L771.056 164.338 L771.056 160.402 Q773.718 157.648 778.301 153.018 Q782.908 148.365 784.088 147.023 Q786.333 144.5 787.213 142.764 Q788.116 141.004 788.116 139.315 Q788.116 136.56 786.171 134.824 Q784.25 133.088 781.148 133.088 Q778.949 133.088 776.496 133.852 Q774.065 134.615 771.287 136.166 L771.287 131.444 Q774.111 130.31 776.565 129.731 Q779.019 129.153 781.056 129.153 Q786.426 129.153 789.62 131.838 Q792.815 134.523 792.815 139.014 Q792.815 141.143 792.005 143.065 Q791.218 144.963 789.111 147.555 Q788.532 148.227 785.431 151.444 Q782.329 154.639 776.681 160.402 Z\" fill=\"#000000\" fill-rule=\"evenodd\" fill-opacity=\"1\" /><path clip-path=\"url(#clip090)\" d=\"M803.301 158.458 L808.185 158.458 L808.185 162.439 L804.389 169.847 L801.403 169.847 L803.301 162.439 L803.301 158.458 Z\" fill=\"#000000\" fill-rule=\"evenodd\" fill-opacity=\"1\" /><path clip-path=\"url(#clip090)\" d=\"M851.125 134.315 Q848.764 132.694 843.231 132.694 Q837.375 132.694 837.375 135.403 Q837.375 137.532 843.486 138.643 Q848.301 139.5 851.009 142.092 Q854.296 145.217 854.296 151.629 Q854.296 157.764 851.125 161.375 Q847.953 165.009 842.398 165.009 Q836.866 165.009 833.671 161.375 Q830.5 157.764 830.5 151.398 Q830.5 146.676 833.671 142.856 Q834.898 141.375 836.634 140.541 Q833.023 138.713 833.023 135.449 Q833.023 129.153 843.231 129.153 Q848.347 129.153 851.125 130.773 L851.125 134.315 M839.829 141.699 Q838.254 142.37 836.981 144.06 Q834.991 146.676 834.991 151.398 Q834.991 156.097 836.958 158.736 Q838.949 161.398 842.398 161.398 Q845.801 161.398 847.791 158.713 Q849.782 156.027 849.782 151.629 Q849.782 147.023 847.676 144.801 Q845.43 142.416 842.514 142.162 Q841.032 142.023 839.829 141.699 Z\" fill=\"#000000\" fill-rule=\"evenodd\" fill-opacity=\"1\" /><path clip-path=\"url(#clip090)\" d=\"M865.569 131.051 L865.569 138.412 L874.342 138.412 L874.342 141.722 L865.569 141.722 L865.569 155.796 Q865.569 158.967 866.426 159.87 Q867.305 160.773 869.967 160.773 L874.342 160.773 L874.342 164.338 L869.967 164.338 Q865.037 164.338 863.162 162.509 Q861.287 160.657 861.287 155.796 L861.287 141.722 L858.162 141.722 L858.162 138.412 L861.287 138.412 L861.287 131.051 L865.569 131.051 Z\" fill=\"#000000\" fill-rule=\"evenodd\" fill-opacity=\"1\" /><path clip-path=\"url(#clip090)\" d=\"M880.5 142.81 L910.175 142.81 L910.175 146.699 L880.5 146.699 L880.5 142.81 M880.5 152.254 L910.175 152.254 L910.175 156.189 L880.5 156.189 L880.5 152.254 Z\" fill=\"#000000\" fill-rule=\"evenodd\" fill-opacity=\"1\" /><path clip-path=\"url(#clip090)\" d=\"M920.314 129.778 L938.671 129.778 L938.671 133.713 L924.597 133.713 L924.597 142.185 Q925.615 141.838 926.634 141.676 Q927.652 141.49 928.671 141.49 Q934.458 141.49 937.837 144.662 Q941.217 147.833 941.217 153.25 Q941.217 158.828 937.745 161.93 Q934.272 165.009 927.953 165.009 Q925.777 165.009 923.509 164.638 Q921.263 164.268 918.856 163.527 L918.856 158.828 Q920.939 159.963 923.161 160.518 Q925.384 161.074 927.86 161.074 Q931.865 161.074 934.203 158.967 Q936.541 156.861 936.541 153.25 Q936.541 149.639 934.203 147.532 Q931.865 145.426 927.86 145.426 Q925.985 145.426 924.11 145.842 Q922.259 146.259 920.314 147.139 L920.314 129.778 Z\" fill=\"#000000\" fill-rule=\"evenodd\" fill-opacity=\"1\" /><path clip-path=\"url(#clip090)\" d=\"M950.43 158.458 L955.314 158.458 L955.314 164.338 L950.43 164.338 L950.43 158.458 Z\" fill=\"#000000\" fill-rule=\"evenodd\" fill-opacity=\"1\" /><path clip-path=\"url(#clip090)\" d=\"M975.499 132.856 Q971.888 132.856 970.059 136.421 Q968.254 139.963 968.254 147.092 Q968.254 154.199 970.059 157.764 Q971.888 161.305 975.499 161.305 Q979.133 161.305 980.939 157.764 Q982.768 154.199 982.768 147.092 Q982.768 139.963 980.939 136.421 Q979.133 132.856 975.499 132.856 M975.499 129.153 Q981.309 129.153 984.365 133.759 Q987.443 138.342 987.443 147.092 Q987.443 155.819 984.365 160.426 Q981.309 165.009 975.499 165.009 Q969.689 165.009 966.61 160.426 Q963.555 155.819 963.555 147.092 Q963.555 138.342 966.61 133.759 Q969.689 129.153 975.499 129.153 Z\" fill=\"#000000\" fill-rule=\"evenodd\" fill-opacity=\"1\" /><path clip-path=\"url(#clip090)\" d=\"M1017.23 150.31 L1017.23 152.393 L997.652 152.393 Q997.93 156.791 1000.29 159.106 Q1002.67 161.398 1006.91 161.398 Q1009.36 161.398 1011.66 160.796 Q1013.97 160.194 1016.24 158.99 L1016.24 163.018 Q1013.95 163.99 1011.54 164.5 Q1009.13 165.009 1006.66 165.009 Q1000.45 165.009 996.818 161.398 Q993.207 157.787 993.207 151.629 Q993.207 145.264 996.633 141.537 Q1000.08 137.787 1005.92 137.787 Q1011.15 137.787 1014.18 141.166 Q1017.23 144.523 1017.23 150.31 M1012.98 149.06 Q1012.93 145.565 1011.01 143.481 Q1009.11 141.398 1005.96 141.398 Q1002.4 141.398 1000.24 143.412 Q998.115 145.426 997.791 149.083 L1012.98 149.06 Z\" fill=\"#000000\" fill-rule=\"evenodd\" fill-opacity=\"1\" /><path clip-path=\"url(#clip090)\" d=\"M1022.07 149.453 L1034.55 149.453 L1034.55 153.25 L1022.07 153.25 L1022.07 149.453 Z\" fill=\"#000000\" fill-rule=\"evenodd\" fill-opacity=\"1\" /><path clip-path=\"url(#clip090)\" d=\"M1041.98 129.778 L1060.34 129.778 L1060.34 133.713 L1046.26 133.713 L1046.26 142.185 Q1047.28 141.838 1048.3 141.676 Q1049.32 141.49 1050.34 141.49 Q1056.12 141.49 1059.5 144.662 Q1062.88 147.833 1062.88 153.25 Q1062.88 158.828 1059.41 161.93 Q1055.94 165.009 1049.62 165.009 Q1047.44 165.009 1045.17 164.638 Q1042.93 164.268 1040.52 163.527 L1040.52 158.828 Q1042.61 159.963 1044.83 160.518 Q1047.05 161.074 1049.53 161.074 Q1053.53 161.074 1055.87 158.967 Q1058.21 156.861 1058.21 153.25 Q1058.21 149.639 1055.87 147.532 Q1053.53 145.426 1049.53 145.426 Q1047.65 145.426 1045.78 145.842 Q1043.92 146.259 1041.98 147.139 L1041.98 129.778 Z\" fill=\"#000000\" fill-rule=\"evenodd\" fill-opacity=\"1\" /><path clip-path=\"url(#clip090)\" d=\"M1072.58 158.458 L1077.47 158.458 L1077.47 162.439 L1073.67 169.847 L1070.68 169.847 L1072.58 162.439 L1072.58 158.458 Z\" fill=\"#000000\" fill-rule=\"evenodd\" fill-opacity=\"1\" /><path clip-path=\"url(#clip090)\" d=\"M1101.82 129.778 L1106.49 129.778 L1106.49 144.384 L1122 129.778 L1128.02 129.778 L1110.87 145.889 L1129.25 164.338 L1123.09 164.338 L1106.49 147.694 L1106.49 164.338 L1101.82 164.338 L1101.82 129.778 Z\" fill=\"#000000\" fill-rule=\"evenodd\" fill-opacity=\"1\" /><path clip-path=\"url(#clip090)\" d=\"M1147.74 142.393 Q1147.03 141.977 1146.17 141.791 Q1145.34 141.583 1144.32 141.583 Q1140.71 141.583 1138.76 143.944 Q1136.84 146.282 1136.84 150.68 L1136.84 164.338 L1132.56 164.338 L1132.56 138.412 L1136.84 138.412 L1136.84 142.44 Q1138.18 140.078 1140.34 138.944 Q1142.49 137.787 1145.57 137.787 Q1146.01 137.787 1146.54 137.856 Q1147.07 137.903 1147.72 138.018 L1147.74 142.393 Z\" fill=\"#000000\" fill-rule=\"evenodd\" fill-opacity=\"1\" /><path clip-path=\"url(#clip090)\" d=\"M1163 166.745 Q1161.19 171.375 1159.48 172.787 Q1157.77 174.199 1154.9 174.199 L1151.49 174.199 L1151.49 170.634 L1153.99 170.634 Q1155.75 170.634 1156.72 169.8 Q1157.7 168.967 1158.88 165.865 L1159.64 163.921 L1149.16 138.412 L1153.67 138.412 L1161.77 158.689 L1169.87 138.412 L1174.39 138.412 L1163 166.745 Z\" fill=\"#000000\" fill-rule=\"evenodd\" fill-opacity=\"1\" /><path clip-path=\"url(#clip090)\" d=\"M1180.27 128.319 L1184.53 128.319 L1184.53 164.338 L1180.27 164.338 L1180.27 128.319 Z\" fill=\"#000000\" fill-rule=\"evenodd\" fill-opacity=\"1\" /><path clip-path=\"url(#clip090)\" d=\"M1203.48 141.398 Q1200.06 141.398 1198.07 144.083 Q1196.08 146.745 1196.08 151.398 Q1196.08 156.051 1198.04 158.736 Q1200.03 161.398 1203.48 161.398 Q1206.89 161.398 1208.88 158.713 Q1210.87 156.027 1210.87 151.398 Q1210.87 146.791 1208.88 144.106 Q1206.89 141.398 1203.48 141.398 M1203.48 137.787 Q1209.04 137.787 1212.21 141.398 Q1215.38 145.009 1215.38 151.398 Q1215.38 157.764 1212.21 161.398 Q1209.04 165.009 1203.48 165.009 Q1197.91 165.009 1194.73 161.398 Q1191.59 157.764 1191.59 151.398 Q1191.59 145.009 1194.73 141.398 Q1197.91 137.787 1203.48 137.787 Z\" fill=\"#000000\" fill-rule=\"evenodd\" fill-opacity=\"1\" /><path clip-path=\"url(#clip090)\" d=\"M1219.39 138.412 L1223.9 138.412 L1232 160.171 L1240.1 138.412 L1244.62 138.412 L1234.9 164.338 L1229.11 164.338 L1219.39 138.412 Z\" fill=\"#000000\" fill-rule=\"evenodd\" fill-opacity=\"1\" /><path clip-path=\"url(#clip090)\" d=\"M1284.22 139.407 L1284.22 143.389 Q1282.42 142.393 1280.59 141.907 Q1278.78 141.398 1276.93 141.398 Q1272.79 141.398 1270.5 144.037 Q1268.21 146.652 1268.21 151.398 Q1268.21 156.143 1270.5 158.782 Q1272.79 161.398 1276.93 161.398 Q1278.78 161.398 1280.59 160.912 Q1282.42 160.402 1284.22 159.407 L1284.22 163.342 Q1282.44 164.176 1280.52 164.592 Q1278.62 165.009 1276.47 165.009 Q1270.61 165.009 1267.16 161.328 Q1263.72 157.648 1263.72 151.398 Q1263.72 145.055 1267.19 141.421 Q1270.68 137.787 1276.75 137.787 Q1278.72 137.787 1280.59 138.203 Q1282.47 138.597 1284.22 139.407 Z\" fill=\"#000000\" fill-rule=\"evenodd\" fill-opacity=\"1\" /><path clip-path=\"url(#clip090)\" d=\"M1291.19 154.106 L1291.19 138.412 L1295.45 138.412 L1295.45 153.944 Q1295.45 157.625 1296.89 159.476 Q1298.32 161.305 1301.19 161.305 Q1304.64 161.305 1306.63 159.106 Q1308.65 156.907 1308.65 153.111 L1308.65 138.412 L1312.9 138.412 L1312.9 164.338 L1308.65 164.338 L1308.65 160.356 Q1307.09 162.717 1305.03 163.875 Q1303 165.009 1300.29 165.009 Q1295.82 165.009 1293.51 162.231 Q1291.19 159.453 1291.19 154.106 M1301.91 137.787 L1301.91 137.787 Z\" fill=\"#000000\" fill-rule=\"evenodd\" fill-opacity=\"1\" /><path clip-path=\"url(#clip090)\" d=\"M1325.89 131.051 L1325.89 138.412 L1334.66 138.412 L1334.66 141.722 L1325.89 141.722 L1325.89 155.796 Q1325.89 158.967 1326.75 159.87 Q1327.63 160.773 1330.29 160.773 L1334.66 160.773 L1334.66 164.338 L1330.29 164.338 Q1325.36 164.338 1323.48 162.509 Q1321.61 160.657 1321.61 155.796 L1321.61 141.722 L1318.48 141.722 L1318.48 138.412 L1321.61 138.412 L1321.61 131.051 L1325.89 131.051 Z\" fill=\"#000000\" fill-rule=\"evenodd\" fill-opacity=\"1\" /><path clip-path=\"url(#clip090)\" d=\"M1350.31 141.398 Q1346.89 141.398 1344.9 144.083 Q1342.9 146.745 1342.9 151.398 Q1342.9 156.051 1344.87 158.736 Q1346.86 161.398 1350.31 161.398 Q1353.71 161.398 1355.71 158.713 Q1357.7 156.027 1357.7 151.398 Q1357.7 146.791 1355.71 144.106 Q1353.71 141.398 1350.31 141.398 M1350.31 137.787 Q1355.87 137.787 1359.04 141.398 Q1362.21 145.009 1362.21 151.398 Q1362.21 157.764 1359.04 161.398 Q1355.87 165.009 1350.31 165.009 Q1344.73 165.009 1341.56 161.398 Q1338.41 157.764 1338.41 151.398 Q1338.41 145.009 1341.56 141.398 Q1344.73 137.787 1350.31 137.787 Z\" fill=\"#000000\" fill-rule=\"evenodd\" fill-opacity=\"1\" /><path clip-path=\"url(#clip090)\" d=\"M1382.4 128.319 L1382.4 131.861 L1378.32 131.861 Q1376.03 131.861 1375.13 132.787 Q1374.25 133.713 1374.25 136.12 L1374.25 138.412 L1381.26 138.412 L1381.26 141.722 L1374.25 141.722 L1374.25 164.338 L1369.96 164.338 L1369.96 141.722 L1365.89 141.722 L1365.89 138.412 L1369.96 138.412 L1369.96 136.606 Q1369.96 132.278 1371.98 130.31 Q1373.99 128.319 1378.37 128.319 L1382.4 128.319 Z\" fill=\"#000000\" fill-rule=\"evenodd\" fill-opacity=\"1\" /><path clip-path=\"url(#clip090)\" d=\"M1399.08 128.319 L1399.08 131.861 L1395.01 131.861 Q1392.72 131.861 1391.82 132.787 Q1390.94 133.713 1390.94 136.12 L1390.94 138.412 L1397.95 138.412 L1397.95 141.722 L1390.94 141.722 L1390.94 164.338 L1386.65 164.338 L1386.65 141.722 L1382.58 141.722 L1382.58 138.412 L1386.65 138.412 L1386.65 136.606 Q1386.65 132.278 1388.67 130.31 Q1390.68 128.319 1395.06 128.319 L1399.08 128.319 Z\" fill=\"#000000\" fill-rule=\"evenodd\" fill-opacity=\"1\" /><path clip-path=\"url(#clip090)\" d=\"M1403.21 142.81 L1432.88 142.81 L1432.88 146.699 L1403.21 146.699 L1403.21 142.81 M1403.21 152.254 L1432.88 152.254 L1432.88 156.189 L1403.21 156.189 L1403.21 152.254 Z\" fill=\"#000000\" fill-rule=\"evenodd\" fill-opacity=\"1\" /><path clip-path=\"url(#clip090)\" d=\"M1443.78 160.402 L1451.42 160.402 L1451.42 134.037 L1443.11 135.703 L1443.11 131.444 L1451.38 129.778 L1456.05 129.778 L1456.05 160.402 L1463.69 160.402 L1463.69 164.338 L1443.78 164.338 L1443.78 160.402 Z\" fill=\"#000000\" fill-rule=\"evenodd\" fill-opacity=\"1\" /><path clip-path=\"url(#clip090)\" d=\"M1473.14 158.458 L1478.02 158.458 L1478.02 164.338 L1473.14 164.338 L1473.14 158.458 Z\" fill=\"#000000\" fill-rule=\"evenodd\" fill-opacity=\"1\" /><path clip-path=\"url(#clip090)\" d=\"M1498.2 132.856 Q1494.59 132.856 1492.76 136.421 Q1490.96 139.963 1490.96 147.092 Q1490.96 154.199 1492.76 157.764 Q1494.59 161.305 1498.2 161.305 Q1501.84 161.305 1503.64 157.764 Q1505.47 154.199 1505.47 147.092 Q1505.47 139.963 1503.64 136.421 Q1501.84 132.856 1498.2 132.856 M1498.2 129.153 Q1504.01 129.153 1507.07 133.759 Q1510.15 138.342 1510.15 147.092 Q1510.15 155.819 1507.07 160.426 Q1504.01 165.009 1498.2 165.009 Q1492.39 165.009 1489.32 160.426 Q1486.26 155.819 1486.26 147.092 Q1486.26 138.342 1489.32 133.759 Q1492.39 129.153 1498.2 129.153 Z\" fill=\"#000000\" fill-rule=\"evenodd\" fill-opacity=\"1\" /><path clip-path=\"url(#clip090)\" d=\"M1539.94 150.31 L1539.94 152.393 L1520.36 152.393 Q1520.64 156.791 1523 159.106 Q1525.38 161.398 1529.62 161.398 Q1532.07 161.398 1534.36 160.796 Q1536.68 160.194 1538.95 158.99 L1538.95 163.018 Q1536.65 163.99 1534.25 164.5 Q1531.84 165.009 1529.36 165.009 Q1523.16 165.009 1519.52 161.398 Q1515.91 157.787 1515.91 151.629 Q1515.91 145.264 1519.34 141.537 Q1522.79 137.787 1528.62 137.787 Q1533.85 137.787 1536.88 141.166 Q1539.94 144.523 1539.94 150.31 M1535.68 149.06 Q1535.63 145.565 1533.71 143.481 Q1531.82 141.398 1528.67 141.398 Q1525.1 141.398 1522.95 143.412 Q1520.82 145.426 1520.5 149.083 L1535.68 149.06 Z\" fill=\"#000000\" fill-rule=\"evenodd\" fill-opacity=\"1\" /><path clip-path=\"url(#clip090)\" d=\"M1544.78 149.453 L1557.26 149.453 L1557.26 153.25 L1544.78 153.25 L1544.78 149.453 Z\" fill=\"#000000\" fill-rule=\"evenodd\" fill-opacity=\"1\" /><path clip-path=\"url(#clip090)\" d=\"M1564.69 129.778 L1583.04 129.778 L1583.04 133.713 L1568.97 133.713 L1568.97 142.185 Q1569.99 141.838 1571.01 141.676 Q1572.02 141.49 1573.04 141.49 Q1578.83 141.49 1582.21 144.662 Q1585.59 147.833 1585.59 153.25 Q1585.59 158.828 1582.12 161.93 Q1578.64 165.009 1572.32 165.009 Q1570.15 165.009 1567.88 164.638 Q1565.63 164.268 1563.23 163.527 L1563.23 158.828 Q1565.31 159.963 1567.53 160.518 Q1569.76 161.074 1572.23 161.074 Q1576.24 161.074 1578.57 158.967 Q1580.91 156.861 1580.91 153.25 Q1580.91 149.639 1578.57 147.532 Q1576.24 145.426 1572.23 145.426 Q1570.36 145.426 1568.48 145.842 Q1566.63 146.259 1564.69 147.139 L1564.69 129.778 Z\" fill=\"#000000\" fill-rule=\"evenodd\" fill-opacity=\"1\" /><path clip-path=\"url(#clip090)\" d=\"M1595.29 158.458 L1600.17 158.458 L1600.17 162.439 L1596.38 169.847 L1593.39 169.847 L1595.29 162.439 L1595.29 158.458 Z\" fill=\"#000000\" fill-rule=\"evenodd\" fill-opacity=\"1\" /><path clip-path=\"url(#clip090)\" d=\"M1624.18 128.319 L1628.46 128.319 L1628.46 149.592 L1641.17 138.412 L1646.61 138.412 L1632.86 150.541 L1647.19 164.338 L1641.63 164.338 L1628.46 151.676 L1628.46 164.338 L1624.18 164.338 L1624.18 128.319 Z\" fill=\"#000000\" fill-rule=\"evenodd\" fill-opacity=\"1\" /><path clip-path=\"url(#clip090)\" d=\"M1656.42 160.402 L1672.74 160.402 L1672.74 164.338 L1650.8 164.338 L1650.8 160.402 Q1653.46 157.648 1658.04 153.018 Q1662.65 148.365 1663.83 147.023 Q1666.07 144.5 1666.95 142.764 Q1667.86 141.004 1667.86 139.315 Q1667.86 136.56 1665.91 134.824 Q1663.99 133.088 1660.89 133.088 Q1658.69 133.088 1656.24 133.852 Q1653.81 134.615 1651.03 136.166 L1651.03 131.444 Q1653.85 130.31 1656.31 129.731 Q1658.76 129.153 1660.8 129.153 Q1666.17 129.153 1669.36 131.838 Q1672.56 134.523 1672.56 139.014 Q1672.56 141.143 1671.75 143.065 Q1670.96 144.963 1668.85 147.555 Q1668.27 148.227 1665.17 151.444 Q1662.07 154.639 1656.42 160.402 Z\" fill=\"#000000\" fill-rule=\"evenodd\" fill-opacity=\"1\" /><path clip-path=\"url(#clip090)\" d=\"M1682.51 142.81 L1712.18 142.81 L1712.18 146.699 L1682.51 146.699 L1682.51 142.81 M1682.51 152.254 L1712.18 152.254 L1712.18 156.189 L1682.51 156.189 L1682.51 152.254 Z\" fill=\"#000000\" fill-rule=\"evenodd\" fill-opacity=\"1\" /><path clip-path=\"url(#clip090)\" d=\"M1736.44 145.703 Q1739.8 146.421 1741.68 148.689 Q1743.57 150.958 1743.57 154.291 Q1743.57 159.407 1740.06 162.208 Q1736.54 165.009 1730.06 165.009 Q1727.88 165.009 1725.56 164.569 Q1723.27 164.152 1720.82 163.296 L1720.82 158.782 Q1722.76 159.916 1725.08 160.495 Q1727.39 161.074 1729.92 161.074 Q1734.31 161.074 1736.61 159.338 Q1738.92 157.601 1738.92 154.291 Q1738.92 151.236 1736.77 149.523 Q1734.64 147.787 1730.82 147.787 L1726.79 147.787 L1726.79 143.944 L1731 143.944 Q1734.45 143.944 1736.28 142.578 Q1738.11 141.19 1738.11 138.597 Q1738.11 135.935 1736.21 134.523 Q1734.34 133.088 1730.82 133.088 Q1728.9 133.088 1726.7 133.504 Q1724.5 133.921 1721.86 134.801 L1721.86 130.634 Q1724.52 129.893 1726.84 129.523 Q1729.18 129.153 1731.24 129.153 Q1736.56 129.153 1739.66 131.583 Q1742.76 133.99 1742.76 138.111 Q1742.76 140.981 1741.12 142.972 Q1739.48 144.94 1736.44 145.703 Z\" fill=\"#000000\" fill-rule=\"evenodd\" fill-opacity=\"1\" /><path clip-path=\"url(#clip090)\" d=\"M1752.93 158.458 L1757.81 158.458 L1757.81 162.439 L1754.01 169.847 L1751.03 169.847 L1752.93 162.439 L1752.93 158.458 Z\" fill=\"#000000\" fill-rule=\"evenodd\" fill-opacity=\"1\" /><path clip-path=\"url(#clip090)\" d=\"M1786.19 131.051 L1786.19 138.412 L1794.96 138.412 L1794.96 141.722 L1786.19 141.722 L1786.19 155.796 Q1786.19 158.967 1787.05 159.87 Q1787.93 160.773 1790.59 160.773 L1794.96 160.773 L1794.96 164.338 L1790.59 164.338 Q1785.66 164.338 1783.78 162.509 Q1781.91 160.657 1781.91 155.796 L1781.91 141.722 L1778.78 141.722 L1778.78 138.412 L1781.91 138.412 L1781.91 131.051 L1786.19 131.051 Z\" fill=\"#000000\" fill-rule=\"evenodd\" fill-opacity=\"1\" /><path clip-path=\"url(#clip090)\" d=\"M1815.59 142.393 Q1814.87 141.977 1814.01 141.791 Q1813.18 141.583 1812.16 141.583 Q1808.55 141.583 1806.61 143.944 Q1804.68 146.282 1804.68 150.68 L1804.68 164.338 L1800.4 164.338 L1800.4 138.412 L1804.68 138.412 L1804.68 142.44 Q1806.03 140.078 1808.18 138.944 Q1810.33 137.787 1813.41 137.787 Q1813.85 137.787 1814.38 137.856 Q1814.92 137.903 1815.56 138.018 L1815.59 142.393 Z\" fill=\"#000000\" fill-rule=\"evenodd\" fill-opacity=\"1\" /><path clip-path=\"url(#clip090)\" d=\"M1819.61 154.106 L1819.61 138.412 L1823.87 138.412 L1823.87 153.944 Q1823.87 157.625 1825.31 159.476 Q1826.74 161.305 1829.61 161.305 Q1833.06 161.305 1835.05 159.106 Q1837.07 156.907 1837.07 153.111 L1837.07 138.412 L1841.33 138.412 L1841.33 164.338 L1837.07 164.338 L1837.07 160.356 Q1835.52 162.717 1833.46 163.875 Q1831.42 165.009 1828.71 165.009 Q1824.24 165.009 1821.93 162.231 Q1819.61 159.453 1819.61 154.106 M1830.33 137.787 L1830.33 137.787 Z\" fill=\"#000000\" fill-rule=\"evenodd\" fill-opacity=\"1\" /><path clip-path=\"url(#clip090)\" d=\"M1871.65 148.689 L1871.65 164.338 L1867.39 164.338 L1867.39 148.828 Q1867.39 145.148 1865.96 143.319 Q1864.52 141.49 1861.65 141.49 Q1858.2 141.49 1856.21 143.69 Q1854.22 145.889 1854.22 149.685 L1854.22 164.338 L1849.94 164.338 L1849.94 138.412 L1854.22 138.412 L1854.22 142.44 Q1855.75 140.102 1857.81 138.944 Q1859.89 137.787 1862.6 137.787 Q1867.07 137.787 1869.36 140.565 Q1871.65 143.319 1871.65 148.689 Z\" fill=\"#000000\" fill-rule=\"evenodd\" fill-opacity=\"1\" /><path clip-path=\"url(#clip090)\" d=\"M1898.8 139.407 L1898.8 143.389 Q1897 142.393 1895.17 141.907 Q1893.36 141.398 1891.51 141.398 Q1887.37 141.398 1885.08 144.037 Q1882.79 146.652 1882.79 151.398 Q1882.79 156.143 1885.08 158.782 Q1887.37 161.398 1891.51 161.398 Q1893.36 161.398 1895.17 160.912 Q1897 160.402 1898.8 159.407 L1898.8 163.342 Q1897.02 164.176 1895.1 164.592 Q1893.2 165.009 1891.05 165.009 Q1885.19 165.009 1881.74 161.328 Q1878.3 157.648 1878.3 151.398 Q1878.3 145.055 1881.77 141.421 Q1885.26 137.787 1891.33 137.787 Q1893.3 137.787 1895.17 138.203 Q1897.05 138.597 1898.8 139.407 Z\" fill=\"#000000\" fill-rule=\"evenodd\" fill-opacity=\"1\" /><path clip-path=\"url(#clip090)\" d=\"M1917.99 151.305 Q1912.83 151.305 1910.84 152.486 Q1908.85 153.666 1908.85 156.514 Q1908.85 158.782 1910.33 160.125 Q1911.84 161.444 1914.41 161.444 Q1917.95 161.444 1920.08 158.944 Q1922.23 156.421 1922.23 152.254 L1922.23 151.305 L1917.99 151.305 M1926.49 149.546 L1926.49 164.338 L1922.23 164.338 L1922.23 160.402 Q1920.77 162.763 1918.6 163.898 Q1916.42 165.009 1913.27 165.009 Q1909.29 165.009 1906.93 162.787 Q1904.59 160.541 1904.59 156.791 Q1904.59 152.416 1907.51 150.194 Q1910.45 147.972 1916.26 147.972 L1922.23 147.972 L1922.23 147.555 Q1922.23 144.615 1920.29 143.018 Q1918.36 141.398 1914.87 141.398 Q1912.65 141.398 1910.54 141.93 Q1908.43 142.463 1906.49 143.527 L1906.49 139.592 Q1908.83 138.69 1911.03 138.25 Q1913.23 137.787 1915.31 137.787 Q1920.93 137.787 1923.71 140.703 Q1926.49 143.62 1926.49 149.546 Z\" fill=\"#000000\" fill-rule=\"evenodd\" fill-opacity=\"1\" /><path clip-path=\"url(#clip090)\" d=\"M1939.48 131.051 L1939.48 138.412 L1948.25 138.412 L1948.25 141.722 L1939.48 141.722 L1939.48 155.796 Q1939.48 158.967 1940.33 159.87 Q1941.21 160.773 1943.87 160.773 L1948.25 160.773 L1948.25 164.338 L1943.87 164.338 Q1938.94 164.338 1937.07 162.509 Q1935.19 160.657 1935.19 155.796 L1935.19 141.722 L1932.07 141.722 L1932.07 138.412 L1935.19 138.412 L1935.19 131.051 L1939.48 131.051 Z\" fill=\"#000000\" fill-rule=\"evenodd\" fill-opacity=\"1\" /><path clip-path=\"url(#clip090)\" d=\"M1953.85 138.412 L1958.11 138.412 L1958.11 164.338 L1953.85 164.338 L1953.85 138.412 M1953.85 128.319 L1958.11 128.319 L1958.11 133.713 L1953.85 133.713 L1953.85 128.319 Z\" fill=\"#000000\" fill-rule=\"evenodd\" fill-opacity=\"1\" /><path clip-path=\"url(#clip090)\" d=\"M1977.07 141.398 Q1973.64 141.398 1971.65 144.083 Q1969.66 146.745 1969.66 151.398 Q1969.66 156.051 1971.63 158.736 Q1973.62 161.398 1977.07 161.398 Q1980.47 161.398 1982.46 158.713 Q1984.45 156.027 1984.45 151.398 Q1984.45 146.791 1982.46 144.106 Q1980.47 141.398 1977.07 141.398 M1977.07 137.787 Q1982.62 137.787 1985.79 141.398 Q1988.97 145.009 1988.97 151.398 Q1988.97 157.764 1985.79 161.398 Q1982.62 165.009 1977.07 165.009 Q1971.49 165.009 1968.32 161.398 Q1965.17 157.764 1965.17 151.398 Q1965.17 145.009 1968.32 141.398 Q1971.49 137.787 1977.07 137.787 Z\" fill=\"#000000\" fill-rule=\"evenodd\" fill-opacity=\"1\" /><path clip-path=\"url(#clip090)\" d=\"M2017.58 148.689 L2017.58 164.338 L2013.32 164.338 L2013.32 148.828 Q2013.32 145.148 2011.88 143.319 Q2010.45 141.49 2007.58 141.49 Q2004.13 141.49 2002.14 143.69 Q2000.15 145.889 2000.15 149.685 L2000.15 164.338 L1995.86 164.338 L1995.86 138.412 L2000.15 138.412 L2000.15 142.44 Q2001.67 140.102 2003.73 138.944 Q2005.82 137.787 2008.53 137.787 Q2012.99 137.787 2015.29 140.565 Q2017.58 143.319 2017.58 148.689 Z\" fill=\"#000000\" fill-rule=\"evenodd\" fill-opacity=\"1\" /><path clip-path=\"url(#clip090)\" d=\"M2059.8 139.407 L2059.8 143.389 Q2057.99 142.393 2056.16 141.907 Q2054.36 141.398 2052.51 141.398 Q2048.36 141.398 2046.07 144.037 Q2043.78 146.652 2043.78 151.398 Q2043.78 156.143 2046.07 158.782 Q2048.36 161.398 2052.51 161.398 Q2054.36 161.398 2056.16 160.912 Q2057.99 160.402 2059.8 159.407 L2059.8 163.342 Q2058.02 164.176 2056.1 164.592 Q2054.2 165.009 2052.04 165.009 Q2046.19 165.009 2042.74 161.328 Q2039.29 157.648 2039.29 151.398 Q2039.29 145.055 2042.76 141.421 Q2046.26 137.787 2052.32 137.787 Q2054.29 137.787 2056.16 138.203 Q2058.04 138.597 2059.8 139.407 Z\" fill=\"#000000\" fill-rule=\"evenodd\" fill-opacity=\"1\" /><path clip-path=\"url(#clip090)\" d=\"M2066.77 154.106 L2066.77 138.412 L2071.03 138.412 L2071.03 153.944 Q2071.03 157.625 2072.46 159.476 Q2073.9 161.305 2076.77 161.305 Q2080.22 161.305 2082.21 159.106 Q2084.22 156.907 2084.22 153.111 L2084.22 138.412 L2088.48 138.412 L2088.48 164.338 L2084.22 164.338 L2084.22 160.356 Q2082.67 162.717 2080.61 163.875 Q2078.57 165.009 2075.86 165.009 Q2071.4 165.009 2069.08 162.231 Q2066.77 159.453 2066.77 154.106 M2077.48 137.787 L2077.48 137.787 Z\" fill=\"#000000\" fill-rule=\"evenodd\" fill-opacity=\"1\" /><path clip-path=\"url(#clip090)\" d=\"M2101.47 131.051 L2101.47 138.412 L2110.24 138.412 L2110.24 141.722 L2101.47 141.722 L2101.47 155.796 Q2101.47 158.967 2102.32 159.87 Q2103.2 160.773 2105.86 160.773 L2110.24 160.773 L2110.24 164.338 L2105.86 164.338 Q2100.93 164.338 2099.06 162.509 Q2097.18 160.657 2097.18 155.796 L2097.18 141.722 L2094.06 141.722 L2094.06 138.412 L2097.18 138.412 L2097.18 131.051 L2101.47 131.051 Z\" fill=\"#000000\" fill-rule=\"evenodd\" fill-opacity=\"1\" /><path clip-path=\"url(#clip090)\" d=\"M2125.89 141.398 Q2122.46 141.398 2120.47 144.083 Q2118.48 146.745 2118.48 151.398 Q2118.48 156.051 2120.45 158.736 Q2122.44 161.398 2125.89 161.398 Q2129.29 161.398 2131.28 158.713 Q2133.27 156.027 2133.27 151.398 Q2133.27 146.791 2131.28 144.106 Q2129.29 141.398 2125.89 141.398 M2125.89 137.787 Q2131.44 137.787 2134.61 141.398 Q2137.78 145.009 2137.78 151.398 Q2137.78 157.764 2134.61 161.398 Q2131.44 165.009 2125.89 165.009 Q2120.31 165.009 2117.14 161.398 Q2113.99 157.764 2113.99 151.398 Q2113.99 145.009 2117.14 141.398 Q2120.31 137.787 2125.89 137.787 Z\" fill=\"#000000\" fill-rule=\"evenodd\" fill-opacity=\"1\" /><path clip-path=\"url(#clip090)\" d=\"M2157.97 128.319 L2157.97 131.861 L2153.9 131.861 Q2151.6 131.861 2150.7 132.787 Q2149.82 133.713 2149.82 136.12 L2149.82 138.412 L2156.84 138.412 L2156.84 141.722 L2149.82 141.722 L2149.82 164.338 L2145.54 164.338 L2145.54 141.722 L2141.47 141.722 L2141.47 138.412 L2145.54 138.412 L2145.54 136.606 Q2145.54 132.278 2147.55 130.31 Q2149.57 128.319 2153.94 128.319 L2157.97 128.319 Z\" fill=\"#000000\" fill-rule=\"evenodd\" fill-opacity=\"1\" /><path clip-path=\"url(#clip090)\" d=\"M2174.66 128.319 L2174.66 131.861 L2170.59 131.861 Q2168.29 131.861 2167.39 132.787 Q2166.51 133.713 2166.51 136.12 L2166.51 138.412 L2173.53 138.412 L2173.53 141.722 L2166.51 141.722 L2166.51 164.338 L2162.23 164.338 L2162.23 141.722 L2158.15 141.722 L2158.15 138.412 L2162.23 138.412 L2162.23 136.606 Q2162.23 132.278 2164.24 130.31 Q2166.26 128.319 2170.63 128.319 L2174.66 128.319 Z\" fill=\"#000000\" fill-rule=\"evenodd\" fill-opacity=\"1\" /><path clip-path=\"url(#clip090)\" d=\"M2178.78 142.81 L2208.46 142.81 L2208.46 146.699 L2178.78 146.699 L2178.78 142.81 M2178.78 152.254 L2208.46 152.254 L2208.46 156.189 L2178.78 156.189 L2178.78 152.254 Z\" fill=\"#000000\" fill-rule=\"evenodd\" fill-opacity=\"1\" /><path clip-path=\"url(#clip090)\" d=\"M2228.55 132.856 Q2224.94 132.856 2223.11 136.421 Q2221.3 139.963 2221.3 147.092 Q2221.3 154.199 2223.11 157.764 Q2224.94 161.305 2228.55 161.305 Q2232.18 161.305 2233.99 157.764 Q2235.82 154.199 2235.82 147.092 Q2235.82 139.963 2233.99 136.421 Q2232.18 132.856 2228.55 132.856 M2228.55 129.153 Q2234.36 129.153 2237.41 133.759 Q2240.49 138.342 2240.49 147.092 Q2240.49 155.819 2237.41 160.426 Q2234.36 165.009 2228.55 165.009 Q2222.74 165.009 2219.66 160.426 Q2216.6 155.819 2216.6 147.092 Q2216.6 138.342 2219.66 133.759 Q2222.74 129.153 2228.55 129.153 Z\" fill=\"#000000\" fill-rule=\"evenodd\" fill-opacity=\"1\" /></svg>\n"
      ]
     },
     "metadata": {},
     "output_type": "display_data"
    },
    {
     "data": {
      "image/svg+xml": [
       "<?xml version=\"1.0\" encoding=\"utf-8\"?>\n",
       "<svg xmlns=\"http://www.w3.org/2000/svg\" xmlns:xlink=\"http://www.w3.org/1999/xlink\" width=\"600\" height=\"400\" viewBox=\"0 0 2400 1600\">\n",
       "<defs>\n",
       "  <clipPath id=\"clip130\">\n",
       "    <rect x=\"0\" y=\"0\" width=\"2400\" height=\"1600\"/>\n",
       "  </clipPath>\n",
       "</defs>\n",
       "<path clip-path=\"url(#clip130)\" d=\"\n",
       "M0 1600 L2400 1600 L2400 0 L0 0  Z\n",
       "  \" fill=\"#ffffff\" fill-rule=\"evenodd\" fill-opacity=\"1\"/>\n",
       "<defs>\n",
       "  <clipPath id=\"clip131\">\n",
       "    <rect x=\"480\" y=\"0\" width=\"1681\" height=\"1600\"/>\n",
       "  </clipPath>\n",
       "</defs>\n",
       "<path clip-path=\"url(#clip130)\" d=\"\n",
       "M224.098 1486.45 L2352.76 1486.45 L2352.76 47.2441 L224.098 47.2441  Z\n",
       "  \" fill=\"#ffffff\" fill-rule=\"evenodd\" fill-opacity=\"1\"/>\n",
       "<defs>\n",
       "  <clipPath id=\"clip132\">\n",
       "    <rect x=\"224\" y=\"47\" width=\"2130\" height=\"1440\"/>\n",
       "  </clipPath>\n",
       "</defs>\n",
       "<polyline clip-path=\"url(#clip132)\" style=\"stroke:#000000; stroke-linecap:round; stroke-linejoin:round; stroke-width:2; stroke-opacity:0.1; fill:none\" points=\"\n",
       "  284.343,1486.45 284.343,47.2441 \n",
       "  \"/>\n",
       "<polyline clip-path=\"url(#clip132)\" style=\"stroke:#000000; stroke-linecap:round; stroke-linejoin:round; stroke-width:2; stroke-opacity:0.1; fill:none\" points=\"\n",
       "  786.385,1486.45 786.385,47.2441 \n",
       "  \"/>\n",
       "<polyline clip-path=\"url(#clip132)\" style=\"stroke:#000000; stroke-linecap:round; stroke-linejoin:round; stroke-width:2; stroke-opacity:0.1; fill:none\" points=\"\n",
       "  1288.43,1486.45 1288.43,47.2441 \n",
       "  \"/>\n",
       "<polyline clip-path=\"url(#clip132)\" style=\"stroke:#000000; stroke-linecap:round; stroke-linejoin:round; stroke-width:2; stroke-opacity:0.1; fill:none\" points=\"\n",
       "  1790.47,1486.45 1790.47,47.2441 \n",
       "  \"/>\n",
       "<polyline clip-path=\"url(#clip132)\" style=\"stroke:#000000; stroke-linecap:round; stroke-linejoin:round; stroke-width:2; stroke-opacity:0.1; fill:none\" points=\"\n",
       "  2292.51,1486.45 2292.51,47.2441 \n",
       "  \"/>\n",
       "<polyline clip-path=\"url(#clip130)\" style=\"stroke:#000000; stroke-linecap:round; stroke-linejoin:round; stroke-width:4; stroke-opacity:1; fill:none\" points=\"\n",
       "  224.098,1486.45 2352.76,1486.45 \n",
       "  \"/>\n",
       "<polyline clip-path=\"url(#clip130)\" style=\"stroke:#000000; stroke-linecap:round; stroke-linejoin:round; stroke-width:4; stroke-opacity:1; fill:none\" points=\"\n",
       "  284.343,1486.45 284.343,1467.55 \n",
       "  \"/>\n",
       "<polyline clip-path=\"url(#clip130)\" style=\"stroke:#000000; stroke-linecap:round; stroke-linejoin:round; stroke-width:4; stroke-opacity:1; fill:none\" points=\"\n",
       "  786.385,1486.45 786.385,1467.55 \n",
       "  \"/>\n",
       "<polyline clip-path=\"url(#clip130)\" style=\"stroke:#000000; stroke-linecap:round; stroke-linejoin:round; stroke-width:4; stroke-opacity:1; fill:none\" points=\"\n",
       "  1288.43,1486.45 1288.43,1467.55 \n",
       "  \"/>\n",
       "<polyline clip-path=\"url(#clip130)\" style=\"stroke:#000000; stroke-linecap:round; stroke-linejoin:round; stroke-width:4; stroke-opacity:1; fill:none\" points=\"\n",
       "  1790.47,1486.45 1790.47,1467.55 \n",
       "  \"/>\n",
       "<polyline clip-path=\"url(#clip130)\" style=\"stroke:#000000; stroke-linecap:round; stroke-linejoin:round; stroke-width:4; stroke-opacity:1; fill:none\" points=\"\n",
       "  2292.51,1486.45 2292.51,1467.55 \n",
       "  \"/>\n",
       "<path clip-path=\"url(#clip130)\" d=\"M231.565 1517.37 Q227.954 1517.37 226.126 1520.93 Q224.32 1524.47 224.32 1531.6 Q224.32 1538.71 226.126 1542.27 Q227.954 1545.82 231.565 1545.82 Q235.2 1545.82 237.005 1542.27 Q238.834 1538.71 238.834 1531.6 Q238.834 1524.47 237.005 1520.93 Q235.2 1517.37 231.565 1517.37 M231.565 1513.66 Q237.376 1513.66 240.431 1518.27 Q243.51 1522.85 243.51 1531.6 Q243.51 1540.33 240.431 1544.94 Q237.376 1549.52 231.565 1549.52 Q225.755 1549.52 222.677 1544.94 Q219.621 1540.33 219.621 1531.6 Q219.621 1522.85 222.677 1518.27 Q225.755 1513.66 231.565 1513.66 Z\" fill=\"#000000\" fill-rule=\"evenodd\" fill-opacity=\"1\" /><path clip-path=\"url(#clip130)\" d=\"M251.727 1542.97 L256.612 1542.97 L256.612 1548.85 L251.727 1548.85 L251.727 1542.97 Z\" fill=\"#000000\" fill-rule=\"evenodd\" fill-opacity=\"1\" /><path clip-path=\"url(#clip130)\" d=\"M276.797 1517.37 Q273.186 1517.37 271.357 1520.93 Q269.551 1524.47 269.551 1531.6 Q269.551 1538.71 271.357 1542.27 Q273.186 1545.82 276.797 1545.82 Q280.431 1545.82 282.236 1542.27 Q284.065 1538.71 284.065 1531.6 Q284.065 1524.47 282.236 1520.93 Q280.431 1517.37 276.797 1517.37 M276.797 1513.66 Q282.607 1513.66 285.662 1518.27 Q288.741 1522.85 288.741 1531.6 Q288.741 1540.33 285.662 1544.94 Q282.607 1549.52 276.797 1549.52 Q270.987 1549.52 267.908 1544.94 Q264.852 1540.33 264.852 1531.6 Q264.852 1522.85 267.908 1518.27 Q270.987 1513.66 276.797 1513.66 Z\" fill=\"#000000\" fill-rule=\"evenodd\" fill-opacity=\"1\" /><path clip-path=\"url(#clip130)\" d=\"M306.959 1517.37 Q303.347 1517.37 301.519 1520.93 Q299.713 1524.47 299.713 1531.6 Q299.713 1538.71 301.519 1542.27 Q303.347 1545.82 306.959 1545.82 Q310.593 1545.82 312.398 1542.27 Q314.227 1538.71 314.227 1531.6 Q314.227 1524.47 312.398 1520.93 Q310.593 1517.37 306.959 1517.37 M306.959 1513.66 Q312.769 1513.66 315.824 1518.27 Q318.903 1522.85 318.903 1531.6 Q318.903 1540.33 315.824 1544.94 Q312.769 1549.52 306.959 1549.52 Q301.148 1549.52 298.07 1544.94 Q295.014 1540.33 295.014 1531.6 Q295.014 1522.85 298.07 1518.27 Q301.148 1513.66 306.959 1513.66 Z\" fill=\"#000000\" fill-rule=\"evenodd\" fill-opacity=\"1\" /><path clip-path=\"url(#clip130)\" d=\"M337.12 1517.37 Q333.509 1517.37 331.681 1520.93 Q329.875 1524.47 329.875 1531.6 Q329.875 1538.71 331.681 1542.27 Q333.509 1545.82 337.12 1545.82 Q340.755 1545.82 342.56 1542.27 Q344.389 1538.71 344.389 1531.6 Q344.389 1524.47 342.56 1520.93 Q340.755 1517.37 337.12 1517.37 M337.12 1513.66 Q342.931 1513.66 345.986 1518.27 Q349.065 1522.85 349.065 1531.6 Q349.065 1540.33 345.986 1544.94 Q342.931 1549.52 337.12 1549.52 Q331.31 1549.52 328.232 1544.94 Q325.176 1540.33 325.176 1531.6 Q325.176 1522.85 328.232 1518.27 Q331.31 1513.66 337.12 1513.66 Z\" fill=\"#000000\" fill-rule=\"evenodd\" fill-opacity=\"1\" /><path clip-path=\"url(#clip130)\" d=\"M734.105 1517.37 Q730.494 1517.37 728.665 1520.93 Q726.86 1524.47 726.86 1531.6 Q726.86 1538.71 728.665 1542.27 Q730.494 1545.82 734.105 1545.82 Q737.739 1545.82 739.545 1542.27 Q741.374 1538.71 741.374 1531.6 Q741.374 1524.47 739.545 1520.93 Q737.739 1517.37 734.105 1517.37 M734.105 1513.66 Q739.915 1513.66 742.971 1518.27 Q746.049 1522.85 746.049 1531.6 Q746.049 1540.33 742.971 1544.94 Q739.915 1549.52 734.105 1549.52 Q728.295 1549.52 725.216 1544.94 Q722.161 1540.33 722.161 1531.6 Q722.161 1522.85 725.216 1518.27 Q728.295 1513.66 734.105 1513.66 Z\" fill=\"#000000\" fill-rule=\"evenodd\" fill-opacity=\"1\" /><path clip-path=\"url(#clip130)\" d=\"M754.267 1542.97 L759.151 1542.97 L759.151 1548.85 L754.267 1548.85 L754.267 1542.97 Z\" fill=\"#000000\" fill-rule=\"evenodd\" fill-opacity=\"1\" /><path clip-path=\"url(#clip130)\" d=\"M779.336 1517.37 Q775.725 1517.37 773.897 1520.93 Q772.091 1524.47 772.091 1531.6 Q772.091 1538.71 773.897 1542.27 Q775.725 1545.82 779.336 1545.82 Q782.971 1545.82 784.776 1542.27 Q786.605 1538.71 786.605 1531.6 Q786.605 1524.47 784.776 1520.93 Q782.971 1517.37 779.336 1517.37 M779.336 1513.66 Q785.146 1513.66 788.202 1518.27 Q791.281 1522.85 791.281 1531.6 Q791.281 1540.33 788.202 1544.94 Q785.146 1549.52 779.336 1549.52 Q773.526 1549.52 770.447 1544.94 Q767.392 1540.33 767.392 1531.6 Q767.392 1522.85 770.447 1518.27 Q773.526 1513.66 779.336 1513.66 Z\" fill=\"#000000\" fill-rule=\"evenodd\" fill-opacity=\"1\" /><path clip-path=\"url(#clip130)\" d=\"M809.498 1517.37 Q805.887 1517.37 804.058 1520.93 Q802.253 1524.47 802.253 1531.6 Q802.253 1538.71 804.058 1542.27 Q805.887 1545.82 809.498 1545.82 Q813.132 1545.82 814.938 1542.27 Q816.767 1538.71 816.767 1531.6 Q816.767 1524.47 814.938 1520.93 Q813.132 1517.37 809.498 1517.37 M809.498 1513.66 Q815.308 1513.66 818.364 1518.27 Q821.443 1522.85 821.443 1531.6 Q821.443 1540.33 818.364 1544.94 Q815.308 1549.52 809.498 1549.52 Q803.688 1549.52 800.609 1544.94 Q797.554 1540.33 797.554 1531.6 Q797.554 1522.85 800.609 1518.27 Q803.688 1513.66 809.498 1513.66 Z\" fill=\"#000000\" fill-rule=\"evenodd\" fill-opacity=\"1\" /><path clip-path=\"url(#clip130)\" d=\"M829.706 1514.29 L848.063 1514.29 L848.063 1518.22 L833.989 1518.22 L833.989 1526.7 Q835.007 1526.35 836.026 1526.19 Q837.044 1526 838.063 1526 Q843.85 1526 847.229 1529.17 Q850.609 1532.34 850.609 1537.76 Q850.609 1543.34 847.137 1546.44 Q843.665 1549.52 837.345 1549.52 Q835.169 1549.52 832.901 1549.15 Q830.655 1548.78 828.248 1548.04 L828.248 1543.34 Q830.331 1544.47 832.554 1545.03 Q834.776 1545.58 837.253 1545.58 Q841.257 1545.58 843.595 1543.48 Q845.933 1541.37 845.933 1537.76 Q845.933 1534.15 843.595 1532.04 Q841.257 1529.94 837.253 1529.94 Q835.378 1529.94 833.503 1530.35 Q831.651 1530.77 829.706 1531.65 L829.706 1514.29 Z\" fill=\"#000000\" fill-rule=\"evenodd\" fill-opacity=\"1\" /><path clip-path=\"url(#clip130)\" d=\"M1235.65 1517.37 Q1232.04 1517.37 1230.21 1520.93 Q1228.4 1524.47 1228.4 1531.6 Q1228.4 1538.71 1230.21 1542.27 Q1232.04 1545.82 1235.65 1545.82 Q1239.28 1545.82 1241.09 1542.27 Q1242.92 1538.71 1242.92 1531.6 Q1242.92 1524.47 1241.09 1520.93 Q1239.28 1517.37 1235.65 1517.37 M1235.65 1513.66 Q1241.46 1513.66 1244.52 1518.27 Q1247.59 1522.85 1247.59 1531.6 Q1247.59 1540.33 1244.52 1544.94 Q1241.46 1549.52 1235.65 1549.52 Q1229.84 1549.52 1226.76 1544.94 Q1223.71 1540.33 1223.71 1531.6 Q1223.71 1522.85 1226.76 1518.27 Q1229.84 1513.66 1235.65 1513.66 Z\" fill=\"#000000\" fill-rule=\"evenodd\" fill-opacity=\"1\" /><path clip-path=\"url(#clip130)\" d=\"M1255.81 1542.97 L1260.7 1542.97 L1260.7 1548.85 L1255.81 1548.85 L1255.81 1542.97 Z\" fill=\"#000000\" fill-rule=\"evenodd\" fill-opacity=\"1\" /><path clip-path=\"url(#clip130)\" d=\"M1280.88 1517.37 Q1277.27 1517.37 1275.44 1520.93 Q1273.64 1524.47 1273.64 1531.6 Q1273.64 1538.71 1275.44 1542.27 Q1277.27 1545.82 1280.88 1545.82 Q1284.51 1545.82 1286.32 1542.27 Q1288.15 1538.71 1288.15 1531.6 Q1288.15 1524.47 1286.32 1520.93 Q1284.51 1517.37 1280.88 1517.37 M1280.88 1513.66 Q1286.69 1513.66 1289.75 1518.27 Q1292.83 1522.85 1292.83 1531.6 Q1292.83 1540.33 1289.75 1544.94 Q1286.69 1549.52 1280.88 1549.52 Q1275.07 1549.52 1271.99 1544.94 Q1268.94 1540.33 1268.94 1531.6 Q1268.94 1522.85 1271.99 1518.27 Q1275.07 1513.66 1280.88 1513.66 Z\" fill=\"#000000\" fill-rule=\"evenodd\" fill-opacity=\"1\" /><path clip-path=\"url(#clip130)\" d=\"M1301.85 1544.91 L1309.49 1544.91 L1309.49 1518.55 L1301.18 1520.21 L1301.18 1515.95 L1309.45 1514.29 L1314.12 1514.29 L1314.12 1544.91 L1321.76 1544.91 L1321.76 1548.85 L1301.85 1548.85 L1301.85 1544.91 Z\" fill=\"#000000\" fill-rule=\"evenodd\" fill-opacity=\"1\" /><path clip-path=\"url(#clip130)\" d=\"M1341.2 1517.37 Q1337.59 1517.37 1335.76 1520.93 Q1333.96 1524.47 1333.96 1531.6 Q1333.96 1538.71 1335.76 1542.27 Q1337.59 1545.82 1341.2 1545.82 Q1344.84 1545.82 1346.64 1542.27 Q1348.47 1538.71 1348.47 1531.6 Q1348.47 1524.47 1346.64 1520.93 Q1344.84 1517.37 1341.2 1517.37 M1341.2 1513.66 Q1347.01 1513.66 1350.07 1518.27 Q1353.15 1522.85 1353.15 1531.6 Q1353.15 1540.33 1350.07 1544.94 Q1347.01 1549.52 1341.2 1549.52 Q1335.39 1549.52 1332.32 1544.94 Q1329.26 1540.33 1329.26 1531.6 Q1329.26 1522.85 1332.32 1518.27 Q1335.39 1513.66 1341.2 1513.66 Z\" fill=\"#000000\" fill-rule=\"evenodd\" fill-opacity=\"1\" /><path clip-path=\"url(#clip130)\" d=\"M1738.19 1517.37 Q1734.58 1517.37 1732.75 1520.93 Q1730.94 1524.47 1730.94 1531.6 Q1730.94 1538.71 1732.75 1542.27 Q1734.58 1545.82 1738.19 1545.82 Q1741.82 1545.82 1743.63 1542.27 Q1745.46 1538.71 1745.46 1531.6 Q1745.46 1524.47 1743.63 1520.93 Q1741.82 1517.37 1738.19 1517.37 M1738.19 1513.66 Q1744 1513.66 1747.05 1518.27 Q1750.13 1522.85 1750.13 1531.6 Q1750.13 1540.33 1747.05 1544.94 Q1744 1549.52 1738.19 1549.52 Q1732.38 1549.52 1729.3 1544.94 Q1726.24 1540.33 1726.24 1531.6 Q1726.24 1522.85 1729.3 1518.27 Q1732.38 1513.66 1738.19 1513.66 Z\" fill=\"#000000\" fill-rule=\"evenodd\" fill-opacity=\"1\" /><path clip-path=\"url(#clip130)\" d=\"M1758.35 1542.97 L1763.24 1542.97 L1763.24 1548.85 L1758.35 1548.85 L1758.35 1542.97 Z\" fill=\"#000000\" fill-rule=\"evenodd\" fill-opacity=\"1\" /><path clip-path=\"url(#clip130)\" d=\"M1783.42 1517.37 Q1779.81 1517.37 1777.98 1520.93 Q1776.17 1524.47 1776.17 1531.6 Q1776.17 1538.71 1777.98 1542.27 Q1779.81 1545.82 1783.42 1545.82 Q1787.05 1545.82 1788.86 1542.27 Q1790.69 1538.71 1790.69 1531.6 Q1790.69 1524.47 1788.86 1520.93 Q1787.05 1517.37 1783.42 1517.37 M1783.42 1513.66 Q1789.23 1513.66 1792.29 1518.27 Q1795.36 1522.85 1795.36 1531.6 Q1795.36 1540.33 1792.29 1544.94 Q1789.23 1549.52 1783.42 1549.52 Q1777.61 1549.52 1774.53 1544.94 Q1771.48 1540.33 1771.48 1531.6 Q1771.48 1522.85 1774.53 1518.27 Q1777.61 1513.66 1783.42 1513.66 Z\" fill=\"#000000\" fill-rule=\"evenodd\" fill-opacity=\"1\" /><path clip-path=\"url(#clip130)\" d=\"M1804.39 1544.91 L1812.03 1544.91 L1812.03 1518.55 L1803.72 1520.21 L1803.72 1515.95 L1811.98 1514.29 L1816.66 1514.29 L1816.66 1544.91 L1824.3 1544.91 L1824.3 1548.85 L1804.39 1548.85 L1804.39 1544.91 Z\" fill=\"#000000\" fill-rule=\"evenodd\" fill-opacity=\"1\" /><path clip-path=\"url(#clip130)\" d=\"M1833.79 1514.29 L1852.15 1514.29 L1852.15 1518.22 L1838.07 1518.22 L1838.07 1526.7 Q1839.09 1526.35 1840.11 1526.19 Q1841.13 1526 1842.15 1526 Q1847.93 1526 1851.31 1529.17 Q1854.69 1532.34 1854.69 1537.76 Q1854.69 1543.34 1851.22 1546.44 Q1847.75 1549.52 1841.43 1549.52 Q1839.25 1549.52 1836.98 1549.15 Q1834.74 1548.78 1832.33 1548.04 L1832.33 1543.34 Q1834.42 1544.47 1836.64 1545.03 Q1838.86 1545.58 1841.34 1545.58 Q1845.34 1545.58 1847.68 1543.48 Q1850.02 1541.37 1850.02 1537.76 Q1850.02 1534.15 1847.68 1532.04 Q1845.34 1529.94 1841.34 1529.94 Q1839.46 1529.94 1837.59 1530.35 Q1835.73 1530.77 1833.79 1531.65 L1833.79 1514.29 Z\" fill=\"#000000\" fill-rule=\"evenodd\" fill-opacity=\"1\" /><path clip-path=\"url(#clip130)\" d=\"M2239.73 1517.37 Q2236.12 1517.37 2234.29 1520.93 Q2232.49 1524.47 2232.49 1531.6 Q2232.49 1538.71 2234.29 1542.27 Q2236.12 1545.82 2239.73 1545.82 Q2243.37 1545.82 2245.17 1542.27 Q2247 1538.71 2247 1531.6 Q2247 1524.47 2245.17 1520.93 Q2243.37 1517.37 2239.73 1517.37 M2239.73 1513.66 Q2245.54 1513.66 2248.6 1518.27 Q2251.68 1522.85 2251.68 1531.6 Q2251.68 1540.33 2248.6 1544.94 Q2245.54 1549.52 2239.73 1549.52 Q2233.92 1549.52 2230.84 1544.94 Q2227.79 1540.33 2227.79 1531.6 Q2227.79 1522.85 2230.84 1518.27 Q2233.92 1513.66 2239.73 1513.66 Z\" fill=\"#000000\" fill-rule=\"evenodd\" fill-opacity=\"1\" /><path clip-path=\"url(#clip130)\" d=\"M2259.9 1542.97 L2264.78 1542.97 L2264.78 1548.85 L2259.9 1548.85 L2259.9 1542.97 Z\" fill=\"#000000\" fill-rule=\"evenodd\" fill-opacity=\"1\" /><path clip-path=\"url(#clip130)\" d=\"M2284.96 1517.37 Q2281.35 1517.37 2279.52 1520.93 Q2277.72 1524.47 2277.72 1531.6 Q2277.72 1538.71 2279.52 1542.27 Q2281.35 1545.82 2284.96 1545.82 Q2288.6 1545.82 2290.4 1542.27 Q2292.23 1538.71 2292.23 1531.6 Q2292.23 1524.47 2290.4 1520.93 Q2288.6 1517.37 2284.96 1517.37 M2284.96 1513.66 Q2290.77 1513.66 2293.83 1518.27 Q2296.91 1522.85 2296.91 1531.6 Q2296.91 1540.33 2293.83 1544.94 Q2290.77 1549.52 2284.96 1549.52 Q2279.15 1549.52 2276.08 1544.94 Q2273.02 1540.33 2273.02 1531.6 Q2273.02 1522.85 2276.08 1518.27 Q2279.15 1513.66 2284.96 1513.66 Z\" fill=\"#000000\" fill-rule=\"evenodd\" fill-opacity=\"1\" /><path clip-path=\"url(#clip130)\" d=\"M2309.15 1544.91 L2325.47 1544.91 L2325.47 1548.85 L2303.53 1548.85 L2303.53 1544.91 Q2306.19 1542.16 2310.77 1537.53 Q2315.38 1532.88 2316.56 1531.53 Q2318.81 1529.01 2319.69 1527.27 Q2320.59 1525.51 2320.59 1523.82 Q2320.59 1521.07 2318.64 1519.33 Q2316.72 1517.6 2313.62 1517.6 Q2311.42 1517.6 2308.97 1518.36 Q2306.54 1519.13 2303.76 1520.68 L2303.76 1515.95 Q2306.58 1514.82 2309.04 1514.24 Q2311.49 1513.66 2313.53 1513.66 Q2318.9 1513.66 2322.09 1516.35 Q2325.29 1519.03 2325.29 1523.52 Q2325.29 1525.65 2324.48 1527.57 Q2323.69 1529.47 2321.58 1532.07 Q2321.01 1532.74 2317.9 1535.95 Q2314.8 1539.15 2309.15 1544.91 Z\" fill=\"#000000\" fill-rule=\"evenodd\" fill-opacity=\"1\" /><path clip-path=\"url(#clip130)\" d=\"M2345.29 1517.37 Q2341.68 1517.37 2339.85 1520.93 Q2338.04 1524.47 2338.04 1531.6 Q2338.04 1538.71 2339.85 1542.27 Q2341.68 1545.82 2345.29 1545.82 Q2348.92 1545.82 2350.73 1542.27 Q2352.56 1538.71 2352.56 1531.6 Q2352.56 1524.47 2350.73 1520.93 Q2348.92 1517.37 2345.29 1517.37 M2345.29 1513.66 Q2351.1 1513.66 2354.15 1518.27 Q2357.23 1522.85 2357.23 1531.6 Q2357.23 1540.33 2354.15 1544.94 Q2351.1 1549.52 2345.29 1549.52 Q2339.48 1549.52 2336.4 1544.94 Q2333.34 1540.33 2333.34 1531.6 Q2333.34 1522.85 2336.4 1518.27 Q2339.48 1513.66 2345.29 1513.66 Z\" fill=\"#000000\" fill-rule=\"evenodd\" fill-opacity=\"1\" /><polyline clip-path=\"url(#clip132)\" style=\"stroke:#000000; stroke-linecap:round; stroke-linejoin:round; stroke-width:2; stroke-opacity:0.1; fill:none\" points=\"\n",
       "  224.098,1485.09 2352.76,1485.09 \n",
       "  \"/>\n",
       "<polyline clip-path=\"url(#clip132)\" style=\"stroke:#000000; stroke-linecap:round; stroke-linejoin:round; stroke-width:2; stroke-opacity:0.1; fill:none\" points=\"\n",
       "  224.098,1191.46 2352.76,1191.46 \n",
       "  \"/>\n",
       "<polyline clip-path=\"url(#clip132)\" style=\"stroke:#000000; stroke-linecap:round; stroke-linejoin:round; stroke-width:2; stroke-opacity:0.1; fill:none\" points=\"\n",
       "  224.098,897.825 2352.76,897.825 \n",
       "  \"/>\n",
       "<polyline clip-path=\"url(#clip132)\" style=\"stroke:#000000; stroke-linecap:round; stroke-linejoin:round; stroke-width:2; stroke-opacity:0.1; fill:none\" points=\"\n",
       "  224.098,604.194 2352.76,604.194 \n",
       "  \"/>\n",
       "<polyline clip-path=\"url(#clip132)\" style=\"stroke:#000000; stroke-linecap:round; stroke-linejoin:round; stroke-width:2; stroke-opacity:0.1; fill:none\" points=\"\n",
       "  224.098,310.564 2352.76,310.564 \n",
       "  \"/>\n",
       "<polyline clip-path=\"url(#clip130)\" style=\"stroke:#000000; stroke-linecap:round; stroke-linejoin:round; stroke-width:4; stroke-opacity:1; fill:none\" points=\"\n",
       "  224.098,1486.45 224.098,47.2441 \n",
       "  \"/>\n",
       "<polyline clip-path=\"url(#clip130)\" style=\"stroke:#000000; stroke-linecap:round; stroke-linejoin:round; stroke-width:4; stroke-opacity:1; fill:none\" points=\"\n",
       "  224.098,1485.09 242.996,1485.09 \n",
       "  \"/>\n",
       "<polyline clip-path=\"url(#clip130)\" style=\"stroke:#000000; stroke-linecap:round; stroke-linejoin:round; stroke-width:4; stroke-opacity:1; fill:none\" points=\"\n",
       "  224.098,1191.46 242.996,1191.46 \n",
       "  \"/>\n",
       "<polyline clip-path=\"url(#clip130)\" style=\"stroke:#000000; stroke-linecap:round; stroke-linejoin:round; stroke-width:4; stroke-opacity:1; fill:none\" points=\"\n",
       "  224.098,897.825 242.996,897.825 \n",
       "  \"/>\n",
       "<polyline clip-path=\"url(#clip130)\" style=\"stroke:#000000; stroke-linecap:round; stroke-linejoin:round; stroke-width:4; stroke-opacity:1; fill:none\" points=\"\n",
       "  224.098,604.194 242.996,604.194 \n",
       "  \"/>\n",
       "<polyline clip-path=\"url(#clip130)\" style=\"stroke:#000000; stroke-linecap:round; stroke-linejoin:round; stroke-width:4; stroke-opacity:1; fill:none\" points=\"\n",
       "  224.098,310.564 242.996,310.564 \n",
       "  \"/>\n",
       "<path clip-path=\"url(#clip130)\" d=\"M51.9875 1485.54 L81.6633 1485.54 L81.6633 1489.47 L51.9875 1489.47 L51.9875 1485.54 Z\" fill=\"#000000\" fill-rule=\"evenodd\" fill-opacity=\"1\" /><path clip-path=\"url(#clip130)\" d=\"M92.566 1498.43 L100.205 1498.43 L100.205 1472.07 L91.8947 1473.73 L91.8947 1469.47 L100.159 1467.81 L104.834 1467.81 L104.834 1498.43 L112.473 1498.43 L112.473 1502.37 L92.566 1502.37 L92.566 1498.43 Z\" fill=\"#000000\" fill-rule=\"evenodd\" fill-opacity=\"1\" /><path clip-path=\"url(#clip130)\" d=\"M121.964 1467.81 L140.32 1467.81 L140.32 1471.74 L126.246 1471.74 L126.246 1480.21 Q127.265 1479.87 128.283 1479.7 Q129.302 1479.52 130.32 1479.52 Q136.107 1479.52 139.487 1482.69 Q142.867 1485.86 142.867 1491.28 Q142.867 1496.86 139.394 1499.96 Q135.922 1503.04 129.603 1503.04 Q127.427 1503.04 125.158 1502.67 Q122.913 1502.3 120.506 1501.56 L120.506 1496.86 Q122.589 1497.99 124.811 1498.55 Q127.033 1499.1 129.51 1499.1 Q133.515 1499.1 135.853 1497 Q138.191 1494.89 138.191 1491.28 Q138.191 1487.67 135.853 1485.56 Q133.515 1483.45 129.51 1483.45 Q127.635 1483.45 125.76 1483.87 Q123.908 1484.29 121.964 1485.17 L121.964 1467.81 Z\" fill=\"#000000\" fill-rule=\"evenodd\" fill-opacity=\"1\" /><path clip-path=\"url(#clip130)\" d=\"M152.08 1496.49 L156.964 1496.49 L156.964 1502.37 L152.08 1502.37 L152.08 1496.49 Z\" fill=\"#000000\" fill-rule=\"evenodd\" fill-opacity=\"1\" /><path clip-path=\"url(#clip130)\" d=\"M167.195 1467.81 L185.552 1467.81 L185.552 1471.74 L171.478 1471.74 L171.478 1480.21 Q172.496 1479.87 173.515 1479.7 Q174.533 1479.52 175.552 1479.52 Q181.339 1479.52 184.718 1482.69 Q188.098 1485.86 188.098 1491.28 Q188.098 1496.86 184.626 1499.96 Q181.153 1503.04 174.834 1503.04 Q172.658 1503.04 170.39 1502.67 Q168.144 1502.3 165.737 1501.56 L165.737 1496.86 Q167.82 1497.99 170.042 1498.55 Q172.265 1499.1 174.741 1499.1 Q178.746 1499.1 181.084 1497 Q183.422 1494.89 183.422 1491.28 Q183.422 1487.67 181.084 1485.56 Q178.746 1483.45 174.741 1483.45 Q172.866 1483.45 170.991 1483.87 Q169.14 1484.29 167.195 1485.17 L167.195 1467.81 Z\" fill=\"#000000\" fill-rule=\"evenodd\" fill-opacity=\"1\" /><path clip-path=\"url(#clip130)\" d=\"M50.9921 1191.91 L80.6679 1191.91 L80.6679 1195.84 L50.9921 1195.84 L50.9921 1191.91 Z\" fill=\"#000000\" fill-rule=\"evenodd\" fill-opacity=\"1\" /><path clip-path=\"url(#clip130)\" d=\"M91.5706 1204.8 L99.2095 1204.8 L99.2095 1178.43 L90.8993 1180.1 L90.8993 1175.84 L99.1632 1174.18 L103.839 1174.18 L103.839 1204.8 L111.478 1204.8 L111.478 1208.74 L91.5706 1208.74 L91.5706 1204.8 Z\" fill=\"#000000\" fill-rule=\"evenodd\" fill-opacity=\"1\" /><path clip-path=\"url(#clip130)\" d=\"M120.969 1174.18 L139.325 1174.18 L139.325 1178.11 L125.251 1178.11 L125.251 1186.58 Q126.27 1186.24 127.288 1186.07 Q128.307 1185.89 129.325 1185.89 Q135.112 1185.89 138.492 1189.06 Q141.871 1192.23 141.871 1197.65 Q141.871 1203.23 138.399 1206.33 Q134.927 1209.41 128.607 1209.41 Q126.432 1209.41 124.163 1209.04 Q121.918 1208.67 119.51 1207.93 L119.51 1203.23 Q121.594 1204.36 123.816 1204.92 Q126.038 1205.47 128.515 1205.47 Q132.519 1205.47 134.857 1203.37 Q137.195 1201.26 137.195 1197.65 Q137.195 1194.04 134.857 1191.93 Q132.519 1189.82 128.515 1189.82 Q126.64 1189.82 124.765 1190.24 Q122.913 1190.66 120.969 1191.54 L120.969 1174.18 Z\" fill=\"#000000\" fill-rule=\"evenodd\" fill-opacity=\"1\" /><path clip-path=\"url(#clip130)\" d=\"M151.084 1202.86 L155.968 1202.86 L155.968 1208.74 L151.084 1208.74 L151.084 1202.86 Z\" fill=\"#000000\" fill-rule=\"evenodd\" fill-opacity=\"1\" /><path clip-path=\"url(#clip130)\" d=\"M176.153 1177.25 Q172.542 1177.25 170.714 1180.82 Q168.908 1184.36 168.908 1191.49 Q168.908 1198.6 170.714 1202.16 Q172.542 1205.7 176.153 1205.7 Q179.788 1205.7 181.593 1202.16 Q183.422 1198.6 183.422 1191.49 Q183.422 1184.36 181.593 1180.82 Q179.788 1177.25 176.153 1177.25 M176.153 1173.55 Q181.964 1173.55 185.019 1178.16 Q188.098 1182.74 188.098 1191.49 Q188.098 1200.22 185.019 1204.82 Q181.964 1209.41 176.153 1209.41 Q170.343 1209.41 167.265 1204.82 Q164.209 1200.22 164.209 1191.49 Q164.209 1182.74 167.265 1178.16 Q170.343 1173.55 176.153 1173.55 Z\" fill=\"#000000\" fill-rule=\"evenodd\" fill-opacity=\"1\" /><path clip-path=\"url(#clip130)\" d=\"M51.9875 898.276 L81.6633 898.276 L81.6633 902.211 L51.9875 902.211 L51.9875 898.276 Z\" fill=\"#000000\" fill-rule=\"evenodd\" fill-opacity=\"1\" /><path clip-path=\"url(#clip130)\" d=\"M92.566 911.17 L100.205 911.17 L100.205 884.804 L91.8947 886.471 L91.8947 882.212 L100.159 880.545 L104.834 880.545 L104.834 911.17 L112.473 911.17 L112.473 915.105 L92.566 915.105 L92.566 911.17 Z\" fill=\"#000000\" fill-rule=\"evenodd\" fill-opacity=\"1\" /><path clip-path=\"url(#clip130)\" d=\"M134.765 884.619 L122.959 903.068 L134.765 903.068 L134.765 884.619 M133.538 880.545 L139.418 880.545 L139.418 903.068 L144.348 903.068 L144.348 906.957 L139.418 906.957 L139.418 915.105 L134.765 915.105 L134.765 906.957 L119.163 906.957 L119.163 902.443 L133.538 880.545 Z\" fill=\"#000000\" fill-rule=\"evenodd\" fill-opacity=\"1\" /><path clip-path=\"url(#clip130)\" d=\"M152.08 909.225 L156.964 909.225 L156.964 915.105 L152.08 915.105 L152.08 909.225 Z\" fill=\"#000000\" fill-rule=\"evenodd\" fill-opacity=\"1\" /><path clip-path=\"url(#clip130)\" d=\"M167.195 880.545 L185.552 880.545 L185.552 884.48 L171.478 884.48 L171.478 892.952 Q172.496 892.605 173.515 892.443 Q174.533 892.258 175.552 892.258 Q181.339 892.258 184.718 895.429 Q188.098 898.6 188.098 904.017 Q188.098 909.596 184.626 912.698 Q181.153 915.776 174.834 915.776 Q172.658 915.776 170.39 915.406 Q168.144 915.035 165.737 914.295 L165.737 909.596 Q167.82 910.73 170.042 911.285 Q172.265 911.841 174.741 911.841 Q178.746 911.841 181.084 909.735 Q183.422 907.628 183.422 904.017 Q183.422 900.406 181.084 898.299 Q178.746 896.193 174.741 896.193 Q172.866 896.193 170.991 896.61 Q169.14 897.026 167.195 897.906 L167.195 880.545 Z\" fill=\"#000000\" fill-rule=\"evenodd\" fill-opacity=\"1\" /><path clip-path=\"url(#clip130)\" d=\"M50.9921 604.646 L80.6679 604.646 L80.6679 608.581 L50.9921 608.581 L50.9921 604.646 Z\" fill=\"#000000\" fill-rule=\"evenodd\" fill-opacity=\"1\" /><path clip-path=\"url(#clip130)\" d=\"M91.5706 617.539 L99.2095 617.539 L99.2095 591.174 L90.8993 592.84 L90.8993 588.581 L99.1632 586.914 L103.839 586.914 L103.839 617.539 L111.478 617.539 L111.478 621.474 L91.5706 621.474 L91.5706 617.539 Z\" fill=\"#000000\" fill-rule=\"evenodd\" fill-opacity=\"1\" /><path clip-path=\"url(#clip130)\" d=\"M133.769 590.989 L121.964 609.437 L133.769 609.437 L133.769 590.989 M132.543 586.914 L138.422 586.914 L138.422 609.437 L143.353 609.437 L143.353 613.326 L138.422 613.326 L138.422 621.474 L133.769 621.474 L133.769 613.326 L118.168 613.326 L118.168 608.812 L132.543 586.914 Z\" fill=\"#000000\" fill-rule=\"evenodd\" fill-opacity=\"1\" /><path clip-path=\"url(#clip130)\" d=\"M151.084 615.595 L155.968 615.595 L155.968 621.474 L151.084 621.474 L151.084 615.595 Z\" fill=\"#000000\" fill-rule=\"evenodd\" fill-opacity=\"1\" /><path clip-path=\"url(#clip130)\" d=\"M176.153 589.993 Q172.542 589.993 170.714 593.558 Q168.908 597.1 168.908 604.229 Q168.908 611.336 170.714 614.9 Q172.542 618.442 176.153 618.442 Q179.788 618.442 181.593 614.9 Q183.422 611.336 183.422 604.229 Q183.422 597.1 181.593 593.558 Q179.788 589.993 176.153 589.993 M176.153 586.289 Q181.964 586.289 185.019 590.896 Q188.098 595.479 188.098 604.229 Q188.098 612.956 185.019 617.562 Q181.964 622.146 176.153 622.146 Q170.343 622.146 167.265 617.562 Q164.209 612.956 164.209 604.229 Q164.209 595.479 167.265 590.896 Q170.343 586.289 176.153 586.289 Z\" fill=\"#000000\" fill-rule=\"evenodd\" fill-opacity=\"1\" /><path clip-path=\"url(#clip130)\" d=\"M51.9875 311.015 L81.6633 311.015 L81.6633 314.951 L51.9875 314.951 L51.9875 311.015 Z\" fill=\"#000000\" fill-rule=\"evenodd\" fill-opacity=\"1\" /><path clip-path=\"url(#clip130)\" d=\"M92.566 323.909 L100.205 323.909 L100.205 297.543 L91.8947 299.21 L91.8947 294.951 L100.159 293.284 L104.834 293.284 L104.834 323.909 L112.473 323.909 L112.473 327.844 L92.566 327.844 L92.566 323.909 Z\" fill=\"#000000\" fill-rule=\"evenodd\" fill-opacity=\"1\" /><path clip-path=\"url(#clip130)\" d=\"M136.084 309.21 Q139.441 309.927 141.316 312.196 Q143.214 314.464 143.214 317.798 Q143.214 322.913 139.695 325.714 Q136.177 328.515 129.695 328.515 Q127.519 328.515 125.205 328.075 Q122.913 327.659 120.459 326.802 L120.459 322.288 Q122.404 323.423 124.719 324.001 Q127.033 324.58 129.557 324.58 Q133.955 324.58 136.246 322.844 Q138.561 321.108 138.561 317.798 Q138.561 314.742 136.408 313.029 Q134.279 311.293 130.459 311.293 L126.432 311.293 L126.432 307.451 L130.644 307.451 Q134.094 307.451 135.922 306.085 Q137.751 304.696 137.751 302.103 Q137.751 299.441 135.853 298.029 Q133.978 296.594 130.459 296.594 Q128.538 296.594 126.339 297.011 Q124.14 297.427 121.501 298.307 L121.501 294.14 Q124.163 293.4 126.478 293.029 Q128.816 292.659 130.876 292.659 Q136.2 292.659 139.302 295.09 Q142.404 297.497 142.404 301.617 Q142.404 304.488 140.76 306.478 Q139.117 308.446 136.084 309.21 Z\" fill=\"#000000\" fill-rule=\"evenodd\" fill-opacity=\"1\" /><path clip-path=\"url(#clip130)\" d=\"M152.08 321.964 L156.964 321.964 L156.964 327.844 L152.08 327.844 L152.08 321.964 Z\" fill=\"#000000\" fill-rule=\"evenodd\" fill-opacity=\"1\" /><path clip-path=\"url(#clip130)\" d=\"M167.195 293.284 L185.552 293.284 L185.552 297.219 L171.478 297.219 L171.478 305.691 Q172.496 305.344 173.515 305.182 Q174.533 304.997 175.552 304.997 Q181.339 304.997 184.718 308.168 Q188.098 311.339 188.098 316.756 Q188.098 322.335 184.626 325.437 Q181.153 328.515 174.834 328.515 Q172.658 328.515 170.39 328.145 Q168.144 327.775 165.737 327.034 L165.737 322.335 Q167.82 323.469 170.042 324.025 Q172.265 324.58 174.741 324.58 Q178.746 324.58 181.084 322.474 Q183.422 320.367 183.422 316.756 Q183.422 313.145 181.084 311.039 Q178.746 308.932 174.741 308.932 Q172.866 308.932 170.991 309.349 Q169.14 309.765 167.195 310.645 L167.195 293.284 Z\" fill=\"#000000\" fill-rule=\"evenodd\" fill-opacity=\"1\" /><polyline clip-path=\"url(#clip132)\" style=\"stroke:#009af9; stroke-linecap:round; stroke-linejoin:round; stroke-width:4; stroke-opacity:1; fill:none\" points=\"\n",
       "  289.363,1445.72 294.384,1323.58 299.404,1165.27 304.425,1051.22 309.445,944.699 314.465,852.96 319.486,775.317 324.506,707.876 329.527,649.823 334.547,599.141 \n",
       "  339.568,552.108 344.588,512.846 349.608,469.251 354.629,432.138 359.649,399.796 364.67,368.025 369.69,336.805 374.71,308.557 379.731,281.857 384.751,256.602 \n",
       "  389.772,232.341 394.792,208.701 399.813,186.407 404.833,175.321 409.853,174.833 414.874,174.202 419.894,174.309 424.915,173.735 429.935,173.796 434.956,173.347 \n",
       "  439.976,173.362 444.996,173.165 450.017,173.064 455.037,172.958 460.058,172.743 465.078,172.763 470.098,173.093 475.119,172.793 480.139,172.168 485.16,172.173 \n",
       "  490.18,171.793 495.201,171.254 500.221,171.654 505.241,170.749 510.262,171.082 515.282,170.841 520.303,170.528 525.323,169.285 530.343,169.489 535.364,169.218 \n",
       "  540.384,168.614 545.405,168.745 550.425,168.011 555.446,167.801 560.466,167.804 565.486,167.289 570.507,166.564 575.527,166.541 580.548,165.853 585.568,166.216 \n",
       "  590.589,165.531 595.609,165.418 600.629,164.741 605.65,165.499 610.67,164.744 615.691,164.509 620.711,164.645 625.731,164.308 630.752,164.475 635.772,164.778 \n",
       "  640.793,164.793 645.813,164.88 650.834,164.972 655.854,164.88 660.874,164.587 665.895,164.956 670.915,164.332 675.936,164.495 680.956,164.12 685.977,163.781 \n",
       "  690.997,163.885 696.017,163.829 701.038,164.333 706.058,164.114 711.079,163.956 716.099,164.016 721.119,163.75 726.14,163.778 731.16,163.71 736.181,164.286 \n",
       "  741.201,164.202 746.222,164.292 751.242,164.298 756.262,164.22 761.283,164.678 766.303,164.14 771.324,163.988 776.344,163.676 781.364,163.533 786.385,163.761 \n",
       "  791.405,163.79 796.426,163.855 801.446,163.865 806.467,163.717 811.487,163.552 816.507,163.504 821.528,163.288 826.548,163.287 831.569,163.314 836.589,163.232 \n",
       "  841.61,163.337 846.63,163.177 851.65,162.89 856.671,162.833 861.691,162.689 866.712,162.59 871.732,162.472 876.752,162.736 881.773,162.408 886.793,162.41 \n",
       "  891.814,162.445 896.834,162.325 901.855,162.115 906.875,161.781 911.895,161.529 916.916,161.205 921.936,161.186 926.957,161.31 931.977,160.696 936.997,160.023 \n",
       "  942.018,159.999 947.038,159.78 952.059,159.283 957.079,159.424 962.1,159.253 967.12,158.686 972.14,158.684 977.161,158.864 982.181,158.85 987.202,158.922 \n",
       "  992.222,158.557 997.243,157.409 1002.26,158.197 1007.28,156.943 1012.3,157.035 1017.32,157.062 1022.34,156.712 1027.37,156.418 1032.39,156.088 1037.41,155.77 \n",
       "  1042.43,156.129 1047.45,155.798 1052.47,155.831 1057.49,155.601 1062.51,155.011 1067.53,154.635 1072.55,154.81 1077.57,155.003 1082.59,155.051 1087.61,154.741 \n",
       "  1092.63,155.083 1097.65,154.912 1102.67,154.012 1107.69,154.415 1112.71,154.242 1117.73,154.255 1122.75,154.047 1127.77,153.981 1132.79,153.959 1137.81,153.951 \n",
       "  1142.83,153.757 1147.86,153.331 1152.88,153.677 1157.9,153.261 1162.92,153.498 1167.94,153.025 1172.96,152.87 1177.98,152.806 1183,152.843 1188.02,152.494 \n",
       "  1193.04,152.302 1198.06,151.71 1203.08,152.002 1208.1,151.645 1213.12,151.033 1218.14,150.932 1223.16,150.761 1228.18,150.635 1233.2,150.431 1238.22,149.985 \n",
       "  1243.24,149.96 1248.26,149.86 1253.28,149.995 1258.3,149.681 1263.32,149.749 1268.35,149.442 1273.37,150.054 1278.39,149.721 1283.41,149.512 1288.43,149.273 \n",
       "  1293.45,149.034 1298.47,149.091 1303.49,148.653 1308.51,149.032 1313.53,148.68 1318.55,148.595 1323.57,148.336 1328.59,148.116 1333.61,147.835 1338.63,147.911 \n",
       "  1343.65,147.612 1348.67,147.134 1353.69,147.032 1358.71,146.896 1363.73,146.498 1368.75,146.557 1373.77,146.335 1378.79,146.446 1383.81,146.497 1388.84,146.135 \n",
       "  1393.86,145.65 1398.88,145.473 1403.9,145.431 1408.92,145.061 1413.94,144.791 1418.96,144.882 1423.98,144.9 1429,144.73 1434.02,144.706 1439.04,144.789 \n",
       "  1444.06,144.296 1449.08,143.6 1454.1,144.041 1459.12,143.3 1464.14,143.512 1469.16,143.018 1474.18,143.018 1479.2,142.317 1484.22,142.2 1489.24,142.249 \n",
       "  1494.26,142.149 1499.28,141.626 1504.3,141.054 1509.33,140.637 1514.35,140.407 1519.37,140.19 1524.39,139.964 1529.41,139.736 1534.43,139.236 1539.45,138.843 \n",
       "  1544.47,139.253 1549.49,138.93 1554.51,138.206 1559.53,138.653 1564.55,138.261 1569.57,138.144 1574.59,137.916 1579.61,137.624 1584.63,137.191 1589.65,136.84 \n",
       "  1594.67,136.442 1599.69,136.316 1604.71,135.894 1609.73,135.661 1614.75,135.661 1619.77,135.262 1624.8,135.182 1629.82,135.086 1634.84,134.684 1639.86,134.359 \n",
       "  1644.88,133.974 1649.9,133.768 1654.92,133.353 1659.94,132.797 1664.96,132.5 1669.98,132.181 1675,132.098 1680.02,131.857 1685.04,131.836 1690.06,131.211 \n",
       "  1695.08,131.08 1700.1,130.638 1705.12,130.29 1710.14,129.762 1715.16,129.533 1720.18,129.213 1725.2,128.918 1730.22,128.613 1735.24,128.287 1740.26,127.67 \n",
       "  1745.29,127.884 1750.31,127.231 1755.33,127.245 1760.35,126.675 1765.37,126.302 1770.39,126.27 1775.41,126.224 1780.43,125.386 1785.45,125.243 1790.47,124.946 \n",
       "  1795.49,124.45 1800.51,124.075 1805.53,123.871 1810.55,123.792 1815.57,123.644 1820.59,123.36 1825.61,122.999 1830.63,122.814 1835.65,122.137 1840.67,121.463 \n",
       "  1845.69,121.622 1850.71,121.265 1855.73,120.788 1860.75,120.208 1865.78,119.735 1870.8,120.091 1875.82,119.554 1880.84,119.061 1885.86,118.645 1890.88,118.983 \n",
       "  1895.9,118.828 1900.92,118.27 1905.94,117.83 1910.96,118.052 1915.98,118.1 1921,117.972 1926.02,117.169 1931.04,116.541 1936.06,116.379 1941.08,115.693 \n",
       "  1946.1,115.394 1951.12,115.01 1956.14,115.32 1961.16,114.59 1966.18,114.129 1971.2,113.833 1976.22,113.363 1981.24,113.185 1986.27,113.047 1991.29,112.462 \n",
       "  1996.31,112.074 2001.33,112.05 2006.35,111.494 2011.37,111.375 2016.39,110.948 2021.41,110.539 2026.43,110.429 2031.45,110.29 2036.47,109.595 2041.49,109.096 \n",
       "  2046.51,108.985 2051.53,108.687 2056.55,108.245 2061.57,107.901 2066.59,107.274 2071.61,106.97 2076.63,106.207 2081.65,105.638 2086.67,105.02 2091.69,104.318 \n",
       "  2096.71,103.697 2101.73,103.503 2106.76,102.687 2111.78,102.438 2116.8,102.26 2121.82,101.368 2126.84,101.059 2131.86,100.478 2136.88,99.6089 2141.9,99.1641 \n",
       "  2146.92,98.6217 2151.94,98.1503 2156.96,97.7146 2161.98,97.0776 2167,96.6788 2172.02,96.165 2177.04,95.6849 2182.06,95.0268 2187.08,94.5303 2192.1,94.3397 \n",
       "  2197.12,94.4339 2202.14,93.8195 2207.16,93.7319 2212.18,93.3654 2217.2,92.9418 2222.22,92.3983 2227.25,92.2362 2232.27,91.8133 2237.29,91.5469 2242.31,91.1269 \n",
       "  2247.33,90.8857 2252.35,90.7542 2257.37,90.5474 2262.39,89.7867 2267.41,89.5726 2272.43,89.509 2277.45,88.6016 2282.47,88.1178 2287.49,87.9763 2292.51,88.0077 \n",
       "  \n",
       "  \"/>\n",
       "<path clip-path=\"url(#clip130)\" d=\"\n",
       "M114.923 198.898 L2281.8 198.898 L2281.8 95.2176 L114.923 95.2176  Z\n",
       "  \" fill=\"#ffffff\" fill-rule=\"evenodd\" fill-opacity=\"1\"/>\n",
       "<polyline clip-path=\"url(#clip130)\" style=\"stroke:#000000; stroke-linecap:round; stroke-linejoin:round; stroke-width:4; stroke-opacity:1; fill:none\" points=\"\n",
       "  114.923,198.898 2281.8,198.898 2281.8,95.2176 114.923,95.2176 114.923,198.898 \n",
       "  \"/>\n",
       "<polyline clip-path=\"url(#clip130)\" style=\"stroke:#009af9; stroke-linecap:round; stroke-linejoin:round; stroke-width:4; stroke-opacity:1; fill:none\" points=\"\n",
       "  138.575,147.058 280.485,147.058 \n",
       "  \"/>\n",
       "<path clip-path=\"url(#clip130)\" d=\"M311.544 131.051 L311.544 138.412 L320.318 138.412 L320.318 141.722 L311.544 141.722 L311.544 155.796 Q311.544 158.967 312.401 159.87 Q313.281 160.773 315.943 160.773 L320.318 160.773 L320.318 164.338 L315.943 164.338 Q311.012 164.338 309.137 162.509 Q307.262 160.657 307.262 155.796 L307.262 141.722 L304.137 141.722 L304.137 138.412 L307.262 138.412 L307.262 131.051 L311.544 131.051 Z\" fill=\"#000000\" fill-rule=\"evenodd\" fill-opacity=\"1\" /><path clip-path=\"url(#clip130)\" d=\"M340.942 142.393 Q340.225 141.977 339.368 141.791 Q338.535 141.583 337.517 141.583 Q333.905 141.583 331.961 143.944 Q330.04 146.282 330.04 150.68 L330.04 164.338 L325.757 164.338 L325.757 138.412 L330.04 138.412 L330.04 142.44 Q331.382 140.078 333.535 138.944 Q335.688 137.787 338.767 137.787 Q339.206 137.787 339.739 137.856 Q340.271 137.903 340.919 138.018 L340.942 142.393 Z\" fill=\"#000000\" fill-rule=\"evenodd\" fill-opacity=\"1\" /><path clip-path=\"url(#clip130)\" d=\"M357.192 151.305 Q352.03 151.305 350.04 152.486 Q348.049 153.666 348.049 156.514 Q348.049 158.782 349.53 160.125 Q351.035 161.444 353.604 161.444 Q357.146 161.444 359.276 158.944 Q361.428 156.421 361.428 152.254 L361.428 151.305 L357.192 151.305 M365.688 149.546 L365.688 164.338 L361.428 164.338 L361.428 160.402 Q359.97 162.763 357.794 163.898 Q355.618 165.009 352.47 165.009 Q348.489 165.009 346.128 162.787 Q343.79 160.541 343.79 156.791 Q343.79 152.416 346.706 150.194 Q349.646 147.972 355.456 147.972 L361.428 147.972 L361.428 147.555 Q361.428 144.615 359.484 143.018 Q357.563 141.398 354.067 141.398 Q351.845 141.398 349.739 141.93 Q347.632 142.463 345.688 143.527 L345.688 139.592 Q348.026 138.69 350.225 138.25 Q352.424 137.787 354.507 137.787 Q360.132 137.787 362.91 140.703 Q365.688 143.62 365.688 149.546 Z\" fill=\"#000000\" fill-rule=\"evenodd\" fill-opacity=\"1\" /><path clip-path=\"url(#clip130)\" d=\"M393.118 139.407 L393.118 143.389 Q391.313 142.393 389.484 141.907 Q387.678 141.398 385.826 141.398 Q381.683 141.398 379.391 144.037 Q377.1 146.652 377.1 151.398 Q377.1 156.143 379.391 158.782 Q381.683 161.398 385.826 161.398 Q387.678 161.398 389.484 160.912 Q391.313 160.402 393.118 159.407 L393.118 163.342 Q391.336 164.176 389.414 164.592 Q387.516 165.009 385.364 165.009 Q379.507 165.009 376.058 161.328 Q372.609 157.648 372.609 151.398 Q372.609 145.055 376.081 141.421 Q379.577 137.787 385.641 137.787 Q387.609 137.787 389.484 138.203 Q391.359 138.597 393.118 139.407 Z\" fill=\"#000000\" fill-rule=\"evenodd\" fill-opacity=\"1\" /><path clip-path=\"url(#clip130)\" d=\"M422.701 150.31 L422.701 152.393 L403.118 152.393 Q403.396 156.791 405.757 159.106 Q408.141 161.398 412.377 161.398 Q414.831 161.398 417.123 160.796 Q419.437 160.194 421.706 158.99 L421.706 163.018 Q419.414 163.99 417.007 164.5 Q414.599 165.009 412.123 165.009 Q405.919 165.009 402.285 161.398 Q398.674 157.787 398.674 151.629 Q398.674 145.264 402.1 141.537 Q405.549 137.787 411.382 137.787 Q416.613 137.787 419.646 141.166 Q422.701 144.523 422.701 150.31 M418.442 149.06 Q418.396 145.565 416.474 143.481 Q414.576 141.398 411.428 141.398 Q407.863 141.398 405.711 143.412 Q403.581 145.426 403.257 149.083 L418.442 149.06 Z\" fill=\"#000000\" fill-rule=\"evenodd\" fill-opacity=\"1\" /><path clip-path=\"url(#clip130)\" d=\"M461.821 142.347 L461.821 128.319 L466.081 128.319 L466.081 164.338 L461.821 164.338 L461.821 160.449 Q460.479 162.763 458.419 163.898 Q456.382 165.009 453.511 165.009 Q448.812 165.009 445.849 161.259 Q442.91 157.509 442.91 151.398 Q442.91 145.287 445.849 141.537 Q448.812 137.787 453.511 137.787 Q456.382 137.787 458.419 138.921 Q460.479 140.032 461.821 142.347 M447.308 151.398 Q447.308 156.097 449.229 158.782 Q451.173 161.444 454.553 161.444 Q457.933 161.444 459.877 158.782 Q461.821 156.097 461.821 151.398 Q461.821 146.699 459.877 144.037 Q457.933 141.352 454.553 141.352 Q451.173 141.352 449.229 144.037 Q447.308 146.699 447.308 151.398 Z\" fill=\"#000000\" fill-rule=\"evenodd\" fill-opacity=\"1\" /><path clip-path=\"url(#clip130)\" d=\"M474.854 138.412 L479.113 138.412 L479.113 164.338 L474.854 164.338 L474.854 138.412 M474.854 128.319 L479.113 128.319 L479.113 133.713 L474.854 133.713 L474.854 128.319 Z\" fill=\"#000000\" fill-rule=\"evenodd\" fill-opacity=\"1\" /><path clip-path=\"url(#clip130)\" d=\"M504.553 139.176 L504.553 143.203 Q502.747 142.277 500.803 141.815 Q498.858 141.352 496.775 141.352 Q493.604 141.352 492.006 142.324 Q490.432 143.296 490.432 145.24 Q490.432 146.722 491.567 147.578 Q492.701 148.412 496.127 149.176 L497.585 149.5 Q502.122 150.472 504.02 152.254 Q505.942 154.014 505.942 157.185 Q505.942 160.796 503.071 162.902 Q500.224 165.009 495.224 165.009 Q493.141 165.009 490.872 164.592 Q488.627 164.199 486.127 163.388 L486.127 158.99 Q488.488 160.217 490.78 160.842 Q493.071 161.444 495.317 161.444 Q498.326 161.444 499.946 160.426 Q501.567 159.384 501.567 157.509 Q501.567 155.773 500.386 154.847 Q499.229 153.921 495.27 153.064 L493.789 152.717 Q489.831 151.884 488.071 150.171 Q486.312 148.435 486.312 145.426 Q486.312 141.768 488.905 139.778 Q491.497 137.787 496.266 137.787 Q498.627 137.787 500.71 138.134 Q502.793 138.481 504.553 139.176 Z\" fill=\"#000000\" fill-rule=\"evenodd\" fill-opacity=\"1\" /><path clip-path=\"url(#clip130)\" d=\"M516.937 131.051 L516.937 138.412 L525.71 138.412 L525.71 141.722 L516.937 141.722 L516.937 155.796 Q516.937 158.967 517.793 159.87 Q518.673 160.773 521.335 160.773 L525.71 160.773 L525.71 164.338 L521.335 164.338 Q516.404 164.338 514.529 162.509 Q512.655 160.657 512.655 155.796 L512.655 141.722 L509.53 141.722 L509.53 138.412 L512.655 138.412 L512.655 131.051 L516.937 131.051 Z\" fill=\"#000000\" fill-rule=\"evenodd\" fill-opacity=\"1\" /><path clip-path=\"url(#clip130)\" d=\"M543.094 151.305 Q537.932 151.305 535.941 152.486 Q533.951 153.666 533.951 156.514 Q533.951 158.782 535.432 160.125 Q536.937 161.444 539.506 161.444 Q543.048 161.444 545.177 158.944 Q547.33 156.421 547.33 152.254 L547.33 151.305 L543.094 151.305 M551.589 149.546 L551.589 164.338 L547.33 164.338 L547.33 160.402 Q545.872 162.763 543.696 163.898 Q541.52 165.009 538.372 165.009 Q534.39 165.009 532.029 162.787 Q529.691 160.541 529.691 156.791 Q529.691 152.416 532.608 150.194 Q535.548 147.972 541.358 147.972 L547.33 147.972 L547.33 147.555 Q547.33 144.615 545.386 143.018 Q543.465 141.398 539.969 141.398 Q537.747 141.398 535.64 141.93 Q533.534 142.463 531.59 143.527 L531.59 139.592 Q533.928 138.69 536.127 138.25 Q538.326 137.787 540.409 137.787 Q546.034 137.787 548.812 140.703 Q551.589 143.62 551.589 149.546 Z\" fill=\"#000000\" fill-rule=\"evenodd\" fill-opacity=\"1\" /><path clip-path=\"url(#clip130)\" d=\"M581.913 148.689 L581.913 164.338 L577.654 164.338 L577.654 148.828 Q577.654 145.148 576.219 143.319 Q574.784 141.49 571.913 141.49 Q568.464 141.49 566.474 143.69 Q564.483 145.889 564.483 149.685 L564.483 164.338 L560.201 164.338 L560.201 138.412 L564.483 138.412 L564.483 142.44 Q566.011 140.102 568.071 138.944 Q570.154 137.787 572.863 137.787 Q577.33 137.787 579.622 140.565 Q581.913 143.319 581.913 148.689 Z\" fill=\"#000000\" fill-rule=\"evenodd\" fill-opacity=\"1\" /><path clip-path=\"url(#clip130)\" d=\"M609.066 139.407 L609.066 143.389 Q607.26 142.393 605.432 141.907 Q603.626 141.398 601.774 141.398 Q597.631 141.398 595.339 144.037 Q593.048 146.652 593.048 151.398 Q593.048 156.143 595.339 158.782 Q597.631 161.398 601.774 161.398 Q603.626 161.398 605.432 160.912 Q607.26 160.402 609.066 159.407 L609.066 163.342 Q607.284 164.176 605.362 164.592 Q603.464 165.009 601.311 165.009 Q595.455 165.009 592.006 161.328 Q588.557 157.648 588.557 151.398 Q588.557 145.055 592.029 141.421 Q595.524 137.787 601.589 137.787 Q603.557 137.787 605.432 138.203 Q607.307 138.597 609.066 139.407 Z\" fill=\"#000000\" fill-rule=\"evenodd\" fill-opacity=\"1\" /><path clip-path=\"url(#clip130)\" d=\"M638.649 150.31 L638.649 152.393 L619.066 152.393 Q619.344 156.791 621.705 159.106 Q624.089 161.398 628.325 161.398 Q630.779 161.398 633.071 160.796 Q635.385 160.194 637.654 158.99 L637.654 163.018 Q635.362 163.99 632.955 164.5 Q630.547 165.009 628.071 165.009 Q621.867 165.009 618.233 161.398 Q614.622 157.787 614.622 151.629 Q614.622 145.264 618.047 141.537 Q621.497 137.787 627.33 137.787 Q632.561 137.787 635.594 141.166 Q638.649 144.523 638.649 150.31 M634.39 149.06 Q634.344 145.565 632.422 143.481 Q630.524 141.398 627.376 141.398 Q623.811 141.398 621.659 143.412 Q619.529 145.426 619.205 149.083 L634.39 149.06 Z\" fill=\"#000000\" fill-rule=\"evenodd\" fill-opacity=\"1\" /><path clip-path=\"url(#clip130)\" d=\"M646.728 158.458 L651.612 158.458 L651.612 162.439 L647.816 169.847 L644.83 169.847 L646.728 162.439 L646.728 158.458 Z\" fill=\"#000000\" fill-rule=\"evenodd\" fill-opacity=\"1\" /><path clip-path=\"url(#clip130)\" d=\"M660.894 129.778 L667.191 129.778 L682.515 158.689 L682.515 129.778 L687.052 129.778 L687.052 164.338 L680.755 164.338 L665.431 135.426 L665.431 164.338 L660.894 164.338 L660.894 129.778 Z\" fill=\"#000000\" fill-rule=\"evenodd\" fill-opacity=\"1\" /><path clip-path=\"url(#clip130)\" d=\"M696.728 142.81 L726.403 142.81 L726.403 146.699 L696.728 146.699 L696.728 142.81 M696.728 152.254 L726.403 152.254 L726.403 156.189 L696.728 156.189 L696.728 152.254 Z\" fill=\"#000000\" fill-rule=\"evenodd\" fill-opacity=\"1\" /><path clip-path=\"url(#clip130)\" d=\"M737.306 160.402 L744.945 160.402 L744.945 134.037 L736.635 135.703 L736.635 131.444 L744.899 129.778 L749.575 129.778 L749.575 160.402 L757.213 160.402 L757.213 164.338 L737.306 164.338 L737.306 160.402 Z\" fill=\"#000000\" fill-rule=\"evenodd\" fill-opacity=\"1\" /><path clip-path=\"url(#clip130)\" d=\"M770.686 160.402 L787.005 160.402 L787.005 164.338 L765.061 164.338 L765.061 160.402 Q767.723 157.648 772.306 153.018 Q776.912 148.365 778.093 147.023 Q780.338 144.5 781.218 142.764 Q782.121 141.004 782.121 139.315 Q782.121 136.56 780.176 134.824 Q778.255 133.088 775.153 133.088 Q772.954 133.088 770.5 133.852 Q768.07 134.615 765.292 136.166 L765.292 131.444 Q768.116 130.31 770.57 129.731 Q773.023 129.153 775.061 129.153 Q780.431 129.153 783.625 131.838 Q786.82 134.523 786.82 139.014 Q786.82 141.143 786.01 143.065 Q785.222 144.963 783.116 147.555 Q782.537 148.227 779.435 151.444 Q776.334 154.639 770.686 160.402 Z\" fill=\"#000000\" fill-rule=\"evenodd\" fill-opacity=\"1\" /><path clip-path=\"url(#clip130)\" d=\"M797.306 158.458 L802.19 158.458 L802.19 162.439 L798.394 169.847 L795.408 169.847 L797.306 162.439 L797.306 158.458 Z\" fill=\"#000000\" fill-rule=\"evenodd\" fill-opacity=\"1\" /><path clip-path=\"url(#clip130)\" d=\"M845.13 134.315 Q842.768 132.694 837.236 132.694 Q831.38 132.694 831.38 135.403 Q831.38 137.532 837.491 138.643 Q842.306 139.5 845.014 142.092 Q848.301 145.217 848.301 151.629 Q848.301 157.764 845.13 161.375 Q841.958 165.009 836.403 165.009 Q830.87 165.009 827.676 161.375 Q824.505 157.764 824.505 151.398 Q824.505 146.676 827.676 142.856 Q828.903 141.375 830.639 140.541 Q827.028 138.713 827.028 135.449 Q827.028 129.153 837.236 129.153 Q842.352 129.153 845.13 130.773 L845.13 134.315 M833.833 141.699 Q832.259 142.37 830.986 144.06 Q828.995 146.676 828.995 151.398 Q828.995 156.097 830.963 158.736 Q832.954 161.398 836.403 161.398 Q839.806 161.398 841.796 158.713 Q843.787 156.027 843.787 151.629 Q843.787 147.023 841.681 144.801 Q839.435 142.416 836.519 142.162 Q835.037 142.023 833.833 141.699 Z\" fill=\"#000000\" fill-rule=\"evenodd\" fill-opacity=\"1\" /><path clip-path=\"url(#clip130)\" d=\"M859.574 131.051 L859.574 138.412 L868.347 138.412 L868.347 141.722 L859.574 141.722 L859.574 155.796 Q859.574 158.967 860.43 159.87 Q861.31 160.773 863.972 160.773 L868.347 160.773 L868.347 164.338 L863.972 164.338 Q859.042 164.338 857.167 162.509 Q855.292 160.657 855.292 155.796 L855.292 141.722 L852.167 141.722 L852.167 138.412 L855.292 138.412 L855.292 131.051 L859.574 131.051 Z\" fill=\"#000000\" fill-rule=\"evenodd\" fill-opacity=\"1\" /><path clip-path=\"url(#clip130)\" d=\"M874.504 142.81 L904.18 142.81 L904.18 146.699 L874.504 146.699 L874.504 142.81 M874.504 152.254 L904.18 152.254 L904.18 156.189 L874.504 156.189 L874.504 152.254 Z\" fill=\"#000000\" fill-rule=\"evenodd\" fill-opacity=\"1\" /><path clip-path=\"url(#clip130)\" d=\"M914.319 129.778 L932.675 129.778 L932.675 133.713 L918.601 133.713 L918.601 142.185 Q919.62 141.838 920.638 141.676 Q921.657 141.49 922.675 141.49 Q928.462 141.49 931.842 144.662 Q935.222 147.833 935.222 153.25 Q935.222 158.828 931.749 161.93 Q928.277 165.009 921.958 165.009 Q919.782 165.009 917.513 164.638 Q915.268 164.268 912.861 163.527 L912.861 158.828 Q914.944 159.963 917.166 160.518 Q919.388 161.074 921.865 161.074 Q925.87 161.074 928.208 158.967 Q930.546 156.861 930.546 153.25 Q930.546 149.639 928.208 147.532 Q925.87 145.426 921.865 145.426 Q919.99 145.426 918.115 145.842 Q916.263 146.259 914.319 147.139 L914.319 129.778 Z\" fill=\"#000000\" fill-rule=\"evenodd\" fill-opacity=\"1\" /><path clip-path=\"url(#clip130)\" d=\"M944.435 158.458 L949.319 158.458 L949.319 164.338 L944.435 164.338 L944.435 158.458 Z\" fill=\"#000000\" fill-rule=\"evenodd\" fill-opacity=\"1\" /><path clip-path=\"url(#clip130)\" d=\"M969.504 132.856 Q965.893 132.856 964.064 136.421 Q962.259 139.963 962.259 147.092 Q962.259 154.199 964.064 157.764 Q965.893 161.305 969.504 161.305 Q973.138 161.305 974.944 157.764 Q976.772 154.199 976.772 147.092 Q976.772 139.963 974.944 136.421 Q973.138 132.856 969.504 132.856 M969.504 129.153 Q975.314 129.153 978.37 133.759 Q981.448 138.342 981.448 147.092 Q981.448 155.819 978.37 160.426 Q975.314 165.009 969.504 165.009 Q963.694 165.009 960.615 160.426 Q957.56 155.819 957.56 147.092 Q957.56 138.342 960.615 133.759 Q963.694 129.153 969.504 129.153 Z\" fill=\"#000000\" fill-rule=\"evenodd\" fill-opacity=\"1\" /><path clip-path=\"url(#clip130)\" d=\"M1011.24 150.31 L1011.24 152.393 L991.657 152.393 Q991.934 156.791 994.295 159.106 Q996.68 161.398 1000.92 161.398 Q1003.37 161.398 1005.66 160.796 Q1007.98 160.194 1010.24 158.99 L1010.24 163.018 Q1007.95 163.99 1005.55 164.5 Q1003.14 165.009 1000.66 165.009 Q994.457 165.009 990.823 161.398 Q987.212 157.787 987.212 151.629 Q987.212 145.264 990.638 141.537 Q994.087 137.787 999.92 137.787 Q1005.15 137.787 1008.18 141.166 Q1011.24 144.523 1011.24 150.31 M1006.98 149.06 Q1006.93 145.565 1005.01 143.481 Q1003.11 141.398 999.967 141.398 Q996.402 141.398 994.249 143.412 Q992.12 145.426 991.795 149.083 L1006.98 149.06 Z\" fill=\"#000000\" fill-rule=\"evenodd\" fill-opacity=\"1\" /><path clip-path=\"url(#clip130)\" d=\"M1016.08 149.453 L1028.55 149.453 L1028.55 153.25 L1016.08 153.25 L1016.08 149.453 Z\" fill=\"#000000\" fill-rule=\"evenodd\" fill-opacity=\"1\" /><path clip-path=\"url(#clip130)\" d=\"M1035.99 129.778 L1054.34 129.778 L1054.34 133.713 L1040.27 133.713 L1040.27 142.185 Q1041.29 141.838 1042.3 141.676 Q1043.32 141.49 1044.34 141.49 Q1050.13 141.49 1053.51 144.662 Q1056.89 147.833 1056.89 153.25 Q1056.89 158.828 1053.42 161.93 Q1049.94 165.009 1043.62 165.009 Q1041.45 165.009 1039.18 164.638 Q1036.93 164.268 1034.53 163.527 L1034.53 158.828 Q1036.61 159.963 1038.83 160.518 Q1041.05 161.074 1043.53 161.074 Q1047.54 161.074 1049.87 158.967 Q1052.21 156.861 1052.21 153.25 Q1052.21 149.639 1049.87 147.532 Q1047.54 145.426 1043.53 145.426 Q1041.66 145.426 1039.78 145.842 Q1037.93 146.259 1035.99 147.139 L1035.99 129.778 Z\" fill=\"#000000\" fill-rule=\"evenodd\" fill-opacity=\"1\" /><path clip-path=\"url(#clip130)\" d=\"M1066.59 158.458 L1071.47 158.458 L1071.47 162.439 L1067.67 169.847 L1064.69 169.847 L1066.59 162.439 L1066.59 158.458 Z\" fill=\"#000000\" fill-rule=\"evenodd\" fill-opacity=\"1\" /><path clip-path=\"url(#clip130)\" d=\"M1095.82 129.778 L1100.5 129.778 L1100.5 144.384 L1116.01 129.778 L1122.03 129.778 L1104.87 145.889 L1123.25 164.338 L1117.1 164.338 L1100.5 147.694 L1100.5 164.338 L1095.82 164.338 L1095.82 129.778 Z\" fill=\"#000000\" fill-rule=\"evenodd\" fill-opacity=\"1\" /><path clip-path=\"url(#clip130)\" d=\"M1141.75 142.393 Q1141.03 141.977 1140.17 141.791 Q1139.34 141.583 1138.32 141.583 Q1134.71 141.583 1132.77 143.944 Q1130.85 146.282 1130.85 150.68 L1130.85 164.338 L1126.56 164.338 L1126.56 138.412 L1130.85 138.412 L1130.85 142.44 Q1132.19 140.078 1134.34 138.944 Q1136.49 137.787 1139.57 137.787 Q1140.01 137.787 1140.54 137.856 Q1141.08 137.903 1141.73 138.018 L1141.75 142.393 Z\" fill=\"#000000\" fill-rule=\"evenodd\" fill-opacity=\"1\" /><path clip-path=\"url(#clip130)\" d=\"M1157 166.745 Q1155.2 171.375 1153.48 172.787 Q1151.77 174.199 1148.9 174.199 L1145.5 174.199 L1145.5 170.634 L1148 170.634 Q1149.76 170.634 1150.73 169.8 Q1151.7 168.967 1152.88 165.865 L1153.65 163.921 L1143.16 138.412 L1147.67 138.412 L1155.78 158.689 L1163.88 138.412 L1168.39 138.412 L1157 166.745 Z\" fill=\"#000000\" fill-rule=\"evenodd\" fill-opacity=\"1\" /><path clip-path=\"url(#clip130)\" d=\"M1174.27 128.319 L1178.53 128.319 L1178.53 164.338 L1174.27 164.338 L1174.27 128.319 Z\" fill=\"#000000\" fill-rule=\"evenodd\" fill-opacity=\"1\" /><path clip-path=\"url(#clip130)\" d=\"M1197.49 141.398 Q1194.06 141.398 1192.07 144.083 Q1190.08 146.745 1190.08 151.398 Q1190.08 156.051 1192.05 158.736 Q1194.04 161.398 1197.49 161.398 Q1200.89 161.398 1202.88 158.713 Q1204.87 156.027 1204.87 151.398 Q1204.87 146.791 1202.88 144.106 Q1200.89 141.398 1197.49 141.398 M1197.49 137.787 Q1203.04 137.787 1206.22 141.398 Q1209.39 145.009 1209.39 151.398 Q1209.39 157.764 1206.22 161.398 Q1203.04 165.009 1197.49 165.009 Q1191.91 165.009 1188.74 161.398 Q1185.59 157.764 1185.59 151.398 Q1185.59 145.009 1188.74 141.398 Q1191.91 137.787 1197.49 137.787 Z\" fill=\"#000000\" fill-rule=\"evenodd\" fill-opacity=\"1\" /><path clip-path=\"url(#clip130)\" d=\"M1213.39 138.412 L1217.91 138.412 L1226.01 160.171 L1234.11 138.412 L1238.62 138.412 L1228.9 164.338 L1223.11 164.338 L1213.39 138.412 Z\" fill=\"#000000\" fill-rule=\"evenodd\" fill-opacity=\"1\" /><path clip-path=\"url(#clip130)\" d=\"M1278.23 139.407 L1278.23 143.389 Q1276.42 142.393 1274.59 141.907 Q1272.79 141.398 1270.94 141.398 Q1266.79 141.398 1264.5 144.037 Q1262.21 146.652 1262.21 151.398 Q1262.21 156.143 1264.5 158.782 Q1266.79 161.398 1270.94 161.398 Q1272.79 161.398 1274.59 160.912 Q1276.42 160.402 1278.23 159.407 L1278.23 163.342 Q1276.45 164.176 1274.53 164.592 Q1272.63 165.009 1270.47 165.009 Q1264.62 165.009 1261.17 161.328 Q1257.72 157.648 1257.72 151.398 Q1257.72 145.055 1261.19 141.421 Q1264.69 137.787 1270.75 137.787 Q1272.72 137.787 1274.59 138.203 Q1276.47 138.597 1278.23 139.407 Z\" fill=\"#000000\" fill-rule=\"evenodd\" fill-opacity=\"1\" /><path clip-path=\"url(#clip130)\" d=\"M1285.2 154.106 L1285.2 138.412 L1289.46 138.412 L1289.46 153.944 Q1289.46 157.625 1290.89 159.476 Q1292.33 161.305 1295.2 161.305 Q1298.65 161.305 1300.64 159.106 Q1302.65 156.907 1302.65 153.111 L1302.65 138.412 L1306.91 138.412 L1306.91 164.338 L1302.65 164.338 L1302.65 160.356 Q1301.1 162.717 1299.04 163.875 Q1297 165.009 1294.29 165.009 Q1289.83 165.009 1287.51 162.231 Q1285.2 159.453 1285.2 154.106 M1295.91 137.787 L1295.91 137.787 Z\" fill=\"#000000\" fill-rule=\"evenodd\" fill-opacity=\"1\" /><path clip-path=\"url(#clip130)\" d=\"M1319.9 131.051 L1319.9 138.412 L1328.67 138.412 L1328.67 141.722 L1319.9 141.722 L1319.9 155.796 Q1319.9 158.967 1320.75 159.87 Q1321.63 160.773 1324.29 160.773 L1328.67 160.773 L1328.67 164.338 L1324.29 164.338 Q1319.36 164.338 1317.49 162.509 Q1315.61 160.657 1315.61 155.796 L1315.61 141.722 L1312.49 141.722 L1312.49 138.412 L1315.61 138.412 L1315.61 131.051 L1319.9 131.051 Z\" fill=\"#000000\" fill-rule=\"evenodd\" fill-opacity=\"1\" /><path clip-path=\"url(#clip130)\" d=\"M1344.32 141.398 Q1340.89 141.398 1338.9 144.083 Q1336.91 146.745 1336.91 151.398 Q1336.91 156.051 1338.88 158.736 Q1340.87 161.398 1344.32 161.398 Q1347.72 161.398 1349.71 158.713 Q1351.7 156.027 1351.7 151.398 Q1351.7 146.791 1349.71 144.106 Q1347.72 141.398 1344.32 141.398 M1344.32 137.787 Q1349.87 137.787 1353.04 141.398 Q1356.21 145.009 1356.21 151.398 Q1356.21 157.764 1353.04 161.398 Q1349.87 165.009 1344.32 165.009 Q1338.74 165.009 1335.57 161.398 Q1332.42 157.764 1332.42 151.398 Q1332.42 145.009 1335.57 141.398 Q1338.74 137.787 1344.32 137.787 Z\" fill=\"#000000\" fill-rule=\"evenodd\" fill-opacity=\"1\" /><path clip-path=\"url(#clip130)\" d=\"M1376.4 128.319 L1376.4 131.861 L1372.33 131.861 Q1370.03 131.861 1369.13 132.787 Q1368.25 133.713 1368.25 136.12 L1368.25 138.412 L1375.27 138.412 L1375.27 141.722 L1368.25 141.722 L1368.25 164.338 L1363.97 164.338 L1363.97 141.722 L1359.9 141.722 L1359.9 138.412 L1363.97 138.412 L1363.97 136.606 Q1363.97 132.278 1365.98 130.31 Q1368 128.319 1372.37 128.319 L1376.4 128.319 Z\" fill=\"#000000\" fill-rule=\"evenodd\" fill-opacity=\"1\" /><path clip-path=\"url(#clip130)\" d=\"M1393.09 128.319 L1393.09 131.861 L1389.02 131.861 Q1386.72 131.861 1385.82 132.787 Q1384.94 133.713 1384.94 136.12 L1384.94 138.412 L1391.96 138.412 L1391.96 141.722 L1384.94 141.722 L1384.94 164.338 L1380.66 164.338 L1380.66 141.722 L1376.59 141.722 L1376.59 138.412 L1380.66 138.412 L1380.66 136.606 Q1380.66 132.278 1382.67 130.31 Q1384.69 128.319 1389.06 128.319 L1393.09 128.319 Z\" fill=\"#000000\" fill-rule=\"evenodd\" fill-opacity=\"1\" /><path clip-path=\"url(#clip130)\" d=\"M1397.21 142.81 L1426.89 142.81 L1426.89 146.699 L1397.21 146.699 L1397.21 142.81 M1397.21 152.254 L1426.89 152.254 L1426.89 156.189 L1397.21 156.189 L1397.21 152.254 Z\" fill=\"#000000\" fill-rule=\"evenodd\" fill-opacity=\"1\" /><path clip-path=\"url(#clip130)\" d=\"M1437.79 160.402 L1445.43 160.402 L1445.43 134.037 L1437.12 135.703 L1437.12 131.444 L1445.38 129.778 L1450.06 129.778 L1450.06 160.402 L1457.7 160.402 L1457.7 164.338 L1437.79 164.338 L1437.79 160.402 Z\" fill=\"#000000\" fill-rule=\"evenodd\" fill-opacity=\"1\" /><path clip-path=\"url(#clip130)\" d=\"M1467.14 158.458 L1472.02 158.458 L1472.02 164.338 L1467.14 164.338 L1467.14 158.458 Z\" fill=\"#000000\" fill-rule=\"evenodd\" fill-opacity=\"1\" /><path clip-path=\"url(#clip130)\" d=\"M1492.21 132.856 Q1488.6 132.856 1486.77 136.421 Q1484.96 139.963 1484.96 147.092 Q1484.96 154.199 1486.77 157.764 Q1488.6 161.305 1492.21 161.305 Q1495.84 161.305 1497.65 157.764 Q1499.48 154.199 1499.48 147.092 Q1499.48 139.963 1497.65 136.421 Q1495.84 132.856 1492.21 132.856 M1492.21 129.153 Q1498.02 129.153 1501.08 133.759 Q1504.15 138.342 1504.15 147.092 Q1504.15 155.819 1501.08 160.426 Q1498.02 165.009 1492.21 165.009 Q1486.4 165.009 1483.32 160.426 Q1480.27 155.819 1480.27 147.092 Q1480.27 138.342 1483.32 133.759 Q1486.4 129.153 1492.21 129.153 Z\" fill=\"#000000\" fill-rule=\"evenodd\" fill-opacity=\"1\" /><path clip-path=\"url(#clip130)\" d=\"M1533.95 150.31 L1533.95 152.393 L1514.36 152.393 Q1514.64 156.791 1517 159.106 Q1519.39 161.398 1523.62 161.398 Q1526.07 161.398 1528.37 160.796 Q1530.68 160.194 1532.95 158.99 L1532.95 163.018 Q1530.66 163.99 1528.25 164.5 Q1525.84 165.009 1523.37 165.009 Q1517.16 165.009 1513.53 161.398 Q1509.92 157.787 1509.92 151.629 Q1509.92 145.264 1513.34 141.537 Q1516.79 137.787 1522.63 137.787 Q1527.86 137.787 1530.89 141.166 Q1533.95 144.523 1533.95 150.31 M1529.69 149.06 Q1529.64 145.565 1527.72 143.481 Q1525.82 141.398 1522.67 141.398 Q1519.11 141.398 1516.95 143.412 Q1514.83 145.426 1514.5 149.083 L1529.69 149.06 Z\" fill=\"#000000\" fill-rule=\"evenodd\" fill-opacity=\"1\" /><path clip-path=\"url(#clip130)\" d=\"M1538.78 149.453 L1551.26 149.453 L1551.26 153.25 L1538.78 153.25 L1538.78 149.453 Z\" fill=\"#000000\" fill-rule=\"evenodd\" fill-opacity=\"1\" /><path clip-path=\"url(#clip130)\" d=\"M1558.69 129.778 L1577.05 129.778 L1577.05 133.713 L1562.97 133.713 L1562.97 142.185 Q1563.99 141.838 1565.01 141.676 Q1566.03 141.49 1567.05 141.49 Q1572.83 141.49 1576.21 144.662 Q1579.59 147.833 1579.59 153.25 Q1579.59 158.828 1576.12 161.93 Q1572.65 165.009 1566.33 165.009 Q1564.15 165.009 1561.88 164.638 Q1559.64 164.268 1557.23 163.527 L1557.23 158.828 Q1559.32 159.963 1561.54 160.518 Q1563.76 161.074 1566.24 161.074 Q1570.24 161.074 1572.58 158.967 Q1574.92 156.861 1574.92 153.25 Q1574.92 149.639 1572.58 147.532 Q1570.24 145.426 1566.24 145.426 Q1564.36 145.426 1562.49 145.842 Q1560.63 146.259 1558.69 147.139 L1558.69 129.778 Z\" fill=\"#000000\" fill-rule=\"evenodd\" fill-opacity=\"1\" /><path clip-path=\"url(#clip130)\" d=\"M1589.29 158.458 L1594.18 158.458 L1594.18 162.439 L1590.38 169.847 L1587.39 169.847 L1589.29 162.439 L1589.29 158.458 Z\" fill=\"#000000\" fill-rule=\"evenodd\" fill-opacity=\"1\" /><path clip-path=\"url(#clip130)\" d=\"M1618.18 128.319 L1622.46 128.319 L1622.46 149.592 L1635.17 138.412 L1640.61 138.412 L1626.86 150.541 L1641.19 164.338 L1635.63 164.338 L1622.46 151.676 L1622.46 164.338 L1618.18 164.338 L1618.18 128.319 Z\" fill=\"#000000\" fill-rule=\"evenodd\" fill-opacity=\"1\" /><path clip-path=\"url(#clip130)\" d=\"M1650.43 160.402 L1666.75 160.402 L1666.75 164.338 L1644.8 164.338 L1644.8 160.402 Q1647.46 157.648 1652.05 153.018 Q1656.65 148.365 1657.83 147.023 Q1660.08 144.5 1660.96 142.764 Q1661.86 141.004 1661.86 139.315 Q1661.86 136.56 1659.92 134.824 Q1658 133.088 1654.89 133.088 Q1652.69 133.088 1650.24 133.852 Q1647.81 134.615 1645.03 136.166 L1645.03 131.444 Q1647.86 130.31 1650.31 129.731 Q1652.76 129.153 1654.8 129.153 Q1660.17 129.153 1663.37 131.838 Q1666.56 134.523 1666.56 139.014 Q1666.56 141.143 1665.75 143.065 Q1664.96 144.963 1662.86 147.555 Q1662.28 148.227 1659.18 151.444 Q1656.07 154.639 1650.43 160.402 Z\" fill=\"#000000\" fill-rule=\"evenodd\" fill-opacity=\"1\" /><path clip-path=\"url(#clip130)\" d=\"M1676.51 142.81 L1706.19 142.81 L1706.19 146.699 L1676.51 146.699 L1676.51 142.81 M1676.51 152.254 L1706.19 152.254 L1706.19 156.189 L1676.51 156.189 L1676.51 152.254 Z\" fill=\"#000000\" fill-rule=\"evenodd\" fill-opacity=\"1\" /><path clip-path=\"url(#clip130)\" d=\"M1730.45 145.703 Q1733.81 146.421 1735.68 148.689 Q1737.58 150.958 1737.58 154.291 Q1737.58 159.407 1734.06 162.208 Q1730.54 165.009 1724.06 165.009 Q1721.88 165.009 1719.57 164.569 Q1717.28 164.152 1714.82 163.296 L1714.82 158.782 Q1716.77 159.916 1719.08 160.495 Q1721.4 161.074 1723.92 161.074 Q1728.32 161.074 1730.61 159.338 Q1732.93 157.601 1732.93 154.291 Q1732.93 151.236 1730.77 149.523 Q1728.64 147.787 1724.82 147.787 L1720.8 147.787 L1720.8 143.944 L1725.01 143.944 Q1728.46 143.944 1730.29 142.578 Q1732.12 141.19 1732.12 138.597 Q1732.12 135.935 1730.22 134.523 Q1728.34 133.088 1724.82 133.088 Q1722.9 133.088 1720.7 133.504 Q1718.5 133.921 1715.87 134.801 L1715.87 130.634 Q1718.53 129.893 1720.84 129.523 Q1723.18 129.153 1725.24 129.153 Q1730.56 129.153 1733.67 131.583 Q1736.77 133.99 1736.77 138.111 Q1736.77 140.981 1735.12 142.972 Q1733.48 144.94 1730.45 145.703 Z\" fill=\"#000000\" fill-rule=\"evenodd\" fill-opacity=\"1\" /><path clip-path=\"url(#clip130)\" d=\"M1746.93 158.458 L1751.81 158.458 L1751.81 162.439 L1748.02 169.847 L1745.03 169.847 L1746.93 162.439 L1746.93 158.458 Z\" fill=\"#000000\" fill-rule=\"evenodd\" fill-opacity=\"1\" /><path clip-path=\"url(#clip130)\" d=\"M1780.19 131.051 L1780.19 138.412 L1788.97 138.412 L1788.97 141.722 L1780.19 141.722 L1780.19 155.796 Q1780.19 158.967 1781.05 159.87 Q1781.93 160.773 1784.59 160.773 L1788.97 160.773 L1788.97 164.338 L1784.59 164.338 Q1779.66 164.338 1777.79 162.509 Q1775.91 160.657 1775.91 155.796 L1775.91 141.722 L1772.79 141.722 L1772.79 138.412 L1775.91 138.412 L1775.91 131.051 L1780.19 131.051 Z\" fill=\"#000000\" fill-rule=\"evenodd\" fill-opacity=\"1\" /><path clip-path=\"url(#clip130)\" d=\"M1809.59 142.393 Q1808.87 141.977 1808.02 141.791 Q1807.18 141.583 1806.17 141.583 Q1802.55 141.583 1800.61 143.944 Q1798.69 146.282 1798.69 150.68 L1798.69 164.338 L1794.41 164.338 L1794.41 138.412 L1798.69 138.412 L1798.69 142.44 Q1800.03 140.078 1802.18 138.944 Q1804.34 137.787 1807.42 137.787 Q1807.86 137.787 1808.39 137.856 Q1808.92 137.903 1809.57 138.018 L1809.59 142.393 Z\" fill=\"#000000\" fill-rule=\"evenodd\" fill-opacity=\"1\" /><path clip-path=\"url(#clip130)\" d=\"M1813.62 154.106 L1813.62 138.412 L1817.88 138.412 L1817.88 153.944 Q1817.88 157.625 1819.31 159.476 Q1820.75 161.305 1823.62 161.305 Q1827.07 161.305 1829.06 159.106 Q1831.07 156.907 1831.07 153.111 L1831.07 138.412 L1835.33 138.412 L1835.33 164.338 L1831.07 164.338 L1831.07 160.356 Q1829.52 162.717 1827.46 163.875 Q1825.43 165.009 1822.72 165.009 Q1818.25 165.009 1815.93 162.231 Q1813.62 159.453 1813.62 154.106 M1824.34 137.787 L1824.34 137.787 Z\" fill=\"#000000\" fill-rule=\"evenodd\" fill-opacity=\"1\" /><path clip-path=\"url(#clip130)\" d=\"M1865.66 148.689 L1865.66 164.338 L1861.4 164.338 L1861.4 148.828 Q1861.4 145.148 1859.96 143.319 Q1858.53 141.49 1855.66 141.49 Q1852.21 141.49 1850.22 143.69 Q1848.23 145.889 1848.23 149.685 L1848.23 164.338 L1843.94 164.338 L1843.94 138.412 L1848.23 138.412 L1848.23 142.44 Q1849.75 140.102 1851.81 138.944 Q1853.9 137.787 1856.61 137.787 Q1861.07 137.787 1863.36 140.565 Q1865.66 143.319 1865.66 148.689 Z\" fill=\"#000000\" fill-rule=\"evenodd\" fill-opacity=\"1\" /><path clip-path=\"url(#clip130)\" d=\"M1892.81 139.407 L1892.81 143.389 Q1891 142.393 1889.17 141.907 Q1887.37 141.398 1885.52 141.398 Q1881.37 141.398 1879.08 144.037 Q1876.79 146.652 1876.79 151.398 Q1876.79 156.143 1879.08 158.782 Q1881.37 161.398 1885.52 161.398 Q1887.37 161.398 1889.17 160.912 Q1891 160.402 1892.81 159.407 L1892.81 163.342 Q1891.03 164.176 1889.11 164.592 Q1887.21 165.009 1885.05 165.009 Q1879.2 165.009 1875.75 161.328 Q1872.3 157.648 1872.3 151.398 Q1872.3 145.055 1875.77 141.421 Q1879.27 137.787 1885.33 137.787 Q1887.3 137.787 1889.17 138.203 Q1891.05 138.597 1892.81 139.407 Z\" fill=\"#000000\" fill-rule=\"evenodd\" fill-opacity=\"1\" /><path clip-path=\"url(#clip130)\" d=\"M1912 151.305 Q1906.84 151.305 1904.85 152.486 Q1902.86 153.666 1902.86 156.514 Q1902.86 158.782 1904.34 160.125 Q1905.84 161.444 1908.41 161.444 Q1911.95 161.444 1914.08 158.944 Q1916.23 156.421 1916.23 152.254 L1916.23 151.305 L1912 151.305 M1920.49 149.546 L1920.49 164.338 L1916.23 164.338 L1916.23 160.402 Q1914.78 162.763 1912.6 163.898 Q1910.42 165.009 1907.28 165.009 Q1903.3 165.009 1900.93 162.787 Q1898.6 160.541 1898.6 156.791 Q1898.6 152.416 1901.51 150.194 Q1904.45 147.972 1910.26 147.972 L1916.23 147.972 L1916.23 147.555 Q1916.23 144.615 1914.29 143.018 Q1912.37 141.398 1908.87 141.398 Q1906.65 141.398 1904.55 141.93 Q1902.44 142.463 1900.49 143.527 L1900.49 139.592 Q1902.83 138.69 1905.03 138.25 Q1907.23 137.787 1909.31 137.787 Q1914.94 137.787 1917.72 140.703 Q1920.49 143.62 1920.49 149.546 Z\" fill=\"#000000\" fill-rule=\"evenodd\" fill-opacity=\"1\" /><path clip-path=\"url(#clip130)\" d=\"M1933.48 131.051 L1933.48 138.412 L1942.25 138.412 L1942.25 141.722 L1933.48 141.722 L1933.48 155.796 Q1933.48 158.967 1934.34 159.87 Q1935.22 160.773 1937.88 160.773 L1942.25 160.773 L1942.25 164.338 L1937.88 164.338 Q1932.95 164.338 1931.07 162.509 Q1929.2 160.657 1929.2 155.796 L1929.2 141.722 L1926.07 141.722 L1926.07 138.412 L1929.2 138.412 L1929.2 131.051 L1933.48 131.051 Z\" fill=\"#000000\" fill-rule=\"evenodd\" fill-opacity=\"1\" /><path clip-path=\"url(#clip130)\" d=\"M1947.86 138.412 L1952.11 138.412 L1952.11 164.338 L1947.86 164.338 L1947.86 138.412 M1947.86 128.319 L1952.11 128.319 L1952.11 133.713 L1947.86 133.713 L1947.86 128.319 Z\" fill=\"#000000\" fill-rule=\"evenodd\" fill-opacity=\"1\" /><path clip-path=\"url(#clip130)\" d=\"M1971.07 141.398 Q1967.65 141.398 1965.66 144.083 Q1963.67 146.745 1963.67 151.398 Q1963.67 156.051 1965.63 158.736 Q1967.62 161.398 1971.07 161.398 Q1974.48 161.398 1976.47 158.713 Q1978.46 156.027 1978.46 151.398 Q1978.46 146.791 1976.47 144.106 Q1974.48 141.398 1971.07 141.398 M1971.07 137.787 Q1976.63 137.787 1979.8 141.398 Q1982.97 145.009 1982.97 151.398 Q1982.97 157.764 1979.8 161.398 Q1976.63 165.009 1971.07 165.009 Q1965.49 165.009 1962.32 161.398 Q1959.17 157.764 1959.17 151.398 Q1959.17 145.009 1962.32 141.398 Q1965.49 137.787 1971.07 137.787 Z\" fill=\"#000000\" fill-rule=\"evenodd\" fill-opacity=\"1\" /><path clip-path=\"url(#clip130)\" d=\"M2011.58 148.689 L2011.58 164.338 L2007.32 164.338 L2007.32 148.828 Q2007.32 145.148 2005.89 143.319 Q2004.45 141.49 2001.58 141.49 Q1998.13 141.49 1996.14 143.69 Q1994.15 145.889 1994.15 149.685 L1994.15 164.338 L1989.87 164.338 L1989.87 138.412 L1994.15 138.412 L1994.15 142.44 Q1995.68 140.102 1997.74 138.944 Q1999.82 137.787 2002.53 137.787 Q2007 137.787 2009.29 140.565 Q2011.58 143.319 2011.58 148.689 Z\" fill=\"#000000\" fill-rule=\"evenodd\" fill-opacity=\"1\" /><path clip-path=\"url(#clip130)\" d=\"M2053.8 139.407 L2053.8 143.389 Q2052 142.393 2050.17 141.907 Q2048.36 141.398 2046.51 141.398 Q2042.37 141.398 2040.08 144.037 Q2037.79 146.652 2037.79 151.398 Q2037.79 156.143 2040.08 158.782 Q2042.37 161.398 2046.51 161.398 Q2048.36 161.398 2050.17 160.912 Q2052 160.402 2053.8 159.407 L2053.8 163.342 Q2052.02 164.176 2050.1 164.592 Q2048.2 165.009 2046.05 165.009 Q2040.19 165.009 2036.74 161.328 Q2033.29 157.648 2033.29 151.398 Q2033.29 145.055 2036.77 141.421 Q2040.26 137.787 2046.33 137.787 Q2048.29 137.787 2050.17 138.203 Q2052.04 138.597 2053.8 139.407 Z\" fill=\"#000000\" fill-rule=\"evenodd\" fill-opacity=\"1\" /><path clip-path=\"url(#clip130)\" d=\"M2060.77 154.106 L2060.77 138.412 L2065.03 138.412 L2065.03 153.944 Q2065.03 157.625 2066.47 159.476 Q2067.9 161.305 2070.77 161.305 Q2074.22 161.305 2076.21 159.106 Q2078.22 156.907 2078.22 153.111 L2078.22 138.412 L2082.48 138.412 L2082.48 164.338 L2078.22 164.338 L2078.22 160.356 Q2076.67 162.717 2074.61 163.875 Q2072.58 165.009 2069.87 165.009 Q2065.4 165.009 2063.09 162.231 Q2060.77 159.453 2060.77 154.106 M2071.49 137.787 L2071.49 137.787 Z\" fill=\"#000000\" fill-rule=\"evenodd\" fill-opacity=\"1\" /><path clip-path=\"url(#clip130)\" d=\"M2095.47 131.051 L2095.47 138.412 L2104.24 138.412 L2104.24 141.722 L2095.47 141.722 L2095.47 155.796 Q2095.47 158.967 2096.33 159.87 Q2097.21 160.773 2099.87 160.773 L2104.24 160.773 L2104.24 164.338 L2099.87 164.338 Q2094.94 164.338 2093.06 162.509 Q2091.19 160.657 2091.19 155.796 L2091.19 141.722 L2088.06 141.722 L2088.06 138.412 L2091.19 138.412 L2091.19 131.051 L2095.47 131.051 Z\" fill=\"#000000\" fill-rule=\"evenodd\" fill-opacity=\"1\" /><path clip-path=\"url(#clip130)\" d=\"M2119.89 141.398 Q2116.47 141.398 2114.47 144.083 Q2112.48 146.745 2112.48 151.398 Q2112.48 156.051 2114.45 158.736 Q2116.44 161.398 2119.89 161.398 Q2123.29 161.398 2125.28 158.713 Q2127.28 156.027 2127.28 151.398 Q2127.28 146.791 2125.28 144.106 Q2123.29 141.398 2119.89 141.398 M2119.89 137.787 Q2125.45 137.787 2128.62 141.398 Q2131.79 145.009 2131.79 151.398 Q2131.79 157.764 2128.62 161.398 Q2125.45 165.009 2119.89 165.009 Q2114.31 165.009 2111.14 161.398 Q2107.99 157.764 2107.99 151.398 Q2107.99 145.009 2111.14 141.398 Q2114.31 137.787 2119.89 137.787 Z\" fill=\"#000000\" fill-rule=\"evenodd\" fill-opacity=\"1\" /><path clip-path=\"url(#clip130)\" d=\"M2151.97 128.319 L2151.97 131.861 L2147.9 131.861 Q2145.61 131.861 2144.71 132.787 Q2143.83 133.713 2143.83 136.12 L2143.83 138.412 L2150.84 138.412 L2150.84 141.722 L2143.83 141.722 L2143.83 164.338 L2139.54 164.338 L2139.54 141.722 L2135.47 141.722 L2135.47 138.412 L2139.54 138.412 L2139.54 136.606 Q2139.54 132.278 2141.56 130.31 Q2143.57 128.319 2147.95 128.319 L2151.97 128.319 Z\" fill=\"#000000\" fill-rule=\"evenodd\" fill-opacity=\"1\" /><path clip-path=\"url(#clip130)\" d=\"M2168.66 128.319 L2168.66 131.861 L2164.59 131.861 Q2162.3 131.861 2161.4 132.787 Q2160.52 133.713 2160.52 136.12 L2160.52 138.412 L2167.53 138.412 L2167.53 141.722 L2160.52 141.722 L2160.52 164.338 L2156.23 164.338 L2156.23 141.722 L2152.16 141.722 L2152.16 138.412 L2156.23 138.412 L2156.23 136.606 Q2156.23 132.278 2158.25 130.31 Q2160.26 128.319 2164.64 128.319 L2168.66 128.319 Z\" fill=\"#000000\" fill-rule=\"evenodd\" fill-opacity=\"1\" /><path clip-path=\"url(#clip130)\" d=\"M2172.78 142.81 L2202.46 142.81 L2202.46 146.699 L2172.78 146.699 L2172.78 142.81 M2172.78 152.254 L2202.46 152.254 L2202.46 156.189 L2172.78 156.189 L2172.78 152.254 Z\" fill=\"#000000\" fill-rule=\"evenodd\" fill-opacity=\"1\" /><path clip-path=\"url(#clip130)\" d=\"M2222.55 132.856 Q2218.94 132.856 2217.11 136.421 Q2215.31 139.963 2215.31 147.092 Q2215.31 154.199 2217.11 157.764 Q2218.94 161.305 2222.55 161.305 Q2226.19 161.305 2227.99 157.764 Q2229.82 154.199 2229.82 147.092 Q2229.82 139.963 2227.99 136.421 Q2226.19 132.856 2222.55 132.856 M2222.55 129.153 Q2228.36 129.153 2231.42 133.759 Q2234.5 138.342 2234.5 147.092 Q2234.5 155.819 2231.42 160.426 Q2228.36 165.009 2222.55 165.009 Q2216.74 165.009 2213.66 160.426 Q2210.61 155.819 2210.61 147.092 Q2210.61 138.342 2213.66 133.759 Q2216.74 129.153 2222.55 129.153 Z\" fill=\"#000000\" fill-rule=\"evenodd\" fill-opacity=\"1\" /></svg>\n"
      ]
     },
     "metadata": {},
     "output_type": "display_data"
    }
   ],
   "source": [
    "other_norms=false\n",
    "save_bool = false\n",
    "times = Vector(LinRange(δt1,T_enrich,Int(nframe_en)))\n",
    "times2 = Vector(LinRange(T_enrich+δt2,T,Int(nframe_un)))\n",
    "append!(times,times2) \n",
    "error_propagation(corr,times,H_single,δt1,Ci,N,Krylov_cutoff,k2,tdvp_cutoff,other_norms,save_bool)\n"
   ]
  },
  {
   "cell_type": "code",
   "execution_count": 41,
   "id": "131e27e0",
   "metadata": {},
   "outputs": [
    {
     "data": {
      "text/plain": [
       "Float64[]"
      ]
     },
     "execution_count": 41,
     "metadata": {},
     "output_type": "execute_result"
    }
   ],
   "source": [
    "\"\"\"\n",
    "\n",
    "What to do next:\n",
    "\n",
    "-We need to work out whether the relative magnitudes of the Krylov states matter, i.e. do we include the delta t?\n",
    "\n",
    "-The norm of ρ_n is falling, I think these two errors are connected as they both breakdown at the same time.\n",
    "-I think I should have error checks for various properties of all the objects, i.e. the norm of ρ_n etc.\n",
    "\n",
    "-Once the projector is diagonalised, the spectra are either 0 or 1, but numerically they deviate from this by an order of\n",
    "~1e-14. Is there a way of recovering Vp from the diagonal matrix after the values have been rounded?\n",
    "\n",
    "-The stochastic enrichment method is much more efficient and seems quite straight forward to implement.\n",
    "\n",
    "-In the paper, they only use k=3 (two Krylov states) to avoid the high bond dimensions of higher order Krylov states.\n",
    "\n",
    "-Ask on the discourse page if 1TDVP is implemented as this could be another option.\n",
    "\n",
    "\n",
    "\n",
    "\"\"\""
   ]
  },
  {
   "cell_type": "code",
   "execution_count": null,
   "id": "16a360e3",
   "metadata": {},
   "outputs": [],
   "source": [
    "\"\"\"\n",
    "Potential efficiency improvements:\n",
    "\n",
    "-Always sweeping towards the centre will prevent Projectors having an unnecessarily large dimension.\n",
    "\n",
    "-At the end of the enrichment, the enriched state is almost canonical apart from the first sight which carries this \n",
    "extra k factor. Does TDVP need an orthogonal centre at N? If not, we may be able to avoid orthogonalization?\n",
    "\n",
    "-    In most cases, abs_maxdim will be very high. We don't want to use this. However, if \n",
    "    for the other option we use the sum of all the linkdimensions (for n-1) of the Krylov states, \n",
    "    It won't be in canonical form so many of the dimensions will actually correspond to the same dimension. \n",
    "    Again, this isn't a huge problem because it will still likely be much less than abs_maxdim. I'm not sure how \n",
    "    this can be prevented, so I will just use the sum.\n",
    "    \n",
    "- Question: Does the kth Krylov state always contain within it the dimensions of the lower order Krylov states?\n",
    " This would solve the problem stated just about and would be more efficient.\n",
    "\n",
    "\n",
    "-For 1TDVP, they found that for k=5 the creation of the Krylov states and the enrichment step were subleading to the TDVP step, but this isn't\n",
    "what I have at the moment. 2TDVP is slower than 1TDVP but more accurate, so we don't know if these steps should be subleading to TDVP or not, but \n",
    "there's definitely ways of increasing the efficiency of these steps.\n",
    "\n",
    "\n",
    "-There's a more efficient but less accurate way to apply H to ψ, by using the variational approach that's used in TDVP itself. \n",
    "\n",
    "\n",
    "-In the paper, they say to use τ=δt but I'm not sure about this as for small delta t, these states won't be that different (think about this more).\n",
    "\n",
    "\n",
    "-The bottleneck is creating the Krylov states, see if you can make the function more efficient (Vectorise?). \n",
    "\n",
    "-During the enrichment, there will be sites that are aleady max rank, i.e close to the first site. Instead of SvDing through\n",
    "these sights manually, we could use orthogonalize to go between sites that can be enriched. I.e. say we have just enriched\n",
    "site k, and the next site that can be enriched is site k-n. Instead of SvDing the n states between these two, we could use \n",
    "orthogonalize(ψ,k-n) to move to this sight.\n",
    "\"\"\""
   ]
  }
 ],
 "metadata": {
  "kernelspec": {
   "display_name": "Julia 1.8.2",
   "language": "julia",
   "name": "julia-1.8"
  },
  "language_info": {
   "file_extension": ".jl",
   "mimetype": "application/julia",
   "name": "julia",
   "version": "1.8.2"
  }
 },
 "nbformat": 4,
 "nbformat_minor": 5
}
