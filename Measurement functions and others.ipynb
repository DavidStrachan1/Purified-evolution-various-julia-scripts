{
 "cells": [
  {
   "cell_type": "code",
   "execution_count": 1,
   "id": "4e5dfc73",
   "metadata": {},
   "outputs": [
    {
     "data": {
      "text/plain": [
       "measure_correlation_matrix (generic function with 1 method)"
      ]
     },
     "execution_count": 1,
     "metadata": {},
     "output_type": "execute_result"
    }
   ],
   "source": [
    "\n",
    "\n",
    "function entanglement_entropy(ψ)\n",
    "# Compute the von Neumann entanglement entropy across each bond of the MPS\n",
    "    N = length(ψ)\n",
    "    SvN = zeros(N)\n",
    "    psi = ψ\n",
    "    for b=1:N\n",
    "        psi = orthogonalize(psi, b)\n",
    "        if b==1\n",
    "            U,S,V = svd(psi[b] , siteind(psi, b))\n",
    "        else\n",
    "            U,S,V = svd(psi[b], (linkind(psi, b-1), siteind(psi, b)))\n",
    "        end\n",
    "        for n=1:dim(S, 1)\n",
    "            p = S[n,n]^2\n",
    "            SvN[b] -= p * log2(p)\n",
    "        end\n",
    "    end\n",
    "    return SvN\n",
    "end;\n",
    "    \n",
    "function rdm(ψ,q)\n",
    "    ψdag = dag(ψ) # Complex conjugate MPS\n",
    "    ITensors.prime!(linkinds, ψdag) # Add primes to all MPS bond indices\n",
    "    # Loop over the sites q whose density matrix is required:\n",
    "    for j=1:length(q)\n",
    "        ITensors.noprime!(ψdag[q[j]]) # Remove prime on bond indices of ψdag[q[j]]\n",
    "        ITensors.prime!(ψdag[q[j]]) # Prime all indices on ψdag[q[j]] including its site index\n",
    "    end\n",
    "    # Now contract:\n",
    "    ρ = ψdag[1] * ψ[1]\n",
    "    for j in 2:N\n",
    "      ρ = ρ * ψdag[j] * ψ[j]\n",
    "    end\n",
    "    return ρ\n",
    "end;\n",
    "\n",
    "\n",
    "\n",
    "\n",
    "###Observer functions\n",
    "function current_time(; current_time, bond, half_sweep)\n",
    "  if bond == 1 && half_sweep == 2\n",
    "    return real(im*current_time)\n",
    "  end\n",
    "  return nothing\n",
    "end\n",
    "\n",
    "function measure_den(; psi, bond, half_sweep)\n",
    "  if bond == 1 && half_sweep == 2\n",
    "    return expect(psi, \"n\"; sites=1)\n",
    "  end\n",
    "  return nothing\n",
    "end;\n",
    "\n",
    "function measure_SvN(; psi, bond, half_sweep)\n",
    "    if bond == 1 && half_sweep == 2\n",
    "        return entanglement_entropy(psi)\n",
    "    end\n",
    "    return nothing\n",
    "end\n",
    "\n",
    "function measure_correlation_matrix(; psi, bond, half_sweep)\n",
    "    if bond==1 && half_sweep == 2\n",
    "        return transpose(correlation_matrix(psi,\"Cdag\",\"C\"))\n",
    "    end\n",
    "    return nothing\n",
    "end\n"
   ]
  },
  {
   "cell_type": "code",
   "execution_count": null,
   "id": "bfdf9513",
   "metadata": {},
   "outputs": [],
   "source": []
  }
 ],
 "metadata": {
  "kernelspec": {
   "display_name": "Julia 1.8.2",
   "language": "julia",
   "name": "julia-1.8"
  },
  "language_info": {
   "file_extension": ".jl",
   "mimetype": "application/julia",
   "name": "julia",
   "version": "1.8.2"
  }
 },
 "nbformat": 4,
 "nbformat_minor": 5
}
